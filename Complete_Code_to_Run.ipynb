{
  "cells": [
    {
      "cell_type": "markdown",
      "metadata": {
        "id": "fIhZ2LFhnw9Z"
      },
      "source": [
        "# **WorldQuant University Capstone for MScFE 690 (Group 9184)**\n",
        "\n",
        "## Data Extraction. Data Transformation. Methodology Description. Reinforcement Learning. Traditional Approaches. Model Development. Performance Comparison and Analysis. DynaCAAST Framework.\n",
        "\n",
        "\n",
        "<br><br>\n",
        "\n",
        "\n",
        "|**DynaCAAST framework for RL based trading agents**| |\n",
        "|:---|:---|\n",
        "|**TEAM MEMBER 1** | Farai Masunda  |\n",
        "|**TEAM MEMBER 2**  |      Bhaskar Vedula  |\n"
      ]
    },
    {
      "cell_type": "markdown",
      "metadata": {
        "id": "GSF6XMWBLcJ2"
      },
      "source": [
        "<hr style='border:4px solid black'>"
      ]
    },
    {
      "cell_type": "markdown",
      "metadata": {
        "id": "eV3If0IF7EbD"
      },
      "source": [
        "## **Section 1: Python library installations and imports**"
      ]
    },
    {
      "cell_type": "markdown",
      "metadata": {
        "id": "osEjTLzD7EbD"
      },
      "source": [
        "## Installations\n",
        "\n",
        "For this project, we need several Python libraries that are not a part of Google Colab. These include FinRL, stable-baselines and gym libraries for developing reinforcement learning (RL) agents and environment. yfinance the Yahoo Finance source for our data. ta for allowing us to create technical indicators as our 'states' for RL agent. pyfolio for enabling graphical dispaly of performance and comparison metrics. hmmlearn for regime change detection within our data using Hidden Markov Model. tensorflow for training our LSTM models."
      ]
    },
    {
      "cell_type": "code",
      "execution_count": null,
      "metadata": {
        "id": "nWVbYQcvX65D"
      },
      "outputs": [],
      "source": [
        "!pip install git+https://github.com/AI4Finance-Foundation/FinRL.git\n",
        "!pip install yfinance --upgrade --no-cache-dir\n",
        "!pip install matplotlib\n",
        "!pip install stockstats\n",
        "!pip install gym\n",
        "!pip install stable-baselines3[extra]\n",
        "!pip install tensorflow\n",
        "!pip install ta\n",
        "!pip install git+https://github.com/stefan-jansen/pyfolio-reloaded\n",
        "!pip install PyPortfolioOpt\n",
        "!pip install shimmy\n",
        "!pip install cvxpy\n",
        "!pip install statsmodels\n",
        "!pip install numpy cython\n",
        "!pip install hmmlearn\n",
        "!pip install pandas_market_calendars"
      ]
    },
    {
      "cell_type": "markdown",
      "metadata": {
        "id": "kPxqTVr0vrO2"
      },
      "source": [
        "## Imports\n",
        "\n",
        "Imports follow the libraries that we have installed above. stable baseline provides us with various RL agents based on a particular algorithm (DDPG, PPO, TD3, SAC and A2C). Other imports are primarily the usual imports required for a financial project like pandas, numpy, etc."
      ]
    },
    {
      "cell_type": "code",
      "execution_count": null,
      "metadata": {
        "id": "Pxnq050vcMzQ"
      },
      "outputs": [],
      "source": [
        "import pandas as pd\n",
        "import datetime\n",
        "import os\n",
        "import numpy as np\n",
        "from numpy import array\n",
        "import time\n",
        "from time import time\n",
        "import math\n",
        "import copy\n",
        "import random\n",
        "from random import sample\n",
        "from tabulate import tabulate\n",
        "import copy\n",
        "\n",
        "import typing as tt\n",
        "from collections import namedtuple, deque\n",
        "from itertools import count\n",
        "from sklearn import preprocessing\n",
        "from sklearn.neighbors import KernelDensity\n",
        "from sklearn.preprocessing import normalize, MinMaxScaler\n",
        "from sklearn.metrics import mean_squared_error\n",
        "from sklearn.metrics import mean_absolute_error\n",
        "from sklearn.model_selection import train_test_split\n",
        "\n",
        "import pathlib\n",
        "from pathlib import Path\n",
        "import pandas_datareader.data as web\n",
        "\n",
        "import matplotlib\n",
        "import matplotlib.pylab as plt\n",
        "from matplotlib.ticker import FuncFormatter\n",
        "matplotlib.use('Agg')\n",
        "import seaborn as sns\n",
        "from IPython.display import display, HTML\n",
        "%matplotlib inline\n",
        "import matplotlib.dates as mdates\n",
        "import matplotlib.patches as mpatches\n",
        "from matplotlib.collections import LineCollection\n",
        "from matplotlib.colors import Colormap, ListedColormap, BoundaryNorm\n",
        "from IPython.display import display, HTML\n",
        "\n",
        "import yfinance as yf\n",
        "import shimmy\n",
        "import cvxpy as cp\n",
        "from hmmlearn import hmm\n",
        "\n",
        "import statsmodels\n",
        "import statsmodels.api as sm\n",
        "from statsmodels.tsa.regime_switching.markov_regression import MarkovRegression\n",
        "\n",
        "import tensorflow\n",
        "from tensorflow.keras.models import Model, Sequential\n",
        "from tensorflow.keras.layers import Input\n",
        "from tensorflow.keras.layers import LSTM\n",
        "from tensorflow.keras.layers import Dense, Activation\n",
        "from tensorflow.keras.layers import RepeatVector\n",
        "from tensorflow.keras.layers import TimeDistributed\n",
        "from tensorflow.keras.utils import plot_model\n",
        "from tensorflow.keras import regularizers, optimizers\n",
        "from tensorflow.keras import Sequential\n",
        "from tensorflow.keras.layers import Dense, Input, LSTM, Dropout, BatchNormalization\n",
        "\n",
        "from tensorflow.keras.models import Model\n",
        "from tensorflow.keras.callbacks import ModelCheckpoint\n",
        "from tensorflow.keras.layers import LayerNormalization, MultiHeadAttention, Add, GlobalAveragePooling1D\n",
        "import pandas as pd\n",
        "import numpy as np\n",
        "from sklearn.preprocessing import MinMaxScaler\n",
        "import tensorflow as tf\n",
        "from tensorflow.keras.models import Model\n",
        "from tensorflow.keras.layers import Input, Dense, LayerNormalization, MultiHeadAttention, Dropout, GlobalAveragePooling1D\n",
        "from sklearn.metrics import mean_squared_error\n",
        "import math\n",
        "import matplotlib.pyplot as plt\n",
        "\n",
        "import ta\n",
        "from ta import add_all_ta_features\n",
        "from ta.utils import dropna\n",
        "\n",
        "from scipy.stats import skewnorm, norm, percentileofscore\n",
        "from scipy import stats as scipy_stats\n",
        "from scipy.linalg import block_diag\n",
        "from scipy.optimize import minimize\n",
        "\n",
        "from finrl.meta.preprocessor.preprocessors import FeatureEngineer, data_split\n",
        "from finrl import config\n",
        "\n",
        "import pyfolio as pf\n",
        "from pypfopt.efficient_frontier import EfficientFrontier\n",
        "from pypfopt import risk_models\n",
        "from pypfopt import expected_returns\n",
        "from pyfolio import timeseries\n",
        "\n",
        "import gym\n",
        "from gym.utils import seeding\n",
        "from gym import spaces\n",
        "\n",
        "from stable_baselines3 import DDPG\n",
        "from stable_baselines3 import A2C\n",
        "from stable_baselines3 import PPO\n",
        "from stable_baselines3 import TD3\n",
        "from stable_baselines3 import SAC\n",
        "from stable_baselines3.ppo import MlpPolicy\n",
        "from stable_baselines3.common.vec_env import DummyVecEnv\n",
        "from stable_baselines3.td3.policies import MlpPolicy\n",
        "from stable_baselines3.common.noise import NormalActionNoise, OrnsteinUhlenbeckActionNoise\n",
        "\n",
        "import warnings\n",
        "warnings.simplefilter(action='ignore', category=FutureWarning)"
      ]
    },
    {
      "cell_type": "markdown",
      "metadata": {
        "id": "0AHjCPUiLZBf"
      },
      "source": [
        "<hr style='border:2px solid black'>"
      ]
    },
    {
      "cell_type": "markdown",
      "metadata": {
        "id": "PU95TT4Gh2AR"
      },
      "source": [
        "## **Section 2: Defining functions and classes**"
      ]
    },
    {
      "cell_type": "markdown",
      "metadata": {
        "id": "B76wtUHFiG7t"
      },
      "source": [
        "In this section, we define functions and classes that are necessary for this capstone project."
      ]
    },
    {
      "cell_type": "markdown",
      "metadata": {
        "id": "BDD7TAhL2Voq"
      },
      "source": [
        "# Functions"
      ]
    },
    {
      "cell_type": "markdown",
      "metadata": {
        "id": "kKUbsDU_lQqx"
      },
      "source": [
        "The below function is defined to create technical indicators as our states. This function takes close prices, open price, high and low price as inputs and outputs the technical indicators of the chosen stock tickers. The function utilizes ta library to achieve this functionality."
      ]
    },
    {
      "cell_type": "code",
      "execution_count": null,
      "metadata": {
        "id": "RZcBim442dct"
      },
      "outputs": [],
      "source": [
        "# Define a Function for adding technical indicators\n",
        "\n",
        "def create_technical_indicators(df, tech_indicators, ti_abbreviations):\n",
        "    \"\"\"\n",
        "    Function to add technical indicators for features\n",
        "    -Takes in a dataset with Open, High, Low, Close and Volume\n",
        "    -Also takes in a list of the technical indicators to be added\n",
        "     as well as a list of the shortened indicator names\n",
        "    \"\"\"\n",
        "\n",
        "    # list of column names to filter the features\n",
        "    column_names = list(df.columns)\n",
        "    filters      = column_names + tech_indicators\n",
        "    new_columns  = column_names + ti_abbreviations\n",
        "\n",
        "    # Add technical indicators using the ta Library\n",
        "    df = add_all_ta_features(df, open=\"open\", high=\"high\", low=\"low\", close=\"close\", volume=\"volume\")\n",
        "\n",
        "    # Filter the Indicators with the required features\n",
        "    df = df[filters]\n",
        "    df.columns = new_columns # rename the columns to use shortened indicator names\n",
        "    df = df.fillna(method='bfill')\n",
        "\n",
        "    return df"
      ]
    },
    {
      "cell_type": "markdown",
      "metadata": {
        "id": "s4BaN6cSmwHm"
      },
      "source": [
        "All the below functions are defined primarily to execute denoising algorithm as part of our benchmark techniques. These functions are based on the previous courses completed at WorldQuant University."
      ]
    },
    {
      "cell_type": "code",
      "execution_count": null,
      "metadata": {
        "id": "dpoawexlICP-"
      },
      "outputs": [],
      "source": [
        "def mpPDF(var, q, pts):\n",
        "    eMin, eMax = var*(1-(1./q)**.5)**2, var*(1+(1./q)**.5)**2 # calc lambda_minus, lambda_plus\n",
        "    eVal = np.linspace(eMin, eMax, pts) #Return evenly spaced numbers over a specified interval. eVal='lambda'\n",
        "    pdf = q/(2*np.pi*var*eVal)*((eMax-eVal)*(eVal-eMin))**.5 #np.allclose(np.flip((eMax-eVal)), (eVal-eMin))==True\n",
        "    pdf = pd.Series(pdf, index=eVal)\n",
        "    return pdf"
      ]
    },
    {
      "cell_type": "code",
      "execution_count": null,
      "metadata": {
        "id": "zKC1yDrdICeC"
      },
      "outputs": [],
      "source": [
        "def detoned_corr(corr, eigenvalues, eigenvectors, market_component=1):\n",
        "\n",
        "    # Getting the eigenvalues and eigenvectors related to market component\n",
        "    eigenvalues_mark = eigenvalues[:market_component, :market_component]\n",
        "    eigenvectors_mark = eigenvectors[:, :market_component]\n",
        "\n",
        "    # Calculating the market component correlation\n",
        "    corr_mark = np.dot(eigenvectors_mark, eigenvalues_mark).dot(eigenvectors_mark.T)\n",
        "\n",
        "    # Removing the market component from the de-noised correlation matrix\n",
        "    corr = corr - corr_mark\n",
        "\n",
        "    # Rescaling the correlation matrix to have 1s on the main diagonal\n",
        "    corr = cov2corr(corr)\n",
        "\n",
        "    return corr"
      ]
    },
    {
      "cell_type": "code",
      "execution_count": null,
      "metadata": {
        "id": "VPkvsNsgICpy"
      },
      "outputs": [],
      "source": [
        "def getRndCov(nCols, nFacts): #nFacts - contains signal out of nCols\n",
        "    w = np.random.normal(size=(nCols, nFacts))\n",
        "    cov = np.dot(w, w.T) #random cov matrix, however not full rank\n",
        "    cov += np.diag(np.random.uniform(size=nCols)) #full rank cov\n",
        "    return cov"
      ]
    },
    {
      "cell_type": "code",
      "execution_count": null,
      "metadata": {
        "id": "t1nuTIJUIC31"
      },
      "outputs": [],
      "source": [
        "def fitKDE(obs, bWidth=.15, kernel='gaussian', x=None):\n",
        "    #Fit kernel to a series of obs, and derive the prob of obs\n",
        "    # x is the array of values on which the fit KDE will be evaluated\n",
        "    #print(len(obs.shape) == 1)\n",
        "    if len(obs.shape) == 1: obs = obs.reshape(-1,1)\n",
        "    kde = KernelDensity(kernel = kernel, bandwidth = bWidth).fit(obs)\n",
        "    #print(x is None)\n",
        "    if x is None: x = np.unique(obs).reshape(-1,1)\n",
        "    #print(len(x.shape))\n",
        "    if len(x.shape) == 1: x = x.reshape(-1,1)\n",
        "    logProb = kde.score_samples(x) # log(density)\n",
        "    pdf = pd.Series(np.exp(logProb), index=x.flatten())\n",
        "    return pdf"
      ]
    },
    {
      "cell_type": "code",
      "execution_count": null,
      "metadata": {
        "id": "uuaa9OaRIDFV"
      },
      "outputs": [],
      "source": [
        "def getPCA(matrix):\n",
        "    # Get eVal, eVec from a Hermitian matrix\n",
        "    eVal, eVec = np.linalg.eig(matrix) #complex Hermitian (conjugate symmetric) or a real symmetric matrix.\n",
        "    indices = eVal.argsort()[::-1] #arguments for sorting eval desc\n",
        "    eVal,eVec = eVal[indices],eVec[:,indices]\n",
        "    eVal = np.diagflat(eVal) # identity matrix with eigenvalues as diagonal\n",
        "    return eVal,eVec"
      ]
    },
    {
      "cell_type": "code",
      "execution_count": null,
      "metadata": {
        "id": "1xPLeNc3IDS4"
      },
      "outputs": [],
      "source": [
        "def cov2corr(cov):\n",
        "    # Derive the correlation matrix from a covariance matrix\n",
        "    std = np.sqrt(np.diag(cov))\n",
        "    corr = cov/np.outer(std,std)\n",
        "    corr[corr<-1], corr[corr>1] = -1,1 #for numerical errors\n",
        "    return corr"
      ]
    },
    {
      "cell_type": "code",
      "execution_count": null,
      "metadata": {
        "id": "9AfkHMqdAOAg"
      },
      "outputs": [],
      "source": [
        "def corr2cov(corr, std):\n",
        "    cov = corr * np.outer(std, std)\n",
        "    return cov"
      ]
    },
    {
      "cell_type": "code",
      "execution_count": null,
      "metadata": {
        "id": "4UfFCVsAIDfC"
      },
      "outputs": [],
      "source": [
        "def corr2cov(corr, std):\n",
        "    cov = corr * np.outer(std, std)\n",
        "    return cov"
      ]
    },
    {
      "cell_type": "code",
      "execution_count": null,
      "metadata": {
        "id": "byGruXd2IDtL"
      },
      "outputs": [],
      "source": [
        "def errPDFs(var, eVal, q, bWidth, pts=10):\n",
        "    var = var[0]\n",
        "    pdf0 = mpPDF(var, q, pts)\n",
        "    pdf1 = fitKDE(eVal, bWidth, x=pdf0.index.values)\n",
        "    sse = np.sum((pdf1-pdf0)**2)\n",
        "    print(\"sse:\"+str(sse))\n",
        "    return sse"
      ]
    },
    {
      "cell_type": "code",
      "execution_count": null,
      "metadata": {
        "id": "qX7JD2GxID69"
      },
      "outputs": [],
      "source": [
        "def findMaxEval(eVal, q, bWidth):\n",
        "    out = minimize(lambda *x: errPDFs(*x), x0=np.array(0.5), args=(eVal, q, bWidth), bounds=((1E-5, 1-1E-5),))\n",
        "    print(\"found errPDFs\"+str(out['x'][0]))\n",
        "    if out['success']: var = out['x'][0]\n",
        "    else: var=1\n",
        "    eMax = var*(1+(1./q)**.5)**2\n",
        "    return eMax, var"
      ]
    },
    {
      "cell_type": "code",
      "execution_count": null,
      "metadata": {
        "id": "PZA2ImSgIEH_"
      },
      "outputs": [],
      "source": [
        "def denoisedCorr(eVal, eVec, nFacts):\n",
        "    eVal_ = np.diag(eVal).copy()\n",
        "    eVal_[nFacts:] = eVal_[nFacts:].sum()/float(eVal_.shape[0] - nFacts)\n",
        "    eVal_ = np.diag(eVal_)\n",
        "\n",
        "    corr1 = np.dot(eVec, eVal_).dot(eVec.T)\n",
        "\n",
        "    return corr1"
      ]
    },
    {
      "cell_type": "code",
      "execution_count": null,
      "metadata": {
        "id": "tfJ0dWgMMm1q"
      },
      "outputs": [],
      "source": [
        "def optPort(cov, mu = None):\n",
        "    inv = np.linalg.inv(cov)\n",
        "    ones = np.ones(shape = (inv.shape[0], 1))\n",
        "    if mu is None:\n",
        "        mu = ones\n",
        "    w = np.dot(inv, mu)\n",
        "    w /= np.dot(ones.T, w)\n",
        "\n",
        "    return w"
      ]
    },
    {
      "cell_type": "markdown",
      "metadata": {
        "id": "1yx_nJl6nZco"
      },
      "source": [
        "The below function is been defined to determine maximum drawdown within a portfolio performance."
      ]
    },
    {
      "cell_type": "code",
      "execution_count": null,
      "metadata": {
        "id": "wwGUso8e2dtC"
      },
      "outputs": [],
      "source": [
        "def getMaxDrawdown(prices, window):\n",
        "    max_rolling = prices.rolling(min_periods=1, window=window).max()\n",
        "    drawdown = (prices / max_rolling) - 1\n",
        "    max_drawdown = drawdown.rolling(min_periods=1, window=window).min()\n",
        "    return drawdown, max_drawdown"
      ]
    },
    {
      "cell_type": "markdown",
      "metadata": {
        "id": "_tzHToY25lSl"
      },
      "source": [
        "# Classes"
      ]
    },
    {
      "cell_type": "markdown",
      "metadata": {
        "id": "j3DofDQ8nrXM"
      },
      "source": [
        "The below classes have been defined for the purpose of embedding functionality to our reinforcement learning (RL) agent and environment."
      ]
    },
    {
      "cell_type": "code",
      "execution_count": null,
      "metadata": {
        "id": "yt2ADRMW4lsY"
      },
      "outputs": [],
      "source": [
        "# This class define a reinforcement agent and includes functionality such as getting predictions, training, incorporating a particular algorithm.\n",
        "\n",
        "class DRLAgent:\n",
        "\n",
        "    @staticmethod\n",
        "    def DRL_prediction(model, test_data, test_env, test_obs):\n",
        "        \"\"\"make a prediction\"\"\"\n",
        "        start = time.time()\n",
        "        account_memory = []\n",
        "        actions_memory = []\n",
        "        for i in range(len(test_data.index.unique())):\n",
        "            action, _states = model.predict(test_obs)\n",
        "            test_obs, rewards, dones, info = test_env.step(action)\n",
        "            if i == (len(test_data.index.unique()) - 2):\n",
        "                account_memory = test_env.env_method(method_name=\"save_asset_memory\")\n",
        "                actions_memory = test_env.env_method(method_name=\"save_action_memory\")\n",
        "        end = time.time()\n",
        "        return account_memory[0], actions_memory[0]\n",
        "\n",
        "    def __init__(self, env):\n",
        "        self.env = env\n",
        "\n",
        "    def get_model(self, model_name, policy=\"MlpPolicy\", policy_kwargs=None, model_kwargs=None, verbose=1,):\n",
        "        if model_name not in MODELS:\n",
        "            raise NotImplementedError(\"NotImplementedError\")\n",
        "\n",
        "        if model_kwargs is None:\n",
        "            model_kwargs = MODEL_KWARGS[model_name]\n",
        "\n",
        "        if \"action_noise\" in model_kwargs:\n",
        "            n_actions = self.env.action_space.shape[-1]\n",
        "            model_kwargs[\"action_noise\"] = NOISE[model_kwargs[\"action_noise\"]](\n",
        "                mean=np.zeros(n_actions), sigma=0.1 * np.ones(n_actions))\n",
        "        print(model_kwargs)\n",
        "        model = MODELS[model_name](policy=policy, env=self.env, verbose=verbose, policy_kwargs=policy_kwargs, **model_kwargs,)\n",
        "        return model\n",
        "\n",
        "    def train_model(self, model, tb_log_name, total_timesteps=50000):\n",
        "        model = model.learn(total_timesteps=total_timesteps, tb_log_name=tb_log_name)\n",
        "        return model"
      ]
    },
    {
      "cell_type": "code",
      "execution_count": null,
      "metadata": {
        "id": "C2zMzBns4lvP"
      },
      "outputs": [],
      "source": [
        "# This class provides environment for our RL agent. The environment steps into a time series data provided to it and provides the\n",
        "# closing prices as of date. It also computes feature engineered state space to be provided to the agent.\n",
        "# It calculates and provides to the agent a reward based on portfolio value reevaluated based on current close prices.\n",
        "# This class has been augmented with methods that fetch certain values required for DynaCAAST framework\n",
        "\n",
        "class StockPortfolioEnv(gym.Env):\n",
        "    metadata = {'render.modes': ['human']}\n",
        "\n",
        "    def __init__(self, df, stock_dim, hmax, initial_amount, transaction_cost_pct, reward_scaling, state_space, action_space, tech_indicator_list, initial_weights, turbulence_threshold=None, lookback=252, day = 0):\n",
        "\n",
        "        self.day = day\n",
        "        self.lookback=lookback\n",
        "        self.df = df\n",
        "        self.stock_dim = stock_dim\n",
        "        self.hmax = hmax\n",
        "        self.initial_amount = initial_amount\n",
        "        self.transaction_cost_pct =transaction_cost_pct\n",
        "        self.reward_scaling = reward_scaling\n",
        "        self.state_space = state_space\n",
        "        self.action_space = action_space\n",
        "        self.tech_indicator_list = tech_indicator_list\n",
        "        self.initial_weights = initial_weights\n",
        "        self.action_space = spaces.Box(low = 0, high = 1,shape = (self.action_space,))\n",
        "        self.observation_space = spaces.Box(low=-np.inf, high=np.inf, shape = (len(self.tech_indicator_list),self.state_space))\n",
        "\n",
        "        # load data\n",
        "        self.data = self.df.loc[self.day,:]\n",
        "        self.state =  [self.data[tech].values.tolist() for tech in self.tech_indicator_list ]\n",
        "        self.terminal = False\n",
        "        self.turbulence_threshold = turbulence_threshold\n",
        "        # initalize\n",
        "        self.portfolio_return_ = 0\n",
        "        self.portfolio_value = self.initial_amount\n",
        "        self.portfolio_value_wo_tc = self.initial_amount\n",
        "\n",
        "        # memorize\n",
        "        self.asset_memory = [self.initial_amount]\n",
        "        self.portfolio_return_memory = [0]\n",
        "        self.actions_memory=[self.initial_weights]\n",
        "        self.last_weights = self.initial_weights\n",
        "        self.weights = self.initial_weights\n",
        "        self.date_memory=[self.data.date.unique()[0]]\n",
        "\n",
        "    def step(self, actions):\n",
        "\n",
        "        self.terminal = self.day >= len(self.df.index.unique())-1\n",
        "\n",
        "        if self.terminal:\n",
        "            return self.state, self.reward, self.terminal,{}\n",
        "\n",
        "        else:\n",
        "            weights = self.softmax_normalization(actions)\n",
        "            self.last_weights = self.actions_memory[-1].copy()\n",
        "            self.weights = weights\n",
        "            self.actions_memory.append(weights)\n",
        "            last_day_memory = self.data\n",
        "\n",
        "            #load next state\n",
        "            self.day += 1\n",
        "            self.data = self.df.loc[self.day,:]\n",
        "            self.state =  [self.data[tech].values.tolist() for tech in self.tech_indicator_list ]\n",
        "\n",
        "            self.portfolio_return_ = sum(((self.data.close.values / last_day_memory.close.values)-1)*weights)\n",
        "\n",
        "            # update portfolio\n",
        "            new_portfolio_value = self.portfolio_value*(1+self.portfolio_return_)\n",
        "            self.portfolio_value_wo_tc = new_portfolio_value.copy()\n",
        "            transaction_cost = sum(np.absolute((self.data.close.values/last_day_memory.close.values)*(self.last_weights - weights)))*self.transaction_cost_pct\n",
        "            new_portfolio_value = new_portfolio_value - abs(transaction_cost)\n",
        "            portfolio_return = new_portfolio_value/self.portfolio_value -1\n",
        "            self.portfolio_value = new_portfolio_value\n",
        "\n",
        "\n",
        "            # save into memory\n",
        "            self.portfolio_return_memory.append(portfolio_return)\n",
        "            self.date_memory.append(self.data.date.unique()[0])\n",
        "            self.asset_memory.append(new_portfolio_value)\n",
        "            self.reward = new_portfolio_value\n",
        "\n",
        "        return self.state, self.reward, self.terminal, {}\n",
        "\n",
        "    def reset(self):\n",
        "        self.asset_memory = [self.initial_amount]\n",
        "        self.day = 0\n",
        "        self.data = self.df.loc[self.day,:]\n",
        "        # load states\n",
        "        self.state =  [self.data[tech].values.tolist() for tech in self.tech_indicator_list ]\n",
        "        self.portfolio_value = self.initial_amount\n",
        "        self.terminal = False\n",
        "        self.portfolio_return_memory = [0]\n",
        "\n",
        "        self.actions_memory=[self.initial_weights]\n",
        "        self.date_memory=[self.data.date.unique()[0]]\n",
        "        return self.state\n",
        "\n",
        "    def render(self, mode='human'):\n",
        "        return self.state\n",
        "\n",
        "    def softmax_normalization(self, actions):\n",
        "        numerator = np.exp(actions)\n",
        "        denominator = np.sum(np.exp(actions))\n",
        "        softmax_output = numerator/denominator\n",
        "        return softmax_output\n",
        "\n",
        "    def getDataCloseValues(self):\n",
        "\n",
        "        return self.data.close.values\n",
        "\n",
        "    def getWeights(self):\n",
        "\n",
        "        return self.weights\n",
        "\n",
        "    def save_asset_memory(self):\n",
        "        date_list = self.date_memory\n",
        "        portfolio_return = self.portfolio_return_memory\n",
        "        df_account_value = pd.DataFrame({'date':date_list,'daily_return':portfolio_return})\n",
        "        return df_account_value\n",
        "\n",
        "    def save_action_memory(self):\n",
        "        date_list = self.date_memory\n",
        "        df_date = pd.DataFrame(date_list)\n",
        "        df_date.columns = ['date']\n",
        "\n",
        "        action_list = self.actions_memory\n",
        "        df_actions = pd.DataFrame(action_list)\n",
        "        df_actions.columns = self.data.tic.values\n",
        "        df_actions.index = df_date.date\n",
        "        return df_actions\n",
        "\n",
        "    def _seed(self, seed=None):\n",
        "        self.np_random, seed = seeding.np_random(seed)\n",
        "        return [seed]\n",
        "\n",
        "    def get_sb_env(self):\n",
        "        e = DummyVecEnv([lambda: self])\n",
        "        obs = e.reset()\n",
        "        return e, obs"
      ]
    },
    {
      "cell_type": "markdown",
      "metadata": {
        "id": "UK0bZ38FLU-G"
      },
      "source": [
        "<hr style='border:2px solid black'>"
      ]
    },
    {
      "cell_type": "markdown",
      "metadata": {
        "id": "kDhKbkCMZD0A"
      },
      "source": [
        "## **Section 3: Defining 'States' for our Reinforcement Learning Agent**"
      ]
    },
    {
      "cell_type": "markdown",
      "metadata": {
        "id": "FVb4O5d0ZZxi"
      },
      "source": [
        "In this section, we define states for our reinforcement learning (RL) agent. States are what the RL environment provides to the RL agent in order to make a decision or take an action. For this capstone, we explore four different state repesentations to explore the effectiveness of state definition on RL agent's performance. Below we define the four variants of the states that we use for running for RL algorithms"
      ]
    },
    {
      "cell_type": "markdown",
      "metadata": {
        "id": "IYfsoPJBZvef"
      },
      "source": [
        "#### **A. Technical Indicators**"
      ]
    },
    {
      "cell_type": "code",
      "execution_count": null,
      "metadata": {
        "id": "FhcmnxmKtfZz"
      },
      "outputs": [],
      "source": [
        "# List of Features to add\n",
        "technical_indicators = ['volatility_atr','volatility_bbw','volume_obv', 'trend_macd', 'trend_adx', 'trend_sma_fast', 'trend_ema_fast', 'trend_cci', 'momentum_rsi']\n",
        "\n",
        "# Short names of the features\n",
        "ti_abbreviations     = ['atr', 'bbw','obv','macd', 'adx', 'sma', 'ema', 'cci', 'rsi']"
      ]
    },
    {
      "cell_type": "markdown",
      "metadata": {
        "id": "bNH-UGakbB-n"
      },
      "source": [
        "#### **B. Various lags of Returns from stock tickers**"
      ]
    },
    {
      "cell_type": "code",
      "execution_count": null,
      "metadata": {
        "id": "JOEsbjHHbO-z"
      },
      "outputs": [],
      "source": [
        "return_lags = ['ret_1', 'ret_2', 'ret_5', 'ret_10', 'ret_21', 'ret_30']"
      ]
    },
    {
      "cell_type": "markdown",
      "metadata": {
        "id": "-mL1VtLzbid3"
      },
      "source": [
        "#### **C. LSTM predictions**"
      ]
    },
    {
      "cell_type": "code",
      "execution_count": null,
      "metadata": {
        "id": "u8J9ZgKIcDqY"
      },
      "outputs": [],
      "source": [
        "lstm_fcst = ['fcst']"
      ]
    },
    {
      "cell_type": "markdown",
      "metadata": {
        "id": "dZOud1Q0aBc6"
      },
      "source": [
        "#### **D. Transformer predictions**"
      ]
    },
    {
      "cell_type": "code",
      "execution_count": null,
      "metadata": {
        "id": "EaDtlWFOaClH"
      },
      "outputs": [],
      "source": [
        "transformer_fcst = ['fcst']"
      ]
    },
    {
      "cell_type": "markdown",
      "metadata": {
        "id": "G3hjbejbLTM4"
      },
      "source": [
        "<hr style='border:2px solid black'>"
      ]
    },
    {
      "cell_type": "markdown",
      "metadata": {
        "id": "cl3AoE3lcTFx"
      },
      "source": [
        "## **Section 4: Defining model parameters**\n"
      ]
    },
    {
      "cell_type": "markdown",
      "metadata": {
        "id": "x9sFuD9CcddQ"
      },
      "source": [
        "We now define our model parameters for the various RL agents that we propose to use."
      ]
    },
    {
      "cell_type": "code",
      "execution_count": null,
      "metadata": {
        "id": "U_LZ7XW6cbA_"
      },
      "outputs": [],
      "source": [
        "## Models\n",
        "MODELS = {\"a2c\": A2C, \"ddpg\": DDPG, \"td3\": TD3, \"sac\": SAC, \"ppo\": PPO}\n",
        "\n",
        "## Model Parameters\n",
        "A2C_PARAMS_TI = {\"n_steps\": 500, \"ent_coef\": 0.005, \"learning_rate\": 0.0002}\n",
        "PPO_PARAMS_TI = { \"n_steps\": 2048, \"ent_coef\": 0.005, \"learning_rate\": 0.0001, \"batch_size\": 128,}\n",
        "DDPG_PARAMS_TI = {\"batch_size\": 128, \"buffer_size\": 50000, \"learning_rate\": 0.001}\n",
        "SAC_PARAMS_TI = { \"batch_size\": 128, \"buffer_size\": 100000, \"learning_rate\": 0.0003, \"learning_starts\": 100, \"ent_coef\": \"auto_0.1\",}\n",
        "TD3_PARAMS_TI = {\"batch_size\": 100, \"buffer_size\": 1000000, \"learning_rate\": 0.001}\n",
        "\n",
        "A2C_PARAMS_RET = {\"n_steps\": 500, \"ent_coef\": 0.005, \"learning_rate\": 0.0002}\n",
        "PPO_PARAMS_RET = { \"n_steps\": 2048, \"ent_coef\": 0.005, \"learning_rate\": 0.0001, \"batch_size\": 128,}\n",
        "DDPG_PARAMS_RET = {\"batch_size\": 128, \"buffer_size\": 50000, \"learning_rate\": 0.001}\n",
        "SAC_PARAMS_RET = { \"batch_size\": 128, \"buffer_size\": 100000, \"learning_rate\": 0.0003, \"learning_starts\": 100, \"ent_coef\": \"auto_0.1\",}\n",
        "TD3_PARAMS_RET = {\"batch_size\": 100, \"buffer_size\": 1000000, \"learning_rate\": 0.001}\n",
        "\n",
        "A2C_PARAMS_LSTM = {\"n_steps\": 500, \"ent_coef\": 0.005, \"learning_rate\": 0.0002}\n",
        "PPO_PARAMS_LSTM = { \"n_steps\": 2048, \"ent_coef\": 0.005, \"learning_rate\": 0.0001, \"batch_size\": 128,}\n",
        "DDPG_PARAMS_LSTM = {\"batch_size\": 128, \"buffer_size\": 50000, \"learning_rate\": 0.001}\n",
        "SAC_PARAMS_LSTM = { \"batch_size\": 128, \"buffer_size\": 100000, \"learning_rate\": 0.0003, \"learning_starts\": 100, \"ent_coef\": \"auto_0.1\",}\n",
        "TD3_PARAMS_LSTM = {\"batch_size\": 100, \"buffer_size\": 1000000, \"learning_rate\": 0.001}\n",
        "\n",
        "A2C_PARAMS_TRANSFORMER = {\"n_steps\": 500, \"ent_coef\": 0.005, \"learning_rate\": 0.0002}\n",
        "PPO_PARAMS_TRANSFORMER = { \"n_steps\": 2048, \"ent_coef\": 0.005, \"learning_rate\": 0.0001, \"batch_size\": 128,}\n",
        "DDPG_PARAMS_TRANSFORMER = {\"batch_size\": 128, \"buffer_size\": 50000, \"learning_rate\": 0.001}\n",
        "SAC_PARAMS_TRANSFORMER = { \"batch_size\": 128, \"buffer_size\": 100000, \"learning_rate\": 0.0003, \"learning_starts\": 100, \"ent_coef\": \"auto_0.1\",}\n",
        "TD3_PARAMS_TRANSFORMER = {\"batch_size\": 100, \"buffer_size\": 1000000, \"learning_rate\": 0.001}\n",
        "\n",
        "MODEL_KWARGS = {x: config.__dict__[f\"{x.upper()}_PARAMS\"] for x in MODELS.keys()}\n",
        "\n",
        "NOISE = {\"normal\": NormalActionNoise, \"ornstein_uhlenbeck\": OrnsteinUhlenbeckActionNoise,}\n",
        "\n",
        "total_timesteps_ = 2500\n",
        "\n",
        "transaction_cost = 0.003\n",
        "\n",
        "DynaCAAST_Env   = dict()\n",
        "DynaCAAST_Model = dict()\n",
        "DynaCAAST_Obs   = dict()"
      ]
    },
    {
      "cell_type": "markdown",
      "metadata": {
        "id": "Gh3pza2KLRhH"
      },
      "source": [
        "<hr style='border:2px solid black'>"
      ]
    },
    {
      "cell_type": "markdown",
      "metadata": {
        "id": "jvoD8MoAoghP"
      },
      "source": [
        "## **Section 5: Creating training, testing and validation data**\n"
      ]
    },
    {
      "cell_type": "markdown",
      "metadata": {
        "id": "aA5K-3X7pDoj"
      },
      "source": [
        "In this section, we extract and transform our data to be suitable for running our models. In this section, we also define start date, end date, and stock tickers. The feature engineered data for all defined states for training, testing and validation of various states is also created in this section."
      ]
    },
    {
      "cell_type": "markdown",
      "metadata": {
        "id": "JZn57cOPgsy6"
      },
      "source": [
        "### **Foundational data**"
      ]
    },
    {
      "cell_type": "code",
      "execution_count": null,
      "metadata": {
        "id": "KDVtOpJNpSwp"
      },
      "outputs": [],
      "source": [
        "# We define the time period for our analysis here. The start date and end date used for this purpose is shown below.\n",
        "# Note that this period will encompass both in the sample and out of the sample data and as this is a time series data we will split the\n",
        "# time horizon into in the sample, out of the sample and validation.\n",
        "# time format = '%Y-%m-%d'\n",
        "\n",
        "START_DATE =  '2006-01-01'\n",
        "END_DATE   =  '2009-12-31'"
      ]
    },
    {
      "cell_type": "code",
      "execution_count": null,
      "metadata": {
        "id": "6f-nzawapdI8"
      },
      "outputs": [],
      "source": [
        "# These are stock tickers whose stock price data we are going to use in our capstone.\n",
        "# Note that all these companies are part of NIFTY 50 index and account for bulk of its market capitalization\n",
        "\n",
        "tickers = ['BHARTIARTL.NS',  'NTPC.NS',     'MARUTI.NS', 'NESTLEIND.NS', 'BAJFINANCE.NS', 'KOTAKBANK.NS',  'TATASTEEL.NS',  'ONGC.NS',       'BAJAJ-AUTO.NS', 'LT.NS',           'ITC.NS',   'TCS.NS',     'BRITANNIA.NS',\n",
        "           'SHRIRAMFIN.NS',  'ADANIENT.NS', 'CIPLA.NS',  'WIPRO.NS',     'INDUSINDBK.NS', 'ULTRACEMCO.NS', 'TATACONSUM.NS', 'BAJAJFINSV.NS', 'RELIANCE.NS',   'HEROMOTOCO.NS',   'TITAN.NS', 'HINDALCO.NS','APOLLOHOSP.NS', 'CASH']"
      ]
    },
    {
      "cell_type": "markdown",
      "metadata": {
        "id": "ct3zh0IUp4RO"
      },
      "source": [
        "Next, we extract and transform our data. We use Yahoo Finance to source our data. Notice that we also introduce 'CASH' as one of the tickers. We do so to allow our agents to move investments from stock to cash and vice versa when there is a bearish or bullish phase when all stocks are expected to behave a symmetric and coordinated manner."
      ]
    },
    {
      "cell_type": "code",
      "execution_count": null,
      "metadata": {
        "id": "D5YtBz0DqVcT"
      },
      "outputs": [],
      "source": [
        "# We create CASH as our 'ticker' here.\n",
        "\n",
        "tickers_wo_cash = tickers.copy()\n",
        "tickers_wo_cash.remove('CASH')\n",
        "data = yf.download(tickers_wo_cash, start=START_DATE, end=END_DATE)\n",
        "data = data.dropna()\n",
        "data = data.stack().reset_index()\n",
        "#data = data.drop(['Close'], axis=1)\n",
        "data.columns = ['date','tic','close','high','low','open','volume']"
      ]
    },
    {
      "cell_type": "code",
      "execution_count": null,
      "metadata": {
        "id": "ybKW8Cq8qX87"
      },
      "outputs": [],
      "source": [
        "# We provide time series data for our CASH ticker\n",
        "\n",
        "cashData = data[data.tic=='TCS.NS'].copy()\n",
        "cashData['tic']    = 'CASH'\n",
        "cashData['close']  = 100 + np.random.normal(loc=4,scale=0.01,size=len(cashData))\n",
        "cashData['high']   = 100 + np.random.normal(loc=4,scale=0.01,size=len(cashData))\n",
        "cashData['low']    = 100 + np.random.normal(loc=4,scale=0.01,size=len(cashData))\n",
        "cashData['open']   = 100 + np.random.normal(loc=4,scale=0.01,size=len(cashData))\n",
        "cashData['volume'] = 100 + np.random.normal(loc=4,scale=0.01,size=len(cashData))"
      ]
    },
    {
      "cell_type": "code",
      "execution_count": null,
      "metadata": {
        "id": "uTkArtS5qYMM"
      },
      "outputs": [],
      "source": [
        "# We combine the original data with the cash data we created above\n",
        "\n",
        "data = pd.concat([data, cashData])"
      ]
    },
    {
      "cell_type": "markdown",
      "metadata": {
        "id": "J3Db9TtPg5sK"
      },
      "source": [
        "### **Data for state representing technical indicators (TI)**"
      ]
    },
    {
      "cell_type": "markdown",
      "metadata": {
        "id": "8qsiuG-befmj"
      },
      "source": [
        "Below we create data for our state representing technical indicators."
      ]
    },
    {
      "cell_type": "code",
      "execution_count": null,
      "metadata": {
        "id": "q8hL9zyTqYP3"
      },
      "outputs": [],
      "source": [
        "# We use the function we defined before for technical indicators\n",
        "\n",
        "data['volume'] =data['volume']/10000\n",
        "data['volume'] =data['volume'].apply(lambda x: round(x, 0))\n",
        "tech_ind_data = create_technical_indicators(data, technical_indicators, ti_abbreviations)\n",
        "del data"
      ]
    },
    {
      "cell_type": "markdown",
      "source": [
        "### **Data for closing prices for tickers for traditional approaches**"
      ],
      "metadata": {
        "id": "1S40E76DNu5A"
      }
    },
    {
      "cell_type": "markdown",
      "metadata": {
        "id": "TeYU_qwBezDz"
      },
      "source": [
        "Below we create the price data that we need for running our traditional approaches."
      ]
    },
    {
      "cell_type": "code",
      "execution_count": null,
      "metadata": {
        "id": "B_My684UqpPt"
      },
      "outputs": [],
      "source": [
        "# Reset the Index to tic and date\n",
        "price_data = tech_ind_data[['date',\t'tic',\t'close',\t'high',\t'low',\t'open',\t'volume']].copy()\n",
        "price_data = price_data.reset_index().set_index(['tic', 'date']).sort_index()\n",
        "\n",
        "# Get the list of all the tickers\n",
        "tic_list = list(set([i for i,j in price_data.index]))\n",
        "\n",
        "# Create an empty data frame for the close prices\n",
        "df_close = pd.DataFrame()\n",
        "\n",
        "for ticker in tic_list:\n",
        "    series = price_data.xs(ticker).close\n",
        "    df_close[ticker] = series\n",
        "\n",
        "price_data = df_close.reset_index()\n",
        "del df_close"
      ]
    },
    {
      "cell_type": "markdown",
      "metadata": {
        "id": "H1JAtGHJhGvI"
      },
      "source": [
        "### **Data for state representing lagged return data (RET)**"
      ]
    },
    {
      "cell_type": "markdown",
      "metadata": {
        "id": "FZ_RKRZJfEcF"
      },
      "source": [
        "We now create a lag returns data for evaluating states that represent lagged returns."
      ]
    },
    {
      "cell_type": "code",
      "execution_count": null,
      "metadata": {
        "id": "3wIIKAsae951"
      },
      "outputs": [],
      "source": [
        "return_lags_data = pd.DataFrame()\n",
        "\n",
        "dataValues = tech_ind_data[['tic', 'date', 'close']].sort_values(by = ['tic', 'date'], inplace=False)\n",
        "\n",
        "return_lags_data['close']  = dataValues['close']\n",
        "return_lags_data['ret_1']  = dataValues['close'].pct_change(1)\n",
        "return_lags_data['ret_2']  = dataValues['close'].pct_change(2)\n",
        "return_lags_data['ret_5']  = dataValues['close'].pct_change(5)\n",
        "return_lags_data['ret_10'] = dataValues['close'].pct_change(10)\n",
        "return_lags_data['ret_21'] = dataValues['close'].pct_change(21)\n",
        "return_lags_data['ret_30'] = dataValues['close'].pct_change(30)\n",
        "return_lags_data['tic']    = dataValues['tic']\n",
        "return_lags_data['date']   = dataValues['date']\n",
        "return_lags_data           = return_lags_data.fillna(method='bfill')\n",
        "return_lags_data           = return_lags_data.sort_values(by=['date', 'tic'])\n",
        "\n",
        "del dataValues"
      ]
    },
    {
      "cell_type": "markdown",
      "source": [
        "Describing the returns data"
      ],
      "metadata": {
        "id": "6m3u7F9FzShX"
      }
    },
    {
      "cell_type": "code",
      "source": [
        "return_lags_data[[\"ret_1\",\t\"ret_2\",\t\"ret_5\",\t\"ret_10\",\t\"ret_21\",\t\"ret_30\"]].describe()"
      ],
      "metadata": {
        "colab": {
          "base_uri": "https://localhost:8080/",
          "height": 300
        },
        "id": "vgyHRa7gzVII",
        "outputId": "ad2ab9d2-136f-4c23-8b22-358942953b28"
      },
      "execution_count": null,
      "outputs": [
        {
          "output_type": "execute_result",
          "data": {
            "text/plain": [
              "              ret_1         ret_2         ret_5        ret_10        ret_21  \\\n",
              "count  28809.000000  28809.000000  28809.000000  28809.000000  28809.000000   \n",
              "mean       0.001746      0.003508      0.008778      0.017689      0.037307   \n",
              "std        0.122674      0.175954      0.282555      0.412337      0.604004   \n",
              "min       -0.984078     -0.984400     -0.984185     -0.983875     -0.983426   \n",
              "25%       -0.007835     -0.011079     -0.016974     -0.023734     -0.032761   \n",
              "50%        0.000128      0.000294      0.002142      0.004900      0.010631   \n",
              "75%        0.009010      0.014041      0.024662      0.038496      0.062900   \n",
              "max       18.517799     19.258989     20.009379     20.708274     23.152545   \n",
              "\n",
              "             ret_30  \n",
              "count  28809.000000  \n",
              "mean       0.053166  \n",
              "std        0.707215  \n",
              "min       -0.982635  \n",
              "25%       -0.037264  \n",
              "50%        0.015646  \n",
              "75%        0.079778  \n",
              "max       23.019816  "
            ],
            "text/html": [
              "\n",
              "  <div id=\"df-9a717413-e213-414d-98c4-16c4ee4a0979\" class=\"colab-df-container\">\n",
              "    <div>\n",
              "<style scoped>\n",
              "    .dataframe tbody tr th:only-of-type {\n",
              "        vertical-align: middle;\n",
              "    }\n",
              "\n",
              "    .dataframe tbody tr th {\n",
              "        vertical-align: top;\n",
              "    }\n",
              "\n",
              "    .dataframe thead th {\n",
              "        text-align: right;\n",
              "    }\n",
              "</style>\n",
              "<table border=\"1\" class=\"dataframe\">\n",
              "  <thead>\n",
              "    <tr style=\"text-align: right;\">\n",
              "      <th></th>\n",
              "      <th>ret_1</th>\n",
              "      <th>ret_2</th>\n",
              "      <th>ret_5</th>\n",
              "      <th>ret_10</th>\n",
              "      <th>ret_21</th>\n",
              "      <th>ret_30</th>\n",
              "    </tr>\n",
              "  </thead>\n",
              "  <tbody>\n",
              "    <tr>\n",
              "      <th>count</th>\n",
              "      <td>28809.000000</td>\n",
              "      <td>28809.000000</td>\n",
              "      <td>28809.000000</td>\n",
              "      <td>28809.000000</td>\n",
              "      <td>28809.000000</td>\n",
              "      <td>28809.000000</td>\n",
              "    </tr>\n",
              "    <tr>\n",
              "      <th>mean</th>\n",
              "      <td>0.001746</td>\n",
              "      <td>0.003508</td>\n",
              "      <td>0.008778</td>\n",
              "      <td>0.017689</td>\n",
              "      <td>0.037307</td>\n",
              "      <td>0.053166</td>\n",
              "    </tr>\n",
              "    <tr>\n",
              "      <th>std</th>\n",
              "      <td>0.122674</td>\n",
              "      <td>0.175954</td>\n",
              "      <td>0.282555</td>\n",
              "      <td>0.412337</td>\n",
              "      <td>0.604004</td>\n",
              "      <td>0.707215</td>\n",
              "    </tr>\n",
              "    <tr>\n",
              "      <th>min</th>\n",
              "      <td>-0.984078</td>\n",
              "      <td>-0.984400</td>\n",
              "      <td>-0.984185</td>\n",
              "      <td>-0.983875</td>\n",
              "      <td>-0.983426</td>\n",
              "      <td>-0.982635</td>\n",
              "    </tr>\n",
              "    <tr>\n",
              "      <th>25%</th>\n",
              "      <td>-0.007835</td>\n",
              "      <td>-0.011079</td>\n",
              "      <td>-0.016974</td>\n",
              "      <td>-0.023734</td>\n",
              "      <td>-0.032761</td>\n",
              "      <td>-0.037264</td>\n",
              "    </tr>\n",
              "    <tr>\n",
              "      <th>50%</th>\n",
              "      <td>0.000128</td>\n",
              "      <td>0.000294</td>\n",
              "      <td>0.002142</td>\n",
              "      <td>0.004900</td>\n",
              "      <td>0.010631</td>\n",
              "      <td>0.015646</td>\n",
              "    </tr>\n",
              "    <tr>\n",
              "      <th>75%</th>\n",
              "      <td>0.009010</td>\n",
              "      <td>0.014041</td>\n",
              "      <td>0.024662</td>\n",
              "      <td>0.038496</td>\n",
              "      <td>0.062900</td>\n",
              "      <td>0.079778</td>\n",
              "    </tr>\n",
              "    <tr>\n",
              "      <th>max</th>\n",
              "      <td>18.517799</td>\n",
              "      <td>19.258989</td>\n",
              "      <td>20.009379</td>\n",
              "      <td>20.708274</td>\n",
              "      <td>23.152545</td>\n",
              "      <td>23.019816</td>\n",
              "    </tr>\n",
              "  </tbody>\n",
              "</table>\n",
              "</div>\n",
              "    <div class=\"colab-df-buttons\">\n",
              "\n",
              "  <div class=\"colab-df-container\">\n",
              "    <button class=\"colab-df-convert\" onclick=\"convertToInteractive('df-9a717413-e213-414d-98c4-16c4ee4a0979')\"\n",
              "            title=\"Convert this dataframe to an interactive table.\"\n",
              "            style=\"display:none;\">\n",
              "\n",
              "  <svg xmlns=\"http://www.w3.org/2000/svg\" height=\"24px\" viewBox=\"0 -960 960 960\">\n",
              "    <path d=\"M120-120v-720h720v720H120Zm60-500h600v-160H180v160Zm220 220h160v-160H400v160Zm0 220h160v-160H400v160ZM180-400h160v-160H180v160Zm440 0h160v-160H620v160ZM180-180h160v-160H180v160Zm440 0h160v-160H620v160Z\"/>\n",
              "  </svg>\n",
              "    </button>\n",
              "\n",
              "  <style>\n",
              "    .colab-df-container {\n",
              "      display:flex;\n",
              "      gap: 12px;\n",
              "    }\n",
              "\n",
              "    .colab-df-convert {\n",
              "      background-color: #E8F0FE;\n",
              "      border: none;\n",
              "      border-radius: 50%;\n",
              "      cursor: pointer;\n",
              "      display: none;\n",
              "      fill: #1967D2;\n",
              "      height: 32px;\n",
              "      padding: 0 0 0 0;\n",
              "      width: 32px;\n",
              "    }\n",
              "\n",
              "    .colab-df-convert:hover {\n",
              "      background-color: #E2EBFA;\n",
              "      box-shadow: 0px 1px 2px rgba(60, 64, 67, 0.3), 0px 1px 3px 1px rgba(60, 64, 67, 0.15);\n",
              "      fill: #174EA6;\n",
              "    }\n",
              "\n",
              "    .colab-df-buttons div {\n",
              "      margin-bottom: 4px;\n",
              "    }\n",
              "\n",
              "    [theme=dark] .colab-df-convert {\n",
              "      background-color: #3B4455;\n",
              "      fill: #D2E3FC;\n",
              "    }\n",
              "\n",
              "    [theme=dark] .colab-df-convert:hover {\n",
              "      background-color: #434B5C;\n",
              "      box-shadow: 0px 1px 3px 1px rgba(0, 0, 0, 0.15);\n",
              "      filter: drop-shadow(0px 1px 2px rgba(0, 0, 0, 0.3));\n",
              "      fill: #FFFFFF;\n",
              "    }\n",
              "  </style>\n",
              "\n",
              "    <script>\n",
              "      const buttonEl =\n",
              "        document.querySelector('#df-9a717413-e213-414d-98c4-16c4ee4a0979 button.colab-df-convert');\n",
              "      buttonEl.style.display =\n",
              "        google.colab.kernel.accessAllowed ? 'block' : 'none';\n",
              "\n",
              "      async function convertToInteractive(key) {\n",
              "        const element = document.querySelector('#df-9a717413-e213-414d-98c4-16c4ee4a0979');\n",
              "        const dataTable =\n",
              "          await google.colab.kernel.invokeFunction('convertToInteractive',\n",
              "                                                    [key], {});\n",
              "        if (!dataTable) return;\n",
              "\n",
              "        const docLinkHtml = 'Like what you see? Visit the ' +\n",
              "          '<a target=\"_blank\" href=https://colab.research.google.com/notebooks/data_table.ipynb>data table notebook</a>'\n",
              "          + ' to learn more about interactive tables.';\n",
              "        element.innerHTML = '';\n",
              "        dataTable['output_type'] = 'display_data';\n",
              "        await google.colab.output.renderOutput(dataTable, element);\n",
              "        const docLink = document.createElement('div');\n",
              "        docLink.innerHTML = docLinkHtml;\n",
              "        element.appendChild(docLink);\n",
              "      }\n",
              "    </script>\n",
              "  </div>\n",
              "\n",
              "\n",
              "    <div id=\"df-adc8abf1-1992-420a-9f2e-e75b84ffcd95\">\n",
              "      <button class=\"colab-df-quickchart\" onclick=\"quickchart('df-adc8abf1-1992-420a-9f2e-e75b84ffcd95')\"\n",
              "                title=\"Suggest charts\"\n",
              "                style=\"display:none;\">\n",
              "\n",
              "<svg xmlns=\"http://www.w3.org/2000/svg\" height=\"24px\"viewBox=\"0 0 24 24\"\n",
              "     width=\"24px\">\n",
              "    <g>\n",
              "        <path d=\"M19 3H5c-1.1 0-2 .9-2 2v14c0 1.1.9 2 2 2h14c1.1 0 2-.9 2-2V5c0-1.1-.9-2-2-2zM9 17H7v-7h2v7zm4 0h-2V7h2v10zm4 0h-2v-4h2v4z\"/>\n",
              "    </g>\n",
              "</svg>\n",
              "      </button>\n",
              "\n",
              "<style>\n",
              "  .colab-df-quickchart {\n",
              "      --bg-color: #E8F0FE;\n",
              "      --fill-color: #1967D2;\n",
              "      --hover-bg-color: #E2EBFA;\n",
              "      --hover-fill-color: #174EA6;\n",
              "      --disabled-fill-color: #AAA;\n",
              "      --disabled-bg-color: #DDD;\n",
              "  }\n",
              "\n",
              "  [theme=dark] .colab-df-quickchart {\n",
              "      --bg-color: #3B4455;\n",
              "      --fill-color: #D2E3FC;\n",
              "      --hover-bg-color: #434B5C;\n",
              "      --hover-fill-color: #FFFFFF;\n",
              "      --disabled-bg-color: #3B4455;\n",
              "      --disabled-fill-color: #666;\n",
              "  }\n",
              "\n",
              "  .colab-df-quickchart {\n",
              "    background-color: var(--bg-color);\n",
              "    border: none;\n",
              "    border-radius: 50%;\n",
              "    cursor: pointer;\n",
              "    display: none;\n",
              "    fill: var(--fill-color);\n",
              "    height: 32px;\n",
              "    padding: 0;\n",
              "    width: 32px;\n",
              "  }\n",
              "\n",
              "  .colab-df-quickchart:hover {\n",
              "    background-color: var(--hover-bg-color);\n",
              "    box-shadow: 0 1px 2px rgba(60, 64, 67, 0.3), 0 1px 3px 1px rgba(60, 64, 67, 0.15);\n",
              "    fill: var(--button-hover-fill-color);\n",
              "  }\n",
              "\n",
              "  .colab-df-quickchart-complete:disabled,\n",
              "  .colab-df-quickchart-complete:disabled:hover {\n",
              "    background-color: var(--disabled-bg-color);\n",
              "    fill: var(--disabled-fill-color);\n",
              "    box-shadow: none;\n",
              "  }\n",
              "\n",
              "  .colab-df-spinner {\n",
              "    border: 2px solid var(--fill-color);\n",
              "    border-color: transparent;\n",
              "    border-bottom-color: var(--fill-color);\n",
              "    animation:\n",
              "      spin 1s steps(1) infinite;\n",
              "  }\n",
              "\n",
              "  @keyframes spin {\n",
              "    0% {\n",
              "      border-color: transparent;\n",
              "      border-bottom-color: var(--fill-color);\n",
              "      border-left-color: var(--fill-color);\n",
              "    }\n",
              "    20% {\n",
              "      border-color: transparent;\n",
              "      border-left-color: var(--fill-color);\n",
              "      border-top-color: var(--fill-color);\n",
              "    }\n",
              "    30% {\n",
              "      border-color: transparent;\n",
              "      border-left-color: var(--fill-color);\n",
              "      border-top-color: var(--fill-color);\n",
              "      border-right-color: var(--fill-color);\n",
              "    }\n",
              "    40% {\n",
              "      border-color: transparent;\n",
              "      border-right-color: var(--fill-color);\n",
              "      border-top-color: var(--fill-color);\n",
              "    }\n",
              "    60% {\n",
              "      border-color: transparent;\n",
              "      border-right-color: var(--fill-color);\n",
              "    }\n",
              "    80% {\n",
              "      border-color: transparent;\n",
              "      border-right-color: var(--fill-color);\n",
              "      border-bottom-color: var(--fill-color);\n",
              "    }\n",
              "    90% {\n",
              "      border-color: transparent;\n",
              "      border-bottom-color: var(--fill-color);\n",
              "    }\n",
              "  }\n",
              "</style>\n",
              "\n",
              "      <script>\n",
              "        async function quickchart(key) {\n",
              "          const quickchartButtonEl =\n",
              "            document.querySelector('#' + key + ' button');\n",
              "          quickchartButtonEl.disabled = true;  // To prevent multiple clicks.\n",
              "          quickchartButtonEl.classList.add('colab-df-spinner');\n",
              "          try {\n",
              "            const charts = await google.colab.kernel.invokeFunction(\n",
              "                'suggestCharts', [key], {});\n",
              "          } catch (error) {\n",
              "            console.error('Error during call to suggestCharts:', error);\n",
              "          }\n",
              "          quickchartButtonEl.classList.remove('colab-df-spinner');\n",
              "          quickchartButtonEl.classList.add('colab-df-quickchart-complete');\n",
              "        }\n",
              "        (() => {\n",
              "          let quickchartButtonEl =\n",
              "            document.querySelector('#df-adc8abf1-1992-420a-9f2e-e75b84ffcd95 button');\n",
              "          quickchartButtonEl.style.display =\n",
              "            google.colab.kernel.accessAllowed ? 'block' : 'none';\n",
              "        })();\n",
              "      </script>\n",
              "    </div>\n",
              "\n",
              "    </div>\n",
              "  </div>\n"
            ],
            "application/vnd.google.colaboratory.intrinsic+json": {
              "type": "dataframe",
              "summary": "{\n  \"name\": \"return_lags_data[[\\\"ret_1\\\",\\t\\\"ret_2\\\",\\t\\\"ret_5\\\",\\t\\\"ret_10\\\",\\t\\\"ret_21\\\",\\t\\\"ret_30\\\"]]\",\n  \"rows\": 8,\n  \"fields\": [\n    {\n      \"column\": \"ret_1\",\n      \"properties\": {\n        \"dtype\": \"number\",\n        \"std\": 10184.629792435788,\n        \"min\": -0.9840784454538544,\n        \"max\": 28809.0,\n        \"num_unique_values\": 8,\n        \"samples\": [\n          0.0017456996070425834,\n          0.00012847844350116766,\n          28809.0\n        ],\n        \"semantic_type\": \"\",\n        \"description\": \"\"\n      }\n    },\n    {\n      \"column\": \"ret_2\",\n      \"properties\": {\n        \"dtype\": \"number\",\n        \"std\": 10184.589661882179,\n        \"min\": -0.9844004514686971,\n        \"max\": 28809.0,\n        \"num_unique_values\": 8,\n        \"samples\": [\n          0.003508249118748767,\n          0.0002935667313428425,\n          28809.0\n        ],\n        \"semantic_type\": \"\",\n        \"description\": \"\"\n      }\n    },\n    {\n      \"column\": \"ret_5\",\n      \"properties\": {\n        \"dtype\": \"number\",\n        \"std\": 10184.545942331986,\n        \"min\": -0.9841850421869442,\n        \"max\": 28809.0,\n        \"num_unique_values\": 8,\n        \"samples\": [\n          0.008778290728994607,\n          0.0021420787517947293,\n          28809.0\n        ],\n        \"semantic_type\": \"\",\n        \"description\": \"\"\n      }\n    },\n    {\n      \"column\": \"ret_10\",\n      \"properties\": {\n        \"dtype\": \"number\",\n        \"std\": 10184.503292163212,\n        \"min\": -0.9838746539032167,\n        \"max\": 28809.0,\n        \"num_unique_values\": 8,\n        \"samples\": [\n          0.01768889218595924,\n          0.004900444479019939,\n          28809.0\n        ],\n        \"semantic_type\": \"\",\n        \"description\": \"\"\n      }\n    },\n    {\n      \"column\": \"ret_21\",\n      \"properties\": {\n        \"dtype\": \"number\",\n        \"std\": 10184.368715535364,\n        \"min\": -0.9834264795623407,\n        \"max\": 28809.0,\n        \"num_unique_values\": 8,\n        \"samples\": [\n          0.03730653480270361,\n          0.010630567541515923,\n          28809.0\n        ],\n        \"semantic_type\": \"\",\n        \"description\": \"\"\n      }\n    },\n    {\n      \"column\": \"ret_30\",\n      \"properties\": {\n        \"dtype\": \"number\",\n        \"std\": 10184.368444800128,\n        \"min\": -0.9826345143085718,\n        \"max\": 28809.0,\n        \"num_unique_values\": 8,\n        \"samples\": [\n          0.05316578766596801,\n          0.015645761342345077,\n          28809.0\n        ],\n        \"semantic_type\": \"\",\n        \"description\": \"\"\n      }\n    }\n  ]\n}"
            }
          },
          "metadata": {},
          "execution_count": 32
        }
      ]
    },
    {
      "cell_type": "markdown",
      "metadata": {
        "id": "91ZYJ_wht0Nh"
      },
      "source": [
        "### **Defining start and end dates for our training, testing and validation**\n",
        "\n",
        "\n"
      ]
    },
    {
      "cell_type": "code",
      "execution_count": null,
      "metadata": {
        "id": "wZBRf7Gvty9Y"
      },
      "outputs": [],
      "source": [
        "# Define the start and end dates for the train, test and validation data\n",
        "\n",
        "train_pct = 0.75  # percentage of train data\n",
        "test_pct  = 0.20  # percentage of test data\n",
        "\n",
        "date_list = list(tech_ind_data.date.unique()) # List of dates in the data\n",
        "\n",
        "date_list_len  = len(date_list) # len of the date list\n",
        "train_data_len = int(train_pct * date_list_len) # length of the train data\n",
        "test_data_len  = int(test_pct * date_list_len) # length of the test data\n",
        "\n",
        "train_start_date = date_list[0]\n",
        "train_end_date   = date_list[train_data_len]\n",
        "print(train_end_date)\n",
        "\n",
        "test_start_date = date_list[train_data_len+1]\n",
        "test_end_date   = date_list[train_data_len + test_data_len]\n",
        "print(test_end_date)\n",
        "\n",
        "valid_start_date = date_list[train_data_len + test_data_len + 1]\n",
        "valid_end_date   = date_list[-1]\n",
        "print(valid_end_date)"
      ]
    },
    {
      "cell_type": "markdown",
      "metadata": {
        "id": "ckoPmysghOwp"
      },
      "source": [
        "### **Data for state representing LSTM forecasts**"
      ]
    },
    {
      "cell_type": "markdown",
      "metadata": {
        "id": "cib2jVFOfUyO"
      },
      "source": [
        "We now create data for states representing predictions from our LSTM model. For that we first create training data to train a LSTM model and then use this model to spew out our 'state' representation."
      ]
    },
    {
      "cell_type": "code",
      "execution_count": null,
      "metadata": {
        "id": "BRkDCoBUe-Ua"
      },
      "outputs": [],
      "source": [
        "# Closing price data we use for creating input data for our LSTM model\n",
        "\n",
        "finalData = price_data.set_index('date',inplace=False).transpose()"
      ]
    },
    {
      "cell_type": "code",
      "execution_count": null,
      "metadata": {
        "id": "cPnJ_q4kgoCV"
      },
      "outputs": [],
      "source": [
        "# We now create training data and testing data for our neural network\n",
        "# Creating training data for all our tickers\n",
        "\n",
        "trainData = []\n",
        "scaler = MinMaxScaler(feature_range=(0,1))\n",
        "intermediate = 0\n",
        "\n",
        "for i in range(len(finalData)):\n",
        "    intermediate = finalData.iloc[i, 0:train_data_len].values\n",
        "    intermediate = intermediate.reshape(-1,1)\n",
        "    intermediate = scaler.fit_transform(intermediate)\n",
        "    trainData.append(intermediate)\n",
        "\n",
        "trainDataX = []\n",
        "trainDataY = []\n",
        "dummy1 = []\n",
        "dummy2 = []\n",
        "\n",
        "for i in range(len(finalData)):\n",
        "    for j in range(10, len(trainData[i])):\n",
        "        dummy1.append(trainData[i][j-10:j][0])\n",
        "        dummy2.append(np.array(trainData[i][j][0]))\n",
        "\n",
        "    dummy1 = np.array(dummy1)\n",
        "    trainDataX.append(np.reshape(dummy1, (dummy1.shape[0], dummy1.shape[1], 1)))\n",
        "    dummy2 = np.array(dummy2)\n",
        "    trainDataY.append(dummy2)\n",
        "    dummy1 = []\n",
        "    dummy2 = []"
      ]
    },
    {
      "cell_type": "code",
      "execution_count": null,
      "metadata": {
        "id": "tnOyMAjFgoGn"
      },
      "outputs": [],
      "source": [
        "# We create testing data now. We use this to validate our LSTM model.\n",
        "\n",
        "testData = []\n",
        "dummy = []\n",
        "\n",
        "for i in range(len(finalData)):\n",
        "    intermediate = finalData.iloc[i, train_data_len:].values\n",
        "    intermediate = intermediate.reshape(-1,1)\n",
        "    intermediate = scaler.fit_transform(intermediate)\n",
        "    testData.append(intermediate)\n",
        "\n",
        "\n",
        "for i in range(len(finalData)):\n",
        "    for j in range(10, len(testData[i])):\n",
        "        dummy.append(testData[i][j-10:j][0])\n",
        "\n",
        "    dummy = np.array(dummy)\n",
        "    testData.append(np.reshape(dummy, (dummy.shape[0], dummy.shape[1], 1)))\n",
        "    dummy = []"
      ]
    },
    {
      "cell_type": "code",
      "execution_count": null,
      "metadata": {
        "id": "k6d97GfMhdlK"
      },
      "outputs": [],
      "source": [
        "# We define our LSTM model here. We use LSTM as it is efficient with sequential data\n",
        "# We choose MSE as our loss and Adam as our optimizer\n",
        "\n",
        "stockModel = Sequential()\n",
        "stockModel.add(LSTM(25, return_sequences=True, input_shape=(trainDataX[0].shape[1], 1)))\n",
        "stockModel.add(LSTM(25, return_sequences=True))\n",
        "stockModel.add(LSTM(25))\n",
        "stockModel.add(Dense(25))\n",
        "stockModel.add(Dense(trainDataX[0].shape[1]))\n",
        "stockModel.compile(optimizer='adam',loss='mean_squared_error')"
      ]
    },
    {
      "cell_type": "code",
      "execution_count": null,
      "metadata": {
        "id": "P0X98k4Khdoj"
      },
      "outputs": [],
      "source": [
        "# We observe the LSTM configuration below\n",
        "\n",
        "stockModel.summary()"
      ]
    },
    {
      "cell_type": "code",
      "execution_count": null,
      "metadata": {
        "id": "Ju-bVLfrgoX3"
      },
      "outputs": [],
      "source": [
        "# We now train the LSTM model here based on the training data we created before.\n",
        "# We select 15 epochs and batch size of 16.\n",
        "# We set verbose to 0 to avoid messages\n",
        "\n",
        "n_epochs = 15\n",
        "trainResults = []\n",
        "\n",
        "for i in range(len(tickers)):\n",
        "    trainResults.append(stockModel.fit(trainDataX[i], trainDataY[i], epochs = n_epochs, batch_size = 16, verbose=0))"
      ]
    },
    {
      "cell_type": "markdown",
      "metadata": {
        "id": "h_Sddvy9vsv9"
      },
      "source": [
        "We visualize the progression of losses over multiple epochs for results from our LSTM model"
      ]
    },
    {
      "cell_type": "code",
      "execution_count": null,
      "metadata": {
        "id": "KoRiLrb7vqHs"
      },
      "outputs": [],
      "source": [
        "TrainTestSplit = train_data_len\n",
        "fig, axs = plt.subplots(2, 2, figsize=(15, 7))\n",
        "plt.suptitle(\"Results for Baseline Scenario\", fontsize=14)\n",
        "\n",
        "axs[0, 0].plot(range(n_epochs), trainResults[0].history['loss'], color = 'b')\n",
        "axs[0, 0].set_title(\"Loss progression for \" + tickers[0])\n",
        "axs[0, 1].plot(range(n_epochs),  trainResults[1].history['loss'], 'tab:orange')\n",
        "axs[0, 1].set_title(\"Loss progression for \" + tickers[1])\n",
        "axs[1, 0].plot(range(n_epochs),  trainResults[2].history['loss'], 'tab:green')\n",
        "axs[1, 0].set_title(\"Loss progression for \" + tickers[2])\n",
        "axs[1, 1].plot(range(n_epochs),  trainResults[3].history['loss'], 'tab:red')\n",
        "axs[1, 1].set_title(\"Loss progression for \" + tickers[3])\n",
        "\n",
        "for ax in axs.flat:\n",
        "    ax.set(xlabel = \"Epoch Number\", ylabel = \"MSE Loss\")\n",
        "\n",
        "# Hide x labels and tick labels for top plots and y ticks for right plots.\n",
        "for ax in axs.flat:\n",
        "    ax.label_outer()"
      ]
    },
    {
      "cell_type": "markdown",
      "metadata": {
        "id": "94cDs4Vxq1on"
      },
      "source": [
        "\n",
        "### **Checking performance of our LSTM output to validate its role as a state for our RL agents**"
      ]
    },
    {
      "cell_type": "code",
      "execution_count": null,
      "metadata": {
        "id": "cESkNsJTv48i"
      },
      "outputs": [],
      "source": [
        "# We now predict based on testing sample using LSTM model\n",
        "\n",
        "predResults = []\n",
        "\n",
        "for i in range(len(tickers)):\n",
        "    predictions_scaled = stockModel.predict(testData[i])\n",
        "    predictions = scaler.fit(np.expand_dims(finalData.iloc[i, :], 1)).inverse_transform(predictions_scaled)\n",
        "    predResults.append(predictions)"
      ]
    },
    {
      "cell_type": "code",
      "execution_count": null,
      "metadata": {
        "id": "cVETk8cDim_Q"
      },
      "outputs": [],
      "source": [
        "%matplotlib inline\n",
        "\n",
        "# We plot the predicted results versus the actual data for our  model\n",
        "\n",
        "fig, axs = plt.subplots(2, 2, figsize=(21, 9))\n",
        "plt.suptitle(\"Results for LSTM forecasts\", fontsize=14)\n",
        "\n",
        "axs[0, 0].plot(finalData.iloc[0, TrainTestSplit:].to_list(), color = 'b')\n",
        "axs[0, 0].plot(predResults[0], color = 'k')\n",
        "axs[0, 0].set_title(\"Prediction results for \"+ tickers[0])\n",
        "\n",
        "axs[0, 1].plot(finalData.iloc[1, TrainTestSplit:].to_list(), 'tab:orange')\n",
        "axs[0, 1].plot(predResults[1], color = 'k')\n",
        "axs[0, 1].set_title(\"Prediction results for \"+ tickers[1])\n",
        "\n",
        "axs[1, 0].plot(finalData.iloc[2, TrainTestSplit:].to_list(), 'tab:green')\n",
        "axs[1, 0].plot(predResults[2], color = 'k')\n",
        "axs[1, 0].set_title(\"Prediction results for \"+ tickers[2])\n",
        "\n",
        "axs[1, 1].plot(finalData.iloc[3, TrainTestSplit:].to_list(), 'tab:red')\n",
        "axs[1, 1].plot(predResults[3], color = 'k')\n",
        "axs[1, 1].set_title(\"Prediction results for \"+ tickers[3])\n",
        "\n",
        "\n",
        "for ax, tick in zip(axs.flat, tickers):\n",
        "    ax.set(xlabel = \"Number of Days since cut-off date\", ylabel = \"Stock price for \" + tick)\n",
        "    ax.legend((\"Real price for \"+ tick, \"Predicted price for \"+ tick), loc=\"upper left\")\n",
        "\n",
        "# Hide x labels and tick labels for top plots and y ticks for right plots.\n",
        "for ax in axs.flat:\n",
        "    ax.label_outer()"
      ]
    },
    {
      "cell_type": "code",
      "execution_count": null,
      "metadata": {
        "id": "8XL7UMjLgob1"
      },
      "outputs": [],
      "source": [
        "fig, axs = plt.subplots(2, 2, figsize=(21, 9))\n",
        "plt.suptitle(\"Results for LSTM forecasts\", fontsize=14)\n",
        "\n",
        "axs[0, 0].plot(finalData.iloc[7, TrainTestSplit:].to_list(), color = 'b')\n",
        "axs[0, 0].plot(predResults[7], color = 'k')\n",
        "axs[0, 0].set_title(\"Prediction results for \"+ tickers[7])\n",
        "\n",
        "axs[0, 1].plot(finalData.iloc[8, TrainTestSplit:].to_list(), 'tab:orange')\n",
        "axs[0, 1].plot(predResults[8], color = 'k')\n",
        "axs[0, 1].set_title(\"Prediction results for \"+ tickers[8])\n",
        "\n",
        "axs[1, 0].plot(finalData.iloc[9, TrainTestSplit:].to_list(), 'tab:green')\n",
        "axs[1, 0].plot(predResults[9], color = 'k')\n",
        "axs[1, 0].set_title(\"Prediction results for \"+ tickers[9])\n",
        "\n",
        "axs[1, 1].plot(finalData.iloc[10, TrainTestSplit:].to_list(), 'tab:red')\n",
        "axs[1, 1].plot(predResults[10], color = 'k')\n",
        "axs[1, 1].set_title(\"Prediction results for \"+ tickers[10])\n",
        "\n",
        "for ax, tick in zip(axs.flat, tickers):\n",
        "    ax.set(xlabel = \"Number of Days since cut-off date\", ylabel = \"Stock price for \" + tick)\n",
        "    ax.legend((\"Real price for \"+ tick, \"Predicted price for \"+ tick), loc=\"upper left\")\n",
        "\n",
        "# Hide x labels and tick labels for top plots and y ticks for right plots.\n",
        "for ax in axs.flat:\n",
        "    ax.label_outer()"
      ]
    },
    {
      "cell_type": "code",
      "execution_count": null,
      "metadata": {
        "id": "AuJvyyRrqABx"
      },
      "outputs": [],
      "source": [
        "fig, axs = plt.subplots(2, 2, figsize=(21, 9))\n",
        "plt.suptitle(\"Results for LSTM forecasts\", fontsize=14)\n",
        "\n",
        "axs[0, 0].plot(finalData.iloc[11, TrainTestSplit:].to_list(), color = 'b')\n",
        "axs[0, 0].plot(predResults[11], color = 'k')\n",
        "axs[0, 0].set_title(\"Prediction results for \"+ tickers[11])\n",
        "\n",
        "axs[0, 1].plot(finalData.iloc[12, TrainTestSplit:].to_list(), 'tab:orange')\n",
        "axs[0, 1].plot(predResults[12], color = 'k')\n",
        "axs[0, 1].set_title(\"Prediction results for \"+ tickers[12])\n",
        "\n",
        "axs[1, 0].plot(finalData.iloc[13, TrainTestSplit:].to_list(), 'tab:green')\n",
        "axs[1, 0].plot(predResults[13], color = 'k')\n",
        "axs[1, 0].set_title(\"Prediction results for \"+ tickers[13])\n",
        "\n",
        "axs[1, 1].plot(finalData.iloc[14, TrainTestSplit:].to_list(), 'tab:red')\n",
        "axs[1, 1].plot(predResults[14], color = 'k')\n",
        "axs[1, 1].set_title(\"Prediction results for \"+ tickers[14])\n",
        "\n",
        "\n",
        "for ax, tick in zip(axs.flat, tickers):\n",
        "    ax.set(xlabel = \"Number of Days since cut-off date\", ylabel = \"Stock price for \" + tick)\n",
        "    ax.legend((\"Real price for \"+ tick, \"Predicted price for \"+ tick), loc=\"upper left\")\n",
        "\n",
        "# Hide x labels and tick labels for top plots and y ticks for right plots.\n",
        "for ax in axs.flat:\n",
        "    ax.label_outer()"
      ]
    },
    {
      "cell_type": "code",
      "execution_count": null,
      "metadata": {
        "id": "KjCcyhWzqASW"
      },
      "outputs": [],
      "source": [
        "fig, axs = plt.subplots(2, 2, figsize=(21, 9))\n",
        "plt.suptitle(\"Results for LSTM forecasts\", fontsize=14)\n",
        "\n",
        "axs[0, 0].plot(finalData.iloc[15, TrainTestSplit:].to_list(), color = 'b')\n",
        "axs[0, 0].plot(predResults[15], color = 'k')\n",
        "axs[0, 0].set_title(\"Prediction results for \"+ tickers[15])\n",
        "\n",
        "axs[0, 1].plot(finalData.iloc[16, TrainTestSplit:].to_list(), 'tab:orange')\n",
        "axs[0, 1].plot(predResults[16], color = 'k')\n",
        "axs[0, 1].set_title(\"Prediction results for \"+ tickers[16])\n",
        "\n",
        "axs[1, 0].plot(finalData.iloc[17, TrainTestSplit:].to_list(), 'tab:green')\n",
        "axs[1, 0].plot(predResults[17], color = 'k')\n",
        "axs[1, 0].set_title(\"Prediction results for \"+ tickers[17])\n",
        "\n",
        "axs[1, 1].plot(finalData.iloc[18, TrainTestSplit:].to_list(), 'tab:red')\n",
        "axs[1, 1].plot(predResults[18], color = 'k')\n",
        "axs[1, 1].set_title(\"Prediction results for \"+ tickers[18])\n",
        "\n",
        "\n",
        "for ax, tick in zip(axs.flat, tickers):\n",
        "    ax.set(xlabel = \"Number of Days since cut-off date\", ylabel = \"Stock price for \" + tick)\n",
        "    ax.legend((\"Real price for \"+ tick, \"Predicted price for \"+ tick), loc=\"upper left\")\n",
        "\n",
        "# Hide x labels and tick labels for top plots and y ticks for right plots.\n",
        "for ax in axs.flat:\n",
        "    ax.label_outer()\n",
        "\n",
        "plt.show()"
      ]
    },
    {
      "cell_type": "code",
      "execution_count": null,
      "metadata": {
        "id": "l1_LFRSYqBAO"
      },
      "outputs": [],
      "source": [
        "fig, axs = plt.subplots(2, 2, figsize=(21, 9))\n",
        "plt.suptitle(\"Results for LSTM forecasts\", fontsize=14)\n",
        "\n",
        "axs[0, 0].plot(finalData.iloc[19, TrainTestSplit:].to_list(), color = 'b')\n",
        "axs[0, 0].plot(predResults[19], color = 'k')\n",
        "axs[0, 0].set_title(\"Prediction results for \"+ tickers[19])\n",
        "\n",
        "axs[0, 1].plot(finalData.iloc[20, TrainTestSplit:].to_list(), 'tab:orange')\n",
        "axs[0, 1].plot(predResults[20], color = 'k')\n",
        "axs[0, 1].set_title(\"Prediction results for \"+ tickers[20])\n",
        "\n",
        "axs[1, 0].plot(finalData.iloc[21, TrainTestSplit:].to_list(), 'tab:green')\n",
        "axs[1, 0].plot(predResults[21], color = 'k')\n",
        "axs[1, 0].set_title(\"Prediction results for \"+ tickers[21])\n",
        "\n",
        "axs[1, 1].plot(finalData.iloc[22, TrainTestSplit:].to_list(), 'tab:red')\n",
        "axs[1, 1].plot(predResults[22], color = 'k')\n",
        "axs[1, 1].set_title(\"Prediction results for \"+ tickers[22])\n",
        "\n",
        "\n",
        "for ax, tick in zip(axs.flat, tickers):\n",
        "    ax.set(xlabel = \"Number of Days since cut-off date\", ylabel = \"Stock price for \" + tick)\n",
        "    ax.legend((\"Real price for \"+ tick, \"Predicted price for \"+ tick), loc=\"upper left\")\n",
        "\n",
        "# Hide x labels and tick labels for top plots and y ticks for right plots.\n",
        "for ax in axs.flat:\n",
        "    ax.label_outer()"
      ]
    },
    {
      "cell_type": "code",
      "execution_count": null,
      "metadata": {
        "id": "r0IwPkwEqwNK"
      },
      "outputs": [],
      "source": [
        "fig, axs = plt.subplots(2, 2, figsize=(21, 9))\n",
        "plt.suptitle(\"Results for LSTM forecasts\", fontsize=14)\n",
        "\n",
        "axs[0, 0].plot(finalData.iloc[23, TrainTestSplit:].to_list(), color = 'b')\n",
        "axs[0, 0].plot(predResults[23], color = 'k')\n",
        "axs[0, 0].set_title(\"Prediction results for \"+ tickers[23])\n",
        "\n",
        "axs[0, 1].plot(finalData.iloc[24, TrainTestSplit:].to_list(), 'tab:orange')\n",
        "axs[0, 1].plot(predResults[24], color = 'k')\n",
        "axs[0, 1].set_title(\"Prediction results for \"+ tickers[24])\n",
        "\n",
        "axs[1, 0].plot(finalData.iloc[25, TrainTestSplit:].to_list(), 'tab:green')\n",
        "axs[1, 0].plot(predResults[25], color = 'k')\n",
        "axs[1, 0].set_title(\"Prediction results for \"+ tickers[25])\n",
        "\n",
        "for ax, tick in zip(axs.flat, tickers):\n",
        "    ax.set(xlabel = \"Number of Days since cut-off date\", ylabel = \"Stock price for \" + tick)\n",
        "    ax.legend((\"Real price for \"+ tick, \"Predicted price for \"+ tick), loc=\"upper left\")\n",
        "\n",
        "# Hide x labels and tick labels for top plots and y ticks for right plots.\n",
        "for ax in axs.flat:\n",
        "    ax.label_outer()"
      ]
    },
    {
      "cell_type": "markdown",
      "metadata": {
        "id": "T2AFr1ASroWe"
      },
      "source": [
        "### **Creating data for LSTM states**\n"
      ]
    },
    {
      "cell_type": "markdown",
      "source": [
        "As our LSTM model is reasonably performimg, we create training, testing and validation data for States represented by LSTM output."
      ],
      "metadata": {
        "id": "82_FNcHFPwW6"
      }
    },
    {
      "cell_type": "code",
      "execution_count": null,
      "metadata": {
        "id": "MXImFjjKqwar"
      },
      "outputs": [],
      "source": [
        "# We now predict based on testing sample using our LSTM model which serves as state space\n",
        "\n",
        "lstmData = []\n",
        "\n",
        "for i in range(len(finalData)):\n",
        "    intermediate = finalData.iloc[i,:].values\n",
        "    intermediate = intermediate.reshape(-1,1)\n",
        "    intermediate = scaler.fit_transform(intermediate)\n",
        "    lstmData.append(intermediate)\n",
        "\n",
        "lstmFeatures = []\n",
        "\n",
        "for i in range(len(tickers)):\n",
        "    predictions_scaled = stockModel.predict(lstmData[i])\n",
        "    predictions = scaler.fit(np.expand_dims(finalData.iloc[i, TrainTestSplit:], 1)).inverse_transform(predictions_scaled)\n",
        "    lstmFeatures.append(predictions)"
      ]
    },
    {
      "cell_type": "code",
      "execution_count": null,
      "metadata": {
        "id": "KaG43Gpqqwdb"
      },
      "outputs": [],
      "source": [
        "ticlist = list(tech_ind_data['tic'].unique())"
      ]
    },
    {
      "cell_type": "code",
      "execution_count": null,
      "metadata": {
        "id": "UIHuiSqbqwgr"
      },
      "outputs": [],
      "source": [
        "lstmFeaturesDF = pd.DataFrame()\n",
        "lstmFeaturesDF['date'] = tech_ind_data['date']\n",
        "lstmFeaturesDF['tic'] = tech_ind_data['tic']\n",
        "lstmFeaturesDF['close'] = tech_ind_data['close']\n",
        "lstmFeaturesDF['fcst'] = 0\n",
        "lstmFeaturesDF = lstmFeaturesDF.sort_values(by=['tic','date'])\n",
        "\n",
        "for i in range(len(lstmFeatures)):\n",
        "  lstmFeaturesDF.loc[lstmFeaturesDF['tic']==ticlist[i], \"fcst\"]= list(lstmFeatures[i].squeeze())"
      ]
    },
    {
      "cell_type": "code",
      "execution_count": null,
      "metadata": {
        "id": "TRepRuN2sSW_"
      },
      "outputs": [],
      "source": [
        "lstmFeaturesDF = lstmFeaturesDF.sort_values(by=['date','tic'])"
      ]
    },
    {
      "cell_type": "markdown",
      "source": [
        "We visualize the state space data created using our LSTM model."
      ],
      "metadata": {
        "id": "rUnh1gETQQgm"
      }
    },
    {
      "cell_type": "code",
      "execution_count": null,
      "metadata": {
        "id": "GnT7t2PHsSmF"
      },
      "outputs": [],
      "source": [
        "lstmFeaturesDF"
      ]
    },
    {
      "cell_type": "markdown",
      "metadata": {
        "id": "Rc6epJfo_leB"
      },
      "source": [
        "### **Data for state representing Transformer forecasts**"
      ]
    },
    {
      "cell_type": "markdown",
      "metadata": {
        "id": "WdShV7c2bddk"
      },
      "source": [
        "We now create data for states representing predictions from our Transformer model. For we first create training data to train a Transformer model and then use this model to spew out our 'state' representation. We carry out this exercise in a separate notebook as the training requires GPU as opposed to CPU used here. We first import here the forecast data that we created from our transformer model in another notebook."
      ]
    },
    {
      "cell_type": "code",
      "execution_count": null,
      "metadata": {
        "id": "hFa2_Qmtdor5"
      },
      "outputs": [],
      "source": [
        "TransformerFcst = pd.read_csv(\"/content/TransformerFeaturesDF\", index_col=0)"
      ]
    },
    {
      "cell_type": "markdown",
      "source": [
        "We visualize the data imported for transformer state space."
      ],
      "metadata": {
        "id": "4mOBfZ2iQnwV"
      }
    },
    {
      "cell_type": "code",
      "execution_count": null,
      "metadata": {
        "id": "MoNMk1c_eOjr"
      },
      "outputs": [],
      "source": [
        "TransformerFcst"
      ]
    },
    {
      "cell_type": "markdown",
      "source": [
        "We now create the state space data for our transformer forecasts"
      ],
      "metadata": {
        "id": "HbBOGT4hQv66"
      }
    },
    {
      "cell_type": "code",
      "execution_count": null,
      "metadata": {
        "id": "tCeLVrnxepFr"
      },
      "outputs": [],
      "source": [
        "TransformerFeaturesDF = lstmFeaturesDF.copy()\n",
        "\n",
        "for tick in tickers_wo_cash :\n",
        "  TransformerFeaturesDF[TransformerFeaturesDF['tic']==tick][\"fcst\"] = list(TransformerFcst[tick].squeeze())"
      ]
    },
    {
      "cell_type": "markdown",
      "source": [
        "We view the final output for transformer data here"
      ],
      "metadata": {
        "id": "uOtiP8_LQ22N"
      }
    },
    {
      "cell_type": "code",
      "execution_count": null,
      "metadata": {
        "id": "kDewJWBdhuQn"
      },
      "outputs": [],
      "source": [
        "TransformerFeaturesDF.head()"
      ]
    },
    {
      "cell_type": "markdown",
      "metadata": {
        "id": "wX2GpAwPs5_Y"
      },
      "source": [
        "### **Creating training, testing and validation data for all 'states' of RL agents**"
      ]
    },
    {
      "cell_type": "code",
      "execution_count": null,
      "metadata": {
        "id": "zbSh6h-nstOs"
      },
      "outputs": [],
      "source": [
        "# Split the whole dataset\n",
        "\n",
        "train_data_ti = data_split(tech_ind_data,  train_start_date, train_end_date)\n",
        "test_data_ti  = data_split(tech_ind_data,  test_start_date,  test_end_date)\n",
        "valid_data_ti = data_split(tech_ind_data,  valid_start_date, valid_end_date)\n",
        "\n",
        "train_data_ret = data_split(return_lags_data,  train_start_date, train_end_date)\n",
        "test_data_ret  = data_split(return_lags_data,  test_start_date,  test_end_date)\n",
        "valid_data_ret = data_split(return_lags_data,  valid_start_date, valid_end_date)\n",
        "\n",
        "train_data_lstm = data_split(lstmFeaturesDF,  train_start_date, train_end_date)\n",
        "test_data_lstm  = data_split(lstmFeaturesDF,  test_start_date,  test_end_date)\n",
        "valid_data_lstm = data_split(lstmFeaturesDF,  valid_start_date, valid_end_date)\n",
        "\n",
        "train_data_transformer = data_split(TransformerFeaturesDF,  train_start_date, train_end_date)\n",
        "test_data_transformer  = data_split(TransformerFeaturesDF,  test_start_date,  test_end_date)\n",
        "valid_data_transformer = data_split(TransformerFeaturesDF,  valid_start_date, valid_end_date)\n",
        "\n",
        "# Split the Close Prices dataset\n",
        "prices_train_data =  price_data[price_data['date']<=train_end_date].reset_index(drop=True).set_index(['date'])\n",
        "prices_test_data  =  price_data[(price_data['date']>=test_start_date) & (price_data['date']<=test_end_date)].reset_index(drop=True).set_index(['date'])\n",
        "prices_valid_data =  price_data[price_data['date']>=valid_start_date].reset_index(drop=True).set_index(['date'])"
      ]
    },
    {
      "cell_type": "markdown",
      "source": [
        "## **Section 6: Analysing correlations and regime changes in time series data of closing prices**\n"
      ],
      "metadata": {
        "id": "SJkRRu6qRJR3"
      }
    },
    {
      "cell_type": "markdown",
      "source": [
        "We analyse correlations and regime changes in our time series data as this provided explanatory background and context for the observed portfolio performances."
      ],
      "metadata": {
        "id": "rZuOiI2tRlNB"
      }
    },
    {
      "cell_type": "markdown",
      "metadata": {
        "id": "Hq2-4I_AspeY"
      },
      "source": [
        "### **Reviewing correlations of returns from our closing price data of the chosen tickers**\n"
      ]
    },
    {
      "cell_type": "code",
      "execution_count": null,
      "metadata": {
        "id": "PCq6kGZ8qpUP"
      },
      "outputs": [],
      "source": [
        "cov_matrix=price_data[tickers_wo_cash].pct_change().dropna().cov()*np.sqrt(252)*100\n",
        "plt.figure(figsize=(21, 9))\n",
        "sns.heatmap(cov_matrix, cmap='YlOrBr', annot=True, fmt=\".2f\", linewidths=.5)\n",
        "plt.title('Covariance Heatmap')\n",
        "plt.show()"
      ]
    },
    {
      "cell_type": "code",
      "execution_count": null,
      "metadata": {
        "id": "xTgbyyAdqzym"
      },
      "outputs": [],
      "source": [
        "# We view the correlation heatmap for the final selected tickers.\n",
        "np.set_printoptions(formatter={'float': '{: 0.2f}'.format})\n",
        "\n",
        "plt.figure(figsize=(21, 9))\n",
        "mask = np.triu(np.ones_like(price_data[tickers_wo_cash].pct_change().dropna().corr(), dtype=np.bool_))\n",
        "heatmap = sns.heatmap(price_data[tickers_wo_cash].pct_change().dropna().corr(), mask=mask, cmap='Blues', vmin=-.01, vmax=1, annot=True)\n",
        "heatmap.set_title('Correlation Matrix for chosen tickers', fontdict={'fontsize':12}, pad=12);"
      ]
    },
    {
      "cell_type": "markdown",
      "metadata": {
        "id": "PZUxSCkc9qba"
      },
      "source": [
        "### **Analysing regimes in the data (using NIFTY 50 as the proxy)**"
      ]
    },
    {
      "cell_type": "markdown",
      "source": [
        "We analyse the regimes in Nifty 50 data as it is a good proxy for our chosen tickers. We use the HMM model to determine the various regimes. As this is a stock price index data, the regimes correspond to bullish, bearish and stagnant regimes,"
      ],
      "metadata": {
        "id": "8GlBlVcHXkwa"
      }
    },
    {
      "cell_type": "code",
      "execution_count": null,
      "metadata": {
        "id": "YAjGfM0hnDGK"
      },
      "outputs": [],
      "source": [
        "# We define and extract the Nifty 50 data from yf\n",
        "\n",
        "nifty_returns = pd.DataFrame()\n",
        "nifty_prices = pd.DataFrame()\n",
        "nifty_regime = pd.DataFrame()\n",
        "nifty_prices[\"Close price\"] = yf.download(\"^NSEI\", start=START_DATE, end=END_DATE)['Close'][1:]\n",
        "nifty_returns[\"nifty_return\"] = yf.download(\"^NSEI\", start=START_DATE, end=END_DATE)['Close'].pct_change()\n",
        "nifty_regime[\"Price\"] = nifty_prices[\"Close price\"]\n",
        "nifty_regime[\"Return\"] = nifty_returns[\"nifty_return\"]"
      ]
    },
    {
      "cell_type": "code",
      "execution_count": null,
      "metadata": {
        "id": "ZnUNGtB1pzba"
      },
      "outputs": [],
      "source": [
        "# We define the hmm model to determine the regimes.\n",
        "\n",
        "model = hmm.GaussianHMM(n_components=3, covariance_type=\"full\", n_iter=10000000)"
      ]
    },
    {
      "cell_type": "code",
      "execution_count": null,
      "metadata": {
        "id": "PHDKgQiMIpHG"
      },
      "outputs": [],
      "source": [
        "# We calculate the difference in closing prices to input into hmm model\n",
        "\n",
        "nifty_regime['diff'] = nifty_regime['Price'].diff()\n",
        "nifty_regime['States'] = nifty_regime['diff'].apply(lambda x: 1 if x > 0 else 0)"
      ]
    },
    {
      "cell_type": "code",
      "execution_count": null,
      "metadata": {
        "id": "rUizqSkCI2hC"
      },
      "outputs": [],
      "source": [
        "# Dropping any null values\n",
        "\n",
        "nifty_regime = nifty_regime.dropna()"
      ]
    },
    {
      "cell_type": "code",
      "execution_count": null,
      "metadata": {
        "id": "lVSMiDk_G6wM"
      },
      "outputs": [],
      "source": [
        "# We fit the hmm model with the data created above\n",
        "model.fit(nifty_regime[\"diff\"].to_frame())"
      ]
    },
    {
      "cell_type": "code",
      "execution_count": null,
      "metadata": {
        "id": "x853wn4qrf6i"
      },
      "outputs": [],
      "source": [
        "# We use the model to predict the regimes\n",
        "\n",
        "nifty_regime['Regime'] = model.predict(nifty_regime[\"diff\"].to_frame())"
      ]
    },
    {
      "cell_type": "code",
      "execution_count": null,
      "metadata": {
        "id": "fVDNhsrYrf-K"
      },
      "outputs": [],
      "source": [
        "means = nifty_regime.groupby(['Regime'])['diff'].mean();\n",
        "lst_1 = means.index.tolist();\n",
        "lst_2 = means.sort_values().index.tolist();\n",
        "map_regimes = dict(zip(lst_2, lst_1));\n",
        "nifty_regime['Regime'] = nifty_regime['Regime'].map(map_regimes);\n"
      ]
    },
    {
      "cell_type": "code",
      "execution_count": null,
      "metadata": {
        "id": "CfJShXCUrgCt"
      },
      "outputs": [],
      "source": [
        "%matplotlib inline\n",
        "# We plot the regimes against the time series data\n",
        "\n",
        "fig, ax = plt.subplots(figsize=(20,8));\n",
        "ax.plot(nifty_regime['Price']);\n",
        "cmap = ListedColormap(['r','b','g'],'indexed');\n",
        "norm = BoundaryNorm(range(3 + 1), cmap.N);\n",
        "inxval = mdates.date2num(nifty_regime['Price'].index.to_pydatetime());\n",
        "points = np.array([inxval, nifty_regime['Price']]).T.reshape(-1, 1, 2);\n",
        "segments = np.concatenate([points[:-1], points[1:]], axis=1);\n",
        "lc = LineCollection(segments, cmap=cmap, norm=norm);\n",
        "55\n",
        "lc.set_array(nifty_regime['Regime']);\n",
        "plt.gca().add_collection(lc);\n",
        "plt.xlim(nifty_regime['Price'].index.min(), nifty_regime['Price'].index.max());\n",
        "plt.ylim(nifty_regime['Price'].min(), nifty_regime['Price'].max());\n",
        "r_patch = mpatches.Patch(color='red', label='Bear');\n",
        "g_patch = mpatches.Patch(color='green', label='Bull');\n",
        "b_patch = mpatches.Patch(color='blue', label='Stagnant');\n",
        "plt.legend(handles=[r_patch, g_patch, b_patch]);\n",
        "plt.title(\"Identifying bullish, bearish and stagnant phases in Nifty Index\",  fontsize=30)\n",
        "plt.xlabel(\"Time period (Years - Months)\")\n",
        "plt.ylabel(\"Nifty Index Level\")\n",
        "plt.show();"
      ]
    },
    {
      "cell_type": "markdown",
      "metadata": {
        "id": "0fMAiP-sLJlF"
      },
      "source": [
        "<hr style='border:2px solid black'>"
      ]
    },
    {
      "cell_type": "markdown",
      "metadata": {
        "id": "CWyP-1IJU4XV"
      },
      "source": [
        "## **Section 7: Training and testing of traditional and RL agents**\n"
      ]
    },
    {
      "cell_type": "markdown",
      "metadata": {
        "id": "si9EXyTxv6vM"
      },
      "source": [
        "In this section, we train and test all our approaches/agents with the training and testing data that we had created earlier."
      ]
    },
    {
      "cell_type": "code",
      "execution_count": null,
      "metadata": {
        "id": "Nx_sAej6KEB0"
      },
      "outputs": [],
      "source": [
        "Strategy_Returns_Data_trg = pd.DataFrame()\n",
        "Strategy_Returns_Data_trg.index = prices_train_data.index[2:]\n",
        "\n",
        "Strategy_Returns_Data_test = pd.DataFrame()\n",
        "Strategy_Returns_Data_test.index = prices_test_data.index[2:]\n",
        "cut_off_date = Strategy_Returns_Data_test.index[0]"
      ]
    },
    {
      "cell_type": "code",
      "execution_count": null,
      "metadata": {
        "id": "9nWfDquF_Ogb"
      },
      "outputs": [],
      "source": [
        "returns_train_data = prices_train_data[tickers_wo_cash].pct_change().dropna()\n",
        "returns_test_data  = prices_test_data[tickers_wo_cash].pct_change().dropna()\n",
        "initial_capital    = 100"
      ]
    },
    {
      "cell_type": "markdown",
      "metadata": {
        "id": "dlHUjaoAp5Tg"
      },
      "source": [
        "## **A. Markowitz Mean-Variance Approach**\n"
      ]
    },
    {
      "cell_type": "code",
      "execution_count": null,
      "metadata": {
        "id": "KuH1kVIwpzr6"
      },
      "outputs": [],
      "source": [
        "# We determine the weights based on the training data\n",
        "\n",
        "cov_matrix_markow = risk_models.CovarianceShrinkage(prices_train_data[tickers_wo_cash]).ledoit_wolf()\n",
        "ef = EfficientFrontier(None, cov_matrix_markow, weight_bounds=(0, 1))\n",
        "ef.min_volatility()\n",
        "weights_markow = ef.clean_weights()"
      ]
    },
    {
      "cell_type": "code",
      "execution_count": null,
      "metadata": {
        "id": "DqKLCV7ip8j_",
        "colab": {
          "base_uri": "https://localhost:8080/",
          "height": 863
        },
        "outputId": "a64c44a1-b202-4b5b-c79a-0777d795ab5e"
      },
      "outputs": [
        {
          "output_type": "display_data",
          "data": {
            "text/plain": [
              "<Figure size 2100x900 with 1 Axes>"
            ],
            "image/png": "[encoded data removed]"
          },
          "metadata": {}
        }
      ],
      "source": [
        "# Plot the weights\n",
        "plt.figure(figsize=(21, 9))\n",
        "bar = plt.bar(weights_markow.keys(), weights_markow.values(), color='skyblue')\n",
        "plt.xlabel(\"Tickers\")\n",
        "plt.xticks(tickers_wo_cash)\n",
        "plt.ylabel(\"Optimized Weights\")\n",
        "plt.title(\"Weights from Markowitz Optimization\")\n",
        "plt.bar_label(bar, labels=[f'{x*100:,.4f}' for x in bar.datavalues])\n",
        "plt.xticks(rotation=90)\n",
        "plt.show()"
      ]
    },
    {
      "cell_type": "code",
      "execution_count": null,
      "metadata": {
        "id": "K0xmwB7rp8mz"
      },
      "outputs": [],
      "source": [
        "%matplotlib inline\n",
        "\n",
        "capital = initial_capital\n",
        "capital_before_tc = initial_capital\n",
        "old_capital = initial_capital\n",
        "portfolio_values = []\n",
        "portfolio_returns = []\n",
        "\n",
        "for t in range(1, len(returns_train_data)):\n",
        "    # Calculate portfolio returns based on the weighted sum of security returns\n",
        "    portfolio_return = np.dot(np.array(list(weights_markow.values())), returns_train_data.iloc[t].values)\n",
        "\n",
        "    # Update portfolio value\n",
        "    capital_before_tc *= (1 + portfolio_return)\n",
        "    tcost = transaction_cost * abs(capital_before_tc - old_capital)/old_capital\n",
        "    capital *= (1 + portfolio_return - tcost)\n",
        "    portfolio_values.append(capital)\n",
        "    portfolio_returns.append(portfolio_return)\n",
        "    old_capital = capital\n",
        "\n",
        "# Plot the portfolio value over time\n",
        "plt.figure(figsize=(21, 9))\n",
        "plt.plot(list(returns_train_data.index[1:]), portfolio_values, label=\"Markowitz Portfolio\", color=\"blue\")\n",
        "plt.title(\"Portfolio Performance Based on Markowitz optimization - Training Data\")\n",
        "plt.xlabel(\"Time\")\n",
        "plt.ylabel(\"Portfolio Value\")\n",
        "plt.legend()\n",
        "plt.show()\n",
        "\n",
        "Strategy_Returns_Data_trg[\"return_markow\"] = portfolio_returns\n",
        "# Calculate performance metrics\n",
        "final_value_trg_markow = capital\n",
        "total_return_trg_markow = final_value_trg_markow - initial_capital\n",
        "sharpe_ratio_trg_markow = np.mean(portfolio_returns) / np.std(portfolio_returns)*np.sqrt(252)\n",
        "annualized_return_trg_markow = (final_value_trg_markow / initial_capital) ** (1 / (len(returns_train_data) / 252)) - 1  # Assuming daily returns (252 trading days)\n",
        "maxdraw_trg_markow = getMaxDrawdown(pd.DataFrame(portfolio_values), 252)[1].min().values[0]*100\n",
        "\n",
        "print(f\"Final Portfolio Value: {final_value_trg_markow:.2f}\")\n",
        "print(f\"Total Return: {total_return_trg_markow:.2f}\")\n",
        "print(f\"Annualized Return: {annualized_return_trg_markow*100 :.2f}%\")\n",
        "print(f\"Sharpe Ratio: {sharpe_ratio_trg_markow:.4f}\")\n",
        "print(f\"Maximum Drawdown (%): {maxdraw_trg_markow:.4f}\")"
      ]
    },
    {
      "cell_type": "code",
      "execution_count": null,
      "metadata": {
        "id": "JyVAinZ5p8qM"
      },
      "outputs": [],
      "source": [
        "capital = initial_capital\n",
        "capital_before_tc = initial_capital\n",
        "old_capital = initial_capital\n",
        "portfolio_values = []\n",
        "portfolio_returns = []\n",
        "\n",
        "\n",
        "for t in range(1, len(returns_test_data)):\n",
        "    # Calculate portfolio returns based on the weighted sum of security returns\n",
        "    portfolio_return = np.dot(np.array(list(weights_markow.values())), returns_test_data.iloc[t].values)\n",
        "\n",
        "    # Update portfolio value\n",
        "    capital_before_tc *= (1 + portfolio_return)\n",
        "    tcost = transaction_cost * abs(capital_before_tc - old_capital)/old_capital\n",
        "    capital *= (1 + portfolio_return - tcost)\n",
        "    portfolio_values.append(capital)\n",
        "    portfolio_returns.append(portfolio_return)\n",
        "    old_capital = capital\n",
        "\n",
        "# Plot the portfolio value over time\n",
        "plt.figure(figsize=(21, 9))\n",
        "plt.plot(returns_test_data.index[1:], portfolio_values, label=\"Markowitz Portfolio\", color=\"green\")\n",
        "plt.title(\"Portfolio Performance Based on Markowitz optimization - Testing Data\")\n",
        "plt.xlabel(\"Time\")\n",
        "plt.ylabel(\"Portfolio Value\")\n",
        "plt.legend()\n",
        "plt.show()\n",
        "\n",
        "Strategy_Returns_Data_test[\"return_markow\"] = portfolio_returns\n",
        "\n",
        "# Calculate performance metrics\n",
        "returns_test_markow = pd.DataFrame(portfolio_returns)\n",
        "final_value_test_markow = capital\n",
        "total_return_test_markow = final_value_test_markow - initial_capital\n",
        "sharpe_ratio_test_markow = np.mean(portfolio_returns) / np.std(portfolio_returns)*np.sqrt(252)\n",
        "annualized_return_test_markow = (final_value_test_markow / initial_capital) ** (1 / (len(returns_test_data) / 252)) - 1  # Assuming daily returns (252 trading days)\n",
        "maxdraw_test_markow = getMaxDrawdown(pd.DataFrame(portfolio_values), 252)[1].min().values[0]*100\n",
        "\n",
        "print(f\"Final Portfolio Value: {final_value_test_markow:.2f}\")\n",
        "print(f\"Total Return: {total_return_test_markow:.2f}\")\n",
        "print(f\"Annualized Return: {annualized_return_test_markow * 100:.2f}%\")\n",
        "print(f\"Sharpe Ratio: {sharpe_ratio_test_markow:.4f}\")\n",
        "print(f\"Maximum draw down(%): {maxdraw_test_markow:.4f}\")"
      ]
    },
    {
      "cell_type": "markdown",
      "metadata": {
        "id": "KEe0ob7NuImA"
      },
      "source": [
        "## **B. Kelly's Criterion for Portfolio Optimization**"
      ]
    },
    {
      "cell_type": "code",
      "execution_count": null,
      "metadata": {
        "id": "ZylL8s6auQhF"
      },
      "outputs": [],
      "source": [
        "# We determine the weights as per Kelly's criteria\n",
        "\n",
        "variances = returns_train_data.var()  # Variance of returns\n",
        "expected_returns = returns_train_data.mean()\n",
        "# Step 2: Calculate Kelly Criterion for each security\n",
        "kelly_fractions = expected_returns / variances\n",
        "kelly_fractions_normalized = kelly_fractions / kelly_fractions.sum()\n",
        "weights_kelly = kelly_fractions_normalized"
      ]
    },
    {
      "cell_type": "code",
      "execution_count": null,
      "metadata": {
        "id": "ETq2H6AZuKrw"
      },
      "outputs": [],
      "source": [
        "# Plot the weights\n",
        "plt.figure(figsize=(21, 9))\n",
        "bar = plt.bar(list(weights_kelly.index), list(weights_kelly), color='skyblue')\n",
        "plt.xlabel(\"Tickers\")\n",
        "plt.xticks(list(weights_kelly.index))\n",
        "plt.ylabel(\"Optimized Weights\")\n",
        "plt.title(\"Weights from Kelly Criterion\")\n",
        "plt.bar_label(bar, labels=[f'{x*100:,.4f}' for x in bar.datavalues])\n",
        "plt.xticks(rotation=90)\n",
        "plt.show()"
      ]
    },
    {
      "cell_type": "code",
      "execution_count": null,
      "metadata": {
        "id": "aCN6G0MvuLBa"
      },
      "outputs": [],
      "source": [
        "capital = initial_capital\n",
        "capital_before_tc = initial_capital\n",
        "old_capital = initial_capital\n",
        "portfolio_values = []\n",
        "portfolio_returns = []\n",
        "\n",
        "for t in range(1, len(returns_train_data)):\n",
        "    # Calculate portfolio returns based on the weighted sum of security returns\n",
        "    portfolio_return = np.dot(weights_kelly, returns_train_data.iloc[t].values)\n",
        "\n",
        "    # Update portfolio value\n",
        "    capital_before_tc *= (1 + portfolio_return)\n",
        "    tcost = transaction_cost * abs(capital_before_tc - old_capital)/old_capital\n",
        "    capital *= (1 + portfolio_return - tcost)\n",
        "    portfolio_values.append(capital)\n",
        "    portfolio_returns.append(portfolio_return)\n",
        "    old_capital = capital\n",
        "\n",
        "# Plot the portfolio value over time\n",
        "plt.figure(figsize=(21, 9))\n",
        "plt.plot(returns_train_data.index[1:], portfolio_values, label=\"Kelly Criterion Portfolio\", color=\"blue\")\n",
        "plt.title(\"Portfolio Performance based on Kelly Criterion - Training Data\")\n",
        "plt.xlabel(\"Time\")\n",
        "plt.ylabel(\"Portfolio Value\")\n",
        "plt.legend()\n",
        "plt.show()\n",
        "\n",
        "Strategy_Returns_Data_trg[\"return_kelly\"] = portfolio_returns\n",
        "\n",
        "# Calculate performance metrics\n",
        "final_value_trg_kelly = capital\n",
        "total_return_trg_kelly = final_value_trg_kelly - initial_capital\n",
        "sharpe_ratio_trg_kelly = np.mean(portfolio_returns) / np.std(portfolio_returns)*np.sqrt(252)\n",
        "annualized_return_trg_kelly = (final_value_trg_kelly / initial_capital) ** (1 / (len(returns_train_data) / 252)) - 1  # Assuming daily returns (252 trading days)\n",
        "maxdraw_trg_kelly = getMaxDrawdown(pd.DataFrame(portfolio_values), 252)[1].min().values[0]*100\n",
        "\n",
        "print(f\"Final Portfolio Value: {final_value_trg_kelly:.2f}\")\n",
        "print(f\"Total Return: {total_return_trg_kelly:.2f}\")\n",
        "print(f\"Annualized Return: {annualized_return_trg_kelly * 100:.2f}%\")\n",
        "print(f\"Sharpe Ratio: {sharpe_ratio_trg_kelly:.4f}\")\n",
        "print(f\"Maximum draw down(%): {maxdraw_trg_kelly:.4f}\")"
      ]
    },
    {
      "cell_type": "code",
      "execution_count": null,
      "metadata": {
        "id": "jvgYhXoOuLE3"
      },
      "outputs": [],
      "source": [
        "capital = initial_capital\n",
        "capital_before_tc = initial_capital\n",
        "old_capital = initial_capital\n",
        "portfolio_values = []\n",
        "portfolio_returns = []\n",
        "\n",
        "for t in range(1, len(returns_test_data)):\n",
        "    # Calculate portfolio returns based on the weighted sum of security returns\n",
        "    portfolio_return = np.dot(weights_kelly, returns_test_data.iloc[t].values)\n",
        "\n",
        "    # Update portfolio value\n",
        "    capital_before_tc *= (1 + portfolio_return)\n",
        "    tcost = transaction_cost * abs(capital_before_tc - old_capital)/old_capital\n",
        "    capital *= (1 + portfolio_return - tcost)\n",
        "    portfolio_values.append(capital)\n",
        "    portfolio_returns.append(portfolio_return)\n",
        "    old_capital = capital\n",
        "\n",
        "# Plot the portfolio value over time\n",
        "plt.figure(figsize=(21, 9))\n",
        "plt.plot(returns_test_data.index[1:], portfolio_values, label=\"Kelly Criterion Portfolio\", color=\"green\")\n",
        "plt.title(\"Portfolio Performance based on Kelly Criterion - Testing Data\")\n",
        "plt.xlabel(\"Time\")\n",
        "plt.ylabel(\"Portfolio Value\")\n",
        "plt.legend()\n",
        "plt.show()\n",
        "\n",
        "Strategy_Returns_Data_test[\"return_kelly\"] = portfolio_returns\n",
        "\n",
        "\n",
        "# Calculate performance metrics\n",
        "final_value_test_kelly = capital\n",
        "total_return_test_kelly = final_value_test_kelly - initial_capital\n",
        "sharpe_ratio_test_kelly = np.mean(portfolio_returns) / np.std(portfolio_returns)*np.sqrt(252)\n",
        "annualized_return_test_kelly = (final_value_test_kelly / initial_capital) ** (1 / (len(returns_test_data) / 252)) - 1  # Assuming daily returns (252 trading days)\n",
        "maxdraw_test_kelly = getMaxDrawdown(pd.DataFrame(portfolio_values), 252)[1].min().values[0]*100\n",
        "\n",
        "print(f\"Final Portfolio Value: {final_value_test_kelly:.2f}\")\n",
        "print(f\"Total Return: {total_return_test_kelly:.2f}\")\n",
        "print(f\"Annualized Return: {annualized_return_test_kelly * 100:.2f}%\")\n",
        "print(f\"Sharpe Ratio: {sharpe_ratio_test_kelly:.4f}\")\n",
        "print(f\"Maximum draw down(%): {maxdraw_test_kelly:.4f}\")"
      ]
    },
    {
      "cell_type": "markdown",
      "metadata": {
        "id": "zmK0LBNLG_zX"
      },
      "source": [
        "## **C. De Prado's Denoising Approach**"
      ]
    },
    {
      "cell_type": "code",
      "execution_count": null,
      "metadata": {
        "id": "R2PbeoWMuLG6"
      },
      "outputs": [],
      "source": [
        "N = returns_train_data.shape[1]\n",
        "T = returns_train_data.shape[0]\n",
        "x = returns_train_data.copy()\n",
        "# code snippet 2.2 - marcenko-pastur pdf explains eigenvalues of random matrix x\n",
        "cor = np.corrcoef(x, rowvar=0) # cor.shape = (1000,1000). If rowvar=1 - row represents a var, with observations in the columns.\n",
        "eVal0 , eVec0 = getPCA( cor )\n",
        "pdf0 = mpPDF(1., q=x.shape[0]/float(x.shape[1]), pts=N)\n",
        "pdf1 = fitKDE(np.diag(eVal0), bWidth=.005) #empirical pdf\n",
        "\n",
        "# code snippet 2.3 - random matrix with signal\n",
        "alpha, nCols, nFact, q = .995, N, 100, 10\n",
        "pdf0 = mpPDF(1., q=x.shape[0]/float(x.shape[1]), pts=N)\n",
        "cov = np.cov(np.random.normal(size=(nCols*q, nCols)), rowvar=0) #size = (1000*10,1000)\n",
        "cov = alpha*cov+(1-alpha)*getRndCov(nCols, nFact) # noise + signal\n",
        "corr0 = cov2corr(cov)\n",
        "eVal01, eVec01 = getPCA(corr0)\n",
        "#pdf2 = fitKDE(np.diag(eVal01), bWidth=.15) #empirical pdf\n",
        "\n",
        "# Figure 2.1 Plot empirical:KDE and Marcenko-Pastur, and histogram\n",
        "fig = plt.figure()\n",
        "ax  = fig.add_subplot(111)\n",
        "ax.hist(np.diag(eVal01), density = True, bins=50) # Histogram the eigenvalues\n",
        "\n",
        "eMax0, var0 = findMaxEval(np.diag(eVal01), q, bWidth=.01)\n",
        "nFacts0 = eVal01.shape[0]-np.diag(eVal01)[::-1].searchsorted(eMax0)\n",
        "\n",
        "#code snippet 2.3 - with random matrix with signal\n",
        "######################\n",
        "# Figure 2.1 Plot empirical:KDE and Marcenko-Pastur, and histogram\n",
        "pdf0 = mpPDF(var0, q=x.shape[0]/float(x.shape[1]), pts=N)\n",
        "fig = plt.figure()\n",
        "ax  = fig.add_subplot(111)\n",
        "ax.hist(np.diag(eVal01), density = True, bins=50) # Histogram the eigenvalues\n",
        "\n",
        "plt.plot(pdf0.keys(), pdf0, color='r', label=\"Marcenko-Pastur pdf\")\n",
        "#plt.plot(pdf1.keys(), pdf1, color='g', label=\"Empirical:KDE\")\n",
        "#plt.plot(x_range, pdf2, color='b', label=\"Eigenvalues of random-matrix with signal\")\n",
        "plt.legend(loc=\"upper right\")\n",
        "plt.show()\n",
        "######################"
      ]
    },
    {
      "cell_type": "code",
      "execution_count": null,
      "metadata": {
        "id": "N1LiQCrjuLJw"
      },
      "outputs": [],
      "source": [
        "# code snippet 2.5 - denoising by constant residual eigenvalue\n",
        "corr1 = denoisedCorr(eVal01, eVec01, nFacts0)\n",
        "eVal1, eVec1 = getPCA(corr1)\n",
        "\n",
        "denoised_eigenvalue = np.diag(eVal1)\n",
        "eigenvalue_prior = np.diag(eVal01)\n",
        "plt.plot(range(0, len(denoised_eigenvalue)), np.log(denoised_eigenvalue), color='r', label=\"Denoised eigen-function\")\n",
        "plt.plot(range(0, len(eigenvalue_prior)), np.log(eigenvalue_prior), color='g', label=\"Original eigen-function\")\n",
        "plt.xlabel(\"Eigenvalue number\")\n",
        "plt.ylabel(\"Eigenvalue (log-scale)\")\n",
        "plt.legend(loc=\"upper right\")\n",
        "plt.show()\n",
        "\n",
        "corr_detoned_denoised = detoned_corr(corr1, eVal1, eVec1)\n",
        "\n",
        "eVal1_detoned, eVec1_detoned = getPCA(corr_detoned_denoised)\n",
        "detoned_denoised_eigenvalue = np.diag(eVal1_detoned)\n",
        "denoised_eigenvalue = np.diag(eVal1)\n",
        "eigenvalue_prior = np.diag(eVal01)\n",
        "\n",
        "plt.plot(range(0, len(detoned_denoised_eigenvalue)), np.log(detoned_denoised_eigenvalue), color='b', label=\"Detoned, denoised eigen-function\")\n",
        "plt.plot(range(0, len(denoised_eigenvalue)), np.log(denoised_eigenvalue), color='r', label=\"Denoised eigen-function\")\n",
        "plt.plot(range(0, len(eigenvalue_prior)), np.log(eigenvalue_prior), color='g', label=\"Original eigen-function\")\n",
        "plt.xlabel(\"Eigenvalue number\")\n",
        "plt.ylabel(\"Eigenvalue (log-scale)\")\n",
        "plt.legend(loc=\"upper right\")\n",
        "plt.show()"
      ]
    },
    {
      "cell_type": "code",
      "execution_count": null,
      "metadata": {
        "id": "iUmwTKHWuLNY"
      },
      "outputs": [],
      "source": [
        "std = np.sqrt(np.diag(returns_train_data.cov()))\n",
        "cov_denoised = corr2cov(corr1, std)\n",
        "weights_denoised = optPort(cov_denoised, returns_train_data.mean())"
      ]
    },
    {
      "cell_type": "code",
      "execution_count": null,
      "metadata": {
        "id": "fln6kodeJGCu"
      },
      "outputs": [],
      "source": [
        "capital = initial_capital\n",
        "capital_before_tc = initial_capital\n",
        "old_capital = initial_capital\n",
        "portfolio_values = []\n",
        "portfolio_returns = []\n",
        "\n",
        "for t in range(1, len(returns_train_data)):\n",
        "    # Calculate portfolio returns based on the weighted sum of security returns\n",
        "    portfolio_return = np.dot(weights_denoised, returns_train_data.iloc[t].values)\n",
        "\n",
        "    # Update portfolio value\n",
        "    capital_before_tc *= (1 + portfolio_return)\n",
        "    tcost = transaction_cost * abs(capital_before_tc - old_capital)/old_capital\n",
        "    capital *= (1 + portfolio_return - tcost)\n",
        "    portfolio_values.append(capital)\n",
        "    portfolio_returns.append(portfolio_return)\n",
        "    old_capital = capital\n",
        "\n",
        "# Plot the portfolio value over time\n",
        "plt.figure(figsize=(21, 9))\n",
        "plt.plot(returns_train_data.index[1:], portfolio_values, label=\"Denoised Portfolio\", color=\"blue\")\n",
        "plt.title(\"Portfolio Performance based on Denoising - Training Data\")\n",
        "plt.xlabel(\"Time\")\n",
        "plt.ylabel(\"Portfolio Value\")\n",
        "plt.legend()\n",
        "plt.show()\n",
        "\n",
        "Strategy_Returns_Data_trg[\"return_denoised\"] = portfolio_returns\n",
        "\n",
        "# Calculate performance metrics\n",
        "final_value_trg_denoised = capital\n",
        "total_return_trg_denoised = final_value_trg_denoised - initial_capital\n",
        "sharpe_ratio_trg_denoised = np.mean(portfolio_returns) / np.std(portfolio_returns)*np.sqrt(252)\n",
        "annualized_return_trg_denoised = (final_value_trg_denoised / initial_capital) ** (1 / (len(returns_train_data) / 252)) - 1  # Assuming daily returns (252 trading days)\n",
        "maxdraw_trg_denoised = getMaxDrawdown(pd.DataFrame(portfolio_values), 252)[1].min().values[0]*100\n",
        "\n",
        "print(f\"Final Portfolio Value: {final_value_trg_denoised:.2f}\")\n",
        "print(f\"Total Return: {total_return_trg_denoised:.2f}\")\n",
        "print(f\"Annualized Return: {annualized_return_trg_denoised * 100:.2f}%\")\n",
        "print(f\"Sharpe Ratio: {sharpe_ratio_trg_denoised:.4f}\")\n",
        "print(f\"Maximum draw down(%): {maxdraw_trg_denoised:.4f}\")"
      ]
    },
    {
      "cell_type": "code",
      "execution_count": null,
      "metadata": {
        "id": "QY7lw2BjMtuq"
      },
      "outputs": [],
      "source": [
        "capital = initial_capital\n",
        "capital_before_tc = initial_capital\n",
        "old_capital = initial_capital\n",
        "portfolio_values = []\n",
        "portfolio_returns = []\n",
        "\n",
        "for t in range(1, len(returns_test_data)):\n",
        "    # Calculate portfolio returns based on the weighted sum of security returns\n",
        "    portfolio_return = np.dot(weights_denoised, returns_test_data.iloc[t].values)\n",
        "\n",
        "    # Update portfolio value\n",
        "    capital_before_tc *= (1 + portfolio_return)\n",
        "    tcost = transaction_cost * abs(capital_before_tc - old_capital)/old_capital\n",
        "    capital *= (1 + portfolio_return - tcost)\n",
        "    portfolio_values.append(capital)\n",
        "    portfolio_returns.append(portfolio_return)\n",
        "    old_capital = capital\n",
        "\n",
        "# Plot the portfolio value over time\n",
        "plt.figure(figsize=(21, 9))\n",
        "plt.plot(returns_test_data.index[1:], portfolio_values, label=\"Denoised Portfolio\", color=\"green\")\n",
        "plt.title(\"Portfolio Performance based on Denoising - Testing Data\")\n",
        "plt.xlabel(\"Time\")\n",
        "plt.ylabel(\"Portfolio Value\")\n",
        "plt.legend()\n",
        "plt.show()\n",
        "\n",
        "Strategy_Returns_Data_test[\"return_denoised\"] = portfolio_returns\n",
        "\n",
        "# Calculate performance metrics\n",
        "final_value_test_denoised = capital\n",
        "total_return_test_denoised = final_value_test_denoised - initial_capital\n",
        "sharpe_ratio_test_denoised = np.mean(portfolio_returns) / np.std(portfolio_returns)*np.sqrt(252)\n",
        "annualized_return_test_denoised = (final_value_test_denoised / initial_capital) ** (1 / (len(returns_test_data) / 252)) - 1  # Assuming daily returns (252 trading days)\n",
        "maxdraw_test_denoised = getMaxDrawdown(pd.DataFrame(portfolio_values), 252)[1].min().values[0]*100\n",
        "\n",
        "print(f\"Final Portfolio Value: {final_value_test_denoised:.2f}\")\n",
        "print(f\"Total Return: {total_return_test_denoised:.2f}\")\n",
        "print(f\"Annualized Return: {annualized_return_test_denoised * 100:.2f}%\")\n",
        "print(f\"Sharpe Ratio: {sharpe_ratio_test_denoised:.4f}\")\n",
        "print(f\"Maximum draw down(%): {maxdraw_test_denoised:.4f}\")"
      ]
    },
    {
      "cell_type": "markdown",
      "metadata": {
        "id": "hlhk8uxBN9ur"
      },
      "source": [
        "## **D. Equal-weighted Approach**"
      ]
    },
    {
      "cell_type": "code",
      "execution_count": null,
      "metadata": {
        "id": "VN4FCpAvOMjs"
      },
      "outputs": [],
      "source": [
        "weights_eq = np.ones(len(tickers_wo_cash))/len(tickers_wo_cash)"
      ]
    },
    {
      "cell_type": "code",
      "execution_count": null,
      "metadata": {
        "id": "TcVrIHcKMtxQ"
      },
      "outputs": [],
      "source": [
        "capital = initial_capital\n",
        "capital_before_tc = initial_capital\n",
        "old_capital = initial_capital\n",
        "portfolio_values = []\n",
        "portfolio_returns = []\n",
        "\n",
        "for t in range(1, len(returns_train_data)):\n",
        "    # Calculate portfolio returns based on the weighted sum of security returns\n",
        "    portfolio_return = np.dot(weights_eq, returns_train_data.iloc[t].values)\n",
        "\n",
        "    # Update portfolio value\n",
        "    capital_before_tc *= (1 + portfolio_return)\n",
        "    tcost = transaction_cost * abs(capital_before_tc - old_capital)/old_capital\n",
        "    capital *= (1 + portfolio_return - tcost)\n",
        "    portfolio_values.append(capital)\n",
        "    portfolio_returns.append(portfolio_return)\n",
        "    old_capital = capital\n",
        "\n",
        "# Plot the portfolio value over time\n",
        "plt.figure(figsize=(21, 9))\n",
        "plt.plot(returns_train_data.index[1:], portfolio_values, label=\"Equal-weighted Portfolio\", color=\"blue\")\n",
        "plt.title(\"Portfolio Performance based on Equal weights - Training Data\")\n",
        "plt.xlabel(\"Time\")\n",
        "plt.ylabel(\"Portfolio Value\")\n",
        "plt.legend()\n",
        "plt.show()\n",
        "\n",
        "Strategy_Returns_Data_trg[\"return_eq\"] = portfolio_returns\n",
        "\n",
        "# Calculate performance metrics\n",
        "final_value_trg_eq = capital\n",
        "total_return_trg_eq = final_value_trg_eq - initial_capital\n",
        "sharpe_ratio_trg_eq = np.mean(portfolio_returns) / np.std(portfolio_returns)*np.sqrt(252)\n",
        "annualized_return_trg_eq = (final_value_trg_eq / initial_capital) ** (1 / (len(returns_train_data) / 252)) - 1  # Assuming daily returns (252 trading days)\n",
        "maxdraw_trg_eq = getMaxDrawdown(pd.DataFrame(portfolio_values), 252)[1].min().values[0]*100\n",
        "\n",
        "print(f\"Final Portfolio Value: {final_value_trg_eq:.2f}\")\n",
        "print(f\"Total Return: {total_return_trg_eq:.2f}\")\n",
        "print(f\"Annualized Return: {annualized_return_trg_eq * 100:.2f}%\")\n",
        "print(f\"Sharpe Ratio: {sharpe_ratio_trg_eq:.4f}\")\n",
        "print(f\"Maximum draw down(%): {maxdraw_trg_eq:.4f}\")"
      ]
    },
    {
      "cell_type": "code",
      "execution_count": null,
      "metadata": {
        "id": "IoBH8RG9Mt1g"
      },
      "outputs": [],
      "source": [
        "capital = initial_capital\n",
        "capital_before_tc = initial_capital\n",
        "old_capital = initial_capital\n",
        "portfolio_values = []\n",
        "portfolio_returns = []\n",
        "\n",
        "for t in range(1, len(returns_test_data)):\n",
        "    # Calculate portfolio returns based on the weighted sum of security returns\n",
        "    portfolio_return = np.dot(weights_eq, returns_test_data.iloc[t].values)\n",
        "\n",
        "    # Update portfolio value\n",
        "    capital_before_tc *= (1 + portfolio_return)\n",
        "    tcost = transaction_cost * abs(capital_before_tc - old_capital)/old_capital\n",
        "    capital *= (1 + portfolio_return - tcost)\n",
        "    portfolio_values.append(capital)\n",
        "    portfolio_returns.append(portfolio_return)\n",
        "    old_capital = capital\n",
        "\n",
        "# Plot the portfolio value over time\n",
        "plt.figure(figsize=(21, 8))\n",
        "plt.plot(returns_test_data.index[1:], portfolio_values, label=\"Equal-weighted Portfolio\", color=\"green\")\n",
        "plt.title(\"Portfolio Performance based on Equal weights - Testing Data\")\n",
        "plt.xlabel(\"Time\")\n",
        "plt.ylabel(\"Portfolio Value\")\n",
        "plt.legend()\n",
        "plt.show()\n",
        "\n",
        "Strategy_Returns_Data_test[\"return_eq\"] = portfolio_returns\n",
        "\n",
        "# Calculate performance metrics\n",
        "final_value_test_eq = capital\n",
        "total_return_test_eq = final_value_test_eq - initial_capital\n",
        "sharpe_ratio_test_eq = np.mean(portfolio_returns) / np.std(portfolio_returns)*np.sqrt(252)\n",
        "annualized_return_test_eq = (final_value_test_eq / initial_capital) ** (1 / (len(returns_test_data) / 252)) - 1  # Assuming daily returns (252 trading days)\n",
        "maxdraw_test_eq = getMaxDrawdown(pd.DataFrame(portfolio_values), 252)[1].min().values[0]*100\n",
        "\n",
        "print(f\"Final Portfolio Value: {final_value_test_eq:.2f}\")\n",
        "print(f\"Total Return: {total_return_test_eq:.2f}\")\n",
        "print(f\"Annualized Return: {annualized_return_test_eq * 100:.2f}%\")\n",
        "print(f\"Sharpe Ratio: {sharpe_ratio_test_eq:.4f}\")\n",
        "print(f\"Maximum draw down(%): {maxdraw_test_eq:.4f}\")"
      ]
    },
    {
      "cell_type": "markdown",
      "metadata": {
        "id": "KqPNFD7Cg_6G"
      },
      "source": [
        "## **E. A2C RL Model with TI as the state of the RL agent**"
      ]
    },
    {
      "cell_type": "code",
      "execution_count": null,
      "metadata": {
        "id": "rZH6LNUYq0-X"
      },
      "outputs": [],
      "source": [
        "stock_dimension = len(tickers)\n",
        "state_space = stock_dimension"
      ]
    },
    {
      "cell_type": "code",
      "execution_count": null,
      "metadata": {
        "id": "B-b1TeJzq1Fd"
      },
      "outputs": [],
      "source": [
        "env_kwargs = { \"hmax\": 500, \"initial_amount\": 1000000, \"transaction_cost_pct\": transaction_cost, \"state_space\": state_space,  \"stock_dim\": stock_dimension,  \"tech_indicator_list\": ti_abbreviations,\n",
        "    \"action_space\": stock_dimension,  \"reward_scaling\": 0, 'initial_weights': [1/stock_dimension]*stock_dimension}"
      ]
    },
    {
      "cell_type": "code",
      "execution_count": null,
      "metadata": {
        "id": "k8IkaPzVq1H4"
      },
      "outputs": [],
      "source": [
        "e_train_gym = StockPortfolioEnv(df = train_data_ti, **env_kwargs)"
      ]
    },
    {
      "cell_type": "code",
      "execution_count": null,
      "metadata": {
        "id": "SLuZtPGLq1KE"
      },
      "outputs": [],
      "source": [
        "env_train, _ = e_train_gym.get_sb_env()\n",
        "print(type(env_train))"
      ]
    },
    {
      "cell_type": "code",
      "execution_count": null,
      "metadata": {
        "id": "u-qnEVkVq1Ma"
      },
      "outputs": [],
      "source": [
        "# initialize\n",
        "agent = DRLAgent(env = env_train)\n",
        "model_a2c_ti = agent.get_model(model_name=\"a2c\",model_kwargs = A2C_PARAMS_TI)\n"
      ]
    },
    {
      "cell_type": "code",
      "execution_count": null,
      "metadata": {
        "id": "wExEiDV6q1O3"
      },
      "outputs": [],
      "source": [
        "trained_a2c_ti = agent.train_model(model=model_a2c_ti, tb_log_name='a2c', total_timesteps=total_timesteps_)\n",
        "DynaCAAST_Model['a2c_ti'] = trained_a2c_ti"
      ]
    },
    {
      "cell_type": "code",
      "execution_count": null,
      "metadata": {
        "id": "uxUCIgzCTu3l"
      },
      "outputs": [],
      "source": [
        "import time\n",
        "# A2C Train Model\n",
        "e_trade_gym = StockPortfolioEnv(df = train_data_ti, **env_kwargs)\n",
        "env_trade, obs_trade = e_trade_gym.get_sb_env()\n",
        "\n",
        "a2c_train_returns_ti, _ = DRLAgent.DRL_prediction(model=trained_a2c_ti, test_data = train_data_ti, test_env = env_trade, test_obs = obs_trade)"
      ]
    },
    {
      "cell_type": "code",
      "execution_count": null,
      "metadata": {
        "id": "fNRAkEgNTu6j"
      },
      "outputs": [],
      "source": [
        "capital = initial_capital\n",
        "portfolio_values = []\n",
        "portfolio_returns = []\n",
        "\n",
        "for i in range(1, len(a2c_train_returns_ti)):\n",
        "    # Calculate portfolio returns based on the weighted sum of security returns\n",
        "    portfolio_return = a2c_train_returns_ti['daily_return'].iloc[i]\n",
        "    capital *= (1 + portfolio_return)\n",
        "    portfolio_values.append(capital)\n",
        "    portfolio_returns.append(portfolio_return)\n",
        "\n",
        "# Plot the portfolio value over time\n",
        "plt.figure(figsize=(21, 9))\n",
        "plt.plot(returns_train_data.index[1:], portfolio_values, label=\"A2C TI Portfolio\", color=\"blue\")\n",
        "plt.title(\"Portfolio Performance based on A2C Algorithm with TI as the State - Training Data\")\n",
        "plt.xlabel(\"Time\")\n",
        "plt.ylabel(\"Portfolio Value\")\n",
        "plt.legend()\n",
        "plt.show()\n",
        "\n",
        "Strategy_Returns_Data_trg[\"return_a2c_ti\"] = portfolio_returns\n",
        "\n",
        "# Calculate performance metrics\n",
        "final_value_trg_a2c_ti = capital\n",
        "total_return_trg_a2c_ti = final_value_trg_a2c_ti - initial_capital\n",
        "sharpe_ratio_trg_a2c_ti = np.mean(portfolio_returns) / np.std(portfolio_returns)*np.sqrt(252)\n",
        "annualized_return_trg_a2c_ti = (final_value_trg_a2c_ti / initial_capital) ** (1 / (len(returns_train_data) / 252)) - 1  # Assuming daily returns (252 trading days)\n",
        "maxdraw_trg_a2c_ti = getMaxDrawdown(pd.DataFrame(portfolio_values), 252)[1].min().values[0]*100\n",
        "\n",
        "print(f\"Final Portfolio Value: {final_value_trg_a2c_ti:.2f}\")\n",
        "print(f\"Total Return: {total_return_trg_a2c_ti:.2f}\")\n",
        "print(f\"Annualized Return: {annualized_return_trg_a2c_ti * 100:.2f}%\")\n",
        "print(f\"Sharpe Ratio: {sharpe_ratio_trg_a2c_ti:.4f}\")\n",
        "print(f\"Maximum draw down(%): {maxdraw_trg_a2c_ti:.4f}\")"
      ]
    },
    {
      "cell_type": "code",
      "execution_count": null,
      "metadata": {
        "id": "i-ONh50eTu9w"
      },
      "outputs": [],
      "source": [
        "# A2C Test Model\n",
        "import time\n",
        "e_trade_gym = StockPortfolioEnv(df = test_data_ti, **env_kwargs)\n",
        "env_a2c_ti_test, obs_trade = e_trade_gym.get_sb_env()\n",
        "DynaCAAST_Env['a2c_ti_test'] = copy.copy(env_a2c_ti_test)\n",
        "DynaCAAST_Obs['a2c_ti_test'] = obs_trade.copy()\n",
        "a2c_test_returns_ti, _ = DRLAgent.DRL_prediction(model=trained_a2c_ti, test_data = test_data_ti, test_env = env_a2c_ti_test, test_obs = obs_trade)"
      ]
    },
    {
      "cell_type": "code",
      "execution_count": null,
      "metadata": {
        "id": "UWqbudy9Ulzt"
      },
      "outputs": [],
      "source": [
        "capital = initial_capital\n",
        "portfolio_values = []\n",
        "portfolio_returns = []\n",
        "\n",
        "for i in range(1, len(a2c_test_returns_ti)):\n",
        "    # Calculate portfolio returns based on the weighted sum of security returns\n",
        "    portfolio_return = a2c_test_returns_ti['daily_return'].iloc[i]\n",
        "    capital *= (1 + portfolio_return)\n",
        "    portfolio_values.append(capital)\n",
        "    portfolio_returns.append(portfolio_return)\n",
        "\n",
        "# Plot the portfolio value over time\n",
        "plt.figure(figsize=(21, 9))\n",
        "plt.plot(a2c_test_returns_ti[\"date\"][1:], portfolio_values, label=\"A2C TI Portfolio\", color=\"green\")\n",
        "plt.title(\"Portfolio Performance based on A2C Algorithm  with TI as the State- Testing Data\")\n",
        "plt.xlabel(\"Time\")\n",
        "plt.ylabel(\"Portfolio Value\")\n",
        "plt.legend()\n",
        "plt.show()\n",
        "\n",
        "Strategy_Returns_Data_test[\"return_a2c_ti\"] = portfolio_returns\n",
        "\n",
        "# Calculate performance metrics\n",
        "final_value_test_a2c_ti = capital\n",
        "total_return_test_a2c_ti = final_value_test_a2c_ti - initial_capital\n",
        "sharpe_ratio_test_a2c_ti = np.mean(portfolio_returns) / np.std(portfolio_returns)*np.sqrt(252)\n",
        "annualized_return_test_a2c_ti = (final_value_test_a2c_ti / initial_capital) ** (1 / (len(returns_test_data) / 252)) - 1  # Assuming daily returns (252 trading days)\n",
        "maxdraw_test_a2c_ti = getMaxDrawdown(pd.DataFrame(portfolio_values), 252)[1].min().values[0]*100\n",
        "\n",
        "print(f\"Final Portfolio Value: {final_value_test_a2c_ti:.2f}\")\n",
        "print(f\"Total Return: {total_return_test_a2c_ti:.2f}\")\n",
        "print(f\"Annualized Return: {annualized_return_test_a2c_ti * 100:.2f}%\")\n",
        "print(f\"Sharpe Ratio : {sharpe_ratio_test_a2c_ti:.4f}\")\n",
        "print(f\"Maximum draw down(%): {maxdraw_test_a2c_ti:.4f}\")"
      ]
    },
    {
      "cell_type": "markdown",
      "metadata": {
        "id": "j388XXnrVQ1k"
      },
      "source": [
        "## **F. PPO RL Model with TI as the state of the RL agent**"
      ]
    },
    {
      "cell_type": "code",
      "execution_count": null,
      "metadata": {
        "id": "ePn8-E80q1RO"
      },
      "outputs": [],
      "source": [
        "agent = DRLAgent(env = env_train)\n",
        "\n",
        "model_ppo_ti = agent.get_model(\"ppo\",model_kwargs = PPO_PARAMS_TI)"
      ]
    },
    {
      "cell_type": "code",
      "execution_count": null,
      "metadata": {
        "id": "cKrvuOciq1T5"
      },
      "outputs": [],
      "source": [
        "trained_ppo_ti = agent.train_model(model=model_ppo_ti, tb_log_name='ppo', total_timesteps=total_timesteps_)\n",
        "DynaCAAST_Model['ppo_ti'] = trained_ppo_ti"
      ]
    },
    {
      "cell_type": "code",
      "execution_count": null,
      "metadata": {
        "id": "_ogG0wGHWUkN"
      },
      "outputs": [],
      "source": [
        "# PPO Train Model\n",
        "e_trade_gym = StockPortfolioEnv(df = train_data_ti, **env_kwargs)\n",
        "env_trade, obs_trade = e_trade_gym.get_sb_env()\n",
        "\n",
        "ppo_train_returns_ti, _ = DRLAgent.DRL_prediction(model=trained_ppo_ti, test_data = train_data_ti, test_env = env_trade, test_obs = obs_trade)"
      ]
    },
    {
      "cell_type": "code",
      "execution_count": null,
      "metadata": {
        "id": "yKG_nCDJWUnb"
      },
      "outputs": [],
      "source": [
        "capital = initial_capital\n",
        "portfolio_values = []\n",
        "portfolio_returns = []\n",
        "\n",
        "for i in range(1, len(ppo_train_returns_ti)):\n",
        "    # Calculate portfolio returns based on the weighted sum of security returns\n",
        "    portfolio_return = ppo_train_returns_ti['daily_return'].iloc[i]\n",
        "    capital *= (1 + portfolio_return)\n",
        "    portfolio_values.append(capital)\n",
        "    portfolio_returns.append(portfolio_return)\n",
        "\n",
        "# Plot the portfolio value over time\n",
        "plt.figure(figsize=(21, 9))\n",
        "plt.plot(returns_train_data.index[1:], portfolio_values, label=\"PPO TI Portfolio\", color=\"blue\")\n",
        "plt.title(\"Portfolio Performance based on PPO Algorithm with TI as the State - Training Data\")\n",
        "plt.xlabel(\"Time\")\n",
        "plt.ylabel(\"Portfolio Value\")\n",
        "plt.legend()\n",
        "plt.show()\n",
        "\n",
        "Strategy_Returns_Data_trg[\"return_ppo_ti\"] = portfolio_returns\n",
        "\n",
        "# Calculate performance metrics\n",
        "final_value_trg_ppo_ti = capital\n",
        "total_return_trg_ppo_ti = final_value_trg_ppo_ti - initial_capital\n",
        "sharpe_ratio_trg_ppo_ti = np.mean(portfolio_returns) / np.std(portfolio_returns)*np.sqrt(252)\n",
        "annualized_return_trg_ppo_ti = (final_value_trg_ppo_ti / initial_capital) ** (1 / (len(returns_train_data) / 252)) - 1  # Assuming daily returns (252 trading days)\n",
        "maxdraw_trg_ppo_ti = getMaxDrawdown(pd.DataFrame(portfolio_values), 252)[1].min().values[0]*100\n",
        "\n",
        "print(f\"Final Portfolio Value: {final_value_trg_ppo_ti:.2f}\")\n",
        "print(f\"Total Return: {total_return_trg_ppo_ti:.2f}\")\n",
        "print(f\"Annualized Return: {annualized_return_trg_ppo_ti * 100:.2f}%\")\n",
        "print(f\"Sharpe Ratio: {sharpe_ratio_trg_ppo_ti:.4f}\")\n",
        "print(f\"Maximum draw down(%): {maxdraw_trg_ppo_ti:.4f}\")"
      ]
    },
    {
      "cell_type": "code",
      "execution_count": null,
      "metadata": {
        "id": "YudotpfjWUqk"
      },
      "outputs": [],
      "source": [
        "# PPO Test Model\n",
        "e_trade_gym = StockPortfolioEnv(df = test_data_ti, **env_kwargs)\n",
        "env_ppo_ti_test, obs_trade = e_trade_gym.get_sb_env()\n",
        "DynaCAAST_Env['ppo_ti_test'] = copy.copy(env_ppo_ti_test)\n",
        "DynaCAAST_Obs['ppo_ti_test'] = obs_trade.copy()\n",
        "\n",
        "ppo_test_returns_ti, _ = DRLAgent.DRL_prediction(model=trained_ppo_ti, test_data = test_data_ti, test_env = env_ppo_ti_test, test_obs = obs_trade)"
      ]
    },
    {
      "cell_type": "code",
      "execution_count": null,
      "metadata": {
        "id": "5vuTba12WUtU"
      },
      "outputs": [],
      "source": [
        "capital = initial_capital\n",
        "portfolio_values = []\n",
        "portfolio_returns = []\n",
        "\n",
        "for i in range(1, len(ppo_test_returns_ti)):\n",
        "    # Calculate portfolio returns based on the weighted sum of security returns\n",
        "    portfolio_return = ppo_test_returns_ti['daily_return'].iloc[i]\n",
        "    capital *= (1 + portfolio_return)\n",
        "    portfolio_values.append(capital)\n",
        "    portfolio_returns.append(portfolio_return)\n",
        "\n",
        "# Plot the portfolio value over time\n",
        "plt.figure(figsize=(21, 9))\n",
        "plt.plot(ppo_test_returns_ti[\"date\"][1:], portfolio_values, label=\"PPO TI Portfolio\", color=\"green\")\n",
        "plt.title(\"Portfolio Performance based on PPO Algorithm  with TI as the State- Testing Data\")\n",
        "plt.xlabel(\"Time\")\n",
        "plt.ylabel(\"Portfolio Value\")\n",
        "plt.legend()\n",
        "plt.show()\n",
        "\n",
        "Strategy_Returns_Data_test[\"return_ppo_ti\"] = portfolio_returns\n",
        "\n",
        "# Calculate performance metrics\n",
        "final_value_test_ppo_ti = capital\n",
        "total_return_test_ppo_ti = final_value_test_ppo_ti - initial_capital\n",
        "sharpe_ratio_test_ppo_ti = np.mean(portfolio_returns) / np.std(portfolio_returns)*np.sqrt(252)\n",
        "annualized_return_test_ppo_ti = (final_value_test_ppo_ti / initial_capital) ** (1 / (len(ppo_test_returns_ti) / 252)) - 1  # Assuming daily returns (252 trading days)\n",
        "maxdraw_test_ppo_ti = getMaxDrawdown(pd.DataFrame(portfolio_values), 252)[1].min().values[0]*100\n",
        "\n",
        "print(f\"Final Portfolio Value: {final_value_test_ppo_ti:.2f}\")\n",
        "print(f\"Total Return: {total_return_test_ppo_ti:.2f}\")\n",
        "print(f\"Annualized Return: {annualized_return_test_ppo_ti * 100:.2f}%\")\n",
        "print(f\"Sharpe Ratio: {sharpe_ratio_test_ppo_ti:.4f}\")\n",
        "print(f\"Maximum draw down(%): {maxdraw_test_ppo_ti:.4f}\")"
      ]
    },
    {
      "cell_type": "markdown",
      "metadata": {
        "id": "YncprzUbYk8J"
      },
      "source": [
        "## **G. DDPG RL Model with TI as the state of the RL agent**"
      ]
    },
    {
      "cell_type": "code",
      "execution_count": null,
      "metadata": {
        "id": "yywMX-M4q1W3"
      },
      "outputs": [],
      "source": [
        "agent = DRLAgent(env = env_train)\n",
        "model_ddpg_ti = agent.get_model(\"ddpg\",model_kwargs = DDPG_PARAMS_TI)"
      ]
    },
    {
      "cell_type": "code",
      "execution_count": null,
      "metadata": {
        "id": "bNkL8qunYyda"
      },
      "outputs": [],
      "source": [
        "trained_ddpg_ti = agent.train_model(model=model_ddpg_ti, tb_log_name='ddpg',  total_timesteps=total_timesteps_)\n",
        "DynaCAAST_Model['ddpg_ti'] = trained_ddpg_ti"
      ]
    },
    {
      "cell_type": "code",
      "execution_count": null,
      "metadata": {
        "id": "zGM58sotZFWa"
      },
      "outputs": [],
      "source": [
        "# DDPG Train Model num_stock = df_pct_change.shape[1]\n",
        "e_trade_gym = StockPortfolioEnv(df = train_data_ti, **env_kwargs)\n",
        "env_trade, obs_trade = e_trade_gym.get_sb_env()\n",
        "\n",
        "ddpg_train_returns_ti, _ = DRLAgent.DRL_prediction(model=trained_ddpg_ti, test_data = train_data_ti, test_env = env_trade, test_obs = obs_trade)"
      ]
    },
    {
      "cell_type": "code",
      "execution_count": null,
      "metadata": {
        "id": "hoP9_kgxZFaA"
      },
      "outputs": [],
      "source": [
        "capital = initial_capital\n",
        "portfolio_values = []\n",
        "portfolio_returns = []\n",
        "\n",
        "for i in range(1, len(ddpg_train_returns_ti)):\n",
        "    # Calculate portfolio returns based on the weighted sum of security returns\n",
        "    portfolio_return = ddpg_train_returns_ti['daily_return'].iloc[i]\n",
        "    capital *= (1 + portfolio_return)\n",
        "    portfolio_values.append(capital)\n",
        "    portfolio_returns.append(portfolio_return)\n",
        "\n",
        "# Plot the portfolio value over time\n",
        "plt.figure(figsize=(21, 9))\n",
        "plt.plot(returns_train_data.index[1:], portfolio_values, label=\"DDPG TI Portfolio\", color=\"blue\")\n",
        "plt.title(\"Portfolio Performance based on DDPG Algorithm  with TI as the State - Training Data\")\n",
        "plt.xlabel(\"Time\")\n",
        "plt.ylabel(\"Portfolio Value\")\n",
        "plt.legend()\n",
        "plt.show()\n",
        "\n",
        "Strategy_Returns_Data_trg[\"return_ddpg_ti\"] = portfolio_returns\n",
        "\n",
        "# Calculate performance metrics\n",
        "final_value_trg_ddpg_ti = capital\n",
        "total_return_trg_ddpg_ti = final_value_trg_ddpg_ti - initial_capital\n",
        "sharpe_ratio_trg_ddpg_ti = np.mean(portfolio_returns) / np.std(portfolio_returns)*np.sqrt(252)\n",
        "annualized_return_trg_ddpg_ti = (final_value_trg_ddpg_ti / initial_capital) ** (1 / (len(returns_train_data) / 252)) - 1  # Assuming daily returns (252 trading days)\n",
        "maxdraw_trg_ddpg_ti = getMaxDrawdown(pd.DataFrame(portfolio_values), 252)[1].min().values[0]*100\n",
        "\n",
        "print(f\"Final Portfolio Value: {final_value_trg_ddpg_ti:.2f}\")\n",
        "print(f\"Total Return: {total_return_trg_ddpg_ti:.2f}\")\n",
        "print(f\"Annualized Return: {annualized_return_trg_ddpg_ti * 100:.2f}%\")\n",
        "print(f\"Sharpe Ratio: {sharpe_ratio_trg_ddpg_ti:.4f}\")\n",
        "print(f\"Maximum draw down(%): {maxdraw_trg_ddpg_ti:.4f}\")"
      ]
    },
    {
      "cell_type": "code",
      "execution_count": null,
      "metadata": {
        "id": "EGaPVu-hayd8"
      },
      "outputs": [],
      "source": [
        "# DDPG Test Model\n",
        "e_trade_gym = StockPortfolioEnv(df = test_data_ti, **env_kwargs)\n",
        "env_ddpg_ti_test, obs_trade = e_trade_gym.get_sb_env()\n",
        "DynaCAAST_Env['ddpg_ti_test'] = copy.copy(env_ddpg_ti_test)\n",
        "DynaCAAST_Obs['ddpg_ti_test'] = obs_trade.copy()\n",
        "ddpg_test_returns_ti, _ = DRLAgent.DRL_prediction(model=trained_ddpg_ti, test_data = test_data_ti, test_env = env_ddpg_ti_test, test_obs = obs_trade)"
      ]
    },
    {
      "cell_type": "code",
      "execution_count": null,
      "metadata": {
        "id": "ewUgRL9dayhy"
      },
      "outputs": [],
      "source": [
        "capital = initial_capital\n",
        "portfolio_values = []\n",
        "portfolio_returns = []\n",
        "\n",
        "for i in range(1, len(ddpg_test_returns_ti)):\n",
        "    # Calculate portfolio returns based on the weighted sum of security returns\n",
        "    portfolio_return = ddpg_test_returns_ti['daily_return'].iloc[i]\n",
        "    capital *= (1 + portfolio_return)\n",
        "    portfolio_values.append(capital)\n",
        "    portfolio_returns.append(portfolio_return)\n",
        "\n",
        "# Plot the portfolio value over time\n",
        "plt.figure(figsize=(21, 9))\n",
        "plt.plot(ddpg_test_returns_ti[\"date\"][1:], portfolio_values, label=\"DDPG TI Portfolio\", color=\"green\")\n",
        "plt.title(\"Portfolio Performance based on DDPG Algorithm with TI as the State - Testing Data\")\n",
        "plt.xlabel(\"Time\")\n",
        "plt.ylabel(\"Portfolio Value\")\n",
        "plt.legend()\n",
        "plt.show()\n",
        "\n",
        "Strategy_Returns_Data_test[\"return_ddpg_ti\"] = portfolio_returns\n",
        "\n",
        "# Calculate performance metrics\n",
        "final_value_test_ddpg_ti = capital\n",
        "total_return_test_ddpg_ti = final_value_test_ddpg_ti - initial_capital\n",
        "sharpe_ratio_test_ddpg_ti = np.mean(portfolio_returns) / np.std(portfolio_returns)*np.sqrt(252)\n",
        "annualized_return_test_ddpg_ti = (final_value_test_ddpg_ti / initial_capital) ** (1 / (len(ddpg_test_returns_ti) / 252)) - 1  # Assuming daily returns (252 trading days)\n",
        "maxdraw_test_ddpg_ti = getMaxDrawdown(pd.DataFrame(portfolio_values), 252)[1].min().values[0]*100\n",
        "\n",
        "print(f\"Final Portfolio Value: {final_value_test_ddpg_ti:.2f}\")\n",
        "print(f\"Total Return: {total_return_test_ddpg_ti:.2f}\")\n",
        "print(f\"Annualized Return: {annualized_return_test_ddpg_ti * 100:.2f}%\")\n",
        "print(f\"Sharpe Ratio: {sharpe_ratio_test_ddpg_ti:.4f}\")\n",
        "print(f\"Maximum draw down(%): {maxdraw_test_ddpg_ti:.4f}\")"
      ]
    },
    {
      "cell_type": "markdown",
      "metadata": {
        "id": "ar_Q5r-ihFlF"
      },
      "source": [
        "## **H. SAC RL Model with TI as the state of the RL agent**"
      ]
    },
    {
      "cell_type": "code",
      "execution_count": null,
      "metadata": {
        "id": "ZrRm3T0mhQd9"
      },
      "outputs": [],
      "source": [
        "agent = DRLAgent(env = env_train)\n",
        "model_sac_ti = agent.get_model(\"sac\",model_kwargs = SAC_PARAMS_TI)"
      ]
    },
    {
      "cell_type": "code",
      "execution_count": null,
      "metadata": {
        "id": "hf-VNYdrhQu5"
      },
      "outputs": [],
      "source": [
        "trained_sac_ti = agent.train_model(model=model_sac_ti, tb_log_name='sac', total_timesteps=total_timesteps_)\n",
        "DynaCAAST_Model['sac_ti'] = trained_sac_ti"
      ]
    },
    {
      "cell_type": "code",
      "execution_count": null,
      "metadata": {
        "id": "NVHgs-JehiE-"
      },
      "outputs": [],
      "source": [
        "#  SAC Train Model num_stock = df_pct_change.shape[1]\n",
        "e_trade_gym = StockPortfolioEnv(df = train_data_ti, **env_kwargs)\n",
        "env_trade, obs_trade = e_trade_gym.get_sb_env()\n",
        "\n",
        "sac_train_returns_ti, _ = DRLAgent.DRL_prediction(model=trained_sac_ti, test_data = train_data_ti, test_env = env_trade, test_obs = obs_trade)"
      ]
    },
    {
      "cell_type": "code",
      "execution_count": null,
      "metadata": {
        "id": "jsa1toTRZFd-"
      },
      "outputs": [],
      "source": [
        "capital = initial_capital\n",
        "portfolio_values = []\n",
        "portfolio_returns = []\n",
        "\n",
        "for i in range(1, len(sac_train_returns_ti)):\n",
        "    # Calculate portfolio returns based on the weighted sum of security returns\n",
        "    portfolio_return = sac_train_returns_ti['daily_return'].iloc[i]\n",
        "    capital *= (1 + portfolio_return)\n",
        "    portfolio_values.append(capital)\n",
        "    portfolio_returns.append(portfolio_return)\n",
        "\n",
        "# Plot the portfolio value over time\n",
        "plt.figure(figsize=(21, 9))\n",
        "plt.plot(returns_train_data.index[1:], portfolio_values, label=\"SAC TI Portfolio\", color=\"blue\")\n",
        "plt.title(\"Portfolio Performance based on SAC Algorithm  with TI as the State- Training Data\")\n",
        "plt.xlabel(\"Time\")\n",
        "plt.ylabel(\"Portfolio Value\")\n",
        "plt.legend()\n",
        "plt.show()\n",
        "\n",
        "Strategy_Returns_Data_trg[\"return_sac_ti\"] = portfolio_returns\n",
        "\n",
        "# Calculate performance metrics\n",
        "final_value_trg_sac_ti = capital\n",
        "total_return_trg_sac_ti = final_value_trg_sac_ti - initial_capital\n",
        "sharpe_ratio_trg_sac_ti = np.mean(portfolio_returns) / np.std(portfolio_returns)*np.sqrt(252)\n",
        "annualized_return_trg_sac_ti = (final_value_trg_sac_ti / initial_capital) ** (1 / (len(returns_train_data) / 252)) - 1  # Assuming daily returns (252 trading days)\n",
        "maxdraw_trg_sac_ti = getMaxDrawdown(pd.DataFrame(portfolio_values), 252)[1].min().values[0]*100\n",
        "\n",
        "print(f\"Final Portfolio Value: {final_value_trg_sac_ti:.2f}\")\n",
        "print(f\"Total Return: {total_return_trg_sac_ti:.2f}\")\n",
        "print(f\"Annualized Return: {annualized_return_trg_sac_ti * 100:.2f}%\")\n",
        "print(f\"Sharpe Ratio Kelly: {sharpe_ratio_trg_sac_ti:.4f}\")\n",
        "print(f\"Maximum draw down(%): {maxdraw_trg_sac_ti:.4f}\")"
      ]
    },
    {
      "cell_type": "code",
      "execution_count": null,
      "metadata": {
        "id": "Hug3F6Ao300d"
      },
      "outputs": [],
      "source": [
        "# SAC Test Model\n",
        "e_trade_gym = StockPortfolioEnv(df = test_data_ti, **env_kwargs)\n",
        "env_sac_ti_test, obs_trade = e_trade_gym.get_sb_env()\n",
        "DynaCAAST_Env['sac_ti_test'] = copy.copy(env_sac_ti_test)\n",
        "DynaCAAST_Obs['sac_ti_test'] = copy.copy(obs_trade)\n",
        "sac_test_returns_ti, _ = DRLAgent.DRL_prediction(model=trained_sac_ti, test_data = test_data_ti, test_env = env_sac_ti_test, test_obs = obs_trade)"
      ]
    },
    {
      "cell_type": "code",
      "execution_count": null,
      "metadata": {
        "id": "B_H1Qgkl3_hC"
      },
      "outputs": [],
      "source": [
        "capital = initial_capital\n",
        "portfolio_values = []\n",
        "portfolio_returns = []\n",
        "\n",
        "for i in range(1, len(sac_test_returns_ti)):\n",
        "    # Calculate portfolio returns based on the weighted sum of security returns\n",
        "    portfolio_return = sac_test_returns_ti['daily_return'].iloc[i]\n",
        "    capital *= (1 + portfolio_return)\n",
        "    portfolio_values.append(capital)\n",
        "    portfolio_returns.append(portfolio_return)\n",
        "\n",
        "# Plot the portfolio value over time\n",
        "plt.figure(figsize=(21, 9))\n",
        "plt.plot(sac_test_returns_ti[\"date\"][1:], portfolio_values, label=\"SAC TI Portfolio\", color=\"green\")\n",
        "plt.title(\"Portfolio Performance based on SAC Algorithm  with TI as the State- Testing Data\")\n",
        "plt.xlabel(\"Time\")\n",
        "plt.ylabel(\"Portfolio Value\")\n",
        "plt.legend()\n",
        "plt.show()\n",
        "\n",
        "Strategy_Returns_Data_test[\"return_sac_ti\"] = portfolio_returns\n",
        "\n",
        "# Calculate performance metrics\n",
        "final_value_test_sac_ti = capital\n",
        "total_return_test_sac_ti = final_value_test_sac_ti - initial_capital\n",
        "sharpe_ratio_test_sac_ti = np.mean(portfolio_returns) / np.std(portfolio_returns)*np.sqrt(252)\n",
        "annualized_return_test_sac_ti = (final_value_test_sac_ti / initial_capital) ** (1 / (len(sac_test_returns_ti) / 252)) - 1  # Assuming daily returns (252 trading days)\n",
        "maxdraw_test_sac_ti = getMaxDrawdown(pd.DataFrame(portfolio_values), 252)[1].min().values[0]*100\n",
        "\n",
        "print(f\"Final Portfolio Value: {final_value_test_sac_ti:.2f}\")\n",
        "print(f\"Total Return: {total_return_test_sac_ti:.2f}\")\n",
        "print(f\"Annualized Return: {annualized_return_test_sac_ti * 100:.2f}%\")\n",
        "print(f\"Sharpe Ratio: {sharpe_ratio_test_sac_ti:.4f}\")\n",
        "print(f\"Maximum draw down(%): {maxdraw_test_sac_ti:.4f}\")"
      ]
    },
    {
      "cell_type": "markdown",
      "metadata": {
        "id": "bfcP5vj_16aA"
      },
      "source": [
        "## **I. TD3 RL Model with TI as the state of the RL agent**"
      ]
    },
    {
      "cell_type": "code",
      "execution_count": null,
      "metadata": {
        "id": "pX7WR-YSq05W"
      },
      "outputs": [],
      "source": [
        "agent = DRLAgent(env = env_train)\n",
        "model_td3_ti = agent.get_model(\"td3\",model_kwargs = TD3_PARAMS_TI)"
      ]
    },
    {
      "cell_type": "code",
      "execution_count": null,
      "metadata": {
        "id": "LzuBBu45q078"
      },
      "outputs": [],
      "source": [
        "trained_td3_ti = agent.train_model(model=model_td3_ti, tb_log_name='td3', total_timesteps=total_timesteps_)\n",
        "DynaCAAST_Model['td3_ti'] = trained_td3_ti"
      ]
    },
    {
      "cell_type": "code",
      "execution_count": null,
      "metadata": {
        "id": "2AtYp4gGsFep"
      },
      "outputs": [],
      "source": [
        "# td3 Train Model num_stock = df_pct_change.shape[1]\n",
        "e_trade_gym = StockPortfolioEnv(df = train_data_ti, **env_kwargs)\n",
        "env_trade, obs_trade = e_trade_gym.get_sb_env()\n",
        "\n",
        "td3_train_returns_ti, _ = DRLAgent.DRL_prediction(model=trained_td3_ti, test_data = train_data_ti, test_env = env_trade, test_obs = obs_trade)"
      ]
    },
    {
      "cell_type": "code",
      "execution_count": null,
      "metadata": {
        "id": "XRODYMITRRM3"
      },
      "outputs": [],
      "source": [
        "capital = initial_capital\n",
        "portfolio_values = []\n",
        "portfolio_returns = []\n",
        "\n",
        "for i in range(1, len(td3_train_returns_ti)):\n",
        "    # Calculate portfolio returns based on the weighted sum of security returns\n",
        "    portfolio_return = td3_train_returns_ti['daily_return'].iloc[i]\n",
        "    capital *= (1 + portfolio_return)\n",
        "    portfolio_values.append(capital)\n",
        "    portfolio_returns.append(portfolio_return)\n",
        "\n",
        "# Plot the portfolio value over time\n",
        "plt.figure(figsize=(21, 9))\n",
        "plt.plot(returns_train_data.index[1:], portfolio_values, label=\"TD3 TI Portfolio\", color=\"blue\")\n",
        "plt.title(\"Portfolio Performance based on TD3 Algorithm  with TI as the State- Training Data\")\n",
        "plt.xlabel(\"Time\")\n",
        "plt.ylabel(\"Portfolio Value\")\n",
        "plt.legend()\n",
        "plt.show()\n",
        "\n",
        "Strategy_Returns_Data_trg[\"return_td3_ti\"] = portfolio_returns\n",
        "\n",
        "# Calculate performance metrics\n",
        "final_value_trg_td3_ti = capital\n",
        "total_return_trg_td3_ti = final_value_trg_td3_ti - initial_capital\n",
        "sharpe_ratio_trg_td3_ti = np.mean(portfolio_returns) / np.std(portfolio_returns)*np.sqrt(252)\n",
        "annualized_return_trg_td3_ti = (final_value_trg_td3_ti / initial_capital) ** (1 / (len(returns_train_data) / 252)) - 1  # Assuming daily returns (252 trading days)\n",
        "maxdraw_trg_td3_ti = getMaxDrawdown(pd.DataFrame(portfolio_values), 252)[1].min().values[0]*100\n",
        "\n",
        "print(f\"Final Portfolio Value: {final_value_trg_td3_ti:.2f}\")\n",
        "print(f\"Total Return: {total_return_trg_td3_ti:.2f}\")\n",
        "print(f\"Annualized Return: {annualized_return_trg_td3_ti * 100:.2f}%\")\n",
        "print(f\"Sharpe Ratio: {sharpe_ratio_trg_td3_ti:.4f}\")\n",
        "print(f\"Maximum draw down(%): {maxdraw_trg_td3_ti:.4f}\")"
      ]
    },
    {
      "cell_type": "code",
      "execution_count": null,
      "metadata": {
        "id": "OTSa-7nMxzm5"
      },
      "outputs": [],
      "source": [
        "# TD3 Test Model\n",
        "e_trade_gym = StockPortfolioEnv(df = test_data_ti, **env_kwargs)\n",
        "env_td3_ti_test, obs_trade = e_trade_gym.get_sb_env()\n",
        "DynaCAAST_Env['td3_ti_test'] = copy.copy(env_td3_ti_test)\n",
        "DynaCAAST_Obs['td3_ti_test'] = obs_trade.copy()\n",
        "\n",
        "td3_test_returns_ti, _ = DRLAgent.DRL_prediction(model=trained_td3_ti, test_data = test_data_ti, test_env = env_td3_ti_test, test_obs = obs_trade)"
      ]
    },
    {
      "cell_type": "code",
      "execution_count": null,
      "metadata": {
        "id": "UJMny-_9TFy0"
      },
      "outputs": [],
      "source": [
        "capital = initial_capital\n",
        "portfolio_values = []\n",
        "portfolio_returns = []\n",
        "\n",
        "for i in range(1, len(td3_test_returns_ti)):\n",
        "    # Calculate portfolio returns based on the weighted sum of security returns\n",
        "    portfolio_return = td3_test_returns_ti['daily_return'].iloc[i]\n",
        "    capital *= (1 + portfolio_return)\n",
        "    portfolio_values.append(capital)\n",
        "    portfolio_returns.append(portfolio_return)\n",
        "\n",
        "# Plot the portfolio value over time\n",
        "plt.figure(figsize=(21, 9))\n",
        "plt.plot(td3_test_returns_ti[\"date\"][1:], portfolio_values, label=\"TD3 TI Portfolio\", color=\"green\")\n",
        "plt.title(\"Portfolio Performance based on TD3 Algorithm with TI as the State - Testing Data\")\n",
        "plt.xlabel(\"Time\")\n",
        "plt.ylabel(\"Portfolio Value\")\n",
        "plt.legend()\n",
        "plt.show()\n",
        "\n",
        "Strategy_Returns_Data_test[\"return_td3_ti\"] = portfolio_returns\n",
        "\n",
        "# Calculate performance metrics\n",
        "final_value_test_td3_ti = capital\n",
        "total_return_test_td3_ti = final_value_test_td3_ti - initial_capital\n",
        "sharpe_ratio_test_td3_ti = np.mean(portfolio_returns) / np.std(portfolio_returns)*np.sqrt(252)\n",
        "annualized_return_test_td3_ti = (final_value_test_td3_ti / initial_capital) ** (1 / (len(td3_test_returns_ti) / 252)) - 1  # Assuming daily returns (252 trading days)\n",
        "maxdraw_test_td3_ti = getMaxDrawdown(pd.DataFrame(portfolio_values), 252)[1].min().values[0]*100\n",
        "\n",
        "print(f\"Final Portfolio Value: {final_value_test_td3_ti:.2f}\")\n",
        "print(f\"Total Return: {total_return_test_td3_ti:.2f}\")\n",
        "print(f\"Annualized Return: {annualized_return_test_td3_ti * 100:.2f}%\")\n",
        "print(f\"Sharpe Ratio: {sharpe_ratio_test_td3_ti:.4f}\")\n",
        "print(f\"Maximum draw down(%): {maxdraw_test_td3_ti:.4f}\")"
      ]
    },
    {
      "cell_type": "markdown",
      "metadata": {
        "id": "xswM8mGwBfcX"
      },
      "source": [
        "## **J. Performance Analysis of RL agents using TI as their states**"
      ]
    },
    {
      "cell_type": "code",
      "execution_count": null,
      "metadata": {
        "id": "UkCAZByfvpbT"
      },
      "outputs": [],
      "source": [
        "returns_train = prices_train_data.pct_change() # get the assets daily returns\n",
        "returns_test = prices_test_data.pct_change()\n",
        "\n",
        "\n",
        "a2c_train_cum_returns_ti = (1 + a2c_train_returns_ti.copy().reset_index(drop=True).set_index(['date'])).cumprod()\n",
        "a2c_train_cum_returns_ti = a2c_train_cum_returns_ti['daily_return']\n",
        "a2c_train_cum_returns_ti.name = 'A2C TI Model'\n",
        "\n",
        "ppo_train_cum_returns_ti = (1 + ppo_train_returns_ti.copy().reset_index(drop=True).set_index(['date'])).cumprod()\n",
        "ppo_train_cum_returns_ti = ppo_train_cum_returns_ti['daily_return']\n",
        "ppo_train_cum_returns_ti.name = 'PPO TI Model'\n",
        "\n",
        "ddpg_train_cum_returns_ti = (1 + ddpg_train_returns_ti.copy().reset_index(drop=True).set_index(['date'])).cumprod()\n",
        "ddpg_train_cum_returns_ti = ddpg_train_cum_returns_ti['daily_return']\n",
        "ddpg_train_cum_returns_ti.name = 'DDPG TI Model'\n",
        "\n",
        "sac_train_cum_returns_ti = (1 + sac_train_returns_ti.copy().reset_index(drop=True).set_index(['date'])).cumprod()\n",
        "sac_train_cum_returns_ti = sac_train_cum_returns_ti['daily_return']\n",
        "sac_train_cum_returns_ti.name = 'SAC TI Model'\n",
        "\n",
        "td3_train_cum_returns_ti = (1 + td3_train_returns_ti.copy().reset_index(drop=True).set_index(['date'])).cumprod()\n",
        "td3_train_cum_returns_ti = td3_train_cum_returns_ti['daily_return']\n",
        "td3_train_cum_returns_ti.name = 'TD3 TI Model'\n",
        "\n",
        "date_list = list(ddpg_train_cum_returns_ti.index)"
      ]
    },
    {
      "cell_type": "code",
      "execution_count": null,
      "metadata": {
        "id": "MkYYsgk3vpeS"
      },
      "outputs": [],
      "source": [
        "%matplotlib inline\n",
        "\n",
        "# Plot the culmulative returns of the portfolios\n",
        "fig, ax = plt.subplots(figsize=(21,9))\n",
        "a2c_train_cum_returns_ti.plot(ax=ax, color='blue', alpha=0.4)\n",
        "ppo_train_cum_returns_ti.plot(ax=ax, color='green', alpha=0.4)\n",
        "ddpg_train_cum_returns_ti.plot(ax=ax, color='skyblue', alpha=0.4)\n",
        "sac_train_cum_returns_ti.plot(ax=ax, color='red', alpha=0.4)\n",
        "td3_train_cum_returns_ti.plot(ax=ax, color='black', alpha=0.4)\n",
        "\n",
        "plt.legend(loc=\"best\");\n",
        "plt.grid(True);\n",
        "ax.set_ylabel(\"Cumulative return\");\n",
        "ax.set_title(\"Performance on the training data with Technical Indicators as the state\", fontsize=14);\n",
        "plt.show()"
      ]
    },
    {
      "cell_type": "code",
      "execution_count": null,
      "metadata": {
        "id": "JVTsQBf0vpgh"
      },
      "outputs": [],
      "source": [
        "%matplotlib inline\n",
        "\n",
        "# get the culmulative returns for each portfolio\n",
        "\n",
        "a2c_test_cum_returns_ti = (1 + a2c_test_returns_ti['daily_return']).cumprod()\n",
        "a2c_test_cum_returns_ti.name = 'A2C TI Model'\n",
        "a2c_test_cum_returns_ti.index = a2c_test_returns_ti['date']\n",
        "\n",
        "ppo_test_cum_returns_ti = (1 + ppo_test_returns_ti['daily_return']).cumprod()\n",
        "ppo_test_cum_returns_ti.name = 'PPO TI Model'\n",
        "ppo_test_cum_returns_ti.index = ppo_test_returns_ti['date']\n",
        "\n",
        "ddpg_test_cum_returns_ti = (1 + ddpg_test_returns_ti['daily_return']).cumprod()\n",
        "ddpg_test_cum_returns_ti.name = 'DDPG TI Model'\n",
        "ddpg_test_cum_returns_ti.index = ddpg_test_returns_ti['date']\n",
        "\n",
        "sac_test_cum_returns_ti = (1 + sac_test_returns_ti['daily_return']).cumprod()\n",
        "sac_test_cum_returns_ti.name = 'SAC TI Model'\n",
        "sac_test_cum_returns_ti.index = sac_test_returns_ti['date']\n",
        "\n",
        "td3_test_cum_returns_ti = (1 + td3_test_returns_ti['daily_return']).cumprod()\n",
        "td3_test_cum_returns_ti.name = 'TD3 TI Model'\n",
        "td3_test_cum_returns_ti.index = td3_test_returns_ti['date']\n"
      ]
    },
    {
      "cell_type": "code",
      "execution_count": null,
      "metadata": {
        "id": "exzBJhNVSlHY"
      },
      "outputs": [],
      "source": [
        "%matplotlib inline\n",
        "# Plot the culmulative returns of the portfolios\n",
        "fig, ax = plt.subplots(figsize=(21,9))\n",
        "a2c_test_cum_returns_ti.plot(ax=ax, color='blue', alpha=.4)\n",
        "ppo_test_cum_returns_ti.plot(ax=ax, color='green', alpha=.4)\n",
        "ddpg_test_cum_returns_ti.plot(ax=ax, color='skyblue', alpha=.4)\n",
        "sac_test_cum_returns_ti.plot(ax=ax, color='red', alpha=0.4)\n",
        "td3_test_cum_returns_ti.plot(ax=ax, color='black', alpha=0.4)\n",
        "\n",
        "plt.legend(loc=\"best\");\n",
        "plt.grid(True);\n",
        "ax.set_ylabel(\"Cumulative return\");\n",
        "ax.set_title(\"Performance on the testing data with Technical Indicators as the state\", fontsize=14);"
      ]
    },
    {
      "cell_type": "markdown",
      "metadata": {
        "id": "a0DNrZViCfa_"
      },
      "source": [
        "## **K. A2C RL Model with Lagged Returns as the state of the RL agent**"
      ]
    },
    {
      "cell_type": "code",
      "execution_count": null,
      "metadata": {
        "id": "eV2m1iZtCfbA"
      },
      "outputs": [],
      "source": [
        "stock_dimension = len(tickers)\n",
        "state_space = stock_dimension"
      ]
    },
    {
      "cell_type": "code",
      "execution_count": null,
      "metadata": {
        "id": "9y6_RhV8CfbA"
      },
      "outputs": [],
      "source": [
        "env_kwargs = { \"hmax\": 500, \"initial_amount\": 1000000, \"transaction_cost_pct\": transaction_cost, \"state_space\": state_space,  \"stock_dim\": stock_dimension,  \"tech_indicator_list\": return_lags,\n",
        "    \"action_space\": stock_dimension,  \"reward_scaling\": 0, 'initial_weights': [1/stock_dimension]*stock_dimension}"
      ]
    },
    {
      "cell_type": "code",
      "execution_count": null,
      "metadata": {
        "id": "GyvHc8kpCfbA"
      },
      "outputs": [],
      "source": [
        "e_train_gym = StockPortfolioEnv(df = train_data_ret, **env_kwargs)"
      ]
    },
    {
      "cell_type": "code",
      "execution_count": null,
      "metadata": {
        "id": "xkjTMbG_CfbA"
      },
      "outputs": [],
      "source": [
        "env_train, _ = e_train_gym.get_sb_env()\n",
        "print(type(env_train))"
      ]
    },
    {
      "cell_type": "code",
      "execution_count": null,
      "metadata": {
        "id": "5z9SRrsCCfbA"
      },
      "outputs": [],
      "source": [
        "# initialize\n",
        "agent = DRLAgent(env = env_train)\n",
        "model_a2c_ret = agent.get_model(model_name=\"a2c\",model_kwargs = A2C_PARAMS_RET)\n"
      ]
    },
    {
      "cell_type": "code",
      "execution_count": null,
      "metadata": {
        "id": "GkPu4zJmCfbB"
      },
      "outputs": [],
      "source": [
        "trained_a2c_ret = agent.train_model(model=model_a2c_ret, tb_log_name='a2c', total_timesteps=total_timesteps_)\n",
        "DynaCAAST_Model['a2c_ret'] = trained_a2c_ret"
      ]
    },
    {
      "cell_type": "code",
      "execution_count": null,
      "metadata": {
        "id": "udBdcTtiCfbB"
      },
      "outputs": [],
      "source": [
        "import time\n",
        "# A2C Train Model\n",
        "e_trade_gym = StockPortfolioEnv(df = train_data_ret, **env_kwargs)\n",
        "env_trade, obs_trade = e_trade_gym.get_sb_env()\n",
        "\n",
        "a2c_train_returns_ret, _ = DRLAgent.DRL_prediction(model=trained_a2c_ret, test_data = train_data_ret, test_env = env_trade, test_obs = obs_trade)"
      ]
    },
    {
      "cell_type": "code",
      "execution_count": null,
      "metadata": {
        "id": "gKHYOuw8CfbB"
      },
      "outputs": [],
      "source": [
        "capital = initial_capital\n",
        "portfolio_values = []\n",
        "portfolio_returns = []\n",
        "\n",
        "for i in range(1, len(a2c_train_returns_ret)):\n",
        "    # Calculate portfolio returns based on the weighted sum of security returns\n",
        "    portfolio_return = a2c_train_returns_ret['daily_return'].iloc[i]\n",
        "    capital *= (1 + portfolio_return)\n",
        "    portfolio_values.append(capital)\n",
        "    portfolio_returns.append(portfolio_return)\n",
        "\n",
        "# Plot the portfolio value over time\n",
        "plt.figure(figsize=(21, 9))\n",
        "plt.plot(returns_train_data.index[1:], portfolio_values, label=\"A2C RET Portfolio\", color=\"blue\")\n",
        "plt.title(\"Portfolio Performance based on A2C Algorithm on Lagged Returns State - Training Data\")\n",
        "plt.xlabel(\"Time\")\n",
        "plt.ylabel(\"Portfolio Value\")\n",
        "plt.legend()\n",
        "plt.show()\n",
        "\n",
        "Strategy_Returns_Data_trg[\"return_a2c_ret\"] = portfolio_returns\n",
        "\n",
        "# Calculate performance metrics\n",
        "final_value_trg_a2c_ret = capital\n",
        "total_return_trg_a2c_ret = final_value_trg_a2c_ret - initial_capital\n",
        "sharpe_ratio_trg_a2c_ret = np.mean(portfolio_returns) / np.std(portfolio_returns)*np.sqrt(252)\n",
        "annualized_return_trg_a2c_ret = (final_value_trg_a2c_ret / initial_capital) ** (1 / (len(returns_train_data) / 252)) - 1  # Assuming daily returns (252 trading days)\n",
        "maxdraw_trg_a2c_ret = getMaxDrawdown(pd.DataFrame(portfolio_values), 252)[1].min().values[0]*100\n",
        "\n",
        "print(f\"Final Portfolio Value: {final_value_trg_a2c_ret:.2f}\")\n",
        "print(f\"Total Return: {total_return_trg_a2c_ret:.2f}\")\n",
        "print(f\"Annualized Return: {annualized_return_trg_a2c_ret * 100:.2f}%\")\n",
        "print(f\"Sharpe Ratio: {sharpe_ratio_trg_a2c_ret:.4f}\")\n",
        "print(f\"Maximum draw down(%): {maxdraw_trg_a2c_ret:.4f}\")"
      ]
    },
    {
      "cell_type": "code",
      "execution_count": null,
      "metadata": {
        "id": "eRlAN5lMCfbB"
      },
      "outputs": [],
      "source": [
        "# A2C Test Model\n",
        "e_trade_gym = StockPortfolioEnv(df = test_data_ret, **env_kwargs)\n",
        "env_a2c_ret_test, obs_trade = e_trade_gym.get_sb_env()\n",
        "DynaCAAST_Env['a2c_ret_test'] = copy.copy(env_a2c_ret_test)\n",
        "DynaCAAST_Obs['a2c_ret_test'] = obs_trade.copy()\n",
        "a2c_test_returns_ret, _ = DRLAgent.DRL_prediction(model=trained_a2c_ret, test_data = test_data_ret, test_env = env_a2c_ret_test, test_obs = obs_trade)"
      ]
    },
    {
      "cell_type": "code",
      "execution_count": null,
      "metadata": {
        "id": "YctWmDH5CfbB"
      },
      "outputs": [],
      "source": [
        "capital = initial_capital\n",
        "portfolio_values = []\n",
        "portfolio_returns = []\n",
        "\n",
        "for i in range(1, len(a2c_test_returns_ret)):\n",
        "    # Calculate portfolio returns based on the weighted sum of security returns\n",
        "    portfolio_return = a2c_test_returns_ret['daily_return'].iloc[i]\n",
        "    capital *= (1 + portfolio_return)\n",
        "    portfolio_values.append(capital)\n",
        "    portfolio_returns.append(portfolio_return)\n",
        "\n",
        "# Plot the portfolio value over time\n",
        "plt.figure(figsize=(21, 9))\n",
        "plt.plot(a2c_test_returns_ret[\"date\"][1:], portfolio_values, label=\"A2C RET Portfolio\", color=\"green\")\n",
        "plt.title(\"Portfolio Performance based on A2C Algorithm with Lagged Returns as the state - Testing Data\")\n",
        "plt.xlabel(\"Time\")\n",
        "plt.ylabel(\"Portfolio Value\")\n",
        "plt.legend()\n",
        "plt.show()\n",
        "\n",
        "Strategy_Returns_Data_test[\"return_a2c_ret\"] = portfolio_returns\n",
        "\n",
        "# Calculate performance metrics\n",
        "final_value_test_a2c_ret = capital\n",
        "total_return_test_a2c_ret = final_value_test_a2c_ret - initial_capital\n",
        "sharpe_ratio_test_a2c_ret = np.mean(portfolio_returns) / np.std(portfolio_returns)*np.sqrt(252)\n",
        "annualized_return_test_a2c_ret = (final_value_test_a2c_ret / initial_capital) ** (1 / (len(returns_test_data) / 252)) - 1  # Assuming daily returns (252 trading days)\n",
        "maxdraw_test_a2c_ret = getMaxDrawdown(pd.DataFrame(portfolio_values), 252)[1].min().values[0]*100\n",
        "\n",
        "print(f\"Final Portfolio Value: {final_value_test_a2c_ret:.2f}\")\n",
        "print(f\"Total Return: {total_return_test_a2c_ret:.2f}\")\n",
        "print(f\"Annualized Return: {annualized_return_test_a2c_ret * 100:.2f}%\")\n",
        "print(f\"Sharpe Ratio : {sharpe_ratio_test_a2c_ret:.4f}\")\n",
        "print(f\"Maximum draw down(%): {maxdraw_test_a2c_ret:.4f}\")"
      ]
    },
    {
      "cell_type": "markdown",
      "metadata": {
        "id": "CdRAQEOqCfbC"
      },
      "source": [
        "## **L. PPO RL Model with Lagged Returns as the state of the RL agent**"
      ]
    },
    {
      "cell_type": "code",
      "execution_count": null,
      "metadata": {
        "id": "eGGVU54HCfbC"
      },
      "outputs": [],
      "source": [
        "agent = DRLAgent(env = env_train)\n",
        "\n",
        "model_ppo_ret = agent.get_model(\"ppo\", model_kwargs = PPO_PARAMS_RET)"
      ]
    },
    {
      "cell_type": "code",
      "execution_count": null,
      "metadata": {
        "id": "cZOc5a-VCfbC"
      },
      "outputs": [],
      "source": [
        "trained_ppo_ret = agent.train_model(model=model_ppo_ret, tb_log_name='ppo', total_timesteps=total_timesteps_)\n",
        "DynaCAAST_Model['ppo_ret'] = trained_ppo_ret"
      ]
    },
    {
      "cell_type": "code",
      "execution_count": null,
      "metadata": {
        "id": "0t_jNoUHCfbC"
      },
      "outputs": [],
      "source": [
        "# PPO Train Model\n",
        "e_trade_gym = StockPortfolioEnv(df = train_data_ret, **env_kwargs)\n",
        "env_trade, obs_trade = e_trade_gym.get_sb_env()\n",
        "\n",
        "ppo_train_returns_ret, _ = DRLAgent.DRL_prediction(model=trained_ppo_ret, test_data = train_data_ret, test_env = env_trade, test_obs = obs_trade)"
      ]
    },
    {
      "cell_type": "code",
      "execution_count": null,
      "metadata": {
        "id": "6DAEJXfGCfbC"
      },
      "outputs": [],
      "source": [
        "capital = initial_capital\n",
        "portfolio_values = []\n",
        "portfolio_returns = []\n",
        "\n",
        "for i in range(1, len(ppo_train_returns_ret)):\n",
        "    # Calculate portfolio returns based on the weighted sum of security returns\n",
        "    portfolio_return = ppo_train_returns_ret['daily_return'].iloc[i]\n",
        "    capital *= (1 + portfolio_return)\n",
        "    portfolio_values.append(capital)\n",
        "    portfolio_returns.append(portfolio_return)\n",
        "\n",
        "# Plot the portfolio value over time\n",
        "plt.figure(figsize=(21, 9))\n",
        "plt.plot(returns_train_data.index[1:], portfolio_values, label=\"PPO RET Portfolio\", color=\"blue\")\n",
        "plt.title(\"Portfolio Performance based on PPO Algorithm with Lagged Returns as the state  - Training Data\")\n",
        "plt.xlabel(\"Time\")\n",
        "plt.ylabel(\"Portfolio Value\")\n",
        "plt.legend()\n",
        "plt.show()\n",
        "\n",
        "Strategy_Returns_Data_trg[\"return_ppo_ret\"] = portfolio_returns\n",
        "\n",
        "# Calculate performance metrics\n",
        "final_value_trg_ppo_ret = capital\n",
        "total_return_trg_ppo_ret = final_value_trg_ppo_ret - initial_capital\n",
        "sharpe_ratio_trg_ppo_ret = np.mean(portfolio_returns) / np.std(portfolio_returns)*np.sqrt(252)\n",
        "annualized_return_trg_ppo_ret = (final_value_trg_ppo_ret / initial_capital) ** (1 / (len(returns_train_data) / 252)) - 1  # Assuming daily returns (252 trading days)\n",
        "maxdraw_trg_ppo_ret = getMaxDrawdown(pd.DataFrame(portfolio_values), 252)[1].min().values[0]*100\n",
        "\n",
        "print(f\"Final Portfolio Value: {final_value_trg_ppo_ret:.2f}\")\n",
        "print(f\"Total Return: {total_return_trg_ppo_ret:.2f}\")\n",
        "print(f\"Annualized Return: {annualized_return_trg_ppo_ret * 100:.2f}%\")\n",
        "print(f\"Sharpe Ratio: {sharpe_ratio_trg_ppo_ret:.4f}\")\n",
        "print(f\"Maximum draw down(%): {maxdraw_trg_ppo_ret:.4f}\")"
      ]
    },
    {
      "cell_type": "code",
      "execution_count": null,
      "metadata": {
        "id": "p1_7sxpMCfbD"
      },
      "outputs": [],
      "source": [
        "# PPO Test Model\n",
        "e_trade_gym = StockPortfolioEnv(df = test_data_ret, **env_kwargs)\n",
        "env_ppo_ret_test, obs_trade = e_trade_gym.get_sb_env()\n",
        "DynaCAAST_Env['ppo_ret_test'] = copy.copy(env_ppo_ret_test)\n",
        "DynaCAAST_Obs['ppo_ret_test'] = obs_trade.copy()\n",
        "ppo_test_returns_ret, _ = DRLAgent.DRL_prediction(model=trained_ppo_ret, test_data = test_data_ret, test_env = env_ppo_ret_test, test_obs = obs_trade)"
      ]
    },
    {
      "cell_type": "code",
      "execution_count": null,
      "metadata": {
        "id": "hjSCFcm9CfbD"
      },
      "outputs": [],
      "source": [
        "capital = initial_capital\n",
        "portfolio_values = []\n",
        "portfolio_returns = []\n",
        "\n",
        "for i in range(1, len(ppo_test_returns_ret)):\n",
        "    # Calculate portfolio returns based on the weighted sum of security returns\n",
        "    portfolio_return = ppo_test_returns_ret['daily_return'].iloc[i]\n",
        "    capital *= (1 + portfolio_return)\n",
        "    portfolio_values.append(capital)\n",
        "    portfolio_returns.append(portfolio_return)\n",
        "\n",
        "# Plot the portfolio value over time\n",
        "plt.figure(figsize=(21, 9))\n",
        "plt.plot(ppo_test_returns_ti[\"date\"][1:], portfolio_values, label=\"PPO RET Portfolio\", color=\"green\")\n",
        "plt.title(\"Portfolio Performance based on PPO Algorithm with Lagged Returns as the state  - Testing Data\")\n",
        "plt.xlabel(\"Time\")\n",
        "plt.ylabel(\"Portfolio Value\")\n",
        "plt.legend()\n",
        "plt.show()\n",
        "\n",
        "Strategy_Returns_Data_test[\"return_ppo_ret\"] = portfolio_returns\n",
        "\n",
        "# Calculate performance metrics\n",
        "final_value_test_ppo_ret = capital\n",
        "total_return_test_ppo_ret = final_value_test_ppo_ret - initial_capital\n",
        "sharpe_ratio_test_ppo_ret = np.mean(portfolio_returns) / np.std(portfolio_returns)*np.sqrt(252)\n",
        "annualized_return_test_ppo_ret = (final_value_test_ppo_ret / initial_capital) ** (1 / (len(ppo_test_returns_ret) / 252)) - 1  # Assuming daily returns (252 trading days)\n",
        "maxdraw_test_ppo_ret = getMaxDrawdown(pd.DataFrame(portfolio_values), 252)[1].min().values[0]*100\n",
        "\n",
        "print(f\"Final Portfolio Value: {final_value_test_ppo_ret:.2f}\")\n",
        "print(f\"Total Return: {total_return_test_ppo_ret:.2f}\")\n",
        "print(f\"Annualized Return: {annualized_return_test_ppo_ret * 100:.2f}%\")\n",
        "print(f\"Sharpe Ratio: {sharpe_ratio_test_ppo_ret:.4f}\")\n",
        "print(f\"Maximum draw down(%): {maxdraw_test_ppo_ret:.4f}\")"
      ]
    },
    {
      "cell_type": "markdown",
      "metadata": {
        "id": "HGL7AwwyCfbD"
      },
      "source": [
        "## **M. DDPG RL Model with Lagged Returns as the state of the RL agent**"
      ]
    },
    {
      "cell_type": "code",
      "execution_count": null,
      "metadata": {
        "id": "HxQ4zkt2CfbD"
      },
      "outputs": [],
      "source": [
        "agent = DRLAgent(env = env_train)\n",
        "model_ddpg_ret = agent.get_model(\"ddpg\", model_kwargs = DDPG_PARAMS_RET)"
      ]
    },
    {
      "cell_type": "code",
      "execution_count": null,
      "metadata": {
        "id": "pCt5rM5pCfbD"
      },
      "outputs": [],
      "source": [
        "trained_ddpg_ret = agent.train_model(model= model_ddpg_ret, tb_log_name='ddpg',  total_timesteps=total_timesteps_)\n",
        "DynaCAAST_Model['ddpg_ret'] = trained_ddpg_ret"
      ]
    },
    {
      "cell_type": "code",
      "execution_count": null,
      "metadata": {
        "id": "XVN5VeBKCfbD"
      },
      "outputs": [],
      "source": [
        "# DDPG Train Model num_stock = df_pct_change.shape[1]\n",
        "e_trade_gym = StockPortfolioEnv(df = train_data_ret, **env_kwargs)\n",
        "env_trade, obs_trade = e_trade_gym.get_sb_env()\n",
        "\n",
        "ddpg_train_returns_ret, _ = DRLAgent.DRL_prediction(model=trained_ddpg_ret, test_data = train_data_ret, test_env = env_trade, test_obs = obs_trade)"
      ]
    },
    {
      "cell_type": "code",
      "execution_count": null,
      "metadata": {
        "id": "GrrOv_UOCfbD"
      },
      "outputs": [],
      "source": [
        "capital = initial_capital\n",
        "portfolio_values = []\n",
        "portfolio_returns = []\n",
        "\n",
        "for i in range(1, len(ddpg_train_returns_ret)):\n",
        "    # Calculate portfolio returns based on the weighted sum of security returns\n",
        "    portfolio_return = ddpg_train_returns_ret['daily_return'].iloc[i]\n",
        "    capital *= (1 + portfolio_return)\n",
        "    portfolio_values.append(capital)\n",
        "    portfolio_returns.append(portfolio_return)\n",
        "\n",
        "# Plot the portfolio value over time\n",
        "plt.figure(figsize=(21, 9))\n",
        "plt.plot(returns_train_data.index[1:], portfolio_values, label=\"DDPG RET Portfolio\", color=\"blue\")\n",
        "plt.title(\"Portfolio Performance based on DDPG Algorithm with Lagged Returns as the state  - Training Data\")\n",
        "plt.xlabel(\"Time\")\n",
        "plt.ylabel(\"Portfolio Value\")\n",
        "plt.legend()\n",
        "plt.show()\n",
        "\n",
        "Strategy_Returns_Data_trg[\"return_ddpg_ret\"] = portfolio_returns\n",
        "\n",
        "# Calculate performance metrics\n",
        "final_value_trg_ddpg_ret = capital\n",
        "total_return_trg_ddpg_ret = final_value_trg_ddpg_ret - initial_capital\n",
        "sharpe_ratio_trg_ddpg_ret = np.mean(portfolio_returns) / np.std(portfolio_returns)*np.sqrt(252)\n",
        "annualized_return_trg_ddpg_ret = (final_value_trg_ddpg_ret / initial_capital) ** (1 / (len(returns_train_data) / 252)) - 1  # Assuming daily returns (252 trading days)\n",
        "maxdraw_trg_ddpg_ret = getMaxDrawdown(pd.DataFrame(portfolio_values), 252)[1].min().values[0]*100\n",
        "\n",
        "print(f\"Final Portfolio Value: {final_value_trg_ddpg_ret:.2f}\")\n",
        "print(f\"Total Return: {total_return_trg_ddpg_ret:.2f}\")\n",
        "print(f\"Annualized Return: {annualized_return_trg_ddpg_ret * 100:.2f}%\")\n",
        "print(f\"Sharpe Ratio: {sharpe_ratio_trg_ddpg_ret:.4f}\")\n",
        "print(f\"Maximum draw down(%): {maxdraw_trg_ddpg_ret:.4f}\")"
      ]
    },
    {
      "cell_type": "code",
      "execution_count": null,
      "metadata": {
        "id": "3tjGe35eCfbE"
      },
      "outputs": [],
      "source": [
        "# DDPG Test Model\n",
        "e_trade_gym = StockPortfolioEnv(df = test_data_ret, **env_kwargs)\n",
        "env_ddpg_ret_test, obs_trade = e_trade_gym.get_sb_env()\n",
        "DynaCAAST_Env['ddpg_ret_test'] = copy.copy(env_ddpg_ret_test)\n",
        "DynaCAAST_Obs['ddpg_ret_test'] = obs_trade.copy()\n",
        "ddpg_test_returns_ret, _ = DRLAgent.DRL_prediction(model=trained_ddpg_ret, test_data = test_data_ret, test_env = env_ddpg_ret_test, test_obs = obs_trade)"
      ]
    },
    {
      "cell_type": "code",
      "execution_count": null,
      "metadata": {
        "id": "JC0JkFQFCfbE"
      },
      "outputs": [],
      "source": [
        "capital = initial_capital\n",
        "portfolio_values = []\n",
        "portfolio_returns = []\n",
        "\n",
        "for i in range(1, len(ddpg_test_returns_ret)):\n",
        "    # Calculate portfolio returns based on the weighted sum of security returns\n",
        "    portfolio_return = ddpg_test_returns_ret['daily_return'].iloc[i]\n",
        "    capital *= (1 + portfolio_return)\n",
        "    portfolio_values.append(capital)\n",
        "    portfolio_returns.append(portfolio_return)\n",
        "\n",
        "# Plot the portfolio value over time\n",
        "plt.figure(figsize=(21, 9))\n",
        "plt.plot(ddpg_test_returns_ret[\"date\"][1:], portfolio_values, label=\"DDPG RET Portfolio\", color=\"green\")\n",
        "plt.title(\"Portfolio Performance based on DDPG Algorithm with Lagged Returns as the state  - Testing Data\")\n",
        "plt.xlabel(\"Time\")\n",
        "plt.ylabel(\"Portfolio Value\")\n",
        "plt.legend()\n",
        "plt.show()\n",
        "\n",
        "Strategy_Returns_Data_test[\"return_ddpg_ret\"] = portfolio_returns\n",
        "\n",
        "# Calculate performance metrics\n",
        "final_value_test_ddpg_ret = capital\n",
        "total_return_test_ddpg_ret = final_value_test_ddpg_ret - initial_capital\n",
        "sharpe_ratio_test_ddpg_ret = np.mean(portfolio_returns) / np.std(portfolio_returns)*np.sqrt(252)\n",
        "annualized_return_test_ddpg_ret = (final_value_test_ddpg_ret / initial_capital) ** (1 / (len(ddpg_test_returns_ret) / 252)) - 1  # Assuming daily returns (252 trading days)\n",
        "maxdraw_test_ddpg_ret = getMaxDrawdown(pd.DataFrame(portfolio_values), 252)[1].min().values[0]*100\n",
        "\n",
        "print(f\"Final Portfolio Value: {final_value_test_ddpg_ret:.2f}\")\n",
        "print(f\"Total Return: {total_return_test_ddpg_ret:.2f}\")\n",
        "print(f\"Annualized Return: {annualized_return_test_ddpg_ret * 100:.2f}%\")\n",
        "print(f\"Sharpe Ratio: {sharpe_ratio_test_ddpg_ret:.4f}\")\n",
        "print(f\"Maximum draw down(%): {maxdraw_test_ddpg_ret:.4f}\")"
      ]
    },
    {
      "cell_type": "markdown",
      "metadata": {
        "id": "TM4PkNmoCfbE"
      },
      "source": [
        "## **N. SAC RL Model with Lagged Returns as the state of the RL agent**"
      ]
    },
    {
      "cell_type": "code",
      "execution_count": null,
      "metadata": {
        "id": "WC71G20RCfbE"
      },
      "outputs": [],
      "source": [
        "agent = DRLAgent(env = env_train)\n",
        "model_sac_ret = agent.get_model(\"sac\",model_kwargs = SAC_PARAMS_RET)"
      ]
    },
    {
      "cell_type": "code",
      "execution_count": null,
      "metadata": {
        "id": "E1ap9xBcCfbE"
      },
      "outputs": [],
      "source": [
        "trained_sac_ret = agent.train_model(model=model_sac_ret, tb_log_name='sac', total_timesteps=total_timesteps_)\n",
        "DynaCAAST_Model['sac_ret'] = trained_sac_ret"
      ]
    },
    {
      "cell_type": "code",
      "execution_count": null,
      "metadata": {
        "id": "eucOsa4XCfbE"
      },
      "outputs": [],
      "source": [
        "#  SAC Train Model num_stock = df_pct_change.shape[1]\n",
        "e_trade_gym = StockPortfolioEnv(df = train_data_ret, **env_kwargs)\n",
        "env_trade, obs_trade = e_trade_gym.get_sb_env()\n",
        "\n",
        "sac_train_returns_ret, _ = DRLAgent.DRL_prediction(model=trained_sac_ret, test_data = train_data_ret, test_env = env_trade, test_obs = obs_trade)"
      ]
    },
    {
      "cell_type": "code",
      "execution_count": null,
      "metadata": {
        "id": "3THFEdIfCfbE"
      },
      "outputs": [],
      "source": [
        "capital = initial_capital\n",
        "portfolio_values = []\n",
        "portfolio_returns = []\n",
        "\n",
        "for i in range(1, len(sac_train_returns_ret)):\n",
        "    # Calculate portfolio returns based on the weighted sum of security returns\n",
        "    portfolio_return = sac_train_returns_ret['daily_return'].iloc[i]\n",
        "    capital *= (1 + portfolio_return)\n",
        "    portfolio_values.append(capital)\n",
        "    portfolio_returns.append(portfolio_return)\n",
        "\n",
        "# Plot the portfolio value over time\n",
        "plt.figure(figsize=(21, 9))\n",
        "plt.plot(returns_train_data.index[1:], portfolio_values, label=\"SAC RET Portfolio\", color=\"blue\")\n",
        "plt.title(\"Portfolio Performance based on SAC Algorithm with Lagged Returns as the state  - Training Data\")\n",
        "plt.xlabel(\"Time\")\n",
        "plt.ylabel(\"Portfolio Value\")\n",
        "plt.legend()\n",
        "plt.show()\n",
        "\n",
        "Strategy_Returns_Data_trg[\"return_sac_ret\"] = portfolio_returns\n",
        "\n",
        "# Calculate performance metrics\n",
        "final_value_trg_sac_ret = capital\n",
        "total_return_trg_sac_ret = final_value_trg_sac_ret - initial_capital\n",
        "sharpe_ratio_trg_sac_ret = np.mean(portfolio_returns) / np.std(portfolio_returns)*np.sqrt(252)\n",
        "annualized_return_trg_sac_ret = (final_value_trg_sac_ret / initial_capital) ** (1 / (len(returns_train_data) / 252)) - 1  # Assuming daily returns (252 trading days)\n",
        "maxdraw_trg_sac_ret = getMaxDrawdown(pd.DataFrame(portfolio_values), 252)[1].min().values[0]*100\n",
        "\n",
        "print(f\"Final Portfolio Value: {final_value_trg_sac_ret:.2f}\")\n",
        "print(f\"Total Return: {total_return_trg_sac_ret:.2f}\")\n",
        "print(f\"Annualized Return: {annualized_return_trg_sac_ret * 100:.2f}%\")\n",
        "print(f\"Sharpe Ratio Kelly: {sharpe_ratio_trg_sac_ret:.4f}\")\n",
        "print(f\"Maximum draw down(%): {maxdraw_trg_sac_ret:.4f}\")"
      ]
    },
    {
      "cell_type": "code",
      "execution_count": null,
      "metadata": {
        "id": "z1sIkg38CfbF"
      },
      "outputs": [],
      "source": [
        "# SAC Test Model\n",
        "e_trade_gym = StockPortfolioEnv(df = test_data_ret, **env_kwargs)\n",
        "env_sac_ret_test, obs_trade = e_trade_gym.get_sb_env()\n",
        "DynaCAAST_Env['sac_ret_test'] = copy.copy(env_sac_ret_test)\n",
        "DynaCAAST_Obs['sac_ret_test'] = obs_trade.copy()\n",
        "sac_test_returns_ret, _ = DRLAgent.DRL_prediction(model=trained_sac_ret, test_data = test_data_ret, test_env = env_sac_ret_test, test_obs = obs_trade)"
      ]
    },
    {
      "cell_type": "code",
      "execution_count": null,
      "metadata": {
        "id": "XUpTLLfLCfbF"
      },
      "outputs": [],
      "source": [
        "capital = initial_capital\n",
        "portfolio_values = []\n",
        "portfolio_returns = []\n",
        "\n",
        "for i in range(1, len(sac_test_returns_ret)):\n",
        "    # Calculate portfolio returns based on the weighted sum of security returns\n",
        "    portfolio_return = sac_test_returns_ret['daily_return'].iloc[i]\n",
        "    capital *= (1 + portfolio_return)\n",
        "    portfolio_values.append(capital)\n",
        "    portfolio_returns.append(portfolio_return)\n",
        "\n",
        "# Plot the portfolio value over time\n",
        "plt.figure(figsize=(21, 9))\n",
        "plt.plot(sac_test_returns_ret[\"date\"][1:], portfolio_values, label=\"SAC RET Portfolio\", color=\"green\")\n",
        "plt.title(\"Portfolio Performance based on SAC Algorithm with Lagged Returns as the state  - Testing Data\")\n",
        "plt.xlabel(\"Time\")\n",
        "plt.ylabel(\"Portfolio Value\")\n",
        "plt.legend()\n",
        "plt.show()\n",
        "\n",
        "Strategy_Returns_Data_test[\"return_sac_ret\"] = portfolio_returns\n",
        "\n",
        "# Calculate performance metrics\n",
        "final_value_test_sac_ret = capital\n",
        "total_return_test_sac_ret = final_value_test_sac_ret - initial_capital\n",
        "sharpe_ratio_test_sac_ret = np.mean(portfolio_returns) / np.std(portfolio_returns)*np.sqrt(252)\n",
        "annualized_return_test_sac_ret = (final_value_test_sac_ret / initial_capital) ** (1 / (len(sac_test_returns_ret) / 252)) - 1  # Assuming daily returns (252 trading days)\n",
        "maxdraw_test_sac_ret = getMaxDrawdown(pd.DataFrame(portfolio_values), 252)[1].min().values[0]*100\n",
        "\n",
        "print(f\"Final Portfolio Value: {final_value_test_sac_ret:.2f}\")\n",
        "print(f\"Total Return: {total_return_test_sac_ret:.2f}\")\n",
        "print(f\"Annualized Return: {annualized_return_test_sac_ret * 100:.2f}%\")\n",
        "print(f\"Sharpe Ratio: {sharpe_ratio_test_sac_ret:.4f}\")\n",
        "print(f\"Maximum draw down(%): {maxdraw_test_sac_ret:.4f}\")"
      ]
    },
    {
      "cell_type": "markdown",
      "metadata": {
        "id": "Qv48YLFgCfbF"
      },
      "source": [
        "## **O. TD3 RL Model with Lagged Returns as the state of the RL agent**"
      ]
    },
    {
      "cell_type": "code",
      "execution_count": null,
      "metadata": {
        "id": "wvGgjdPyCfbF"
      },
      "outputs": [],
      "source": [
        "agent = DRLAgent(env = env_train)\n",
        "model_td3_ret = agent.get_model(\"td3\", model_kwargs = TD3_PARAMS_RET)"
      ]
    },
    {
      "cell_type": "code",
      "execution_count": null,
      "metadata": {
        "id": "mZ6sSOz4CfbG"
      },
      "outputs": [],
      "source": [
        "trained_td3_ret = agent.train_model(model=model_td3_ret, tb_log_name='td3', total_timesteps=total_timesteps_)\n",
        "DynaCAAST_Model['td3_ret'] = trained_td3_ret"
      ]
    },
    {
      "cell_type": "code",
      "execution_count": null,
      "metadata": {
        "id": "ma53SivYCfbG"
      },
      "outputs": [],
      "source": [
        "# td3 Train Model num_stock = df_pct_change.shape[1]\n",
        "e_trade_gym = StockPortfolioEnv(df = train_data_ret, **env_kwargs)\n",
        "env_trade, obs_trade = e_trade_gym.get_sb_env()\n",
        "\n",
        "td3_train_returns_ret, _ = DRLAgent.DRL_prediction(model=trained_td3_ret, test_data = train_data_ret, test_env = env_trade, test_obs = obs_trade)"
      ]
    },
    {
      "cell_type": "code",
      "execution_count": null,
      "metadata": {
        "id": "QemZcgevCfbG"
      },
      "outputs": [],
      "source": [
        "capital = initial_capital\n",
        "portfolio_values = []\n",
        "portfolio_returns = []\n",
        "\n",
        "for i in range(1, len(td3_train_returns_ret)):\n",
        "    # Calculate portfolio returns based on the weighted sum of security returns\n",
        "    portfolio_return = td3_train_returns_ret['daily_return'].iloc[i]\n",
        "    capital *= (1 + portfolio_return)\n",
        "    portfolio_values.append(capital)\n",
        "    portfolio_returns.append(portfolio_return)\n",
        "\n",
        "# Plot the portfolio value over time\n",
        "plt.figure(figsize=(21, 9))\n",
        "plt.plot(returns_train_data.index[1:], portfolio_values, label=\"TD3 RET Portfolio\", color=\"blue\")\n",
        "plt.title(\"Portfolio Performance based on TD3 Algorithm with Lagged Returns as the state  - Training Data\")\n",
        "plt.xlabel(\"Time\")\n",
        "plt.ylabel(\"Portfolio Value\")\n",
        "plt.legend()\n",
        "plt.show()\n",
        "\n",
        "Strategy_Returns_Data_trg[\"return_td3_ret\"] = portfolio_returns\n",
        "\n",
        "# Calculate performance metrics\n",
        "final_value_trg_td3_ret = capital\n",
        "total_return_trg_td3_ret = final_value_trg_td3_ret - initial_capital\n",
        "sharpe_ratio_trg_td3_ret = np.mean(portfolio_returns) / np.std(portfolio_returns)*np.sqrt(252)\n",
        "annualized_return_trg_td3_ret = (final_value_trg_td3_ret / initial_capital) ** (1 / (len(returns_train_data) / 252)) - 1  # Assuming daily returns (252 trading days)\n",
        "maxdraw_trg_td3_ret = getMaxDrawdown(pd.DataFrame(portfolio_values), 252)[1].min().values[0]*100\n",
        "\n",
        "print(f\"Final Portfolio Value: {final_value_trg_td3_ret:.2f}\")\n",
        "print(f\"Total Return: {total_return_trg_td3_ret:.2f}\")\n",
        "print(f\"Annualized Return: {annualized_return_trg_td3_ret * 100:.2f}%\")\n",
        "print(f\"Sharpe Ratio: {sharpe_ratio_trg_td3_ret:.4f}\")\n",
        "print(f\"Maximum draw down(%): {maxdraw_trg_td3_ret:.4f}\")"
      ]
    },
    {
      "cell_type": "code",
      "execution_count": null,
      "metadata": {
        "id": "_ZMuTrhfCfbG"
      },
      "outputs": [],
      "source": [
        "# TD3 Test Model\n",
        "e_trade_gym = StockPortfolioEnv(df = test_data_ret, **env_kwargs)\n",
        "env_td3_ret_test, obs_trade = e_trade_gym.get_sb_env()\n",
        "DynaCAAST_Env['td3_ret_test'] = copy.copy(env_td3_ret_test)\n",
        "DynaCAAST_Obs['td3_ret_test'] = obs_trade.copy()\n",
        "td3_test_returns_ret, _ = DRLAgent.DRL_prediction(model=trained_td3_ret, test_data = test_data_ret, test_env = env_td3_ret_test, test_obs = obs_trade)"
      ]
    },
    {
      "cell_type": "code",
      "execution_count": null,
      "metadata": {
        "id": "w8cXCfCZCfbH"
      },
      "outputs": [],
      "source": [
        "capital = initial_capital\n",
        "portfolio_values = []\n",
        "portfolio_returns = []\n",
        "\n",
        "for i in range(1, len(td3_test_returns_ret)):\n",
        "    # Calculate portfolio returns based on the weighted sum of security returns\n",
        "    portfolio_return = td3_test_returns_ret['daily_return'].iloc[i]\n",
        "    capital *= (1 + portfolio_return)\n",
        "    portfolio_values.append(capital)\n",
        "    portfolio_returns.append(portfolio_return)\n",
        "\n",
        "# Plot the portfolio value over time\n",
        "plt.figure(figsize=(21, 9))\n",
        "plt.plot(td3_test_returns_ret[\"date\"][1:], portfolio_values, label=\"TD3 RET Portfolio\", color=\"green\")\n",
        "plt.title(\"Portfolio Performance based on TD3 Algorithm with Lagged Returns as the state  - Testing Data\")\n",
        "plt.xlabel(\"Time\")\n",
        "plt.ylabel(\"Portfolio Value\")\n",
        "plt.legend()\n",
        "plt.show()\n",
        "\n",
        "Strategy_Returns_Data_test[\"return_td3_ret\"] = portfolio_returns\n",
        "\n",
        "# Calculate performance metrics\n",
        "final_value_test_td3_ret = capital\n",
        "total_return_test_td3_ret = final_value_test_td3_ret - initial_capital\n",
        "sharpe_ratio_test_td3_ret = np.mean(portfolio_returns) / np.std(portfolio_returns)*np.sqrt(252)\n",
        "annualized_return_test_td3_ret = (final_value_test_td3_ret / initial_capital) ** (1 / (len(td3_test_returns_ret) / 252)) - 1  # Assuming daily returns (252 trading days)\n",
        "maxdraw_test_td3_ret = getMaxDrawdown(pd.DataFrame(portfolio_values), 252)[1].min().values[0]*100\n",
        "\n",
        "print(f\"Final Portfolio Value: {final_value_test_td3_ret:.2f}\")\n",
        "print(f\"Total Return: {total_return_test_td3_ret:.2f}\")\n",
        "print(f\"Annualized Return: {annualized_return_test_td3_ret * 100:.2f}%\")\n",
        "print(f\"Sharpe Ratio: {sharpe_ratio_test_td3_ret:.4f}\")\n",
        "print(f\"Maximum draw down(%): {maxdraw_test_td3_ret:.4f}\")"
      ]
    },
    {
      "cell_type": "markdown",
      "metadata": {
        "id": "3aBSGpV3CfbH"
      },
      "source": [
        "## **P. Performance Analysis of RL agents using Lagged Returns as their states**"
      ]
    },
    {
      "cell_type": "code",
      "execution_count": null,
      "metadata": {
        "id": "MOpgqDFkCfbH"
      },
      "outputs": [],
      "source": [
        "returns_train = prices_train_data.pct_change() # get the assets daily returns\n",
        "returns_test = prices_test_data.pct_change()\n",
        "\n",
        "\n",
        "a2c_train_cum_returns_ret = (1 + a2c_train_returns_ret.copy().reset_index(drop=True).set_index(['date'])).cumprod()\n",
        "a2c_train_cum_returns_ret = a2c_train_cum_returns_ret['daily_return']\n",
        "a2c_train_cum_returns_ret.name = 'A2C RET Model'\n",
        "\n",
        "ppo_train_cum_returns_ret = (1 + ppo_train_returns_ret.copy().reset_index(drop=True).set_index(['date'])).cumprod()\n",
        "ppo_train_cum_returns_ret = ppo_train_cum_returns_ret['daily_return']\n",
        "ppo_train_cum_returns_ret.name = 'PPO RET Model'\n",
        "\n",
        "ddpg_train_cum_returns_ret = (1 + ddpg_train_returns_ret.copy().reset_index(drop=True).set_index(['date'])).cumprod()\n",
        "ddpg_train_cum_returns_ret = ddpg_train_cum_returns_ret['daily_return']\n",
        "ddpg_train_cum_returns_ret.name = 'DDPG RET Model'\n",
        "\n",
        "sac_train_cum_returns_ret = (1 + sac_train_returns_ret.copy().reset_index(drop=True).set_index(['date'])).cumprod()\n",
        "sac_train_cum_returns_ret = sac_train_cum_returns_ret['daily_return']\n",
        "sac_train_cum_returns_ret.name = 'SAC RET Model'\n",
        "\n",
        "td3_train_cum_returns_ret = (1 + td3_train_returns_ret.copy().reset_index(drop=True).set_index(['date'])).cumprod()\n",
        "td3_train_cum_returns_ret = td3_train_cum_returns_ret['daily_return']\n",
        "td3_train_cum_returns_ret.name = 'TD3 RET Model'\n",
        "\n",
        "date_list = list(ddpg_train_cum_returns_ret.index)"
      ]
    },
    {
      "cell_type": "code",
      "execution_count": null,
      "metadata": {
        "id": "6FnVWsVmCfbH"
      },
      "outputs": [],
      "source": [
        "%matplotlib inline\n",
        "\n",
        "# Plot the culmulative returns of the portfolios\n",
        "fig, ax = plt.subplots(figsize=(21,9))\n",
        "a2c_train_cum_returns_ret.plot(ax=ax, color='blue', alpha=0.4)\n",
        "ppo_train_cum_returns_ret.plot(ax=ax, color='green', alpha=0.4)\n",
        "ddpg_train_cum_returns_ret.plot(ax=ax, color='skyblue', alpha=0.4)\n",
        "sac_train_cum_returns_ret.plot(ax=ax, color='red', alpha=0.4)\n",
        "td3_train_cum_returns_ret.plot(ax=ax, color='black', alpha=0.4)\n",
        "\n",
        "plt.legend(loc=\"best\");\n",
        "plt.grid(True);\n",
        "ax.set_ylabel(\"Cumulative return\");\n",
        "ax.set_title(\"Performance on the training data with the Return lags as the State\", fontsize=14);\n",
        "plt.show()"
      ]
    },
    {
      "cell_type": "code",
      "execution_count": null,
      "metadata": {
        "id": "BaaJU6DxCfbH"
      },
      "outputs": [],
      "source": [
        "%matplotlib inline\n",
        "\n",
        "# get the culmulative returns for each portfolio\n",
        "\n",
        "a2c_test_cum_returns_ret = (1 + a2c_test_returns_ret['daily_return']).cumprod()\n",
        "a2c_test_cum_returns_ret.name = 'A2C RET Model'\n",
        "a2c_test_cum_returns_ret.index = a2c_test_returns_ret['date']\n",
        "\n",
        "ppo_test_cum_returns_ret = (1 + ppo_test_returns_ret['daily_return']).cumprod()\n",
        "ppo_test_cum_returns_ret.name = 'PPO RET Model'\n",
        "ppo_test_cum_returns_ret.index = ppo_test_returns_ret['date']\n",
        "\n",
        "ddpg_test_cum_returns_ret = (1 + ddpg_test_returns_ret['daily_return']).cumprod()\n",
        "ddpg_test_cum_returns_ret.name = 'DDPG RET Model'\n",
        "ddpg_test_cum_returns_ret.index = ddpg_test_returns_ret['date']\n",
        "\n",
        "sac_test_cum_returns_ret = (1 + sac_test_returns_ret['daily_return']).cumprod()\n",
        "sac_test_cum_returns_ret.name = 'SAC RET Model'\n",
        "sac_test_cum_returns_ret.index = sac_test_returns_ret['date']\n",
        "\n",
        "td3_test_cum_returns_ret = (1 + td3_test_returns_ret['daily_return']).cumprod()\n",
        "td3_test_cum_returns_ret.name = 'TD3 RET Model'\n",
        "td3_test_cum_returns_ret.index = td3_test_returns_ret['date']\n"
      ]
    },
    {
      "cell_type": "code",
      "execution_count": null,
      "metadata": {
        "id": "g5hEjANbCfbJ"
      },
      "outputs": [],
      "source": [
        "%matplotlib inline\n",
        "# Plot the culmulative returns of the portfolios\n",
        "fig, ax = plt.subplots(figsize=(21,9))\n",
        "a2c_test_cum_returns_ret.plot(ax=ax, color='blue', alpha=.4)\n",
        "ppo_test_cum_returns_ret.plot(ax=ax, color='green', alpha=.4)\n",
        "ddpg_test_cum_returns_ret.plot(ax=ax, color='skyblue', alpha=.4)\n",
        "sac_test_cum_returns_ret.plot(ax=ax, color='red', alpha=0.4)\n",
        "td3_test_cum_returns_ret.plot(ax=ax, color='black', alpha=0.4)\n",
        "\n",
        "plt.legend(loc=\"best\");\n",
        "plt.grid(True);\n",
        "ax.set_ylabel(\"Cumulative return\");\n",
        "ax.set_title(\"Performance on the testing data with the Return lags as the State\", fontsize=14);"
      ]
    },
    {
      "cell_type": "markdown",
      "metadata": {
        "id": "QF_FmJaZChum"
      },
      "source": [
        "## **Q. A2C RL Model with LSTM predictions as the state of the RL agent**"
      ]
    },
    {
      "cell_type": "code",
      "execution_count": null,
      "metadata": {
        "id": "ifuEZeCOChun"
      },
      "outputs": [],
      "source": [
        "stock_dimension = len(tickers)\n",
        "state_space = stock_dimension"
      ]
    },
    {
      "cell_type": "code",
      "execution_count": null,
      "metadata": {
        "id": "3ihVG3MfChun"
      },
      "outputs": [],
      "source": [
        "env_kwargs = { \"hmax\": 500, \"initial_amount\": 1000000, \"transaction_cost_pct\": transaction_cost, \"state_space\": state_space,  \"stock_dim\": stock_dimension,  \"tech_indicator_list\": lstm_fcst,\n",
        "    \"action_space\": stock_dimension,  \"reward_scaling\": 0, 'initial_weights': [1/stock_dimension]*stock_dimension}"
      ]
    },
    {
      "cell_type": "code",
      "execution_count": null,
      "metadata": {
        "id": "8ByXgLZkChun"
      },
      "outputs": [],
      "source": [
        "e_train_gym = StockPortfolioEnv(df = train_data_lstm, **env_kwargs)"
      ]
    },
    {
      "cell_type": "code",
      "execution_count": null,
      "metadata": {
        "id": "WTYGf1cKChun"
      },
      "outputs": [],
      "source": [
        "env_train, _ = e_train_gym.get_sb_env()\n",
        "print(type(env_train))"
      ]
    },
    {
      "cell_type": "code",
      "execution_count": null,
      "metadata": {
        "id": "edxvq__KChuo"
      },
      "outputs": [],
      "source": [
        "# initialize\n",
        "agent = DRLAgent(env = env_train)\n",
        "model_a2c_lstm = agent.get_model(model_name=\"a2c\",model_kwargs = A2C_PARAMS_LSTM)\n"
      ]
    },
    {
      "cell_type": "code",
      "execution_count": null,
      "metadata": {
        "id": "C1dSl-VNChuo"
      },
      "outputs": [],
      "source": [
        "trained_a2c_lstm = agent.train_model(model=model_a2c_lstm, tb_log_name='a2c', total_timesteps=total_timesteps_)\n",
        "DynaCAAST_Model['a2c_lstm'] = trained_a2c_lstm"
      ]
    },
    {
      "cell_type": "code",
      "execution_count": null,
      "metadata": {
        "id": "IAv4EtcWChuo"
      },
      "outputs": [],
      "source": [
        "import time\n",
        "# A2C Train Model\n",
        "e_trade_gym = StockPortfolioEnv(df = train_data_lstm, **env_kwargs)\n",
        "env_trade, obs_trade = e_trade_gym.get_sb_env()\n",
        "\n",
        "a2c_train_returns_lstm, _ = DRLAgent.DRL_prediction(model=trained_a2c_lstm, test_data = train_data_lstm, test_env = env_trade, test_obs = obs_trade)"
      ]
    },
    {
      "cell_type": "code",
      "execution_count": null,
      "metadata": {
        "id": "SDCVKn55Chuo"
      },
      "outputs": [],
      "source": [
        "capital = initial_capital\n",
        "portfolio_values = []\n",
        "portfolio_returns = []\n",
        "\n",
        "for i in range(1, len(a2c_train_returns_lstm)):\n",
        "    # Calculate portfolio returns based on the weighted sum of security returns\n",
        "    portfolio_return = a2c_train_returns_lstm['daily_return'].iloc[i]\n",
        "    capital *= (1 + portfolio_return)\n",
        "    portfolio_values.append(capital)\n",
        "    portfolio_returns.append(portfolio_return)\n",
        "\n",
        "# Plot the portfolio value over time\n",
        "plt.figure(figsize=(21, 9))\n",
        "plt.plot(returns_train_data.index[1:], portfolio_values, label=\"A2C with LSTM as the State Portfolio\", color=\"blue\")\n",
        "plt.title(\"Portfolio Performance based on A2C Algorithm  with LSTM as the State - Training Data\")\n",
        "plt.xlabel(\"Time\")\n",
        "plt.ylabel(\"Portfolio Value\")\n",
        "plt.legend()\n",
        "plt.show()\n",
        "\n",
        "Strategy_Returns_Data_trg[\"return_a2c_lstm\"] = portfolio_returns\n",
        "\n",
        "# Calculate performance metrics\n",
        "final_value_trg_a2c_lstm = capital\n",
        "total_return_trg_a2c_lstm = final_value_trg_a2c_lstm - initial_capital\n",
        "sharpe_ratio_trg_a2c_lstm = np.mean(portfolio_returns) / np.std(portfolio_returns)*np.sqrt(252)\n",
        "annualized_return_trg_a2c_lstm = (final_value_trg_a2c_lstm / initial_capital) ** (1 / (len(returns_train_data) / 252)) - 1  # Assuming daily returns (252 trading days)\n",
        "maxdraw_trg_a2c_lstm = getMaxDrawdown(pd.DataFrame(portfolio_values), 252)[1].min().values[0]*100\n",
        "\n",
        "print(f\"Final Portfolio Value: {final_value_trg_a2c_lstm:.2f}\")\n",
        "print(f\"Total Return: {total_return_trg_a2c_lstm:.2f}\")\n",
        "print(f\"Annualized Return: {annualized_return_trg_a2c_lstm * 100:.2f}%\")\n",
        "print(f\"Sharpe Ratio: {sharpe_ratio_trg_a2c_lstm:.4f}\")\n",
        "print(f\"Maximum draw down(%): {maxdraw_trg_a2c_lstm:.4f}\")"
      ]
    },
    {
      "cell_type": "code",
      "execution_count": null,
      "metadata": {
        "id": "MbFvw1SrChuo"
      },
      "outputs": [],
      "source": [
        "# A2C Test Model\n",
        "e_trade_gym = StockPortfolioEnv(df = test_data_lstm, **env_kwargs)\n",
        "env_a2c_lstm_test, obs_trade = e_trade_gym.get_sb_env()\n",
        "DynaCAAST_Env['a2c_lstm_test'] = copy.copy(env_a2c_lstm_test)\n",
        "DynaCAAST_Obs['a2c_lstm_test'] = obs_trade.copy()\n",
        "a2c_test_returns_lstm, _ = DRLAgent.DRL_prediction(model=trained_a2c_lstm, test_data = test_data_lstm, test_env = env_a2c_lstm_test, test_obs = obs_trade)"
      ]
    },
    {
      "cell_type": "code",
      "execution_count": null,
      "metadata": {
        "id": "oFVbPl-cChuo"
      },
      "outputs": [],
      "source": [
        "capital = initial_capital\n",
        "portfolio_values = []\n",
        "portfolio_returns = []\n",
        "\n",
        "for i in range(1, len(a2c_test_returns_lstm)):\n",
        "    # Calculate portfolio returns based on the weighted sum of security returns\n",
        "    portfolio_return = a2c_test_returns_lstm['daily_return'].iloc[i]\n",
        "    capital *= (1 + portfolio_return)\n",
        "    portfolio_values.append(capital)\n",
        "    portfolio_returns.append(portfolio_return)\n",
        "\n",
        "# Plot the portfolio value over time\n",
        "plt.figure(figsize=(21, 9))\n",
        "plt.plot(a2c_test_returns_lstm[\"date\"][1:], portfolio_values, label=\"A2C Portfolio  with LSTM as the State\", color=\"green\")\n",
        "plt.title(\"Portfolio Performance based on A2C Algorithm  with LSTM as the State - Testing Data\")\n",
        "plt.xlabel(\"Time\")\n",
        "plt.ylabel(\"Portfolio Value\")\n",
        "plt.legend()\n",
        "plt.show()\n",
        "\n",
        "Strategy_Returns_Data_test[\"return_a2c_lstm\"] = portfolio_returns\n",
        "\n",
        "# Calculate performance metrics\n",
        "final_value_test_a2c_lstm = capital\n",
        "total_return_test_a2c_lstm = final_value_test_a2c_lstm - initial_capital\n",
        "sharpe_ratio_test_a2c_lstm = np.mean(portfolio_returns) / np.std(portfolio_returns)*np.sqrt(252)\n",
        "annualized_return_test_a2c_lstm = (final_value_test_a2c_lstm / initial_capital) ** (1 / (len(returns_test_data) / 252)) - 1  # Assuming daily returns (252 trading days)\n",
        "maxdraw_test_a2c_lstm = getMaxDrawdown(pd.DataFrame(portfolio_values), 252)[1].min().values[0]*100\n",
        "\n",
        "print(f\"Final Portfolio Value: {final_value_test_a2c_lstm:.2f}\")\n",
        "print(f\"Total Return: {total_return_test_a2c_lstm:.2f}\")\n",
        "print(f\"Annualized Return: {annualized_return_test_a2c_lstm * 100:.2f}%\")\n",
        "print(f\"Sharpe Ratio : {sharpe_ratio_test_a2c_lstm:.4f}\")\n",
        "print(f\"Maximum draw down(%): {maxdraw_test_a2c_lstm:.4f}\")"
      ]
    },
    {
      "cell_type": "markdown",
      "metadata": {
        "id": "CNRKrPJTChup"
      },
      "source": [
        "## **R. PPO RL Model with LSTM predictions as the state of the RL agent**"
      ]
    },
    {
      "cell_type": "code",
      "execution_count": null,
      "metadata": {
        "id": "tT_JwJMxChup"
      },
      "outputs": [],
      "source": [
        "agent = DRLAgent(env = env_train)\n",
        "\n",
        "model_ppo_lstm = agent.get_model(\"ppo\", model_kwargs = PPO_PARAMS_LSTM)"
      ]
    },
    {
      "cell_type": "code",
      "execution_count": null,
      "metadata": {
        "id": "cyDlhmJ-Chup"
      },
      "outputs": [],
      "source": [
        "trained_ppo_lstm = agent.train_model(model=model_ppo_lstm, tb_log_name='ppo', total_timesteps=total_timesteps_)\n",
        "DynaCAAST_Model['ppo_lstm'] = trained_ppo_lstm"
      ]
    },
    {
      "cell_type": "code",
      "execution_count": null,
      "metadata": {
        "id": "VB63jE5jChup"
      },
      "outputs": [],
      "source": [
        "# PPO Train Model\n",
        "e_trade_gym = StockPortfolioEnv(df = train_data_lstm, **env_kwargs)\n",
        "env_trade, obs_trade = e_trade_gym.get_sb_env()\n",
        "\n",
        "ppo_train_returns_lstm, _ = DRLAgent.DRL_prediction(model=trained_ppo_lstm, test_data = train_data_lstm, test_env = env_trade, test_obs = obs_trade)"
      ]
    },
    {
      "cell_type": "code",
      "execution_count": null,
      "metadata": {
        "id": "hkZ_PAsSChup"
      },
      "outputs": [],
      "source": [
        "capital = initial_capital\n",
        "portfolio_values = []\n",
        "portfolio_returns = []\n",
        "\n",
        "for i in range(1, len(ppo_train_returns_lstm)):\n",
        "    # Calculate portfolio returns based on the weighted sum of security returns\n",
        "    portfolio_return = ppo_train_returns_lstm['daily_return'].iloc[i]\n",
        "    capital *= (1 + portfolio_return)\n",
        "    portfolio_values.append(capital)\n",
        "    portfolio_returns.append(portfolio_return)\n",
        "\n",
        "# Plot the portfolio value over time\n",
        "plt.figure(figsize=(21, 9))\n",
        "plt.plot(returns_train_data.index[1:], portfolio_values, label=\"PPO Portfolio with LSTM as the State \", color=\"blue\")\n",
        "plt.title(\"Portfolio Performance based on PPO Algorithm  with LSTM as the State - Training Data\")\n",
        "plt.xlabel(\"Time\")\n",
        "plt.ylabel(\"Portfolio Value\")\n",
        "plt.legend()\n",
        "plt.show()\n",
        "\n",
        "Strategy_Returns_Data_trg[\"return_ppo_lstm\"] = portfolio_returns\n",
        "\n",
        "# Calculate performance metrics\n",
        "final_value_trg_ppo_lstm = capital\n",
        "total_return_trg_ppo_lstm = final_value_trg_ppo_lstm - initial_capital\n",
        "sharpe_ratio_trg_ppo_lstm = np.mean(portfolio_returns) / np.std(portfolio_returns)*np.sqrt(252)\n",
        "annualized_return_trg_ppo_lstm = (final_value_trg_ppo_lstm / initial_capital) ** (1 / (len(returns_train_data) / 252)) - 1  # Assuming daily returns (252 trading days)\n",
        "maxdraw_trg_ppo_lstm = getMaxDrawdown(pd.DataFrame(portfolio_values), 252)[1].min().values[0]*100\n",
        "\n",
        "print(f\"Final Portfolio Value: {final_value_trg_ppo_lstm:.2f}\")\n",
        "print(f\"Total Return: {total_return_trg_ppo_lstm:.2f}\")\n",
        "print(f\"Annualized Return: {annualized_return_trg_ppo_lstm * 100:.2f}%\")\n",
        "print(f\"Sharpe Ratio: {sharpe_ratio_trg_ppo_lstm:.4f}\")\n",
        "print(f\"Maximum draw down(%): {maxdraw_trg_ppo_lstm:.4f}\")"
      ]
    },
    {
      "cell_type": "code",
      "execution_count": null,
      "metadata": {
        "id": "VaFg7B8pChuq"
      },
      "outputs": [],
      "source": [
        "# PPO Test Model\n",
        "e_trade_gym = StockPortfolioEnv(df = test_data_lstm, **env_kwargs)\n",
        "env_ppo_lstm_test, obs_trade = e_trade_gym.get_sb_env()\n",
        "DynaCAAST_Env['ppo_lstm_test'] = copy.copy(env_ppo_lstm_test)\n",
        "DynaCAAST_Obs['ppo_lstm_test'] = obs_trade.copy()\n",
        "ppo_test_returns_lstm, _ = DRLAgent.DRL_prediction(model=trained_ppo_lstm, test_data = test_data_lstm, test_env = env_ppo_lstm_test, test_obs = obs_trade)"
      ]
    },
    {
      "cell_type": "code",
      "execution_count": null,
      "metadata": {
        "id": "M6Rt7Sm-Chuq"
      },
      "outputs": [],
      "source": [
        "capital = initial_capital\n",
        "portfolio_values = []\n",
        "portfolio_returns = []\n",
        "\n",
        "for i in range(1, len(ppo_test_returns_lstm)):\n",
        "    # Calculate portfolio returns based on the weighted sum of security returns\n",
        "    portfolio_return = ppo_test_returns_lstm['daily_return'].iloc[i]\n",
        "    capital *= (1 + portfolio_return)\n",
        "    portfolio_values.append(capital)\n",
        "    portfolio_returns.append(portfolio_return)\n",
        "\n",
        "# Plot the portfolio value over time\n",
        "plt.figure(figsize=(21, 9))\n",
        "plt.plot(ppo_test_returns_lstm[\"date\"][1:], portfolio_values, label=\"PPO Portfolio with LSTM as the State\", color=\"green\")\n",
        "plt.title(\"Portfolio Performance based on PPO Algorithm with LSTM as the State  - Testing Data\")\n",
        "plt.xlabel(\"Time\")\n",
        "plt.ylabel(\"Portfolio Value\")\n",
        "plt.legend()\n",
        "plt.show()\n",
        "\n",
        "Strategy_Returns_Data_test[\"return_ppo_lstm\"] = portfolio_returns\n",
        "\n",
        "# Calculate performance metrics\n",
        "final_value_test_ppo_lstm = capital\n",
        "total_return_test_ppo_lstm = final_value_test_ppo_lstm - initial_capital\n",
        "sharpe_ratio_test_ppo_lstm = np.mean(portfolio_returns) / np.std(portfolio_returns)*np.sqrt(252)\n",
        "annualized_return_test_ppo_lstm = (final_value_test_ppo_lstm / initial_capital) ** (1 / (len(ppo_test_returns_lstm) / 252)) - 1  # Assuming daily returns (252 trading days)\n",
        "maxdraw_test_ppo_lstm = getMaxDrawdown(pd.DataFrame(portfolio_values), 252)[1].min().values[0]*100\n",
        "\n",
        "print(f\"Final Portfolio Value: {final_value_test_ppo_lstm:.2f}\")\n",
        "print(f\"Total Return: {total_return_test_ppo_lstm:.2f}\")\n",
        "print(f\"Annualized Return: {annualized_return_test_ppo_lstm * 100:.2f}%\")\n",
        "print(f\"Sharpe Ratio: {sharpe_ratio_test_ppo_lstm:.4f}\")\n",
        "print(f\"Maximum draw down(%): {maxdraw_test_ppo_lstm:.4f}\")"
      ]
    },
    {
      "cell_type": "markdown",
      "metadata": {
        "id": "BkF9jljDChuq"
      },
      "source": [
        "## **S. DDPG RL Model with LSTM predictions as the state of the RL agent**"
      ]
    },
    {
      "cell_type": "code",
      "execution_count": null,
      "metadata": {
        "id": "A0SM_wKrChuq"
      },
      "outputs": [],
      "source": [
        "agent = DRLAgent(env = env_train)\n",
        "model_ddpg_lstm = agent.get_model(\"ddpg\", model_kwargs = DDPG_PARAMS_LSTM)"
      ]
    },
    {
      "cell_type": "code",
      "execution_count": null,
      "metadata": {
        "id": "JLlRwA6kChuq"
      },
      "outputs": [],
      "source": [
        "trained_ddpg_lstm = agent.train_model(model= model_ddpg_lstm, tb_log_name='ddpg',  total_timesteps=total_timesteps_)\n",
        "DynaCAAST_Model['ddpg_lstm'] = trained_ddpg_lstm"
      ]
    },
    {
      "cell_type": "code",
      "execution_count": null,
      "metadata": {
        "id": "PQf6I3lMChuq"
      },
      "outputs": [],
      "source": [
        "# DDPG Train Model num_stock = df_pct_change.shape[1]\n",
        "e_trade_gym = StockPortfolioEnv(df = train_data_lstm, **env_kwargs)\n",
        "env_trade, obs_trade = e_trade_gym.get_sb_env()\n",
        "\n",
        "ddpg_train_returns_lstm, _ = DRLAgent.DRL_prediction(model=trained_ddpg_lstm, test_data = train_data_lstm, test_env = env_trade, test_obs = obs_trade)"
      ]
    },
    {
      "cell_type": "code",
      "execution_count": null,
      "metadata": {
        "id": "UonddUbDChuq"
      },
      "outputs": [],
      "source": [
        "capital = initial_capital\n",
        "portfolio_values = []\n",
        "portfolio_returns = []\n",
        "\n",
        "for i in range(1, len(ddpg_train_returns_lstm)):\n",
        "    # Calculate portfolio returns based on the weighted sum of security returns\n",
        "    portfolio_return = ddpg_train_returns_lstm['daily_return'].iloc[i]\n",
        "    capital *= (1 + portfolio_return)\n",
        "    portfolio_values.append(capital)\n",
        "    portfolio_returns.append(portfolio_return)\n",
        "\n",
        "# Plot the portfolio value over time\n",
        "plt.figure(figsize=(21, 9))\n",
        "plt.plot(returns_train_data.index[1:], portfolio_values, label=\"DDPG Portfolio with LSTM as the State \", color=\"blue\")\n",
        "plt.title(\"Portfolio Performance based on DDPG Algorithm with LSTM as the State - Training Data\")\n",
        "plt.xlabel(\"Time\")\n",
        "plt.ylabel(\"Portfolio Value\")\n",
        "plt.legend()\n",
        "plt.show()\n",
        "\n",
        "Strategy_Returns_Data_trg[\"return_ddpg_lstm\"] = portfolio_returns\n",
        "\n",
        "# Calculate performance metrics\n",
        "final_value_trg_ddpg_lstm = capital\n",
        "total_return_trg_ddpg_lstm = final_value_trg_ddpg_lstm - initial_capital\n",
        "sharpe_ratio_trg_ddpg_lstm = np.mean(portfolio_returns) / np.std(portfolio_returns)*np.sqrt(252)\n",
        "annualized_return_trg_ddpg_lstm = (final_value_trg_ddpg_lstm / initial_capital) ** (1 / (len(returns_train_data) / 252)) - 1  # Assuming daily returns (252 trading days)\n",
        "maxdraw_trg_ddpg_lstm = getMaxDrawdown(pd.DataFrame(portfolio_values), 252)[1].min().values[0]*100\n",
        "\n",
        "print(f\"Final Portfolio Value: {final_value_trg_ddpg_lstm:.2f}\")\n",
        "print(f\"Total Return: {total_return_trg_ddpg_lstm:.2f}\")\n",
        "print(f\"Annualized Return: {annualized_return_trg_ddpg_lstm * 100:.2f}%\")\n",
        "print(f\"Sharpe Ratio: {sharpe_ratio_trg_ddpg_lstm:.4f}\")\n",
        "print(f\"Maximum draw down(%): {maxdraw_trg_ddpg_lstm:.4f}\")"
      ]
    },
    {
      "cell_type": "code",
      "execution_count": null,
      "metadata": {
        "id": "ahBJK0ibChur"
      },
      "outputs": [],
      "source": [
        "# DDPG Test Model\n",
        "e_trade_gym = StockPortfolioEnv(df = test_data_lstm, **env_kwargs)\n",
        "env_ddpg_lstm_test, obs_trade = e_trade_gym.get_sb_env()\n",
        "DynaCAAST_Env['ddpg_lstm_test'] = copy.copy(env_ddpg_lstm_test)\n",
        "DynaCAAST_Obs['ddpg_lstm_test'] = obs_trade.copy()\n",
        "ddpg_test_returns_lstm, _ = DRLAgent.DRL_prediction(model=trained_ddpg_lstm, test_data = test_data_lstm, test_env = env_ddpg_lstm_test, test_obs = obs_trade)"
      ]
    },
    {
      "cell_type": "code",
      "execution_count": null,
      "metadata": {
        "id": "xiX9OYE4Chur"
      },
      "outputs": [],
      "source": [
        "capital = initial_capital\n",
        "portfolio_values = []\n",
        "portfolio_returns = []\n",
        "\n",
        "for i in range(1, len(ddpg_test_returns_lstm)):\n",
        "    # Calculate portfolio returns based on the weighted sum of security returns\n",
        "    portfolio_return = ddpg_test_returns_lstm['daily_return'].iloc[i]\n",
        "    capital *= (1 + portfolio_return)\n",
        "    portfolio_values.append(capital)\n",
        "    portfolio_returns.append(portfolio_return)\n",
        "\n",
        "# Plot the portfolio value over time\n",
        "plt.figure(figsize=(21, 9))\n",
        "plt.plot(ddpg_test_returns_lstm[\"date\"][1:], portfolio_values, label=\"DDPG Portfolio with LSTM as State\", color=\"green\")\n",
        "plt.title(\"Portfolio Performance based on DDPG Algorithm with LSTM as State - Testing Data\")\n",
        "plt.xlabel(\"Time\")\n",
        "plt.ylabel(\"Portfolio Value\")\n",
        "plt.legend()\n",
        "plt.show()\n",
        "\n",
        "Strategy_Returns_Data_test[\"return_ddpg_lstm\"] = portfolio_returns\n",
        "\n",
        "# Calculate performance metrics\n",
        "final_value_test_ddpg_lstm = capital\n",
        "total_return_test_ddpg_lstm = final_value_test_ddpg_lstm - initial_capital\n",
        "sharpe_ratio_test_ddpg_lstm = np.mean(portfolio_returns) / np.std(portfolio_returns)*np.sqrt(252)\n",
        "annualized_return_test_ddpg_lstm = (final_value_test_ddpg_lstm / initial_capital) ** (1 / (len(ddpg_test_returns_lstm) / 252)) - 1  # Assuming daily returns (252 trading days)\n",
        "maxdraw_test_ddpg_lstm = getMaxDrawdown(pd.DataFrame(portfolio_values), 252)[1].min().values[0]*100\n",
        "\n",
        "print(f\"Final Portfolio Value: {final_value_test_ddpg_lstm:.2f}\")\n",
        "print(f\"Total Return: {total_return_test_ddpg_lstm:.2f}\")\n",
        "print(f\"Annualized Return: {annualized_return_test_ddpg_lstm * 100:.2f}%\")\n",
        "print(f\"Sharpe Ratio: {sharpe_ratio_test_ddpg_lstm:.4f}\")\n",
        "print(f\"Maximum draw down(%): {maxdraw_test_ddpg_lstm:.4f}\")"
      ]
    },
    {
      "cell_type": "markdown",
      "metadata": {
        "id": "rtB6pW7AChur"
      },
      "source": [
        "## **T. SAC RL Model with LSTM predictions as the state of the RL agent**"
      ]
    },
    {
      "cell_type": "code",
      "execution_count": null,
      "metadata": {
        "id": "whchEAIHChur"
      },
      "outputs": [],
      "source": [
        "agent = DRLAgent(env = env_train)\n",
        "model_sac_lstm = agent.get_model(\"sac\",model_kwargs = SAC_PARAMS_LSTM)"
      ]
    },
    {
      "cell_type": "code",
      "execution_count": null,
      "metadata": {
        "id": "YvOB6Oh7Chur"
      },
      "outputs": [],
      "source": [
        "trained_sac_lstm = agent.train_model(model=model_sac_lstm, tb_log_name='sac', total_timesteps=total_timesteps_)\n",
        "DynaCAAST_Model['sac_lstm'] = trained_sac_lstm"
      ]
    },
    {
      "cell_type": "code",
      "execution_count": null,
      "metadata": {
        "id": "cNYrct8-Chur"
      },
      "outputs": [],
      "source": [
        "#  SAC Train Model num_stock = df_pct_change.shape[1]\n",
        "e_trade_gym = StockPortfolioEnv(df = train_data_lstm, **env_kwargs)\n",
        "env_trade, obs_trade = e_trade_gym.get_sb_env()\n",
        "\n",
        "sac_train_returns_lstm, _ = DRLAgent.DRL_prediction(model=trained_sac_lstm, test_data = train_data_lstm, test_env = env_trade, test_obs = obs_trade)"
      ]
    },
    {
      "cell_type": "code",
      "execution_count": null,
      "metadata": {
        "id": "wl6svvzQChus"
      },
      "outputs": [],
      "source": [
        "capital = initial_capital\n",
        "portfolio_values = []\n",
        "portfolio_returns = []\n",
        "\n",
        "for i in range(1, len(sac_train_returns_lstm)):\n",
        "    # Calculate portfolio returns based on the weighted sum of security returns\n",
        "    portfolio_return = sac_train_returns_lstm['daily_return'].iloc[i]\n",
        "    capital *= (1 + portfolio_return)\n",
        "    portfolio_values.append(capital)\n",
        "    portfolio_returns.append(portfolio_return)\n",
        "\n",
        "# Plot the portfolio value over time\n",
        "plt.figure(figsize=(21, 9))\n",
        "plt.plot(returns_train_data.index[1:], portfolio_values, label=\"SAC Portfolio with LSTM as State\", color=\"blue\")\n",
        "plt.title(\"Portfolio Performance based on SAC Algorithm with LSTM as State - Training Data\")\n",
        "plt.xlabel(\"Time\")\n",
        "plt.ylabel(\"Portfolio Value\")\n",
        "plt.legend()\n",
        "plt.show()\n",
        "\n",
        "Strategy_Returns_Data_trg[\"return_sac_lstm\"] = portfolio_returns\n",
        "\n",
        "# Calculate performance metrics\n",
        "final_value_trg_sac_lstm = capital\n",
        "total_return_trg_sac_lstm = final_value_trg_sac_lstm - initial_capital\n",
        "sharpe_ratio_trg_sac_lstm = np.mean(portfolio_returns) / np.std(portfolio_returns)*np.sqrt(252)\n",
        "annualized_return_trg_sac_lstm = (final_value_trg_sac_lstm / initial_capital) ** (1 / (len(returns_train_data) / 252)) - 1  # Assuming daily returns (252 trading days)\n",
        "maxdraw_trg_sac_lstm = getMaxDrawdown(pd.DataFrame(portfolio_values), 252)[1].min().values[0]*100\n",
        "\n",
        "print(f\"Final Portfolio Value: {final_value_trg_sac_lstm:.2f}\")\n",
        "print(f\"Total Return: {total_return_trg_sac_lstm:.2f}\")\n",
        "print(f\"Annualized Return: {annualized_return_trg_sac_lstm * 100:.2f}%\")\n",
        "print(f\"Sharpe Ratio Kelly: {sharpe_ratio_trg_sac_lstm:.4f}\")\n",
        "print(f\"Maximum draw down(%): {maxdraw_trg_sac_lstm:.4f}\")"
      ]
    },
    {
      "cell_type": "code",
      "execution_count": null,
      "metadata": {
        "id": "iXZylVYnChus"
      },
      "outputs": [],
      "source": [
        "# SAC Test Model\n",
        "e_trade_gym = StockPortfolioEnv(df = test_data_lstm, **env_kwargs)\n",
        "env_sac_lstm_test, obs_trade = e_trade_gym.get_sb_env()\n",
        "DynaCAAST_Env['sac_lstm_test'] = copy.copy(env_sac_lstm_test)\n",
        "DynaCAAST_Obs['sac_lstm_test'] = obs_trade.copy()\n",
        "sac_test_returns_lstm, _ = DRLAgent.DRL_prediction(model=trained_sac_lstm, test_data = test_data_lstm, test_env = env_sac_lstm_test, test_obs = obs_trade)"
      ]
    },
    {
      "cell_type": "code",
      "execution_count": null,
      "metadata": {
        "id": "4kJfkw07Chus"
      },
      "outputs": [],
      "source": [
        "capital = initial_capital\n",
        "portfolio_values = []\n",
        "portfolio_returns = []\n",
        "\n",
        "for i in range(1, len(sac_test_returns_lstm)):\n",
        "    # Calculate portfolio returns based on the weighted sum of security returns\n",
        "    portfolio_return = sac_test_returns_lstm['daily_return'].iloc[i]\n",
        "    capital *= (1 + portfolio_return)\n",
        "    portfolio_values.append(capital)\n",
        "    portfolio_returns.append(portfolio_return)\n",
        "\n",
        "# Plot the portfolio value over time\n",
        "plt.figure(figsize=(21, 9))\n",
        "plt.plot(sac_test_returns_lstm[\"date\"][1:], portfolio_values, label=\"SAC Portfolio with LSTM as State\", color=\"green\")\n",
        "plt.title(\"Portfolio Performance based on SAC Algorithm with LSTM as State - Testing Data\")\n",
        "plt.xlabel(\"Time\")\n",
        "plt.ylabel(\"Portfolio Value\")\n",
        "plt.legend()\n",
        "plt.show()\n",
        "\n",
        "Strategy_Returns_Data_test[\"return_sac_lstm\"] = portfolio_returns\n",
        "\n",
        "# Calculate performance metrics\n",
        "final_value_test_sac_lstm = capital\n",
        "total_return_test_sac_lstm = final_value_test_sac_lstm - initial_capital\n",
        "sharpe_ratio_test_sac_lstm = np.mean(portfolio_returns) / np.std(portfolio_returns)*np.sqrt(252)\n",
        "annualized_return_test_sac_lstm = (final_value_test_sac_lstm / initial_capital) ** (1 / (len(sac_test_returns_lstm) / 252)) - 1  # Assuming daily returns (252 trading days)\n",
        "maxdraw_test_sac_lstm = getMaxDrawdown(pd.DataFrame(portfolio_values), 252)[1].min().values[0]*100\n",
        "\n",
        "print(f\"Final Portfolio Value: {final_value_test_sac_lstm:.2f}\")\n",
        "print(f\"Total Return: {total_return_test_sac_lstm:.2f}\")\n",
        "print(f\"Annualized Return: {annualized_return_test_sac_lstm * 100:.2f}%\")\n",
        "print(f\"Sharpe Ratio: {sharpe_ratio_test_sac_lstm:.4f}\")\n",
        "print(f\"Maximum draw down(%): {maxdraw_test_sac_lstm:.4f}\")"
      ]
    },
    {
      "cell_type": "markdown",
      "metadata": {
        "id": "UlibehAUChus"
      },
      "source": [
        "## **U. TD3 RL Model with LSTM predictions as the state of the RL agent**"
      ]
    },
    {
      "cell_type": "code",
      "execution_count": null,
      "metadata": {
        "id": "mBO0mq-XChut"
      },
      "outputs": [],
      "source": [
        "agent = DRLAgent(env = env_train)\n",
        "model_td3_lstm = agent.get_model(\"td3\", model_kwargs = TD3_PARAMS_LSTM)"
      ]
    },
    {
      "cell_type": "code",
      "execution_count": null,
      "metadata": {
        "id": "SZOzbi2qChut"
      },
      "outputs": [],
      "source": [
        "trained_td3_lstm = agent.train_model(model=model_td3_lstm, tb_log_name='td3', total_timesteps=total_timesteps_)\n",
        "DynaCAAST_Model['td3_lstm'] = trained_td3_lstm"
      ]
    },
    {
      "cell_type": "code",
      "execution_count": null,
      "metadata": {
        "id": "TQ9zv55bChut"
      },
      "outputs": [],
      "source": [
        "# td3 Train Model num_stock = df_pct_change.shape[1]\n",
        "e_trade_gym = StockPortfolioEnv(df = train_data_lstm, **env_kwargs)\n",
        "env_trade, obs_trade = e_trade_gym.get_sb_env()\n",
        "\n",
        "td3_train_returns_lstm, _ = DRLAgent.DRL_prediction(model=trained_td3_lstm, test_data = train_data_lstm, test_env = env_trade, test_obs = obs_trade)"
      ]
    },
    {
      "cell_type": "code",
      "execution_count": null,
      "metadata": {
        "id": "ZEHUdYPYChut"
      },
      "outputs": [],
      "source": [
        "capital = initial_capital\n",
        "portfolio_values = []\n",
        "portfolio_returns = []\n",
        "\n",
        "for i in range(1, len(td3_train_returns_lstm)):\n",
        "    # Calculate portfolio returns based on the weighted sum of security returns\n",
        "    portfolio_return = td3_train_returns_lstm['daily_return'].iloc[i]\n",
        "    capital *= (1 + portfolio_return)\n",
        "    portfolio_values.append(capital)\n",
        "    portfolio_returns.append(portfolio_return)\n",
        "\n",
        "# Plot the portfolio value over time\n",
        "plt.figure(figsize=(21, 9))\n",
        "plt.plot(returns_train_data.index[1:], portfolio_values, label=\"TD3 Portfolio with LSTM as State\", color=\"blue\")\n",
        "plt.title(\"Portfolio Performance based on TD3 Algorithm with LSTM as State - Training Data\")\n",
        "plt.xlabel(\"Time\")\n",
        "plt.ylabel(\"Portfolio Value\")\n",
        "plt.legend()\n",
        "plt.show()\n",
        "\n",
        "Strategy_Returns_Data_trg[\"return_td3_lstm\"] = portfolio_returns\n",
        "\n",
        "# Calculate performance metrics\n",
        "final_value_trg_td3_lstm = capital\n",
        "total_return_trg_td3_lstm = final_value_trg_td3_lstm - initial_capital\n",
        "sharpe_ratio_trg_td3_lstm = np.mean(portfolio_returns) / np.std(portfolio_returns)*np.sqrt(252)\n",
        "annualized_return_trg_td3_lstm = (final_value_trg_td3_lstm / initial_capital) ** (1 / (len(returns_train_data) / 252)) - 1  # Assuming daily returns (252 trading days)\n",
        "maxdraw_trg_td3_lstm = getMaxDrawdown(pd.DataFrame(portfolio_values), 252)[1].min().values[0]*100\n",
        "\n",
        "print(f\"Final Portfolio Value: {final_value_trg_td3_lstm:.2f}\")\n",
        "print(f\"Total Return: {total_return_trg_td3_lstm:.2f}\")\n",
        "print(f\"Annualized Return: {annualized_return_trg_td3_lstm * 100:.2f}%\")\n",
        "print(f\"Sharpe Ratio: {sharpe_ratio_trg_td3_lstm:.4f}\")\n",
        "print(f\"Maximum draw down(%): {maxdraw_trg_td3_lstm:.4f}\")"
      ]
    },
    {
      "cell_type": "code",
      "execution_count": null,
      "metadata": {
        "id": "i9QKK6CBChut"
      },
      "outputs": [],
      "source": [
        "# TD3 Test Model\n",
        "e_trade_gym = StockPortfolioEnv(df = test_data_lstm, **env_kwargs)\n",
        "env_td3_lstm_test, obs_trade = e_trade_gym.get_sb_env()\n",
        "DynaCAAST_Env['td3_lstm_test'] = copy.copy(env_td3_lstm_test)\n",
        "DynaCAAST_Obs['td3_lstm_test'] = obs_trade.copy()\n",
        "td3_test_returns_lstm, _ = DRLAgent.DRL_prediction(model=trained_td3_lstm, test_data = test_data_lstm, test_env = env_td3_lstm_test, test_obs = obs_trade)"
      ]
    },
    {
      "cell_type": "code",
      "execution_count": null,
      "metadata": {
        "id": "fvJgoTDWChut"
      },
      "outputs": [],
      "source": [
        "capital = initial_capital\n",
        "portfolio_values = []\n",
        "portfolio_returns = []\n",
        "\n",
        "for i in range(1, len(td3_test_returns_lstm)):\n",
        "    # Calculate portfolio returns based on the weighted sum of security returns\n",
        "    portfolio_return = td3_test_returns_lstm['daily_return'].iloc[i]\n",
        "    capital *= (1 + portfolio_return)\n",
        "    portfolio_values.append(capital)\n",
        "    portfolio_returns.append(portfolio_return)\n",
        "\n",
        "# Plot the portfolio value over time\n",
        "plt.figure(figsize=(21, 9))\n",
        "plt.plot(td3_test_returns_lstm[\"date\"][1:], portfolio_values, label=\"TD3 Portfolio with LSTM as State\", color=\"green\")\n",
        "plt.title(\"Portfolio Performance based on TD3 Algorithm with LSTM as State - Testing Data\")\n",
        "plt.xlabel(\"Time\")\n",
        "plt.ylabel(\"Portfolio Value\")\n",
        "plt.legend()\n",
        "plt.show()\n",
        "\n",
        "Strategy_Returns_Data_test[\"return_td3_lstm\"] = portfolio_returns\n",
        "\n",
        "# Calculate performance metrics\n",
        "final_value_test_td3_lstm = capital\n",
        "total_return_test_td3_lstm = final_value_test_td3_lstm - initial_capital\n",
        "sharpe_ratio_test_td3_lstm = np.mean(portfolio_returns) / np.std(portfolio_returns)*np.sqrt(252)\n",
        "annualized_return_test_td3_lstm = (final_value_test_td3_lstm / initial_capital) ** (1 / (len(td3_test_returns_lstm) / 252)) - 1  # Assuming daily returns (252 trading days)\n",
        "maxdraw_test_td3_lstm = getMaxDrawdown(pd.DataFrame(portfolio_values), 252)[1].min().values[0]*100\n",
        "\n",
        "print(f\"Final Portfolio Value: {final_value_test_td3_lstm:.2f}\")\n",
        "print(f\"Total Return: {total_return_test_td3_lstm:.2f}\")\n",
        "print(f\"Annualized Return: {annualized_return_test_td3_lstm * 100:.2f}%\")\n",
        "print(f\"Sharpe Ratio: {sharpe_ratio_test_td3_lstm:.4f}\")\n",
        "print(f\"Maximum draw down(%): {maxdraw_test_td3_lstm:.4f}\")"
      ]
    },
    {
      "cell_type": "markdown",
      "metadata": {
        "id": "Hhlm7WGmChuu"
      },
      "source": [
        "## **V. Performance Analysis of RL agents using LSTM predictions as their states**"
      ]
    },
    {
      "cell_type": "code",
      "execution_count": null,
      "metadata": {
        "id": "NN25wbP1Chuu"
      },
      "outputs": [],
      "source": [
        "returns_train = prices_train_data.pct_change() # get the assets daily returns\n",
        "returns_test = prices_test_data.pct_change()\n",
        "\n",
        "\n",
        "a2c_train_cum_returns_lstm = (1 + a2c_train_returns_lstm.copy().reset_index(drop=True).set_index(['date'])).cumprod()\n",
        "a2c_train_cum_returns_lstm = a2c_train_cum_returns_lstm['daily_return']\n",
        "a2c_train_cum_returns_lstm.name = 'A2C LSTM Model'\n",
        "\n",
        "ppo_train_cum_returns_lstm = (1 + ppo_train_returns_lstm.copy().reset_index(drop=True).set_index(['date'])).cumprod()\n",
        "ppo_train_cum_returns_lstm = ppo_train_cum_returns_lstm['daily_return']\n",
        "ppo_train_cum_returns_lstm.name = 'PPO LSTM Model'\n",
        "\n",
        "ddpg_train_cum_returns_lstm = (1 + ddpg_train_returns_lstm.copy().reset_index(drop=True).set_index(['date'])).cumprod()\n",
        "ddpg_train_cum_returns_lstm = ddpg_train_cum_returns_lstm['daily_return']\n",
        "ddpg_train_cum_returns_lstm.name = 'DDPG LSTM Model'\n",
        "\n",
        "sac_train_cum_returns_lstm = (1 + sac_train_returns_lstm.copy().reset_index(drop=True).set_index(['date'])).cumprod()\n",
        "sac_train_cum_returns_lstm = sac_train_cum_returns_lstm['daily_return']\n",
        "sac_train_cum_returns_lstm.name = 'SAC LSTM Model'\n",
        "\n",
        "td3_train_cum_returns_lstm = (1 + td3_train_returns_lstm.copy().reset_index(drop=True).set_index(['date'])).cumprod()\n",
        "td3_train_cum_returns_lstm = td3_train_cum_returns_lstm['daily_return']\n",
        "td3_train_cum_returns_lstm.name = 'TD3 LSTM Model'\n",
        "\n",
        "date_list = list(ddpg_train_cum_returns_lstm.index)"
      ]
    },
    {
      "cell_type": "code",
      "execution_count": null,
      "metadata": {
        "id": "FJ3wgYlCChuu"
      },
      "outputs": [],
      "source": [
        "%matplotlib inline\n",
        "\n",
        "# Plot the culmulative returns of the portfolios\n",
        "fig, ax = plt.subplots(figsize=(21,9))\n",
        "a2c_train_cum_returns_lstm.plot(ax=ax, color='blue', alpha=0.4)\n",
        "ppo_train_cum_returns_lstm.plot(ax=ax, color='green', alpha=0.4)\n",
        "ddpg_train_cum_returns_lstm.plot(ax=ax, color='skyblue', alpha=0.4)\n",
        "sac_train_cum_returns_lstm.plot(ax=ax, color='red', alpha=0.4)\n",
        "td3_train_cum_returns_lstm.plot(ax=ax, color='black', alpha=0.4)\n",
        "\n",
        "plt.legend(loc=\"best\");\n",
        "plt.grid(True);\n",
        "ax.set_ylabel(\"Cumulative return\");\n",
        "ax.set_title(\"Performance on the training data with LSTM forecast as the State\", fontsize=14);\n",
        "plt.show()"
      ]
    },
    {
      "cell_type": "code",
      "execution_count": null,
      "metadata": {
        "id": "GpDtIWvaChuu"
      },
      "outputs": [],
      "source": [
        "%matplotlib inline\n",
        "\n",
        "# get the culmulative returns for each portfolio\n",
        "\n",
        "a2c_test_cum_returns_lstm = (1 + a2c_test_returns_lstm['daily_return']).cumprod()\n",
        "a2c_test_cum_returns_lstm.name = 'A2C LSTM Model'\n",
        "a2c_test_cum_returns_lstm.index = a2c_test_returns_lstm['date']\n",
        "\n",
        "ppo_test_cum_returns_lstm = (1 + ppo_test_returns_lstm['daily_return']).cumprod()\n",
        "ppo_test_cum_returns_lstm.name = 'PPO LSTM Model'\n",
        "ppo_test_cum_returns_lstm.index = ppo_test_returns_lstm['date']\n",
        "\n",
        "ddpg_test_cum_returns_lstm = (1 + ddpg_test_returns_lstm['daily_return']).cumprod()\n",
        "ddpg_test_cum_returns_lstm.name = 'DDPG LSTM Model'\n",
        "ddpg_test_cum_returns_lstm.index = ddpg_test_returns_lstm['date']\n",
        "\n",
        "sac_test_cum_returns_lstm = (1 + sac_test_returns_lstm['daily_return']).cumprod()\n",
        "sac_test_cum_returns_lstm.name = 'SAC LSTM Model'\n",
        "sac_test_cum_returns_lstm.index = sac_test_returns_lstm['date']\n",
        "\n",
        "td3_test_cum_returns_lstm = (1 + td3_test_returns_lstm['daily_return']).cumprod()\n",
        "td3_test_cum_returns_lstm.name = 'TD3 LSTM Model'\n",
        "td3_test_cum_returns_lstm.index = td3_test_returns_lstm['date']\n"
      ]
    },
    {
      "cell_type": "code",
      "execution_count": null,
      "metadata": {
        "id": "_5hQ_hvFChuv"
      },
      "outputs": [],
      "source": [
        "%matplotlib inline\n",
        "# Plot the culmulative returns of the portfolios\n",
        "fig, ax = plt.subplots(figsize=(21,9))\n",
        "a2c_test_cum_returns_lstm.plot(ax=ax, color='blue', alpha=.4)\n",
        "ppo_test_cum_returns_lstm.plot(ax=ax, color='green', alpha=.4)\n",
        "ddpg_test_cum_returns_lstm.plot(ax=ax, color='skyblue', alpha=.4)\n",
        "sac_test_cum_returns_lstm.plot(ax=ax, color='red', alpha=0.4)\n",
        "td3_test_cum_returns_lstm.plot(ax=ax, color='black', alpha=0.4)\n",
        "\n",
        "plt.legend(loc=\"best\");\n",
        "plt.grid(True);\n",
        "ax.set_ylabel(\"Cumulative return\");\n",
        "ax.set_title(\"Performance on the testing data with LSTM forecast as the State\", fontsize=14);"
      ]
    },
    {
      "cell_type": "markdown",
      "metadata": {
        "id": "5m7_0OlxK3_H"
      },
      "source": [
        "<hr style='border:2px solid black'>"
      ]
    },
    {
      "cell_type": "markdown",
      "metadata": {
        "id": "5l2d6SMX6zBX"
      },
      "source": [
        "## **W. A2C RL Model with Transformer Model predictions as the state of the RL agent**"
      ]
    },
    {
      "cell_type": "code",
      "execution_count": null,
      "metadata": {
        "id": "bbd98dRg6zBY"
      },
      "outputs": [],
      "source": [
        "stock_dimension = len(tickers)\n",
        "state_space = stock_dimension"
      ]
    },
    {
      "cell_type": "code",
      "execution_count": null,
      "metadata": {
        "id": "2DIjv6ie6zBZ"
      },
      "outputs": [],
      "source": [
        "env_kwargs = { \"hmax\": 500, \"initial_amount\": 1000000, \"transaction_cost_pct\": transaction_cost, \"state_space\": state_space,  \"stock_dim\": stock_dimension,  \"tech_indicator_list\": transformer_fcst,\n",
        "    \"action_space\": stock_dimension,  \"reward_scaling\": 0, 'initial_weights': [1/stock_dimension]*stock_dimension}"
      ]
    },
    {
      "cell_type": "code",
      "execution_count": null,
      "metadata": {
        "id": "8xCH31pd6zBZ"
      },
      "outputs": [],
      "source": [
        "e_train_gym = StockPortfolioEnv(df = train_data_transformer, **env_kwargs)"
      ]
    },
    {
      "cell_type": "code",
      "execution_count": null,
      "metadata": {
        "id": "smrThM1o6zBZ"
      },
      "outputs": [],
      "source": [
        "env_train, _ = e_train_gym.get_sb_env()\n",
        "print(type(env_train))"
      ]
    },
    {
      "cell_type": "code",
      "execution_count": null,
      "metadata": {
        "id": "oHGEH71K6zBZ"
      },
      "outputs": [],
      "source": [
        "# initialize\n",
        "agent = DRLAgent(env = env_train)\n",
        "model_a2c_transformer = agent.get_model(model_name=\"a2c\",model_kwargs = A2C_PARAMS_TRANSFORMER)"
      ]
    },
    {
      "cell_type": "code",
      "execution_count": null,
      "metadata": {
        "id": "jrJnaMCA6zBZ"
      },
      "outputs": [],
      "source": [
        "trained_a2c_transformer = agent.train_model(model=model_a2c_transformer, tb_log_name='a2c', total_timesteps=total_timesteps_)\n",
        "DynaCAAST_Model['a2c_transformer'] = trained_a2c_transformer"
      ]
    },
    {
      "cell_type": "code",
      "execution_count": null,
      "metadata": {
        "id": "aj0Tiz_N6zBa"
      },
      "outputs": [],
      "source": [
        "import time\n",
        "# A2C Train Model\n",
        "e_trade_gym = StockPortfolioEnv(df = train_data_transformer, **env_kwargs)\n",
        "env_trade, obs_trade = e_trade_gym.get_sb_env()\n",
        "\n",
        "a2c_train_returns_transformer, _ = DRLAgent.DRL_prediction(model=trained_a2c_transformer, test_data = train_data_transformer, test_env = env_trade, test_obs = obs_trade)"
      ]
    },
    {
      "cell_type": "code",
      "execution_count": null,
      "metadata": {
        "id": "z3cGJf2g6zBa"
      },
      "outputs": [],
      "source": [
        "capital = initial_capital\n",
        "portfolio_values = []\n",
        "portfolio_returns = []\n",
        "\n",
        "for i in range(1, len(a2c_train_returns_transformer)):\n",
        "    # Calculate portfolio returns based on the weighted sum of security returns\n",
        "    portfolio_return = a2c_train_returns_transformer['daily_return'].iloc[i]\n",
        "    capital *= (1 + portfolio_return)\n",
        "    portfolio_values.append(capital)\n",
        "    portfolio_returns.append(portfolio_return)\n",
        "\n",
        "# Plot the portfolio value over time\n",
        "plt.figure(figsize=(21, 9))\n",
        "plt.plot(returns_train_data.index[1:], portfolio_values, label=\"A2C with Transformer Model as the State Portfolio\", color=\"blue\")\n",
        "plt.title(\"Portfolio Performance based on A2C Algorithm  with transformer forecast as the State - Training Data\")\n",
        "plt.xlabel(\"Time\")\n",
        "plt.ylabel(\"Portfolio Value\")\n",
        "plt.legend()\n",
        "plt.show()\n",
        "\n",
        "Strategy_Returns_Data_trg[\"return_a2c_transformer\"] = portfolio_returns\n",
        "\n",
        "# Calculate performance metrics\n",
        "final_value_trg_a2c_transformer = capital\n",
        "total_return_trg_a2c_transformer = final_value_trg_a2c_transformer - initial_capital\n",
        "sharpe_ratio_trg_a2c_transformer = np.mean(portfolio_returns) / np.std(portfolio_returns)*np.sqrt(252)\n",
        "annualized_return_trg_a2c_transformer = (final_value_trg_a2c_transformer / initial_capital) ** (1 / (len(returns_train_data) / 252)) - 1  # Assuming daily returns (252 trading days)\n",
        "maxdraw_trg_a2c_transformer = getMaxDrawdown(pd.DataFrame(portfolio_values), 252)[1].min().values[0]*100\n",
        "\n",
        "print(f\"Final Portfolio Value: {final_value_trg_a2c_transformer:.2f}\")\n",
        "print(f\"Total Return: {total_return_trg_a2c_transformer:.2f}\")\n",
        "print(f\"Annualized Return: {annualized_return_trg_a2c_transformer * 100:.2f}%\")\n",
        "print(f\"Sharpe Ratio: {sharpe_ratio_trg_a2c_transformer:.4f}\")\n",
        "print(f\"Maximum draw down(%): {maxdraw_trg_a2c_transformer:.4f}\")"
      ]
    },
    {
      "cell_type": "code",
      "execution_count": null,
      "metadata": {
        "id": "LAp0DKJe6zBa"
      },
      "outputs": [],
      "source": [
        "# A2C Test Model\n",
        "e_trade_gym = StockPortfolioEnv(df = test_data_transformer, **env_kwargs)\n",
        "env_a2c_transformer_test, obs_trade = e_trade_gym.get_sb_env()\n",
        "DynaCAAST_Env['a2c_transformer_test'] = copy.copy(env_a2c_transformer_test)\n",
        "DynaCAAST_Obs['a2c_transformer_test'] = obs_trade.copy()\n",
        "a2c_test_returns_transformer, _ = DRLAgent.DRL_prediction(model=trained_a2c_transformer, test_data = test_data_transformer, test_env = env_a2c_transformer_test, test_obs = obs_trade)"
      ]
    },
    {
      "cell_type": "code",
      "execution_count": null,
      "metadata": {
        "id": "_ymLhy-z6zBa"
      },
      "outputs": [],
      "source": [
        "capital = initial_capital\n",
        "portfolio_values = []\n",
        "portfolio_returns = []\n",
        "\n",
        "for i in range(1, len(a2c_test_returns_transformer)):\n",
        "    # Calculate portfolio returns based on the weighted sum of security returns\n",
        "    portfolio_return = a2c_test_returns_transformer['daily_return'].iloc[i]\n",
        "    capital *= (1 + portfolio_return)\n",
        "    portfolio_values.append(capital)\n",
        "    portfolio_returns.append(portfolio_return)\n",
        "\n",
        "# Plot the portfolio value over time\n",
        "plt.figure(figsize=(21, 9))\n",
        "plt.plot(a2c_test_returns_transformer[\"date\"][1:], portfolio_values, label=\"A2C Portfolio  with Transformer Forecast as the State\", color=\"green\")\n",
        "plt.title(\"Portfolio Performance based on A2C Algorithm  with Transformer Forecast as the State - Testing Data\")\n",
        "plt.xlabel(\"Time\")\n",
        "plt.ylabel(\"Portfolio Value\")\n",
        "plt.legend()\n",
        "plt.show()\n",
        "\n",
        "Strategy_Returns_Data_test[\"return_a2c_transformer\"] = portfolio_returns\n",
        "\n",
        "# Calculate performance metrics\n",
        "final_value_test_a2c_transformer = capital\n",
        "total_return_test_a2c_transformer = final_value_test_a2c_transformer - initial_capital\n",
        "sharpe_ratio_test_a2c_transformer = np.mean(portfolio_returns) / np.std(portfolio_returns)*np.sqrt(252)\n",
        "annualized_return_test_a2c_transformer = (final_value_test_a2c_transformer / initial_capital) ** (1 / (len(returns_test_data) / 252)) - 1  # Assuming daily returns (252 trading days)\n",
        "maxdraw_test_a2c_transformer = getMaxDrawdown(pd.DataFrame(portfolio_values), 252)[1].min().values[0]*100\n",
        "\n",
        "print(f\"Final Portfolio Value: {final_value_test_a2c_transformer:.2f}\")\n",
        "print(f\"Total Return: {total_return_test_a2c_transformer:.2f}\")\n",
        "print(f\"Annualized Return: {annualized_return_test_a2c_transformer * 100:.2f}%\")\n",
        "print(f\"Sharpe Ratio : {sharpe_ratio_test_a2c_transformer:.4f}\")\n",
        "print(f\"Maximum draw down(%): {maxdraw_test_a2c_transformer:.4f}\")"
      ]
    },
    {
      "cell_type": "markdown",
      "metadata": {
        "id": "XMLieUEc6zBb"
      },
      "source": [
        "## **X. PPO RL Model with Transformer Model predictions as the state of the RL agent**"
      ]
    },
    {
      "cell_type": "code",
      "execution_count": null,
      "metadata": {
        "id": "UQltLNbT6zBb"
      },
      "outputs": [],
      "source": [
        "agent = DRLAgent(env = env_train)\n",
        "\n",
        "model_ppo_transformer = agent.get_model(\"ppo\", model_kwargs = PPO_PARAMS_TRANSFORMER)"
      ]
    },
    {
      "cell_type": "code",
      "execution_count": null,
      "metadata": {
        "id": "Z0Cx-w7q6zBb"
      },
      "outputs": [],
      "source": [
        "trained_ppo_transformer = agent.train_model(model=model_ppo_transformer, tb_log_name='ppo', total_timesteps=total_timesteps_)\n",
        "DynaCAAST_Model['ppo_transformer'] = trained_ppo_transformer"
      ]
    },
    {
      "cell_type": "code",
      "execution_count": null,
      "metadata": {
        "id": "QTqV89E76zBb"
      },
      "outputs": [],
      "source": [
        "# PPO Train Model\n",
        "e_trade_gym = StockPortfolioEnv(df = train_data_transformer, **env_kwargs)\n",
        "env_trade, obs_trade = e_trade_gym.get_sb_env()\n",
        "\n",
        "ppo_train_returns_transformer, _ = DRLAgent.DRL_prediction(model=trained_ppo_transformer, test_data = train_data_transformer, test_env = env_trade, test_obs = obs_trade)"
      ]
    },
    {
      "cell_type": "code",
      "execution_count": null,
      "metadata": {
        "id": "PO1r2vqX6zBc"
      },
      "outputs": [],
      "source": [
        "capital = initial_capital\n",
        "portfolio_values = []\n",
        "portfolio_returns = []\n",
        "\n",
        "for i in range(1, len(ppo_train_returns_transformer)):\n",
        "    # Calculate portfolio returns based on the weighted sum of security returns\n",
        "    portfolio_return = ppo_train_returns_transformer['daily_return'].iloc[i]\n",
        "    capital *= (1 + portfolio_return)\n",
        "    portfolio_values.append(capital)\n",
        "    portfolio_returns.append(portfolio_return)\n",
        "\n",
        "# Plot the portfolio value over time\n",
        "plt.figure(figsize=(21, 9))\n",
        "plt.plot(returns_train_data.index[1:], portfolio_values, label=\"PPO Portfolio with Transformer Model Forecast as the State \", color=\"blue\")\n",
        "plt.title(\"Portfolio Performance based on PPO Algorithm  with Transformer Model Forecast as the State - Training Data\")\n",
        "plt.xlabel(\"Time\")\n",
        "plt.ylabel(\"Portfolio Value\")\n",
        "plt.legend()\n",
        "plt.show()\n",
        "\n",
        "Strategy_Returns_Data_trg[\"return_ppo_transformer\"] = portfolio_returns\n",
        "\n",
        "# Calculate performance metrics\n",
        "final_value_trg_ppo_transformer = capital\n",
        "total_return_trg_ppo_transformer = final_value_trg_ppo_transformer - initial_capital\n",
        "sharpe_ratio_trg_ppo_transformer = np.mean(portfolio_returns) / np.std(portfolio_returns)*np.sqrt(252)\n",
        "annualized_return_trg_ppo_transformer = (final_value_trg_ppo_transformer / initial_capital) ** (1 / (len(returns_train_data) / 252)) - 1  # Assuming daily returns (252 trading days)\n",
        "maxdraw_trg_ppo_transformer = getMaxDrawdown(pd.DataFrame(portfolio_values), 252)[1].min().values[0]*100\n",
        "\n",
        "print(f\"Final Portfolio Value: {final_value_trg_ppo_transformer:.2f}\")\n",
        "print(f\"Total Return: {total_return_trg_ppo_transformer:.2f}\")\n",
        "print(f\"Annualized Return: {annualized_return_trg_ppo_transformer * 100:.2f}%\")\n",
        "print(f\"Sharpe Ratio: {sharpe_ratio_trg_ppo_transformer:.4f}\")\n",
        "print(f\"Maximum draw down(%): {maxdraw_trg_ppo_transformer:.4f}\")"
      ]
    },
    {
      "cell_type": "code",
      "execution_count": null,
      "metadata": {
        "id": "mvjAUL4n6zBc"
      },
      "outputs": [],
      "source": [
        "# PPO Test Model\n",
        "e_trade_gym = StockPortfolioEnv(df = test_data_transformer, **env_kwargs)\n",
        "env_ppo_transformer_test, obs_trade = e_trade_gym.get_sb_env()\n",
        "DynaCAAST_Env['ppo_transformer_test'] = copy.copy(env_ppo_transformer_test)\n",
        "DynaCAAST_Obs['ppo_transformer_test'] = obs_trade.copy()\n",
        "ppo_test_returns_transformer, _ = DRLAgent.DRL_prediction(model=trained_ppo_transformer, test_data = test_data_transformer, test_env = env_ppo_transformer_test, test_obs = obs_trade)"
      ]
    },
    {
      "cell_type": "code",
      "execution_count": null,
      "metadata": {
        "id": "J7GaAefw6zBc"
      },
      "outputs": [],
      "source": [
        "capital = initial_capital\n",
        "portfolio_values = []\n",
        "portfolio_returns = []\n",
        "\n",
        "for i in range(1, len(ppo_test_returns_transformer)):\n",
        "    # Calculate portfolio returns based on the weighted sum of security returns\n",
        "    portfolio_return = ppo_test_returns_transformer['daily_return'].iloc[i]\n",
        "    capital *= (1 + portfolio_return)\n",
        "    portfolio_values.append(capital)\n",
        "    portfolio_returns.append(portfolio_return)\n",
        "\n",
        "# Plot the portfolio value over time\n",
        "plt.figure(figsize=(21, 9))\n",
        "plt.plot(ppo_test_returns_transformer[\"date\"][1:], portfolio_values, label=\"PPO Portfolio with Transformer Model Forecast as the State\", color=\"green\")\n",
        "plt.title(\"Portfolio Performance based on PPO Algorithm with Transformer Model Forecast as the State  - Testing Data\")\n",
        "plt.xlabel(\"Time\")\n",
        "plt.ylabel(\"Portfolio Value\")\n",
        "plt.legend()\n",
        "plt.show()\n",
        "\n",
        "Strategy_Returns_Data_test[\"return_ppo_transformer\"] = portfolio_returns\n",
        "\n",
        "# Calculate performance metrics\n",
        "final_value_test_ppo_transformer = capital\n",
        "total_return_test_ppo_transformer = final_value_test_ppo_transformer - initial_capital\n",
        "sharpe_ratio_test_ppo_transformer = np.mean(portfolio_returns) / np.std(portfolio_returns)*np.sqrt(252)\n",
        "annualized_return_test_ppo_transformer = (final_value_test_ppo_transformer / initial_capital) ** (1 / (len(ppo_test_returns_transformer) / 252)) - 1  # Assuming daily returns (252 trading days)\n",
        "maxdraw_test_ppo_transformer = getMaxDrawdown(pd.DataFrame(portfolio_values), 252)[1].min().values[0]*100\n",
        "\n",
        "print(f\"Final Portfolio Value: {final_value_test_ppo_transformer:.2f}\")\n",
        "print(f\"Total Return: {total_return_test_ppo_transformer:.2f}\")\n",
        "print(f\"Annualized Return: {annualized_return_test_ppo_transformer * 100:.2f}%\")\n",
        "print(f\"Sharpe Ratio: {sharpe_ratio_test_ppo_transformer:.4f}\")\n",
        "print(f\"Maximum draw down(%): {maxdraw_test_ppo_transformer:.4f}\")"
      ]
    },
    {
      "cell_type": "markdown",
      "metadata": {
        "id": "mh8PRue36zBc"
      },
      "source": [
        "## **Y. DDPG RL Model with Transformer Model predictions as the state of the RL agent**"
      ]
    },
    {
      "cell_type": "code",
      "execution_count": null,
      "metadata": {
        "id": "C8bP9CAG6zBc"
      },
      "outputs": [],
      "source": [
        "agent = DRLAgent(env = env_train)\n",
        "model_ddpg_transformer = agent.get_model(\"ddpg\", model_kwargs = DDPG_PARAMS_TRANSFORMER)"
      ]
    },
    {
      "cell_type": "code",
      "execution_count": null,
      "metadata": {
        "id": "W4xElcUE6zBd"
      },
      "outputs": [],
      "source": [
        "trained_ddpg_transformer = agent.train_model(model= model_ddpg_transformer, tb_log_name='ddpg',  total_timesteps=total_timesteps_)\n",
        "DynaCAAST_Model['ddpg_transformer'] = trained_ddpg_transformer"
      ]
    },
    {
      "cell_type": "code",
      "execution_count": null,
      "metadata": {
        "id": "kWF9aFo36zBd"
      },
      "outputs": [],
      "source": [
        "# DDPG Train Model num_stock = df_pct_change.shape[1]\n",
        "e_trade_gym = StockPortfolioEnv(df = train_data_transformer, **env_kwargs)\n",
        "env_trade, obs_trade = e_trade_gym.get_sb_env()\n",
        "\n",
        "ddpg_train_returns_transformer, _ = DRLAgent.DRL_prediction(model=trained_ddpg_transformer, test_data = train_data_transformer, test_env = env_trade, test_obs = obs_trade)"
      ]
    },
    {
      "cell_type": "code",
      "execution_count": null,
      "metadata": {
        "id": "188vgYoJ6zBd"
      },
      "outputs": [],
      "source": [
        "capital = initial_capital\n",
        "portfolio_values = []\n",
        "portfolio_returns = []\n",
        "\n",
        "for i in range(1, len(ddpg_train_returns_transformer)):\n",
        "    # Calculate portfolio returns based on the weighted sum of security returns\n",
        "    portfolio_return = ddpg_train_returns_transformer['daily_return'].iloc[i]\n",
        "    capital *= (1 + portfolio_return)\n",
        "    portfolio_values.append(capital)\n",
        "    portfolio_returns.append(portfolio_return)\n",
        "\n",
        "# Plot the portfolio value over time\n",
        "plt.figure(figsize=(21, 9))\n",
        "plt.plot(returns_train_data.index[1:], portfolio_values, label=\"DDPG Portfolio with Transformer Model Forecast as the State \", color=\"blue\")\n",
        "plt.title(\"Portfolio Performance based on DDPG Algorithm with Transformer Model Forecast as the State - Training Data\")\n",
        "plt.xlabel(\"Time\")\n",
        "plt.ylabel(\"Portfolio Value\")\n",
        "plt.legend()\n",
        "plt.show()\n",
        "\n",
        "Strategy_Returns_Data_trg[\"return_ddpg_transformer\"] = portfolio_returns\n",
        "\n",
        "# Calculate performance metrics\n",
        "final_value_trg_ddpg_transformer = capital\n",
        "total_return_trg_ddpg_transformer = final_value_trg_ddpg_transformer - initial_capital\n",
        "sharpe_ratio_trg_ddpg_transformer = np.mean(portfolio_returns) / np.std(portfolio_returns)*np.sqrt(252)\n",
        "annualized_return_trg_ddpg_transformer = (final_value_trg_ddpg_transformer / initial_capital) ** (1 / (len(returns_train_data) / 252)) - 1  # Assuming daily returns (252 trading days)\n",
        "maxdraw_trg_ddpg_transformer = getMaxDrawdown(pd.DataFrame(portfolio_values), 252)[1].min().values[0]*100\n",
        "\n",
        "print(f\"Final Portfolio Value: {final_value_trg_ddpg_transformer:.2f}\")\n",
        "print(f\"Total Return: {total_return_trg_ddpg_transformer:.2f}\")\n",
        "print(f\"Annualized Return: {annualized_return_trg_ddpg_transformer * 100:.2f}%\")\n",
        "print(f\"Sharpe Ratio: {sharpe_ratio_trg_ddpg_transformer:.4f}\")\n",
        "print(f\"Maximum draw down(%): {maxdraw_trg_ddpg_transformer:.4f}\")"
      ]
    },
    {
      "cell_type": "code",
      "execution_count": null,
      "metadata": {
        "id": "i7ftTJqo6zBd"
      },
      "outputs": [],
      "source": [
        "# DDPG Test Model\n",
        "e_trade_gym = StockPortfolioEnv(df = test_data_transformer, **env_kwargs)\n",
        "env_ddpg_transformer_test, obs_trade = e_trade_gym.get_sb_env()\n",
        "DynaCAAST_Env['ddpg_transformer_test'] = copy.copy(env_ddpg_transformer_test)\n",
        "DynaCAAST_Obs['ddpg_transformer_test'] = obs_trade.copy()\n",
        "ddpg_test_returns_transformer, _ = DRLAgent.DRL_prediction(model=trained_ddpg_transformer, test_data = test_data_transformer, test_env = env_ddpg_transformer_test, test_obs = obs_trade)"
      ]
    },
    {
      "cell_type": "code",
      "execution_count": null,
      "metadata": {
        "id": "-E3hh7uW6zBd"
      },
      "outputs": [],
      "source": [
        "capital = initial_capital\n",
        "portfolio_values = []\n",
        "portfolio_returns = []\n",
        "\n",
        "for i in range(1, len(ddpg_test_returns_transformer)):\n",
        "    # Calculate portfolio returns based on the weighted sum of security returns\n",
        "    portfolio_return = ddpg_test_returns_transformer['daily_return'].iloc[i]\n",
        "    capital *= (1 + portfolio_return)\n",
        "    portfolio_values.append(capital)\n",
        "    portfolio_returns.append(portfolio_return)\n",
        "\n",
        "# Plot the portfolio value over time\n",
        "plt.figure(figsize=(21, 9))\n",
        "plt.plot(ddpg_test_returns_transformer[\"date\"][1:], portfolio_values, label=\"DDPG Portfolio with Transformer Model Forecast as State\", color=\"green\")\n",
        "plt.title(\"Portfolio Performance based on DDPG Algorithm with Transformer Model Forecast as State - Testing Data\")\n",
        "plt.xlabel(\"Time\")\n",
        "plt.ylabel(\"Portfolio Value\")\n",
        "plt.legend()\n",
        "plt.show()\n",
        "\n",
        "Strategy_Returns_Data_test[\"return_ddpg_transformer\"] = portfolio_returns\n",
        "\n",
        "# Calculate performance metrics\n",
        "final_value_test_ddpg_transformer = capital\n",
        "total_return_test_ddpg_transformer = final_value_test_ddpg_transformer - initial_capital\n",
        "sharpe_ratio_test_ddpg_transformer = np.mean(portfolio_returns) / np.std(portfolio_returns)*np.sqrt(252)\n",
        "annualized_return_test_ddpg_transformer = (final_value_test_ddpg_transformer / initial_capital) ** (1 / (len(ddpg_test_returns_transformer) / 252)) - 1  # Assuming daily returns (252 trading days)\n",
        "maxdraw_test_ddpg_transformer = getMaxDrawdown(pd.DataFrame(portfolio_values), 252)[1].min().values[0]*100\n",
        "\n",
        "print(f\"Final Portfolio Value: {final_value_test_ddpg_transformer:.2f}\")\n",
        "print(f\"Total Return: {total_return_test_ddpg_transformer:.2f}\")\n",
        "print(f\"Annualized Return: {annualized_return_test_ddpg_transformer * 100:.2f}%\")\n",
        "print(f\"Sharpe Ratio: {sharpe_ratio_test_ddpg_transformer:.4f}\")\n",
        "print(f\"Maximum draw down(%): {maxdraw_test_ddpg_transformer:.4f}\")"
      ]
    },
    {
      "cell_type": "markdown",
      "metadata": {
        "id": "3mKA1gzg6zBe"
      },
      "source": [
        "## **Z. SAC RL Model with Transformer Model predictions as the state of the RL agent**"
      ]
    },
    {
      "cell_type": "code",
      "execution_count": null,
      "metadata": {
        "id": "OyK8d2lP6zBe"
      },
      "outputs": [],
      "source": [
        "agent = DRLAgent(env = env_train)\n",
        "model_sac_transformer = agent.get_model(\"sac\",model_kwargs = SAC_PARAMS_TRANSFORMER)"
      ]
    },
    {
      "cell_type": "code",
      "execution_count": null,
      "metadata": {
        "id": "kRkgVzRn6zBe"
      },
      "outputs": [],
      "source": [
        "trained_sac_transformer = agent.train_model(model=model_sac_transformer, tb_log_name='sac', total_timesteps=total_timesteps_)\n",
        "DynaCAAST_Model['sac_transformer'] = trained_sac_transformer"
      ]
    },
    {
      "cell_type": "code",
      "execution_count": null,
      "metadata": {
        "id": "iwjkUsp_6zBe"
      },
      "outputs": [],
      "source": [
        "#  SAC Train Model num_stock = df_pct_change.shape[1]\n",
        "e_trade_gym = StockPortfolioEnv(df = train_data_transformer, **env_kwargs)\n",
        "env_trade, obs_trade = e_trade_gym.get_sb_env()\n",
        "\n",
        "sac_train_returns_transformer, _ = DRLAgent.DRL_prediction(model=trained_sac_transformer, test_data = train_data_transformer, test_env = env_trade, test_obs = obs_trade)"
      ]
    },
    {
      "cell_type": "code",
      "execution_count": null,
      "metadata": {
        "id": "i8YGlzpR6zBe"
      },
      "outputs": [],
      "source": [
        "capital = initial_capital\n",
        "portfolio_values = []\n",
        "portfolio_returns = []\n",
        "\n",
        "for i in range(1, len(sac_train_returns_transformer)):\n",
        "    # Calculate portfolio returns based on the weighted sum of security returns\n",
        "    portfolio_return = sac_train_returns_transformer['daily_return'].iloc[i]\n",
        "    capital *= (1 + portfolio_return)\n",
        "    portfolio_values.append(capital)\n",
        "    portfolio_returns.append(portfolio_return)\n",
        "\n",
        "# Plot the portfolio value over time\n",
        "plt.figure(figsize=(21, 9))\n",
        "plt.plot(returns_train_data.index[1:], portfolio_values, label=\"SAC Portfolio with Transformer Model Forecast as State\", color=\"blue\")\n",
        "plt.title(\"Portfolio Performance based on SAC Algorithm with Transformer Model Forecast as State - Training Data\")\n",
        "plt.xlabel(\"Time\")\n",
        "plt.ylabel(\"Portfolio Value\")\n",
        "plt.legend()\n",
        "plt.show()\n",
        "\n",
        "Strategy_Returns_Data_trg[\"return_sac_transformer\"] = portfolio_returns\n",
        "\n",
        "# Calculate performance metrics\n",
        "final_value_trg_sac_transformer = capital\n",
        "total_return_trg_sac_transformer = final_value_trg_sac_transformer - initial_capital\n",
        "sharpe_ratio_trg_sac_transformer = np.mean(portfolio_returns) / np.std(portfolio_returns)*np.sqrt(252)\n",
        "annualized_return_trg_sac_transformer = (final_value_trg_sac_transformer / initial_capital) ** (1 / (len(returns_train_data) / 252)) - 1  # Assuming daily returns (252 trading days)\n",
        "maxdraw_trg_sac_transformer = getMaxDrawdown(pd.DataFrame(portfolio_values), 252)[1].min().values[0]*100\n",
        "\n",
        "print(f\"Final Portfolio Value: {final_value_trg_sac_transformer:.2f}\")\n",
        "print(f\"Total Return: {total_return_trg_sac_transformer:.2f}\")\n",
        "print(f\"Annualized Return: {annualized_return_trg_sac_transformer * 100:.2f}%\")\n",
        "print(f\"Sharpe Ratio Kelly: {sharpe_ratio_trg_sac_transformer:.4f}\")\n",
        "print(f\"Maximum draw down(%): {maxdraw_trg_sac_transformer:.4f}\")"
      ]
    },
    {
      "cell_type": "code",
      "execution_count": null,
      "metadata": {
        "id": "6hZtMq7f6zBe"
      },
      "outputs": [],
      "source": [
        "# SAC Test Model\n",
        "e_trade_gym = StockPortfolioEnv(df = test_data_transformer, **env_kwargs)\n",
        "env_sac_transformer_test, obs_trade = e_trade_gym.get_sb_env()\n",
        "DynaCAAST_Env['sac_transformer_test'] = copy.copy(env_sac_transformer_test)\n",
        "DynaCAAST_Obs['sac_transformer_test'] = obs_trade.copy()\n",
        "sac_test_returns_transformer, _ = DRLAgent.DRL_prediction(model=trained_sac_transformer, test_data = test_data_transformer, test_env = env_sac_transformer_test, test_obs = obs_trade)"
      ]
    },
    {
      "cell_type": "code",
      "execution_count": null,
      "metadata": {
        "id": "fd_Cvajf6zBf"
      },
      "outputs": [],
      "source": [
        "capital = initial_capital\n",
        "portfolio_values = []\n",
        "portfolio_returns = []\n",
        "\n",
        "for i in range(1, len(sac_test_returns_transformer)):\n",
        "    # Calculate portfolio returns based on the weighted sum of security returns\n",
        "    portfolio_return = sac_test_returns_transformer['daily_return'].iloc[i]\n",
        "    capital *= (1 + portfolio_return)\n",
        "    portfolio_values.append(capital)\n",
        "    portfolio_returns.append(portfolio_return)\n",
        "\n",
        "# Plot the portfolio value over time\n",
        "plt.figure(figsize=(21, 9))\n",
        "plt.plot(sac_test_returns_transformer[\"date\"][1:], portfolio_values, label=\"SAC Portfolio with Transformer Model Forecast as State\", color=\"green\")\n",
        "plt.title(\"Portfolio Performance based on SAC Algorithm with Transformer Model Forecast as State - Testing Data\")\n",
        "plt.xlabel(\"Time\")\n",
        "plt.ylabel(\"Portfolio Value\")\n",
        "plt.legend()\n",
        "plt.show()\n",
        "\n",
        "Strategy_Returns_Data_test[\"return_sac_transformer\"] = portfolio_returns\n",
        "\n",
        "# Calculate performance metrics\n",
        "final_value_test_sac_transformer = capital\n",
        "total_return_test_sac_transformer = final_value_test_sac_transformer - initial_capital\n",
        "sharpe_ratio_test_sac_transformer = np.mean(portfolio_returns) / np.std(portfolio_returns)*np.sqrt(252)\n",
        "annualized_return_test_sac_transformer = (final_value_test_sac_transformer / initial_capital) ** (1 / (len(sac_test_returns_transformer) / 252)) - 1  # Assuming daily returns (252 trading days)\n",
        "maxdraw_test_sac_transformer = getMaxDrawdown(pd.DataFrame(portfolio_values), 252)[1].min().values[0]*100\n",
        "\n",
        "print(f\"Final Portfolio Value: {final_value_test_sac_transformer:.2f}\")\n",
        "print(f\"Total Return: {total_return_test_sac_transformer:.2f}\")\n",
        "print(f\"Annualized Return: {annualized_return_test_sac_transformer * 100:.2f}%\")\n",
        "print(f\"Sharpe Ratio: {sharpe_ratio_test_sac_transformer:.4f}\")\n",
        "print(f\"Maximum draw down(%): {maxdraw_test_sac_transformer:.4f}\")"
      ]
    },
    {
      "cell_type": "markdown",
      "metadata": {
        "id": "CMvcbOcs6zBf"
      },
      "source": [
        "## **AA. TD3 RL Model with Transformer Model predictions as the state of the RL agent**"
      ]
    },
    {
      "cell_type": "code",
      "execution_count": null,
      "metadata": {
        "id": "nLnHzeKv6zBf"
      },
      "outputs": [],
      "source": [
        "agent = DRLAgent(env = env_train)\n",
        "model_td3_transformer = agent.get_model(\"td3\", model_kwargs = TD3_PARAMS_TRANSFORMER)"
      ]
    },
    {
      "cell_type": "code",
      "execution_count": null,
      "metadata": {
        "id": "o2wvNknm6zBf"
      },
      "outputs": [],
      "source": [
        "trained_td3_transformer = agent.train_model(model=model_td3_transformer, tb_log_name='td3', total_timesteps=total_timesteps_)\n",
        "DynaCAAST_Model['td3_transformer'] = trained_td3_transformer"
      ]
    },
    {
      "cell_type": "code",
      "execution_count": null,
      "metadata": {
        "id": "hWrbEcOR6zBf"
      },
      "outputs": [],
      "source": [
        "# td3 Train Model num_stock = df_pct_change.shape[1]\n",
        "e_trade_gym = StockPortfolioEnv(df = train_data_transformer, **env_kwargs)\n",
        "env_trade, obs_trade = e_trade_gym.get_sb_env()\n",
        "\n",
        "td3_train_returns_transformer, _ = DRLAgent.DRL_prediction(model=trained_td3_transformer, test_data = train_data_transformer, test_env = env_trade, test_obs = obs_trade)"
      ]
    },
    {
      "cell_type": "code",
      "execution_count": null,
      "metadata": {
        "id": "p1mNFkS56zBf"
      },
      "outputs": [],
      "source": [
        "capital = initial_capital\n",
        "portfolio_values = []\n",
        "portfolio_returns = []\n",
        "\n",
        "for i in range(1, len(td3_train_returns_transformer)):\n",
        "    # Calculate portfolio returns based on the weighted sum of security returns\n",
        "    portfolio_return = td3_train_returns_transformer['daily_return'].iloc[i]\n",
        "    capital *= (1 + portfolio_return)\n",
        "    portfolio_values.append(capital)\n",
        "    portfolio_returns.append(portfolio_return)\n",
        "\n",
        "# Plot the portfolio value over time\n",
        "plt.figure(figsize=(21, 9))\n",
        "plt.plot(returns_train_data.index[1:], portfolio_values, label=\"TD3 Portfolio with Transformer Model Forecast as State\", color=\"blue\")\n",
        "plt.title(\"Portfolio Performance based on TD3 Algorithm with Transformer Model Forecast as State - Training Data\")\n",
        "plt.xlabel(\"Time\")\n",
        "plt.ylabel(\"Portfolio Value\")\n",
        "plt.legend()\n",
        "plt.show()\n",
        "\n",
        "Strategy_Returns_Data_trg[\"return_td3_transformer\"] = portfolio_returns\n",
        "\n",
        "# Calculate performance metrics\n",
        "final_value_trg_td3_transformer = capital\n",
        "total_return_trg_td3_transformer = final_value_trg_td3_transformer - initial_capital\n",
        "sharpe_ratio_trg_td3_transformer = np.mean(portfolio_returns) / np.std(portfolio_returns)*np.sqrt(252)\n",
        "annualized_return_trg_td3_transformer = (final_value_trg_td3_transformer / initial_capital) ** (1 / (len(returns_train_data) / 252)) - 1  # Assuming daily returns (252 trading days)\n",
        "maxdraw_trg_td3_transformer = getMaxDrawdown(pd.DataFrame(portfolio_values), 252)[1].min().values[0]*100\n",
        "\n",
        "print(f\"Final Portfolio Value: {final_value_trg_td3_transformer:.2f}\")\n",
        "print(f\"Total Return: {total_return_trg_td3_transformer:.2f}\")\n",
        "print(f\"Annualized Return: {annualized_return_trg_td3_transformer * 100:.2f}%\")\n",
        "print(f\"Sharpe Ratio: {sharpe_ratio_trg_td3_transformer:.4f}\")\n",
        "print(f\"Maximum draw down(%): {maxdraw_trg_td3_transformer:.4f}\")"
      ]
    },
    {
      "cell_type": "code",
      "execution_count": null,
      "metadata": {
        "id": "aG_xRXJA6zBf"
      },
      "outputs": [],
      "source": [
        "# TD3 Test Model\n",
        "e_trade_gym = StockPortfolioEnv(df = test_data_transformer, **env_kwargs)\n",
        "env_td3_transformer_test, obs_trade = e_trade_gym.get_sb_env()\n",
        "DynaCAAST_Env['td3_transformer_test'] = copy.copy(env_td3_transformer_test)\n",
        "DynaCAAST_Obs['td3_transformer_test'] = obs_trade.copy()\n",
        "td3_test_returns_transformer, _ = DRLAgent.DRL_prediction(model=trained_td3_transformer, test_data = test_data_transformer, test_env = env_td3_transformer_test, test_obs = obs_trade)"
      ]
    },
    {
      "cell_type": "code",
      "execution_count": null,
      "metadata": {
        "id": "BquBEKSA6zBg"
      },
      "outputs": [],
      "source": [
        "capital = initial_capital\n",
        "portfolio_values = []\n",
        "portfolio_returns = []\n",
        "\n",
        "for i in range(1, len(td3_test_returns_transformer)):\n",
        "    # Calculate portfolio returns based on the weighted sum of security returns\n",
        "    portfolio_return = td3_test_returns_transformer['daily_return'].iloc[i]\n",
        "    capital *= (1 + portfolio_return)\n",
        "    portfolio_values.append(capital)\n",
        "    portfolio_returns.append(portfolio_return)\n",
        "\n",
        "# Plot the portfolio value over time\n",
        "plt.figure(figsize=(21, 9))\n",
        "plt.plot(td3_test_returns_transformer[\"date\"][1:], portfolio_values, label=\"TD3 Portfolio with Transformer Model Forecast as State\", color=\"green\")\n",
        "plt.title(\"Portfolio Performance based on TD3 Algorithm with Transformer Model Forecast as State - Testing Data\")\n",
        "plt.xlabel(\"Time\")\n",
        "plt.ylabel(\"Portfolio Value\")\n",
        "plt.legend()\n",
        "plt.show()\n",
        "\n",
        "Strategy_Returns_Data_test[\"return_td3_transformer\"] = portfolio_returns\n",
        "\n",
        "# Calculate performance metrics\n",
        "final_value_test_td3_transformer = capital\n",
        "total_return_test_td3_transformer = final_value_test_td3_transformer - initial_capital\n",
        "sharpe_ratio_test_td3_transformer = np.mean(portfolio_returns) / np.std(portfolio_returns)*np.sqrt(252)\n",
        "annualized_return_test_td3_transformer = (final_value_test_td3_transformer / initial_capital) ** (1 / (len(td3_test_returns_transformer) / 252)) - 1  # Assuming daily returns (252 trading days)\n",
        "maxdraw_test_td3_transformer = getMaxDrawdown(pd.DataFrame(portfolio_values), 252)[1].min().values[0]*100\n",
        "\n",
        "print(f\"Final Portfolio Value: {final_value_test_td3_transformer:.2f}\")\n",
        "print(f\"Total Return: {total_return_test_td3_transformer:.2f}\")\n",
        "print(f\"Annualized Return: {annualized_return_test_td3_transformer * 100:.2f}%\")\n",
        "print(f\"Sharpe Ratio: {sharpe_ratio_test_td3_transformer:.4f}\")\n",
        "print(f\"Maximum draw down(%): {maxdraw_test_td3_transformer:.4f}\")"
      ]
    },
    {
      "cell_type": "markdown",
      "metadata": {
        "id": "rVZ7rM5A6zBg"
      },
      "source": [
        "## **AB. Performance Analysis of RL agents using Transformer Model predictions as their states**"
      ]
    },
    {
      "cell_type": "code",
      "execution_count": null,
      "metadata": {
        "id": "Ul6KW8cT6zBg"
      },
      "outputs": [],
      "source": [
        "returns_train = prices_train_data.pct_change() # get the assets daily returns\n",
        "returns_test = prices_test_data.pct_change()\n",
        "\n",
        "\n",
        "a2c_train_cum_returns_transformer = (1 + a2c_train_returns_transformer.copy().reset_index(drop=True).set_index(['date'])).cumprod()\n",
        "a2c_train_cum_returns_transformer = a2c_train_cum_returns_transformer['daily_return']\n",
        "a2c_train_cum_returns_transformer.name = 'A2C Transformer Model'\n",
        "\n",
        "ppo_train_cum_returns_transformer = (1 + ppo_train_returns_transformer.copy().reset_index(drop=True).set_index(['date'])).cumprod()\n",
        "ppo_train_cum_returns_transformer = ppo_train_cum_returns_transformer['daily_return']\n",
        "ppo_train_cum_returns_transformer.name = 'PPO Transformer Model'\n",
        "\n",
        "ddpg_train_cum_returns_transformer = (1 + ddpg_train_returns_transformer.copy().reset_index(drop=True).set_index(['date'])).cumprod()\n",
        "ddpg_train_cum_returns_transformer = ddpg_train_cum_returns_transformer['daily_return']\n",
        "ddpg_train_cum_returns_transformer.name = 'DDPG Transformer Model'\n",
        "\n",
        "sac_train_cum_returns_transformer = (1 + sac_train_returns_transformer.copy().reset_index(drop=True).set_index(['date'])).cumprod()\n",
        "sac_train_cum_returns_transformer = sac_train_cum_returns_transformer['daily_return']\n",
        "sac_train_cum_returns_transformer.name = 'SAC Transformer Model'\n",
        "\n",
        "td3_train_cum_returns_transformer = (1 + td3_train_returns_transformer.copy().reset_index(drop=True).set_index(['date'])).cumprod()\n",
        "td3_train_cum_returns_transformer = td3_train_cum_returns_transformer['daily_return']\n",
        "td3_train_cum_returns_transformer.name = 'TD3 Transformer Model'\n",
        "\n",
        "date_list = list(ddpg_train_cum_returns_transformer.index)"
      ]
    },
    {
      "cell_type": "code",
      "execution_count": null,
      "metadata": {
        "id": "1N-Ze20M6zBg"
      },
      "outputs": [],
      "source": [
        "%matplotlib inline\n",
        "\n",
        "# Plot the culmulative returns of the portfolios\n",
        "fig, ax = plt.subplots(figsize=(21,9))\n",
        "a2c_train_cum_returns_transformer.plot(ax=ax, color='blue', alpha=0.4)\n",
        "ppo_train_cum_returns_transformer.plot(ax=ax, color='green', alpha=0.4)\n",
        "ddpg_train_cum_returns_transformer.plot(ax=ax, color='skyblue', alpha=0.4)\n",
        "sac_train_cum_returns_transformer.plot(ax=ax, color='red', alpha=0.4)\n",
        "td3_train_cum_returns_transformer.plot(ax=ax, color='black', alpha=0.4)\n",
        "\n",
        "plt.legend(loc=\"best\");\n",
        "plt.grid(True);\n",
        "ax.set_ylabel(\"Cumulative return\");\n",
        "ax.set_title(\"Performance on the training data with Transformer Model Forecast as the State\", fontsize=14);\n",
        "plt.show()"
      ]
    },
    {
      "cell_type": "code",
      "execution_count": null,
      "metadata": {
        "id": "KJl4P06E6zBg"
      },
      "outputs": [],
      "source": [
        "%matplotlib inline\n",
        "\n",
        "# get the culmulative returns for each portfolio\n",
        "\n",
        "a2c_test_cum_returns_transformer = (1 + a2c_test_returns_transformer['daily_return']).cumprod()\n",
        "a2c_test_cum_returns_transformer.name = 'A2C Transformer Model'\n",
        "a2c_test_cum_returns_transformer.index = a2c_test_returns_transformer['date']\n",
        "\n",
        "ppo_test_cum_returns_transformer = (1 + ppo_test_returns_transformer['daily_return']).cumprod()\n",
        "ppo_test_cum_returns_transformer.name = 'PPO Transformer Model'\n",
        "ppo_test_cum_returns_transformer.index = ppo_test_returns_transformer['date']\n",
        "\n",
        "ddpg_test_cum_returns_transformer = (1 + ddpg_test_returns_transformer['daily_return']).cumprod()\n",
        "ddpg_test_cum_returns_transformer.name = 'DDPG Transformer Model'\n",
        "ddpg_test_cum_returns_transformer.index = ddpg_test_returns_transformer['date']\n",
        "\n",
        "sac_test_cum_returns_transformer = (1 + sac_test_returns_transformer['daily_return']).cumprod()\n",
        "sac_test_cum_returns_transformer.name = 'SAC Transformer Model'\n",
        "sac_test_cum_returns_transformer.index = sac_test_returns_transformer['date']\n",
        "\n",
        "td3_test_cum_returns_transformer = (1 + td3_test_returns_transformer['daily_return']).cumprod()\n",
        "td3_test_cum_returns_transformer.name = 'TD3 Transformer Model'\n",
        "td3_test_cum_returns_transformer.index = td3_test_returns_transformer['date']\n"
      ]
    },
    {
      "cell_type": "code",
      "execution_count": null,
      "metadata": {
        "id": "_efOBY4F6zBi"
      },
      "outputs": [],
      "source": [
        "%matplotlib inline\n",
        "# Plot the culmulative returns of the portfolios\n",
        "fig, ax = plt.subplots(figsize=(21,9))\n",
        "a2c_test_cum_returns_transformer.plot(ax=ax, color='blue', alpha=.4)\n",
        "ppo_test_cum_returns_transformer.plot(ax=ax, color='green', alpha=.4)\n",
        "ddpg_test_cum_returns_transformer.plot(ax=ax, color='skyblue', alpha=.4)\n",
        "sac_test_cum_returns_transformer.plot(ax=ax, color='red', alpha=0.4)\n",
        "td3_test_cum_returns_transformer.plot(ax=ax, color='black', alpha=0.4)\n",
        "\n",
        "plt.legend(loc=\"best\");\n",
        "plt.grid(True);\n",
        "ax.set_ylabel(\"Cumulative return\");\n",
        "ax.set_title(\"Performance on the testing data with Transformer Model Forecast as the State\", fontsize=14);"
      ]
    },
    {
      "cell_type": "markdown",
      "source": [
        "<hr style='border:2px solid black'>"
      ],
      "metadata": {
        "id": "CC066PBEoWtk"
      }
    },
    {
      "cell_type": "markdown",
      "metadata": {
        "id": "2-dhhRvs1pQr"
      },
      "source": [
        "## **Section 8: Performance Analysis of Traditional Approaches on testing dataset**\n"
      ]
    },
    {
      "cell_type": "markdown",
      "source": [
        "<hr style='border:2px solid black'>"
      ],
      "metadata": {
        "id": "fYfhf-LZoK91"
      }
    },
    {
      "cell_type": "markdown",
      "metadata": {
        "id": "Yj4RhMnA3JNV"
      },
      "source": [
        "Below we perform an analysis of traditional algorithms to understand the causes of this performance."
      ]
    },
    {
      "cell_type": "code",
      "source": [
        "returns_train = prices_train_data.pct_change() # get the assets daily returns\n",
        "returns_test = prices_test_data.pct_change()\n",
        "\n",
        "eq_test_cum_returns = (1 + Strategy_Returns_Data_test[\"return_eq\"].copy().reset_index(drop=True)).cumprod()\n",
        "eq_test_cum_returns.name = 'Equal Weight Approach'\n",
        "eq_test_cum_returns = eq_test_cum_returns.to_frame()\n",
        "eq_test_cum_returns.set_index( returns_test[0:-2].index, inplace=True)\n",
        "\n",
        "markow_test_cum_returns = (1 + Strategy_Returns_Data_test[\"return_markow\"].copy().reset_index(drop=True)).cumprod()\n",
        "markow_test_cum_returns.name = 'Markowitz Mean-Variance Approach'\n",
        "markow_test_cum_returns = markow_test_cum_returns.to_frame()\n",
        "markow_test_cum_returns.set_index( returns_test[0:-2].index, inplace=True)\n",
        "\n",
        "kelly_test_cum_returns = (1 + Strategy_Returns_Data_test[\"return_kelly\"].copy().reset_index(drop=True)).cumprod()\n",
        "kelly_test_cum_returns.name = 'Kelly Portfolio Criterion'\n",
        "kelly_test_cum_returns = kelly_test_cum_returns.to_frame()\n",
        "kelly_test_cum_returns.set_index( returns_test[0:-2].index, inplace=True)\n",
        "\n",
        "denoised_test_cum_returns = (1 + Strategy_Returns_Data_test[\"return_denoised\"].copy().reset_index(drop=True)).cumprod()\n",
        "denoised_test_cum_returns.name = 'Denoised Approach'\n",
        "denoised_test_cum_returns = denoised_test_cum_returns.to_frame()\n",
        "denoised_test_cum_returns.set_index( returns_test[0:-2].index, inplace=True)\n",
        "\n",
        "date_list = list(denoised_test_cum_returns.index)"
      ],
      "metadata": {
        "id": "Bp4515YTgIOp"
      },
      "execution_count": null,
      "outputs": []
    },
    {
      "cell_type": "code",
      "source": [
        "%matplotlib inline\n",
        "# Plot the culmulative returns of the portfolios\n",
        "fig, ax = plt.subplots(figsize=(21,9))\n",
        "eq_test_cum_returns.plot(ax=ax, color='blue', alpha=.4)\n",
        "markow_test_cum_returns.plot(ax=ax, color='green', alpha=.4)\n",
        "kelly_test_cum_returns.plot(ax=ax, color='skyblue', alpha=.4)\n",
        "denoised_test_cum_returns.plot(ax=ax, color='red', alpha=0.4)\n",
        "\n",
        "plt.legend(loc=\"best\");\n",
        "plt.grid(True)\n",
        "ax.set_ylabel(\"Cumulative return\");\n",
        "ax.set_title(\"Performance of Traditional Approaches on the testing data\", fontsize=14);"
      ],
      "metadata": {
        "id": "hqFp7yF4gIfr"
      },
      "execution_count": null,
      "outputs": []
    },
    {
      "cell_type": "markdown",
      "source": [
        "<hr style='border:2px solid black'>"
      ],
      "metadata": {
        "id": "BLoAdWAgoY94"
      }
    },
    {
      "cell_type": "markdown",
      "metadata": {
        "id": "ZDK57t7JChuv"
      },
      "source": [
        "## **Section 9: Performance Analysis of all traditional and RL agents**\n"
      ]
    },
    {
      "cell_type": "markdown",
      "source": [
        "<hr style='border:2px solid black'>"
      ],
      "metadata": {
        "id": "PtV-Ad6uoTjZ"
      }
    },
    {
      "cell_type": "markdown",
      "metadata": {
        "id": "ktyLtGWDF5L7"
      },
      "source": [
        "We analyse the performance of all trading agents - traditional and RL based in this section. We first evaluate against the training data (in the sample)."
      ]
    },
    {
      "cell_type": "code",
      "execution_count": null,
      "metadata": {
        "id": "qe6j57pSGDhY"
      },
      "outputs": [],
      "source": [
        "dict = {'Approach ' : [\"Markowitz\", \"Kelly\", \"Denoising\", \"Equal weighted\", \"\", \"A2C - TI\",\"PPO - TI\", \"DDPG - TI\", \"SAC - TI\", \"TD3 - TI\",\"\", \"A2C - RET\",\"PPO - RET \", \"DDPG - RET \", \"SAC - RET \", \"TD3 - RET \",\"\", \"A2C - LSTM \",\"PPO - LSTM \", \"DDPG - LSTM \", \"SAC - LSTM \", \"TD3 - LSTM \",\"\", \"A2C - Transformer \",\"PPO - Transformer \", \"DDPG - Transformer \", \"SAC - Transformer \", \"TD3 - Transformer \"  ],\n",
        "        'Initial Capital' : [np.round(100, 4), np.round(100, 4), np.round(100, 4),np.round(100, 4),\"\",  np.round(100, 4), np.round(100, 4), np.round(100, 4), np.round(100, 4),np.round(100, 4), \"\",  np.round(100, 4), np.round(100, 4), np.round(100, 4), np.round(100, 4),np.round(100, 4), \"\",  np.round(100, 4), np.round(100, 4), np.round(100, 4), np.round(100, 4),np.round(100, 4), \"\",  np.round(100, 4), np.round(100, 4), np.round(100, 4), np.round(100, 4),np.round(100, 4)],\n",
        "        'Total Gain' : [np.round(total_return_trg_markow, 4), np.round(total_return_trg_kelly, 4), np.round(total_return_trg_denoised, 4),np.round(total_return_trg_eq, 4),\"\",  np.round(total_return_trg_a2c_ti, 4), np.round(total_return_trg_ppo_ti, 4), np.round(total_return_trg_ddpg_ti, 4), np.round(total_return_trg_sac_ti, 4), np.round(total_return_trg_td3_ti, 4) ,\"\",  np.round(total_return_trg_a2c_ret, 4), np.round(total_return_trg_ppo_ret, 4), np.round(total_return_trg_ddpg_ret, 4), np.round(total_return_trg_sac_ret, 4),np.round(total_return_trg_td3_ret, 4) ,\"\",  np.round(total_return_trg_a2c_lstm, 4), np.round(total_return_trg_ppo_lstm, 4), np.round(total_return_trg_ddpg_lstm, 4), np.round(total_return_trg_sac_lstm, 4),np.round(total_return_trg_td3_lstm, 4),\"\",  np.round(total_return_trg_a2c_transformer, 4), np.round(total_return_trg_ppo_transformer, 4), np.round(total_return_trg_ddpg_transformer, 4), np.round(total_return_trg_sac_transformer, 4),np.round(total_return_trg_td3_transformer, 4)],\n",
        "        'Final Capital' : [np.round(final_value_trg_markow, 4), np.round(final_value_trg_kelly, 4), np.round(final_value_trg_denoised, 4),np.round(final_value_trg_eq, 4),\"\",  np.round(final_value_trg_a2c_ti, 4), np.round(final_value_trg_ppo_ti, 4), np.round(final_value_trg_ddpg_ti, 4), np.round(final_value_trg_sac_ti, 4),np.round(final_value_trg_td3_ti, 4) ,\"\",  np.round(final_value_trg_a2c_ret, 4), np.round(final_value_trg_ppo_ret, 4), np.round(final_value_trg_ddpg_ret, 4), np.round(final_value_trg_sac_ret, 4),np.round(final_value_trg_td3_ret, 4),\"\",  np.round(final_value_trg_a2c_lstm, 4), np.round(final_value_trg_ppo_lstm, 4), np.round(final_value_trg_ddpg_lstm, 4), np.round(final_value_trg_sac_lstm, 4),np.round(final_value_trg_td3_lstm, 4),\"\",  np.round(final_value_trg_a2c_transformer, 4), np.round(final_value_trg_ppo_transformer, 4), np.round(final_value_trg_ddpg_transformer, 4), np.round(final_value_trg_sac_transformer, 4),np.round(final_value_trg_td3_transformer, 4)],\n",
        "        'Annualized Return' : [np.round(annualized_return_trg_markow, 4), np.round(annualized_return_trg_kelly, 4), np.round(annualized_return_trg_denoised, 4),np.round(annualized_return_trg_eq, 4),\"\",  np.round(annualized_return_trg_a2c_ti, 4), np.round(annualized_return_trg_ppo_ti, 4), np.round(annualized_return_trg_ddpg_ti, 4), np.round(annualized_return_trg_sac_ti, 4),np.round(annualized_return_trg_td3_ti, 4) ,\"\",  np.round(annualized_return_trg_a2c_ret, 4), np.round(annualized_return_trg_ppo_ret, 4), np.round(annualized_return_trg_ddpg_ret, 4), np.round(annualized_return_trg_sac_ret, 4),np.round(annualized_return_trg_td3_ret, 4) ,\"\",  np.round(annualized_return_trg_a2c_lstm, 4), np.round(annualized_return_trg_ppo_lstm, 4), np.round(annualized_return_trg_ddpg_lstm, 4), np.round(annualized_return_trg_sac_lstm, 4),np.round(annualized_return_trg_td3_lstm, 4) ,\"\",  np.round(annualized_return_trg_a2c_transformer, 4), np.round(annualized_return_trg_ppo_transformer, 4), np.round(annualized_return_trg_ddpg_transformer, 4), np.round(annualized_return_trg_sac_transformer, 4),np.round(annualized_return_trg_td3_transformer, 4)],\n",
        "        'Sharpe Ratio (SR)' : [np.round(sharpe_ratio_trg_markow, 4), np.round(sharpe_ratio_trg_kelly, 4), np.round(sharpe_ratio_trg_denoised, 4), np.round(sharpe_ratio_trg_eq, 4),\"\",  np.round(sharpe_ratio_trg_a2c_ti, 4), np.round(sharpe_ratio_trg_ppo_ti, 4), np.round(sharpe_ratio_trg_ddpg_ti, 4), np.round(sharpe_ratio_trg_sac_ti, 4),np.round(sharpe_ratio_trg_td3_ti, 4) ,\"\",  np.round(sharpe_ratio_trg_a2c_ret, 4),np.round(sharpe_ratio_trg_ppo_ret, 4), np.round(sharpe_ratio_trg_ddpg_ret, 4), np.round(sharpe_ratio_trg_sac_ret, 4),np.round(sharpe_ratio_trg_td3_ret, 4) ,\"\",  np.round(sharpe_ratio_trg_a2c_lstm, 4),np.round(sharpe_ratio_trg_ppo_lstm, 4), np.round(sharpe_ratio_trg_ddpg_lstm, 4), np.round(sharpe_ratio_trg_sac_lstm, 4),np.round(sharpe_ratio_trg_td3_lstm, 4),\"\",  np.round(sharpe_ratio_trg_a2c_transformer, 4),np.round(sharpe_ratio_trg_ppo_transformer, 4), np.round(sharpe_ratio_trg_ddpg_transformer, 4), np.round(sharpe_ratio_trg_sac_transformer, 4),np.round(sharpe_ratio_trg_td3_transformer, 4)],\n",
        "        'Maximum Drawdown(%)' : [np.round(maxdraw_trg_markow, 4), np.round(maxdraw_trg_kelly, 4), np.round(maxdraw_trg_denoised, 4), np.round(maxdraw_trg_eq, 4),\"\",  np.round(maxdraw_trg_a2c_ti, 4),np.round(maxdraw_trg_ppo_ti, 4), np.round(maxdraw_trg_ddpg_ti, 4), np.round(maxdraw_trg_sac_ti, 4),np.round(maxdraw_trg_td3_ti, 4) ,\"\",  np.round(maxdraw_trg_a2c_ret, 4),np.round(maxdraw_trg_ppo_ret, 4), np.round(maxdraw_trg_ddpg_ret, 4), np.round(maxdraw_trg_sac_ret, 4),np.round(maxdraw_trg_td3_ret, 4) ,\"\",  np.round(maxdraw_trg_a2c_lstm, 4),np.round(maxdraw_trg_ppo_lstm, 4), np.round(maxdraw_trg_ddpg_lstm, 4), np.round(maxdraw_trg_sac_lstm, 4),np.round(maxdraw_trg_td3_lstm, 4),\"\",  np.round(maxdraw_trg_a2c_transformer, 4),np.round(maxdraw_trg_ppo_transformer, 4), np.round(maxdraw_trg_ddpg_transformer, 4), np.round(maxdraw_trg_sac_transformer, 4),np.round(maxdraw_trg_td3_transformer, 4)]}\n",
        "\n",
        "df = pd.DataFrame(dict, index = None)\n",
        "pdtabulate = lambda df: tabulate(df, headers='keys', tablefmt='heavy_grid', showindex=False)\n",
        "print(pdtabulate(df))"
      ]
    },
    {
      "cell_type": "code",
      "source": [
        "display(HTML(df.to_html()))"
      ],
      "metadata": {
        "id": "vI8_Kmqsx9mz"
      },
      "execution_count": null,
      "outputs": []
    },
    {
      "cell_type": "markdown",
      "metadata": {
        "id": "oiW0iJHYvH6K"
      },
      "source": [
        "More critically, we also analyse the performance of all these algorithms against out-of-sample data (testing data)."
      ]
    },
    {
      "cell_type": "code",
      "execution_count": null,
      "metadata": {
        "id": "R71cfBGTvSqy"
      },
      "outputs": [],
      "source": [
        "dict = {'Approach ' : [\"Markowitz\", \"Kelly\", \"Denoising\", \"Equal weighted\", \"\", \"A2C - TI\",\"PPO - TI\", \"DDPG - TI\", \"SAC - TI\", \"TD3 - TI\",\"\", \"A2C - RET\",\"PPO - RET \", \"DDPG - RET \", \"SAC - RET \", \"TD3 - RET \",\"\", \"A2C - LSTM \",\"PPO - LSTM \", \"DDPG - LSTM \", \"SAC - LSTM \", \"TD3 - LSTM \",\"\", \"A2C - Transformer \",\"PPO - Transformer \", \"DDPG - Transformer \", \"SAC - Transformer \", \"TD3 - Transformer \"  ],\n",
        "        'Initial Capital' : [np.round(100, 4), np.round(100, 4), np.round(100, 4),np.round(100, 4),\"\",  np.round(100, 4), np.round(100, 4), np.round(100, 4), np.round(100, 4),np.round(100, 4), \"\",  np.round(100, 4), np.round(100, 4), np.round(100, 4), np.round(100, 4),np.round(100, 4), \"\",  np.round(100, 4), np.round(100, 4), np.round(100, 4), np.round(100, 4),np.round(100, 4), \"\",  np.round(100, 4), np.round(100, 4), np.round(100, 4), np.round(100, 4),np.round(100, 4)],\n",
        "        'Total Gain' : [np.round(total_return_test_markow, 4), np.round(total_return_test_kelly, 4), np.round(total_return_test_denoised, 4),np.round(total_return_test_eq, 4),\"\",  np.round(total_return_test_a2c_ti, 4), np.round(total_return_test_ppo_ti, 4), np.round(total_return_test_ddpg_ti, 4), np.round(total_return_test_sac_ti, 4), np.round(total_return_test_td3_ti, 4) ,\"\",  np.round(total_return_test_a2c_ret, 4), np.round(total_return_test_ppo_ret, 4), np.round(total_return_test_ddpg_ret, 4), np.round(total_return_test_sac_ret, 4),np.round(total_return_test_td3_ret, 4) ,\"\",  np.round(total_return_test_a2c_lstm, 4), np.round(total_return_test_ppo_lstm, 4), np.round(total_return_test_ddpg_lstm, 4), np.round(total_return_test_sac_lstm, 4),np.round(total_return_test_td3_lstm, 4),\"\",  np.round(total_return_test_a2c_transformer, 4), np.round(total_return_test_ppo_transformer, 4), np.round(total_return_test_ddpg_transformer, 4), np.round(total_return_test_sac_transformer, 4),np.round(total_return_test_td3_transformer, 4)],\n",
        "        'Final Capital' : [np.round(final_value_test_markow, 4), np.round(final_value_test_kelly, 4), np.round(final_value_test_denoised, 4),np.round(final_value_test_eq, 4),\"\",  np.round(final_value_test_a2c_ti, 4), np.round(final_value_test_ppo_ti, 4), np.round(final_value_test_ddpg_ti, 4), np.round(final_value_test_sac_ti, 4),np.round(final_value_test_td3_ti, 4) ,\"\",  np.round(final_value_test_a2c_ret, 4), np.round(final_value_test_ppo_ret, 4), np.round(final_value_test_ddpg_ret, 4), np.round(final_value_test_sac_ret, 4),np.round(final_value_test_td3_ret, 4),\"\",  np.round(final_value_test_a2c_lstm, 4), np.round(final_value_test_ppo_lstm, 4), np.round(final_value_test_ddpg_lstm, 4), np.round(final_value_test_sac_lstm, 4),np.round(final_value_test_td3_lstm, 4),\"\",  np.round(final_value_test_a2c_transformer, 4), np.round(final_value_test_ppo_transformer, 4), np.round(final_value_test_ddpg_transformer, 4), np.round(final_value_test_sac_transformer, 4),np.round(final_value_test_td3_transformer, 4)],\n",
        "        'Annualized Return' : [np.round(annualized_return_test_markow, 4), np.round(annualized_return_test_kelly, 4), np.round(annualized_return_test_denoised, 4),np.round(annualized_return_test_eq, 4),\"\",  np.round(annualized_return_test_a2c_ti, 4), np.round(annualized_return_test_ppo_ti, 4), np.round(annualized_return_test_ddpg_ti, 4), np.round(annualized_return_test_sac_ti, 4),np.round(annualized_return_test_td3_ti, 4) ,\"\",  np.round(annualized_return_test_a2c_ret, 4), np.round(annualized_return_test_ppo_ret, 4), np.round(annualized_return_test_ddpg_ret, 4), np.round(annualized_return_test_sac_ret, 4),np.round(annualized_return_test_td3_ret, 4) ,\"\",  np.round(annualized_return_test_a2c_lstm, 4), np.round(annualized_return_test_ppo_lstm, 4), np.round(annualized_return_test_ddpg_lstm, 4), np.round(annualized_return_test_sac_lstm, 4),np.round(annualized_return_test_td3_lstm, 4) ,\"\",  np.round(annualized_return_test_a2c_transformer, 4), np.round(annualized_return_test_ppo_transformer, 4), np.round(annualized_return_test_ddpg_transformer, 4), np.round(annualized_return_test_sac_transformer, 4),np.round(annualized_return_test_td3_transformer, 4)],\n",
        "        'Sharpe Ratio (SR)' : [np.round(sharpe_ratio_test_markow, 4), np.round(sharpe_ratio_test_kelly, 4), np.round(sharpe_ratio_test_denoised, 4), np.round(sharpe_ratio_test_eq, 4),\"\",  np.round(sharpe_ratio_test_a2c_ti, 4), np.round(sharpe_ratio_test_ppo_ti, 4), np.round(sharpe_ratio_test_ddpg_ti, 4), np.round(sharpe_ratio_test_sac_ti, 4),np.round(sharpe_ratio_test_td3_ti, 4) ,\"\",  np.round(sharpe_ratio_test_a2c_ret, 4),np.round(sharpe_ratio_test_ppo_ret, 4), np.round(sharpe_ratio_test_ddpg_ret, 4), np.round(sharpe_ratio_test_sac_ret, 4),np.round(sharpe_ratio_test_td3_ret, 4) ,\"\",  np.round(sharpe_ratio_test_a2c_lstm, 4),np.round(sharpe_ratio_test_ppo_lstm, 4), np.round(sharpe_ratio_test_ddpg_lstm, 4), np.round(sharpe_ratio_test_sac_lstm, 4),np.round(sharpe_ratio_test_td3_lstm, 4),\"\",  np.round(sharpe_ratio_test_a2c_transformer, 4),np.round(sharpe_ratio_test_ppo_transformer, 4), np.round(sharpe_ratio_test_ddpg_transformer, 4), np.round(sharpe_ratio_test_sac_transformer, 4),np.round(sharpe_ratio_test_td3_transformer, 4)],\n",
        "        'Maximum Drawdown(%)' : [np.round(maxdraw_test_markow, 4), np.round(maxdraw_test_kelly, 4), np.round(maxdraw_test_denoised, 4), np.round(maxdraw_test_eq, 4),\"\",  np.round(maxdraw_test_a2c_ti, 4),np.round(maxdraw_test_ppo_ti, 4), np.round(maxdraw_test_ddpg_ti, 4), np.round(maxdraw_test_sac_ti, 4),np.round(maxdraw_test_td3_ti, 4) ,\"\",  np.round(maxdraw_test_a2c_ret, 4),np.round(maxdraw_test_ppo_ret, 4), np.round(maxdraw_test_ddpg_ret, 4), np.round(maxdraw_test_sac_ret, 4),np.round(maxdraw_test_td3_ret, 4) ,\"\",  np.round(maxdraw_test_a2c_lstm, 4),np.round(maxdraw_test_ppo_lstm, 4), np.round(maxdraw_test_ddpg_lstm, 4), np.round(maxdraw_test_sac_lstm, 4),np.round(maxdraw_test_td3_lstm, 4),\"\",  np.round(maxdraw_test_a2c_transformer, 4),np.round(maxdraw_test_ppo_transformer, 4), np.round(maxdraw_test_ddpg_transformer, 4), np.round(maxdraw_test_sac_transformer, 4),np.round(maxdraw_test_td3_transformer, 4)]}\n",
        "\n",
        "df = pd.DataFrame(dict, index = None)\n",
        "pdtabulate = lambda df: tabulate(df, headers='keys', tablefmt='heavy_grid', showindex=False)\n",
        "print(pdtabulate(df))\n"
      ]
    },
    {
      "cell_type": "code",
      "source": [
        "display(HTML(df.to_html()))"
      ],
      "metadata": {
        "id": "Ae3PsOvLyHWi"
      },
      "execution_count": null,
      "outputs": []
    },
    {
      "cell_type": "markdown",
      "metadata": {
        "id": "OrOfbBsdK1Yf"
      },
      "source": [
        "<hr style='border:2px solid black'>"
      ]
    },
    {
      "cell_type": "markdown",
      "metadata": {
        "id": "YpzlWg9rvm6b"
      },
      "source": [
        "## **Section 10: The DynaCAAST Framework for RL based trading agents (Testing Data)**\n"
      ]
    },
    {
      "cell_type": "markdown",
      "metadata": {
        "id": "9SoBkvJfvxD3"
      },
      "source": [
        "<hr style='border:2px solid black'>"
      ]
    },
    {
      "cell_type": "markdown",
      "source": [
        "We now review the performance of DynaCAAST Framework on testing dataset. First we clear any old elements in dictionaries for holding environments and observations."
      ],
      "metadata": {
        "id": "4PJh_GoMcyXk"
      }
    },
    {
      "cell_type": "code",
      "source": [
        "DynaCAAST_Env.clear()\n",
        "DynaCAAST_Obs.clear()"
      ],
      "metadata": {
        "id": "51O0iUWmWjqM"
      },
      "execution_count": null,
      "outputs": []
    },
    {
      "cell_type": "markdown",
      "source": [
        "Now we prepare multiple environments for running our various RL algorithms. We need multiple environments as each RL agent uses its own state space and requires correspondingly defined environment."
      ],
      "metadata": {
        "id": "h3ed1FwNdEE8"
      }
    },
    {
      "cell_type": "code",
      "source": [
        "env_kwargs = { \"hmax\": 500, \"initial_amount\": 1000000, \"transaction_cost_pct\": transaction_cost, \"state_space\": state_space,  \"stock_dim\": stock_dimension,  \"tech_indicator_list\": ti_abbreviations,\n",
        "    \"action_space\": stock_dimension,  \"reward_scaling\": 0, 'initial_weights': [1/stock_dimension]*stock_dimension}\n",
        "\n",
        "e_trade_gym = StockPortfolioEnv(df = test_data_ti , **env_kwargs)\n",
        "env_a2c_ti, obs_trade = e_trade_gym.get_sb_env()\n",
        "DynaCAAST_Env['a2c_ti'] = copy.copy(env_a2c_ti)\n",
        "DynaCAAST_Obs['a2c_ti'] = obs_trade.copy()\n",
        "\n",
        "e_trade_gym = StockPortfolioEnv(df = test_data_ti, **env_kwargs)\n",
        "env_ppo_ti, obs_trade = e_trade_gym.get_sb_env()\n",
        "DynaCAAST_Env['ppo_ti'] = copy.copy(env_ppo_ti)\n",
        "DynaCAAST_Obs['ppo_ti'] = obs_trade.copy()\n",
        "\n",
        "e_trade_gym = StockPortfolioEnv(df = test_data_ti, **env_kwargs)\n",
        "env_ddpg_ti, obs_trade = e_trade_gym.get_sb_env()\n",
        "DynaCAAST_Env['ddpg_ti'] = copy.copy(env_ddpg_ti)\n",
        "DynaCAAST_Obs['ddpg_ti'] = obs_trade.copy()\n",
        "\n",
        "e_trade_gym = StockPortfolioEnv(df = test_data_ti, **env_kwargs)\n",
        "env_sac_ti, obs_trade = e_trade_gym.get_sb_env()\n",
        "DynaCAAST_Env['sac_ti'] = copy.copy(env_sac_ti)\n",
        "DynaCAAST_Obs['sac_ti'] = copy.copy(obs_trade)\n",
        "\n",
        "e_trade_gym = StockPortfolioEnv(df = test_data_ti, **env_kwargs)\n",
        "env_td3_ti, obs_trade = e_trade_gym.get_sb_env()\n",
        "DynaCAAST_Env['td3_ti'] = copy.copy(env_td3_ti)\n",
        "DynaCAAST_Obs['td3_ti'] = obs_trade.copy()\n",
        "\n",
        "env_kwargs = { \"hmax\": 500, \"initial_amount\": 1000000, \"transaction_cost_pct\": transaction_cost, \"state_space\": state_space,  \"stock_dim\": stock_dimension,  \"tech_indicator_list\": return_lags,\n",
        "    \"action_space\": stock_dimension,  \"reward_scaling\": 0, 'initial_weights': [1/stock_dimension]*stock_dimension}\n",
        "\n",
        "e_trade_gym = StockPortfolioEnv(df = test_data_ret , **env_kwargs)\n",
        "env_a2c_ret, obs_trade = e_trade_gym.get_sb_env()\n",
        "DynaCAAST_Env['a2c_ret'] = copy.copy(env_a2c_ret)\n",
        "DynaCAAST_Obs['a2c_ret'] = obs_trade.copy()\n",
        "\n",
        "e_trade_gym = StockPortfolioEnv(df = test_data_ret, **env_kwargs)\n",
        "env_ppo_ret, obs_trade = e_trade_gym.get_sb_env()\n",
        "DynaCAAST_Env['ppo_ret'] = copy.copy(env_ppo_ret)\n",
        "DynaCAAST_Obs['ppo_ret'] = obs_trade.copy()\n",
        "\n",
        "e_trade_gym = StockPortfolioEnv(df = test_data_ret, **env_kwargs)\n",
        "env_ddpg_ret, obs_trade = e_trade_gym.get_sb_env()\n",
        "DynaCAAST_Env['ddpg_ret'] = copy.copy(env_ddpg_ret)\n",
        "DynaCAAST_Obs['ddpg_ret'] = obs_trade.copy()\n",
        "\n",
        "e_trade_gym = StockPortfolioEnv(df = test_data_ret, **env_kwargs)\n",
        "env_sac_ret, obs_trade = e_trade_gym.get_sb_env()\n",
        "DynaCAAST_Env['sac_ret'] = copy.copy(env_sac_ret)\n",
        "DynaCAAST_Obs['sac_ret'] = obs_trade.copy()\n",
        "\n",
        "e_trade_gym = StockPortfolioEnv(df = test_data_ret, **env_kwargs)\n",
        "env_td3_ret, obs_trade = e_trade_gym.get_sb_env()\n",
        "DynaCAAST_Env['td3_ret'] = copy.copy(env_td3_ret)\n",
        "DynaCAAST_Obs['td3_ret'] = obs_trade.copy()\n",
        "\n",
        "env_kwargs = { \"hmax\": 500, \"initial_amount\": 1000000, \"transaction_cost_pct\": transaction_cost, \"state_space\": state_space,  \"stock_dim\": stock_dimension,  \"tech_indicator_list\": lstm_fcst,\n",
        "    \"action_space\": stock_dimension,  \"reward_scaling\": 0, 'initial_weights': [1/stock_dimension]*stock_dimension}\n",
        "\n",
        "e_trade_gym = StockPortfolioEnv(df = test_data_lstm , **env_kwargs)\n",
        "env_a2c_lstm, obs_trade = e_trade_gym.get_sb_env()\n",
        "DynaCAAST_Env['a2c_lstm'] = copy.copy(env_a2c_lstm)\n",
        "DynaCAAST_Obs['a2c_lstm'] = obs_trade.copy()\n",
        "\n",
        "e_trade_gym = StockPortfolioEnv(df = test_data_lstm, **env_kwargs)\n",
        "env_ppo_lstm, obs_trade = e_trade_gym.get_sb_env()\n",
        "DynaCAAST_Env['ppo_lstm'] = copy.copy(env_ppo_lstm)\n",
        "DynaCAAST_Obs['ppo_lstm'] = obs_trade.copy()\n",
        "\n",
        "e_trade_gym = StockPortfolioEnv(df = test_data_lstm, **env_kwargs)\n",
        "env_ddpg_lstm, obs_trade = e_trade_gym.get_sb_env()\n",
        "DynaCAAST_Env['ddpg_lstm'] = copy.copy(env_ddpg_lstm)\n",
        "DynaCAAST_Obs['ddpg_lstm'] = obs_trade.copy()\n",
        "\n",
        "e_trade_gym = StockPortfolioEnv(df = test_data_lstm, **env_kwargs)\n",
        "env_sac_lstm, obs_trade = e_trade_gym.get_sb_env()\n",
        "DynaCAAST_Env['sac_lstm'] = copy.copy(env_sac_lstm)\n",
        "DynaCAAST_Obs['sac_lstm'] = obs_trade.copy()\n",
        "\n",
        "e_trade_gym = StockPortfolioEnv(df = test_data_lstm, **env_kwargs)\n",
        "env_td3_lstm, obs_trade = e_trade_gym.get_sb_env()\n",
        "DynaCAAST_Env['td3_lstm'] = copy.copy(env_td3_lstm)\n",
        "DynaCAAST_Obs['td3_lstm'] = obs_trade.copy()\n",
        "\n",
        "env_kwargs = { \"hmax\": 500, \"initial_amount\": 1000000, \"transaction_cost_pct\": transaction_cost, \"state_space\": state_space,  \"stock_dim\": stock_dimension,  \"tech_indicator_list\": transformer_fcst,\n",
        "    \"action_space\": stock_dimension,  \"reward_scaling\": 0, 'initial_weights': [1/stock_dimension]*stock_dimension}\n",
        "\n",
        "e_trade_gym = StockPortfolioEnv(df = test_data_transformer , **env_kwargs)\n",
        "env_a2c_transformer, obs_trade = e_trade_gym.get_sb_env()\n",
        "DynaCAAST_Env['a2c_transformer'] = copy.copy(env_a2c_transformer)\n",
        "DynaCAAST_Obs['a2c_transformer'] = obs_trade.copy()\n",
        "\n",
        "e_trade_gym = StockPortfolioEnv(df = test_data_transformer, **env_kwargs)\n",
        "env_ppo_transformer, obs_trade = e_trade_gym.get_sb_env()\n",
        "DynaCAAST_Env['ppo_transformer'] = copy.copy(env_ppo_transformer)\n",
        "DynaCAAST_Obs['ppo_transformer'] = obs_trade.copy()\n",
        "\n",
        "e_trade_gym = StockPortfolioEnv(df = test_data_transformer, **env_kwargs)\n",
        "env_ddpg_transformer, obs_trade = e_trade_gym.get_sb_env()\n",
        "DynaCAAST_Env['ddpg_transformer'] = copy.copy(env_ddpg_transformer)\n",
        "DynaCAAST_Obs['ddpg_transformer'] = obs_trade.copy()\n",
        "\n",
        "e_trade_gym = StockPortfolioEnv(df = test_data_transformer, **env_kwargs)\n",
        "env_sac_transformer, obs_trade = e_trade_gym.get_sb_env()\n",
        "DynaCAAST_Env['sac_transformer'] = copy.copy(env_sac_transformer)\n",
        "DynaCAAST_Obs['sac_transformer'] = obs_trade.copy()\n",
        "\n",
        "e_trade_gym = StockPortfolioEnv(df = test_data_transformer, **env_kwargs)\n",
        "env_td3_transformer, obs_trade = e_trade_gym.get_sb_env()\n",
        "DynaCAAST_Env['td3_transformer'] = copy.copy(env_td3_transformer)\n",
        "DynaCAAST_Obs['td3_transformer'] = obs_trade.copy()"
      ],
      "metadata": {
        "id": "0pMvT1M8WbK6"
      },
      "execution_count": null,
      "outputs": []
    },
    {
      "cell_type": "markdown",
      "source": [
        "Below we create our DynaCAAST framework and run it on the testing data. We then evaluate the performance of DynaCAAST Framework with all other RL agents and traditional approaches."
      ],
      "metadata": {
        "id": "0gTUHPdrCJek"
      }
    },
    {
      "cell_type": "code",
      "execution_count": null,
      "metadata": {
        "id": "sBkmCidAvxjd"
      },
      "outputs": [],
      "source": [
        "dyna_portfolio_weights = [np.array([1/27, 1/27, 1/27, 1/27, 1/27, 1/27, 1/27, 1/27, 1/27, 1/27, 1/27, 1/27,1/27, 1/27, 1/27, 1/27, 1/27, 1/27, 1/27, 1/27, 1/27, 1/27, 1/27, 1/27, 1/27, 1/27, 1/27])]\n",
        "dyna_portfolio_values  = [100]\n",
        "dyna_portfolio_returns = [0]\n",
        "reset_iter = 0\n",
        "last_data_values = np.array([0, 0, 0])\n",
        "\n",
        "for i in range(len(test_data_lstm.index.unique())):\n",
        "  max_rewards = []\n",
        "  max_weights = []\n",
        "  data_values = 0\n",
        "  arg_max = 0\n",
        "\n",
        "  for model, env, obs in zip(list(DynaCAAST_Model.values()), list(DynaCAAST_Env.values()), list(DynaCAAST_Obs.values())):\n",
        "    if reset_iter == 0:\n",
        "      env.reset()\n",
        "    action, _states = model.predict(obs)\n",
        "    obs, rewards, dones, info = env.step(action)\n",
        "    max_rewards.append(rewards)\n",
        "    weights = env.env_method(method_name=\"getWeights\")\n",
        "    max_weights.append(weights)\n",
        "\n",
        "  reset_iter = 1\n",
        "\n",
        "  data_values = np.squeeze(env.env_method(method_name=\"getDataCloseValues\"))\n",
        "\n",
        "  prev_portfolio_value = dyna_portfolio_values[-1]\n",
        "\n",
        "  arg_max = np.argmax(np.array(max_rewards))\n",
        "\n",
        "  curr_weights = max_weights[arg_max]\n",
        "\n",
        "  dyna_portfolio_weights.append(curr_weights)\n",
        "\n",
        "  if last_data_values.all() == 0:\n",
        "    new_portfolio_value = prev_portfolio_value\n",
        "    last_data_values = data_values.copy()\n",
        "  else:\n",
        "    new_portfolio_value = np.sum((data_values/last_data_values) * np.array(dyna_portfolio_weights[-1])) * prev_portfolio_value\n",
        "    trans_cost = np.sum(np.absolute((data_values/last_data_values) * (np.array(dyna_portfolio_weights[-1]) -  np.array(dyna_portfolio_weights[-2]))))*transaction_cost\n",
        "    new_portfolio_value = new_portfolio_value - abs(trans_cost)\n",
        "    last_data_values = data_values.copy()\n",
        "\n",
        "  portfolio_return = new_portfolio_value/prev_portfolio_value -1\n",
        "  dyna_portfolio_values.append(new_portfolio_value)\n",
        "  dyna_portfolio_returns.append(portfolio_return)"
      ]
    },
    {
      "cell_type": "code",
      "execution_count": null,
      "metadata": {
        "id": "i58L2xVav3m-"
      },
      "outputs": [],
      "source": [
        "test_data_dyna = pd.DataFrame({'daily_return':dyna_portfolio_returns[:-1],\n",
        "                               'Date':list(test_data_lstm.date.unique()) })"
      ]
    },
    {
      "cell_type": "code",
      "execution_count": null,
      "metadata": {
        "id": "w-iSUPk3l92Y"
      },
      "outputs": [],
      "source": [
        "test_data_dyna.set_index(['Date'], inplace=True)"
      ]
    },
    {
      "cell_type": "markdown",
      "source": [
        "Once we have the daily returns from DynaCAAST frameowork, we visualize the performance graphically."
      ],
      "metadata": {
        "id": "5lgZACK_Chud"
      }
    },
    {
      "cell_type": "code",
      "execution_count": null,
      "metadata": {
        "id": "A_AzjLk4v3qP"
      },
      "outputs": [],
      "source": [
        "capital = initial_capital\n",
        "portfolio_values = []\n",
        "portfolio_returns = []\n",
        "\n",
        "for i in range(1, len(test_data_dyna)):\n",
        "    # Calculate portfolio returns based on the weighted sum of security returns\n",
        "    portfolio_return = test_data_dyna['daily_return'].iloc[i]\n",
        "    capital *= (1 + portfolio_return)\n",
        "    portfolio_values.append(capital)\n",
        "    portfolio_returns.append(portfolio_return)\n",
        "\n",
        "# Plot the portfolio value over time\n",
        "plt.figure(figsize=(21, 9))\n",
        "plt.plot(td3_test_returns_lstm[\"date\"][1:], portfolio_values, label=\"DynaCAAST Portfolio\", color=\"green\")\n",
        "plt.title(\"Portfolio Performance based on DynaCAAST Framework - Testing Data\")\n",
        "plt.xlabel(\"Time\")\n",
        "plt.ylabel(\"Portfolio Value\")\n",
        "plt.legend()\n",
        "plt.show()\n",
        "\n",
        "Strategy_Returns_Data_test[\"return_dyna\"] = portfolio_returns\n",
        "\n",
        "# Calculate performance metrics\n",
        "final_value_test_dyna = capital\n",
        "total_return_test_dyna = final_value_test_dyna - initial_capital\n",
        "sharpe_ratio_test_dyna = np.mean(portfolio_returns) / np.std(portfolio_returns)*np.sqrt(252)\n",
        "annualized_return_test_dyna = (final_value_test_dyna / initial_capital) ** (1 / (len(test_data_dyna) / 252)) - 1  # Assuming daily returns (252 trading days)\n",
        "maxdraw_test_dyna = getMaxDrawdown(pd.DataFrame(portfolio_values), 252)[1].min().values[0]*100\n",
        "\n",
        "print(f\"Final Portfolio Value: {final_value_test_dyna:.2f}\")\n",
        "print(f\"Total Return: {total_return_test_dyna:.2f}\")\n",
        "print(f\"Annualized Return: {annualized_return_test_dyna * 100:.2f}%\")\n",
        "print(f\"Sharpe Ratio: {sharpe_ratio_test_dyna:.4f}\")\n",
        "print(f\"Maximum draw down(%): {maxdraw_test_dyna:.4f}\")"
      ]
    },
    {
      "cell_type": "markdown",
      "metadata": {
        "id": "_y9cYIhT1IVx"
      },
      "source": [
        "We evaluate performance of all approaches including the DynaCAAST framework"
      ]
    },
    {
      "cell_type": "code",
      "execution_count": null,
      "metadata": {
        "id": "jDTojjku1SDG"
      },
      "outputs": [],
      "source": [
        "dict = {'Approach ' : [\"Markowitz\", \"Kelly\", \"Denoising\", \"Equal weighted\", \"\", \"A2C - TI\",\"PPO - TI\", \"DDPG - TI\", \"SAC - TI\", \"TD3 - TI\",\"\", \"A2C - RET\",\"PPO - RET \", \"DDPG - RET \", \"SAC - RET \", \"TD3 - RET \",\"\", \"A2C - LSTM \",\"PPO - LSTM \", \"DDPG - LSTM \", \"SAC - LSTM \", \"TD3 - LSTM \",\"\", \"A2C - Transformer \",\"PPO - Transformer \", \"DDPG - Transformer \", \"SAC - Transformer \", \"TD3 - Transformer \" , \"\", \"DynaCAAST \"  ],\n",
        "        'Initial Capital' : [np.round(100, 4), np.round(100, 4), np.round(100, 4),np.round(100, 4),\"\",  np.round(100, 4), np.round(100, 4), np.round(100, 4), np.round(100, 4),np.round(100, 4), \"\",  np.round(100, 4), np.round(100, 4), np.round(100, 4), np.round(100, 4),np.round(100, 4), \"\",  np.round(100, 4), np.round(100, 4), np.round(100, 4), np.round(100, 4),np.round(100, 4), \"\",  np.round(100, 4), np.round(100, 4), np.round(100, 4), np.round(100, 4),np.round(100, 4), \"\",  np.round(100, 4)],\n",
        "        'Total Gain' : [np.round(total_return_test_markow, 4), np.round(total_return_test_kelly, 4), np.round(total_return_test_denoised, 4),np.round(total_return_test_eq, 4),\"\",  np.round(total_return_test_a2c_ti, 4), np.round(total_return_test_ppo_ti, 4), np.round(total_return_test_ddpg_ti, 4), np.round(total_return_test_sac_ti, 4), np.round(total_return_test_td3_ti, 4) ,\"\",  np.round(total_return_test_a2c_ret, 4), np.round(total_return_test_ppo_ret, 4), np.round(total_return_test_ddpg_ret, 4), np.round(total_return_test_sac_ret, 4),np.round(total_return_test_td3_ret, 4) ,\"\",  np.round(total_return_test_a2c_lstm, 4), np.round(total_return_test_ppo_lstm, 4), np.round(total_return_test_ddpg_lstm, 4), np.round(total_return_test_sac_lstm, 4),np.round(total_return_test_td3_lstm, 4),\"\",  np.round(total_return_test_a2c_transformer, 4), np.round(total_return_test_ppo_transformer, 4), np.round(total_return_test_ddpg_transformer, 4), np.round(total_return_test_sac_transformer, 4),np.round(total_return_test_td3_transformer, 4), \"\", np.round(total_return_test_dyna, 4)],\n",
        "        'Final Capital' : [np.round(final_value_test_markow, 4), np.round(final_value_test_kelly, 4), np.round(final_value_test_denoised, 4),np.round(final_value_test_eq, 4),\"\",  np.round(final_value_test_a2c_ti, 4), np.round(final_value_test_ppo_ti, 4), np.round(final_value_test_ddpg_ti, 4), np.round(final_value_test_sac_ti, 4),np.round(final_value_test_td3_ti, 4) ,\"\",  np.round(final_value_test_a2c_ret, 4), np.round(final_value_test_ppo_ret, 4), np.round(final_value_test_ddpg_ret, 4), np.round(final_value_test_sac_ret, 4),np.round(final_value_test_td3_ret, 4),\"\",  np.round(final_value_test_a2c_lstm, 4), np.round(final_value_test_ppo_lstm, 4), np.round(final_value_test_ddpg_lstm, 4), np.round(final_value_test_sac_lstm, 4),np.round(final_value_test_td3_lstm, 4),\"\",  np.round(final_value_test_a2c_transformer, 4), np.round(final_value_test_ppo_transformer, 4), np.round(final_value_test_ddpg_transformer, 4), np.round(final_value_test_sac_transformer, 4),np.round(final_value_test_td3_transformer, 4), \"\", np.round(final_value_test_dyna, 4)],\n",
        "        'Annualized Return' : [np.round(annualized_return_test_markow, 4), np.round(annualized_return_test_kelly, 4), np.round(annualized_return_test_denoised, 4),np.round(annualized_return_test_eq, 4),\"\",  np.round(annualized_return_test_a2c_ti, 4), np.round(annualized_return_test_ppo_ti, 4), np.round(annualized_return_test_ddpg_ti, 4), np.round(annualized_return_test_sac_ti, 4),np.round(annualized_return_test_td3_ti, 4) ,\"\",  np.round(annualized_return_test_a2c_ret, 4), np.round(annualized_return_test_ppo_ret, 4), np.round(annualized_return_test_ddpg_ret, 4), np.round(annualized_return_test_sac_ret, 4),np.round(annualized_return_test_td3_ret, 4) ,\"\",  np.round(annualized_return_test_a2c_lstm, 4), np.round(annualized_return_test_ppo_lstm, 4), np.round(annualized_return_test_ddpg_lstm, 4), np.round(annualized_return_test_sac_lstm, 4),np.round(annualized_return_test_td3_lstm, 4) ,\"\",  np.round(annualized_return_test_a2c_transformer, 4), np.round(annualized_return_test_ppo_transformer, 4), np.round(annualized_return_test_ddpg_transformer, 4), np.round(annualized_return_test_sac_transformer, 4),np.round(annualized_return_test_td3_transformer, 4), \"\", np.round(annualized_return_test_dyna, 4)],\n",
        "        'Sharpe Ratio (SR)' : [np.round(sharpe_ratio_test_markow, 4), np.round(sharpe_ratio_test_kelly, 4), np.round(sharpe_ratio_test_denoised, 4), np.round(sharpe_ratio_test_eq, 4),\"\",  np.round(sharpe_ratio_test_a2c_ti, 4), np.round(sharpe_ratio_test_ppo_ti, 4), np.round(sharpe_ratio_test_ddpg_ti, 4), np.round(sharpe_ratio_test_sac_ti, 4),np.round(sharpe_ratio_test_td3_ti, 4) ,\"\",  np.round(sharpe_ratio_test_a2c_ret, 4),np.round(sharpe_ratio_test_ppo_ret, 4), np.round(sharpe_ratio_test_ddpg_ret, 4), np.round(sharpe_ratio_test_sac_ret, 4),np.round(sharpe_ratio_test_td3_ret, 4) ,\"\",  np.round(sharpe_ratio_test_a2c_lstm, 4),np.round(sharpe_ratio_test_ppo_lstm, 4), np.round(sharpe_ratio_test_ddpg_lstm, 4), np.round(sharpe_ratio_test_sac_lstm, 4),np.round(sharpe_ratio_test_td3_lstm, 4),\"\",  np.round(sharpe_ratio_test_a2c_transformer, 4),np.round(sharpe_ratio_test_ppo_transformer, 4), np.round(sharpe_ratio_test_ddpg_transformer, 4), np.round(sharpe_ratio_test_sac_transformer, 4),np.round(sharpe_ratio_test_td3_transformer, 4), \"\", np.round(sharpe_ratio_test_dyna, 4)],\n",
        "        'Maximum Drawdown(%)' : [np.round(maxdraw_test_markow, 4), np.round(maxdraw_test_kelly, 4), np.round(maxdraw_test_denoised, 4), np.round(maxdraw_test_eq, 4),\"\",  np.round(maxdraw_test_a2c_ti, 4),np.round(maxdraw_test_ppo_ti, 4), np.round(maxdraw_test_ddpg_ti, 4), np.round(maxdraw_test_sac_ti, 4),np.round(maxdraw_test_td3_ti, 4) ,\"\",  np.round(maxdraw_test_a2c_ret, 4),np.round(maxdraw_test_ppo_ret, 4), np.round(maxdraw_test_ddpg_ret, 4), np.round(maxdraw_test_sac_ret, 4),np.round(maxdraw_test_td3_ret, 4) ,\"\",  np.round(maxdraw_test_a2c_lstm, 4),np.round(maxdraw_test_ppo_lstm, 4), np.round(maxdraw_test_ddpg_lstm, 4), np.round(maxdraw_test_sac_lstm, 4),np.round(maxdraw_test_td3_lstm, 4),\"\",  np.round(maxdraw_test_a2c_transformer, 4),np.round(maxdraw_test_ppo_transformer, 4), np.round(maxdraw_test_ddpg_transformer, 4), np.round(maxdraw_test_sac_transformer, 4),np.round(maxdraw_test_td3_transformer, 4), \"\", np.round(maxdraw_test_dyna, 4)]}\n",
        "\n",
        "df = pd.DataFrame(dict, index = None)\n",
        "pdtabulate = lambda df: tabulate(df, headers='keys', tablefmt='heavy_grid', showindex=False)\n",
        "print(pdtabulate(df))"
      ]
    },
    {
      "cell_type": "code",
      "source": [
        "display(HTML(df.to_html()))"
      ],
      "metadata": {
        "id": "fJPwm_N6yQ6H"
      },
      "execution_count": null,
      "outputs": []
    },
    {
      "cell_type": "markdown",
      "metadata": {
        "id": "D83V-evNvMXa"
      },
      "source": [
        "## **Section 11: The DynaCAAST Framework for RL based trading agents (vs. Nifty Index)**\n"
      ]
    },
    {
      "cell_type": "markdown",
      "metadata": {
        "id": "luZ5aT5fvMXj"
      },
      "source": [
        "<hr style='border:2px solid black'>"
      ]
    },
    {
      "cell_type": "markdown",
      "source": [
        "We now benchmark our DynaCAAST algorithm against Nifty 50 index. That is we compare how our DynaCAAST framework fared versus an investor just holding the Nifty 50 index. For this purpose, we clear our environment and observation dictionaries."
      ],
      "metadata": {
        "id": "KYBtwxcGvMXj"
      }
    },
    {
      "cell_type": "code",
      "source": [
        "DynaCAAST_Env.clear()\n",
        "DynaCAAST_Obs.clear()"
      ],
      "metadata": {
        "id": "UCqtKTnZva4r"
      },
      "execution_count": null,
      "outputs": []
    },
    {
      "cell_type": "markdown",
      "source": [
        "We now create multiple environments for training datasets for our RL agents. We need this as we want to evaluate our DynaCAAST framework against Nifty 50 index for the entire duration of the time period."
      ],
      "metadata": {
        "id": "SPYEZF8Ud_NZ"
      }
    },
    {
      "cell_type": "code",
      "execution_count": null,
      "metadata": {
        "id": "hKqb7Lcwva4s"
      },
      "outputs": [],
      "source": [
        "env_kwargs = { \"hmax\": 500, \"initial_amount\": 1000000, \"transaction_cost_pct\": transaction_cost, \"state_space\": state_space,  \"stock_dim\": stock_dimension,  \"tech_indicator_list\": ti_abbreviations,\n",
        "    \"action_space\": stock_dimension,  \"reward_scaling\": 0, 'initial_weights': [1/stock_dimension]*stock_dimension}\n",
        "\n",
        "e_trade_gym = StockPortfolioEnv(df = train_data_ti , **env_kwargs)\n",
        "env_a2c_ti, obs_trade = e_trade_gym.get_sb_env()\n",
        "DynaCAAST_Env['a2c_ti'] = copy.copy(env_a2c_ti)\n",
        "DynaCAAST_Obs['a2c_ti'] = obs_trade.copy()\n",
        "\n",
        "e_trade_gym = StockPortfolioEnv(df = train_data_ti, **env_kwargs)\n",
        "env_ppo_ti, obs_trade = e_trade_gym.get_sb_env()\n",
        "DynaCAAST_Env['ppo_ti'] = copy.copy(env_ppo_ti)\n",
        "DynaCAAST_Obs['ppo_ti'] = obs_trade.copy()\n",
        "\n",
        "e_trade_gym = StockPortfolioEnv(df = train_data_ti, **env_kwargs)\n",
        "env_ddpg_ti, obs_trade = e_trade_gym.get_sb_env()\n",
        "DynaCAAST_Env['ddpg_ti'] = copy.copy(env_ddpg_ti)\n",
        "DynaCAAST_Obs['ddpg_ti'] = obs_trade.copy()\n",
        "\n",
        "e_trade_gym = StockPortfolioEnv(df = train_data_ti, **env_kwargs)\n",
        "env_sac_ti, obs_trade = e_trade_gym.get_sb_env()\n",
        "DynaCAAST_Env['sac_ti'] = copy.copy(env_sac_ti)\n",
        "DynaCAAST_Obs['sac_ti'] = copy.copy(obs_trade)\n",
        "\n",
        "e_trade_gym = StockPortfolioEnv(df = train_data_ti, **env_kwargs)\n",
        "env_td3_ti, obs_trade = e_trade_gym.get_sb_env()\n",
        "DynaCAAST_Env['td3_ti'] = copy.copy(env_td3_ti)\n",
        "DynaCAAST_Obs['td3_ti'] = obs_trade.copy()\n",
        "\n",
        "env_kwargs = { \"hmax\": 500, \"initial_amount\": 1000000, \"transaction_cost_pct\": transaction_cost, \"state_space\": state_space,  \"stock_dim\": stock_dimension,  \"tech_indicator_list\": return_lags,\n",
        "    \"action_space\": stock_dimension,  \"reward_scaling\": 0, 'initial_weights': [1/stock_dimension]*stock_dimension}\n",
        "\n",
        "e_trade_gym = StockPortfolioEnv(df = train_data_ret , **env_kwargs)\n",
        "env_a2c_ret, obs_trade = e_trade_gym.get_sb_env()\n",
        "DynaCAAST_Env['a2c_ret'] = copy.copy(env_a2c_ret)\n",
        "DynaCAAST_Obs['a2c_ret'] = obs_trade.copy()\n",
        "\n",
        "e_trade_gym = StockPortfolioEnv(df = train_data_ret, **env_kwargs)\n",
        "env_ppo_ret, obs_trade = e_trade_gym.get_sb_env()\n",
        "DynaCAAST_Env['ppo_ret'] = copy.copy(env_ppo_ret)\n",
        "DynaCAAST_Obs['ppo_ret'] = obs_trade.copy()\n",
        "\n",
        "e_trade_gym = StockPortfolioEnv(df = train_data_ret, **env_kwargs)\n",
        "env_ddpg_ret, obs_trade = e_trade_gym.get_sb_env()\n",
        "DynaCAAST_Env['ddpg_ret'] = copy.copy(env_ddpg_ret)\n",
        "DynaCAAST_Obs['ddpg_ret'] = obs_trade.copy()\n",
        "\n",
        "e_trade_gym = StockPortfolioEnv(df = train_data_ret, **env_kwargs)\n",
        "env_sac_ret, obs_trade = e_trade_gym.get_sb_env()\n",
        "DynaCAAST_Env['sac_ret'] = copy.copy(env_sac_ret)\n",
        "DynaCAAST_Obs['sac_ret'] = obs_trade.copy()\n",
        "\n",
        "e_trade_gym = StockPortfolioEnv(df = train_data_ret, **env_kwargs)\n",
        "env_td3_ret, obs_trade = e_trade_gym.get_sb_env()\n",
        "DynaCAAST_Env['td3_ret'] = copy.copy(env_td3_ret)\n",
        "DynaCAAST_Obs['td3_ret'] = obs_trade.copy()\n",
        "\n",
        "env_kwargs = { \"hmax\": 500, \"initial_amount\": 1000000, \"transaction_cost_pct\": transaction_cost, \"state_space\": state_space,  \"stock_dim\": stock_dimension,  \"tech_indicator_list\": lstm_fcst,\n",
        "    \"action_space\": stock_dimension,  \"reward_scaling\": 0, 'initial_weights': [1/stock_dimension]*stock_dimension}\n",
        "\n",
        "e_trade_gym = StockPortfolioEnv(df = train_data_lstm , **env_kwargs)\n",
        "env_a2c_lstm, obs_trade = e_trade_gym.get_sb_env()\n",
        "DynaCAAST_Env['a2c_lstm'] = copy.copy(env_a2c_lstm)\n",
        "DynaCAAST_Obs['a2c_lstm'] = obs_trade.copy()\n",
        "\n",
        "e_trade_gym = StockPortfolioEnv(df = train_data_lstm, **env_kwargs)\n",
        "env_ppo_lstm, obs_trade = e_trade_gym.get_sb_env()\n",
        "DynaCAAST_Env['ppo_lstm'] = copy.copy(env_ppo_lstm)\n",
        "DynaCAAST_Obs['ppo_lstm'] = obs_trade.copy()\n",
        "\n",
        "e_trade_gym = StockPortfolioEnv(df = train_data_lstm, **env_kwargs)\n",
        "env_ddpg_lstm, obs_trade = e_trade_gym.get_sb_env()\n",
        "DynaCAAST_Env['ddpg_lstm'] = copy.copy(env_ddpg_lstm)\n",
        "DynaCAAST_Obs['ddpg_lstm'] = obs_trade.copy()\n",
        "\n",
        "e_trade_gym = StockPortfolioEnv(df = train_data_lstm, **env_kwargs)\n",
        "env_sac_lstm, obs_trade = e_trade_gym.get_sb_env()\n",
        "DynaCAAST_Env['sac_lstm'] = copy.copy(env_sac_lstm)\n",
        "DynaCAAST_Obs['sac_lstm'] = obs_trade.copy()\n",
        "\n",
        "e_trade_gym = StockPortfolioEnv(df = train_data_lstm, **env_kwargs)\n",
        "env_td3_lstm, obs_trade = e_trade_gym.get_sb_env()\n",
        "DynaCAAST_Env['td3_lstm'] = copy.copy(env_td3_lstm)\n",
        "DynaCAAST_Obs['td3_lstm'] = obs_trade.copy()\n",
        "\n",
        "env_kwargs = { \"hmax\": 500, \"initial_amount\": 1000000, \"transaction_cost_pct\": transaction_cost, \"state_space\": state_space,  \"stock_dim\": stock_dimension,  \"tech_indicator_list\": transformer_fcst,\n",
        "    \"action_space\": stock_dimension,  \"reward_scaling\": 0, 'initial_weights': [1/stock_dimension]*stock_dimension}\n",
        "\n",
        "e_trade_gym = StockPortfolioEnv(df = train_data_transformer , **env_kwargs)\n",
        "env_a2c_transformer, obs_trade = e_trade_gym.get_sb_env()\n",
        "DynaCAAST_Env['a2c_transformer'] = copy.copy(env_a2c_transformer)\n",
        "DynaCAAST_Obs['a2c_transformer'] = obs_trade.copy()\n",
        "\n",
        "e_trade_gym = StockPortfolioEnv(df = train_data_transformer, **env_kwargs)\n",
        "env_ppo_transformer, obs_trade = e_trade_gym.get_sb_env()\n",
        "DynaCAAST_Env['ppo_transformer'] = copy.copy(env_ppo_transformer)\n",
        "DynaCAAST_Obs['ppo_transformer'] = obs_trade.copy()\n",
        "\n",
        "e_trade_gym = StockPortfolioEnv(df = train_data_transformer, **env_kwargs)\n",
        "env_ddpg_transformer, obs_trade = e_trade_gym.get_sb_env()\n",
        "DynaCAAST_Env['ddpg_transformer'] = copy.copy(env_ddpg_transformer)\n",
        "DynaCAAST_Obs['ddpg_transformer'] = obs_trade.copy()\n",
        "\n",
        "e_trade_gym = StockPortfolioEnv(df = train_data_transformer, **env_kwargs)\n",
        "env_sac_transformer, obs_trade = e_trade_gym.get_sb_env()\n",
        "DynaCAAST_Env['sac_transformer'] = copy.copy(env_sac_transformer)\n",
        "DynaCAAST_Obs['sac_transformer'] = obs_trade.copy()\n",
        "\n",
        "e_trade_gym = StockPortfolioEnv(df = train_data_transformer, **env_kwargs)\n",
        "env_td3_transformer, obs_trade = e_trade_gym.get_sb_env()\n",
        "DynaCAAST_Env['td3_transformer'] = copy.copy(env_td3_transformer)\n",
        "DynaCAAST_Obs['td3_transformer'] = obs_trade.copy()"
      ]
    },
    {
      "cell_type": "markdown",
      "source": [
        "We now run our DynaCAAST framework below."
      ],
      "metadata": {
        "id": "udWFV8VmeTMu"
      }
    },
    {
      "cell_type": "code",
      "source": [
        "dyna_portfolio_weights = [np.array([1/27, 1/27, 1/27, 1/27, 1/27, 1/27, 1/27, 1/27, 1/27, 1/27, 1/27, 1/27,1/27, 1/27, 1/27, 1/27, 1/27, 1/27, 1/27, 1/27, 1/27, 1/27, 1/27, 1/27, 1/27, 1/27, 1/27])]\n",
        "dyna_portfolio_values  = [100]\n",
        "dyna_portfolio_returns = [0]\n",
        "reset_iter = 0\n",
        "last_data_values = np.array([0, 0, 0])\n",
        "\n",
        "for i in range(len(train_data_lstm.index.unique())):\n",
        "  max_rewards = []\n",
        "  max_weights = []\n",
        "  data_values = 0\n",
        "  arg_max = 0\n",
        "\n",
        "  for model, env, obs in zip(list(DynaCAAST_Model.values()), list(DynaCAAST_Env.values()), list(DynaCAAST_Obs.values())):\n",
        "    if reset_iter == 0:\n",
        "      env.reset()\n",
        "    action, _states = model.predict(obs)\n",
        "    obs, rewards, dones, info = env.step(action)\n",
        "    max_rewards.append(rewards)\n",
        "    weights = env.env_method(method_name=\"getWeights\")\n",
        "    max_weights.append(weights)\n",
        "\n",
        "  reset_iter = 1\n",
        "\n",
        "  data_values = np.squeeze(env.env_method(method_name=\"getDataCloseValues\"))\n",
        "\n",
        "  prev_portfolio_value = dyna_portfolio_values[-1]\n",
        "\n",
        "  arg_max = np.argmax(np.array(max_rewards))\n",
        "\n",
        "  curr_weights = max_weights[arg_max]\n",
        "\n",
        "  dyna_portfolio_weights.append(curr_weights)\n",
        "\n",
        "  if last_data_values.all() == 0:\n",
        "    new_portfolio_value = prev_portfolio_value\n",
        "    last_data_values = data_values.copy()\n",
        "  else:\n",
        "    new_portfolio_value = np.sum((data_values/last_data_values) * np.array(dyna_portfolio_weights[-1])) * prev_portfolio_value\n",
        "    trans_cost = np.sum(np.absolute((data_values/last_data_values) * (np.array(dyna_portfolio_weights[-1]) -  np.array(dyna_portfolio_weights[-2]))))*transaction_cost\n",
        "    new_portfolio_value = new_portfolio_value - abs(trans_cost)\n",
        "    last_data_values = data_values.copy()\n",
        "\n",
        "  portfolio_return = new_portfolio_value/prev_portfolio_value -1\n",
        "  dyna_portfolio_values.append(new_portfolio_value)\n",
        "  dyna_portfolio_returns.append(portfolio_return)"
      ],
      "metadata": {
        "id": "ws89pIKavn4j"
      },
      "execution_count": null,
      "outputs": []
    },
    {
      "cell_type": "code",
      "source": [
        "train_data_dyna = pd.DataFrame({'daily_return':dyna_portfolio_returns[:-1],\n",
        "                               'Date':list(train_data_lstm.date.unique()) })"
      ],
      "metadata": {
        "id": "8v2rfp55OTxC"
      },
      "execution_count": null,
      "outputs": []
    },
    {
      "cell_type": "code",
      "source": [
        "train_data_dyna.set_index(['Date'], inplace=True)"
      ],
      "metadata": {
        "id": "frggL-ALOT_H"
      },
      "execution_count": null,
      "outputs": []
    },
    {
      "cell_type": "markdown",
      "source": [
        "We visualize the performance of the DynaCAAST framework against training set."
      ],
      "metadata": {
        "id": "HbqVYvN3eZ-7"
      }
    },
    {
      "cell_type": "code",
      "source": [
        "capital = initial_capital\n",
        "portfolio_values = []\n",
        "portfolio_returns = []\n",
        "\n",
        "for i in range(1, len(train_data_dyna)):\n",
        "    # Calculate portfolio returns based on the weighted sum of security returns\n",
        "    portfolio_return = train_data_dyna['daily_return'].iloc[i]\n",
        "    capital *= (1 + portfolio_return)\n",
        "    portfolio_values.append(capital)\n",
        "    portfolio_returns.append(portfolio_return)\n",
        "\n",
        "# Plot the portfolio value over time\n",
        "plt.figure(figsize=(21, 9))\n",
        "plt.plot(td3_train_returns_lstm[\"date\"][1:], portfolio_values, label=\"DynaCAAST Portfolio\", color=\"blue\")\n",
        "plt.title(\"Portfolio Performance based on DynaCAAST Framework - Training Data\")\n",
        "plt.xlabel(\"Time\")\n",
        "plt.ylabel(\"Portfolio Value\")\n",
        "plt.legend()\n",
        "plt.show()\n",
        "\n",
        "Strategy_Returns_Data_trg[\"return_dyna\"] = portfolio_returns\n",
        "\n",
        "# Calculate performance metrics\n",
        "final_value_train_dyna = capital\n",
        "total_return_train_dyna = final_value_train_dyna - initial_capital\n",
        "sharpe_ratio_train_dyna = np.mean(portfolio_returns) / np.std(portfolio_returns)*np.sqrt(252)\n",
        "annualized_return_train_dyna = (final_value_train_dyna / initial_capital) ** (1 / (len(train_data_dyna) / 252)) - 1  # Assuming daily returns (252 trading days)\n",
        "maxdraw_train_dyna = getMaxDrawdown(pd.DataFrame(portfolio_values), 252)[1].min().values[0]*100\n",
        "\n",
        "print(f\"Final Portfolio Value: {final_value_train_dyna:.2f}\")\n",
        "print(f\"Total Return: {total_return_train_dyna:.2f}\")\n",
        "print(f\"Annualized Return: {annualized_return_train_dyna * 100:.2f}%\")\n",
        "print(f\"Sharpe Ratio: {sharpe_ratio_train_dyna:.4f}\")\n",
        "print(f\"Maximum draw down(%): {maxdraw_train_dyna:.4f}\")"
      ],
      "metadata": {
        "id": "qBZ4579lOUCq"
      },
      "execution_count": null,
      "outputs": []
    },
    {
      "cell_type": "markdown",
      "source": [
        "We combine results from training and testing for DynaCAAST to facilitate performance comparison."
      ],
      "metadata": {
        "id": "4SElaqAnenpr"
      }
    },
    {
      "cell_type": "code",
      "source": [
        "Strategy_Returns_Data = pd.concat([Strategy_Returns_Data_trg, Strategy_Returns_Data_test], ignore_index=False, sort=False)"
      ],
      "metadata": {
        "id": "tQOkJV55OFkd"
      },
      "execution_count": null,
      "outputs": []
    },
    {
      "cell_type": "markdown",
      "source": [
        "We join it with nifty data to have our benckmark results."
      ],
      "metadata": {
        "id": "Zes7ms2SezPq"
      }
    },
    {
      "cell_type": "code",
      "source": [
        "Strategy_Returns_Data = pd.concat([Strategy_Returns_Data, nifty_returns], axis=1)\n",
        "Strategy_Returns_Data = Strategy_Returns_Data.dropna()\n",
        "Strategy_Returns_Data.index = Strategy_Returns_Data.index.tz_localize(\"UTC\")"
      ],
      "metadata": {
        "id": "DmZpa9MNO1Yh"
      },
      "execution_count": null,
      "outputs": []
    },
    {
      "cell_type": "markdown",
      "source": [
        "We now evaluate DynaCAAST Framework against Nifty Index below."
      ],
      "metadata": {
        "id": "z5D7kA5ve6VQ"
      }
    },
    {
      "cell_type": "code",
      "source": [
        "pf.create_returns_tear_sheet(Strategy_Returns_Data['return_dyna'], benchmark_rets = Strategy_Returns_Data['nifty_return'], live_start_date=cut_off_date)"
      ],
      "metadata": {
        "id": "q-t_puSTO1l-"
      },
      "execution_count": null,
      "outputs": []
    },
    {
      "cell_type": "markdown",
      "metadata": {
        "id": "giTn4YZLt7K9"
      },
      "source": [
        "## **Section 12: The DynaCAAST Framework versus a buy and hold strategy (Validation Data)**\n"
      ]
    },
    {
      "cell_type": "markdown",
      "metadata": {
        "id": "76Q7RKZtuIL7"
      },
      "source": [
        "<hr style='border:2px solid black'>"
      ]
    },
    {
      "cell_type": "markdown",
      "source": [
        "Below utilizing our DynaCAAST framework, we run it again on the validation data to confirm its effectiveness. We then evaluate the performance of DynaCAAST Framework with buy and hold strategy on the validation data."
      ],
      "metadata": {
        "id": "QGqNYf6JDDtw"
      }
    },
    {
      "cell_type": "code",
      "source": [
        "DynaCAAST_Env.clear()\n",
        "DynaCAAST_Obs.clear()"
      ],
      "metadata": {
        "id": "5TT2TkASTTy1"
      },
      "execution_count": null,
      "outputs": []
    },
    {
      "cell_type": "markdown",
      "source": [
        "We first create multiple environments based on the validation dataset."
      ],
      "metadata": {
        "id": "F0CwO8WVfJIB"
      }
    },
    {
      "cell_type": "code",
      "execution_count": null,
      "metadata": {
        "id": "l6ezETbFuItP"
      },
      "outputs": [],
      "source": [
        "env_kwargs = { \"hmax\": 500, \"initial_amount\": 1000000, \"transaction_cost_pct\": transaction_cost, \"state_space\": state_space,  \"stock_dim\": stock_dimension,  \"tech_indicator_list\": ti_abbreviations,\n",
        "    \"action_space\": stock_dimension,  \"reward_scaling\": 0, 'initial_weights': [1/stock_dimension]*stock_dimension}\n",
        "\n",
        "e_trade_gym = StockPortfolioEnv(df = valid_data_ti , **env_kwargs)\n",
        "env_a2c_ti, obs_trade = e_trade_gym.get_sb_env()\n",
        "DynaCAAST_Env['a2c_ti'] = copy.copy(env_a2c_ti)\n",
        "DynaCAAST_Obs['a2c_ti'] = obs_trade.copy()\n",
        "\n",
        "e_trade_gym = StockPortfolioEnv(df = valid_data_ti, **env_kwargs)\n",
        "env_ppo_ti, obs_trade = e_trade_gym.get_sb_env()\n",
        "DynaCAAST_Env['ppo_ti'] = copy.copy(env_ppo_ti)\n",
        "DynaCAAST_Obs['ppo_ti'] = obs_trade.copy()\n",
        "\n",
        "e_trade_gym = StockPortfolioEnv(df = valid_data_ti, **env_kwargs)\n",
        "env_ddpg_ti, obs_trade = e_trade_gym.get_sb_env()\n",
        "DynaCAAST_Env['ddpg_ti'] = copy.copy(env_ddpg_ti)\n",
        "DynaCAAST_Obs['ddpg_ti'] = obs_trade.copy()\n",
        "\n",
        "e_trade_gym = StockPortfolioEnv(df = valid_data_ti, **env_kwargs)\n",
        "env_sac_ti, obs_trade = e_trade_gym.get_sb_env()\n",
        "DynaCAAST_Env['sac_ti'] = copy.copy(env_sac_ti)\n",
        "DynaCAAST_Obs['sac_ti'] = copy.copy(obs_trade)\n",
        "\n",
        "e_trade_gym = StockPortfolioEnv(df = valid_data_ti, **env_kwargs)\n",
        "env_td3_ti, obs_trade = e_trade_gym.get_sb_env()\n",
        "DynaCAAST_Env['td3_ti'] = copy.copy(env_td3_ti)\n",
        "DynaCAAST_Obs['td3_ti'] = obs_trade.copy()\n",
        "\n",
        "env_kwargs = { \"hmax\": 500, \"initial_amount\": 1000000, \"transaction_cost_pct\": transaction_cost, \"state_space\": state_space,  \"stock_dim\": stock_dimension,  \"tech_indicator_list\": return_lags,\n",
        "    \"action_space\": stock_dimension,  \"reward_scaling\": 0, 'initial_weights': [1/stock_dimension]*stock_dimension}\n",
        "\n",
        "e_trade_gym = StockPortfolioEnv(df = valid_data_ret , **env_kwargs)\n",
        "env_a2c_ret, obs_trade = e_trade_gym.get_sb_env()\n",
        "DynaCAAST_Env['a2c_ret'] = copy.copy(env_a2c_ret)\n",
        "DynaCAAST_Obs['a2c_ret'] = obs_trade.copy()\n",
        "\n",
        "e_trade_gym = StockPortfolioEnv(df = valid_data_ret, **env_kwargs)\n",
        "env_ppo_ret, obs_trade = e_trade_gym.get_sb_env()\n",
        "DynaCAAST_Env['ppo_ret'] = copy.copy(env_ppo_ret)\n",
        "DynaCAAST_Obs['ppo_ret'] = obs_trade.copy()\n",
        "\n",
        "e_trade_gym = StockPortfolioEnv(df = valid_data_ret, **env_kwargs)\n",
        "env_ddpg_ret, obs_trade = e_trade_gym.get_sb_env()\n",
        "DynaCAAST_Env['ddpg_ret'] = copy.copy(env_ddpg_ret)\n",
        "DynaCAAST_Obs['ddpg_ret'] = obs_trade.copy()\n",
        "\n",
        "e_trade_gym = StockPortfolioEnv(df = valid_data_ret, **env_kwargs)\n",
        "env_sac_ret, obs_trade = e_trade_gym.get_sb_env()\n",
        "DynaCAAST_Env['sac_ret'] = copy.copy(env_sac_ret)\n",
        "DynaCAAST_Obs['sac_ret'] = obs_trade.copy()\n",
        "\n",
        "e_trade_gym = StockPortfolioEnv(df = valid_data_ret, **env_kwargs)\n",
        "env_td3_ret, obs_trade = e_trade_gym.get_sb_env()\n",
        "DynaCAAST_Env['td3_ret'] = copy.copy(env_td3_ret)\n",
        "DynaCAAST_Obs['td3_ret'] = obs_trade.copy()\n",
        "\n",
        "env_kwargs = { \"hmax\": 500, \"initial_amount\": 1000000, \"transaction_cost_pct\": transaction_cost, \"state_space\": state_space,  \"stock_dim\": stock_dimension,  \"tech_indicator_list\": lstm_fcst,\n",
        "    \"action_space\": stock_dimension,  \"reward_scaling\": 0, 'initial_weights': [1/stock_dimension]*stock_dimension}\n",
        "\n",
        "e_trade_gym = StockPortfolioEnv(df = valid_data_lstm , **env_kwargs)\n",
        "env_a2c_lstm, obs_trade = e_trade_gym.get_sb_env()\n",
        "DynaCAAST_Env['a2c_lstm'] = copy.copy(env_a2c_lstm)\n",
        "DynaCAAST_Obs['a2c_lstm'] = obs_trade.copy()\n",
        "\n",
        "e_trade_gym = StockPortfolioEnv(df = valid_data_lstm, **env_kwargs)\n",
        "env_ppo_lstm, obs_trade = e_trade_gym.get_sb_env()\n",
        "DynaCAAST_Env['ppo_lstm'] = copy.copy(env_ppo_lstm)\n",
        "DynaCAAST_Obs['ppo_lstm'] = obs_trade.copy()\n",
        "\n",
        "e_trade_gym = StockPortfolioEnv(df = valid_data_lstm, **env_kwargs)\n",
        "env_ddpg_lstm, obs_trade = e_trade_gym.get_sb_env()\n",
        "DynaCAAST_Env['ddpg_lstm'] = copy.copy(env_ddpg_lstm)\n",
        "DynaCAAST_Obs['ddpg_lstm'] = obs_trade.copy()\n",
        "\n",
        "e_trade_gym = StockPortfolioEnv(df = valid_data_lstm, **env_kwargs)\n",
        "env_sac_lstm, obs_trade = e_trade_gym.get_sb_env()\n",
        "DynaCAAST_Env['sac_lstm'] = copy.copy(env_sac_lstm)\n",
        "DynaCAAST_Obs['sac_lstm'] = obs_trade.copy()\n",
        "\n",
        "e_trade_gym = StockPortfolioEnv(df = valid_data_lstm, **env_kwargs)\n",
        "env_td3_lstm, obs_trade = e_trade_gym.get_sb_env()\n",
        "DynaCAAST_Env['td3_lstm'] = copy.copy(env_td3_lstm)\n",
        "DynaCAAST_Obs['td3_lstm'] = obs_trade.copy()\n",
        "\n",
        "env_kwargs = { \"hmax\": 500, \"initial_amount\": 1000000, \"transaction_cost_pct\": transaction_cost, \"state_space\": state_space,  \"stock_dim\": stock_dimension,  \"tech_indicator_list\": transformer_fcst,\n",
        "    \"action_space\": stock_dimension,  \"reward_scaling\": 0, 'initial_weights': [1/stock_dimension]*stock_dimension}\n",
        "\n",
        "e_trade_gym = StockPortfolioEnv(df = valid_data_transformer , **env_kwargs)\n",
        "env_a2c_transformer, obs_trade = e_trade_gym.get_sb_env()\n",
        "DynaCAAST_Env['a2c_transformer'] = copy.copy(env_a2c_transformer)\n",
        "DynaCAAST_Obs['a2c_transformer'] = obs_trade.copy()\n",
        "\n",
        "e_trade_gym = StockPortfolioEnv(df = valid_data_transformer, **env_kwargs)\n",
        "env_ppo_transformer, obs_trade = e_trade_gym.get_sb_env()\n",
        "DynaCAAST_Env['ppo_transformer'] = copy.copy(env_ppo_transformer)\n",
        "DynaCAAST_Obs['ppo_transformer'] = obs_trade.copy()\n",
        "\n",
        "e_trade_gym = StockPortfolioEnv(df = valid_data_transformer, **env_kwargs)\n",
        "env_ddpg_transformer, obs_trade = e_trade_gym.get_sb_env()\n",
        "DynaCAAST_Env['ddpg_transformer'] = copy.copy(env_ddpg_transformer)\n",
        "DynaCAAST_Obs['ddpg_transformer'] = obs_trade.copy()\n",
        "\n",
        "e_trade_gym = StockPortfolioEnv(df = valid_data_transformer, **env_kwargs)\n",
        "env_sac_transformer, obs_trade = e_trade_gym.get_sb_env()\n",
        "DynaCAAST_Env['sac_transformer'] = copy.copy(env_sac_transformer)\n",
        "DynaCAAST_Obs['sac_transformer'] = obs_trade.copy()\n",
        "\n",
        "e_trade_gym = StockPortfolioEnv(df = valid_data_transformer, **env_kwargs)\n",
        "env_td3_transformer, obs_trade = e_trade_gym.get_sb_env()\n",
        "DynaCAAST_Env['td3_transformer'] = copy.copy(env_td3_transformer)\n",
        "DynaCAAST_Obs['td3_transformer'] = obs_trade.copy()"
      ]
    },
    {
      "cell_type": "markdown",
      "metadata": {
        "id": "kL_BXzPOx7uT"
      },
      "source": [
        "DynaCAAST Framework is applied on validation data"
      ]
    },
    {
      "cell_type": "code",
      "execution_count": null,
      "metadata": {
        "id": "c3SmP_prx8Ls"
      },
      "outputs": [],
      "source": [
        "dyna_portfolio_weights = [np.array([1/27, 1/27, 1/27, 1/27, 1/27, 1/27, 1/27, 1/27, 1/27, 1/27, 1/27, 1/27,1/27, 1/27, 1/27, 1/27, 1/27, 1/27, 1/27, 1/27, 1/27, 1/27, 1/27, 1/27, 1/27, 1/27, 1/27])]\n",
        "dyna_portfolio_values  = [100]\n",
        "dyna_portfolio_returns = [0]\n",
        "reset_iter = 0\n",
        "last_data_values = np.array([0, 0, 0])\n",
        "\n",
        "for i in range(len(valid_data_lstm.index.unique())):\n",
        "  max_rewards = []\n",
        "  max_weights = []\n",
        "  data_values = 0\n",
        "  arg_max = 0\n",
        "\n",
        "  for model, env, obs in zip(list(DynaCAAST_Model.values()), list(DynaCAAST_Env.values()), list(DynaCAAST_Obs.values())):\n",
        "    if reset_iter == 0:\n",
        "      env.reset()\n",
        "    action, _states = model.predict(obs)\n",
        "    obs, rewards, dones, info = env.step(action)\n",
        "    max_rewards.append(rewards)\n",
        "    weights = env.env_method(method_name=\"getWeights\")\n",
        "    max_weights.append(weights)\n",
        "\n",
        "  reset_iter = 1\n",
        "\n",
        "  data_values = np.squeeze(env.env_method(method_name=\"getDataCloseValues\"))\n",
        "\n",
        "  prev_portfolio_value = dyna_portfolio_values[-1]\n",
        "\n",
        "  arg_max = np.argmax(np.array(max_rewards))\n",
        "\n",
        "  curr_weights = max_weights[arg_max]\n",
        "\n",
        "  dyna_portfolio_weights.append(curr_weights)\n",
        "\n",
        "  if last_data_values.all() == 0:\n",
        "    new_portfolio_value = prev_portfolio_value\n",
        "    last_data_values = data_values.copy()\n",
        "  else:\n",
        "    new_portfolio_value = np.sum((data_values/last_data_values) * np.array(dyna_portfolio_weights[-1])) * prev_portfolio_value\n",
        "    trans_cost = np.sum(np.absolute((data_values/last_data_values) * (np.array(dyna_portfolio_weights[-1]) -  np.array(dyna_portfolio_weights[-2]))))*transaction_cost\n",
        "    new_portfolio_value = new_portfolio_value - abs(trans_cost)\n",
        "    last_data_values = data_values.copy()\n",
        "\n",
        "  portfolio_return = new_portfolio_value/prev_portfolio_value -1\n",
        "  dyna_portfolio_values.append(new_portfolio_value)\n",
        "  dyna_portfolio_returns.append(portfolio_return)"
      ]
    },
    {
      "cell_type": "code",
      "execution_count": null,
      "metadata": {
        "id": "qE4KGszWyCh9"
      },
      "outputs": [],
      "source": [
        "valid_data_dyna = pd.DataFrame({'daily_return':dyna_portfolio_returns[:-1],\n",
        "                               'Date':list(valid_data_lstm.date.unique()) })"
      ]
    },
    {
      "cell_type": "code",
      "execution_count": null,
      "metadata": {
        "id": "4OiIErW8yJQC"
      },
      "outputs": [],
      "source": [
        "valid_data_dyna.set_index(['Date'], inplace=True)"
      ]
    },
    {
      "cell_type": "markdown",
      "source": [
        "We visualize the performance below."
      ],
      "metadata": {
        "id": "lICf_cBAfY8g"
      }
    },
    {
      "cell_type": "code",
      "execution_count": null,
      "metadata": {
        "id": "YDBGQ33GyKGt"
      },
      "outputs": [],
      "source": [
        "capital = initial_capital\n",
        "portfolio_values = []\n",
        "portfolio_returns = []\n",
        "dyna_valid_cum_returns = []\n",
        "\n",
        "for i in range(1, len(valid_data_dyna)):\n",
        "    # Calculate portfolio returns based on the weighted sum of security returns\n",
        "    portfolio_return = valid_data_dyna['daily_return'].iloc[i]\n",
        "    capital *= (1 + portfolio_return)\n",
        "    portfolio_values.append(capital)\n",
        "    portfolio_returns.append(portfolio_return)\n",
        "    dyna_valid_cum_returns.append(capital)\n",
        "\n",
        "# Plot the portfolio value over time\n",
        "plt.figure(figsize=(21, 9))\n",
        "plt.plot(valid_data_dyna.index[1:], portfolio_values, label=\"DynaCAAST Portfolio\", color=\"green\")\n",
        "plt.title(\"Portfolio Performance based on DynaCAAST Framework - Validation Data\")\n",
        "plt.xlabel(\"Time\")\n",
        "plt.ylabel(\"Portfolio Value\")\n",
        "plt.legend()\n",
        "plt.show()\n",
        "\n",
        "\n",
        "# Calculate performance metrics\n",
        "final_value_valid_dyna = capital\n",
        "total_return_valid_dyna = final_value_valid_dyna - initial_capital\n",
        "sharpe_ratio_valid_dyna = np.mean(portfolio_returns) / np.std(portfolio_returns)*np.sqrt(252)\n",
        "annualized_return_valid_dyna = (final_value_valid_dyna / initial_capital) ** (1 / (len(valid_data_dyna) / 252)) - 1  # Assuming daily returns (252 trading days)\n",
        "maxdraw_valid_dyna = getMaxDrawdown(pd.DataFrame(portfolio_values), 252)[1].min().values[0]*100\n",
        "\n",
        "print(f\"Final Portfolio Value: {final_value_valid_dyna:.2f}\")\n",
        "print(f\"Total Return: {total_return_valid_dyna:.2f}\")\n",
        "print(f\"Annualized Return: {annualized_return_valid_dyna * 100:.2f}%\")\n",
        "print(f\"Sharpe Ratio: {sharpe_ratio_valid_dyna:.4f}\")\n",
        "print(f\"Maximum draw down(%): {maxdraw_valid_dyna:.4f}\")"
      ]
    },
    {
      "cell_type": "markdown",
      "metadata": {
        "id": "3QqPSk3KyTEv"
      },
      "source": [
        "### **Buy and Hold Strategy on validation data**"
      ]
    },
    {
      "cell_type": "markdown",
      "source": [
        "Next we evaluate the performance of a buy and hold strategy on validation dataset."
      ],
      "metadata": {
        "id": "4-zyo_1hf5Ls"
      }
    },
    {
      "cell_type": "code",
      "execution_count": null,
      "metadata": {
        "id": "RE6q96_MyT2r"
      },
      "outputs": [],
      "source": [
        "orig_data_values = np.array([0, 0, 0, 0, 0, 0, 0, 0, 0, 0, 0, 0, 0, 0, 0, 0, 0, 0, 0, 0, 0, 0, 0, 0, 0, 0, 0, 0])\n",
        "prev_portfolio_value = 100\n",
        "orig_portfolio_value = 100\n",
        "buyNhold_values = []\n",
        "buyNhold_returns = []\n",
        "shares = np.array([.1, .1, .1])\n",
        "\n",
        "for i in range(len(prices_valid_data)):\n",
        "\n",
        "    if i == 0:\n",
        "      orig_data_values = np.array(prices_valid_data[tickers_wo_cash].iloc[i,:].copy())\n",
        "      shares = np.array((1/orig_data_values) * orig_portfolio_value)\n",
        "    else:\n",
        "      data_values = np.array(prices_valid_data[tickers_wo_cash].iloc[i,:].copy())\n",
        "      new_portfolio_value = np.sum(data_values * shares)\n",
        "      portfolio_return = new_portfolio_value/prev_portfolio_value -1\n",
        "      prev_portfolio_value = new_portfolio_value\n",
        "      buyNhold_values.append(new_portfolio_value)\n",
        "      buyNhold_returns.append(portfolio_return)"
      ]
    },
    {
      "cell_type": "code",
      "source": [
        "valid_data_buyNhold = pd.DataFrame({'daily_return':buyNhold_returns[:],\n",
        "                               'Date':list(valid_data_lstm.date.unique()) })"
      ],
      "metadata": {
        "id": "h54wM4w9ViYc"
      },
      "execution_count": null,
      "outputs": []
    },
    {
      "cell_type": "code",
      "source": [
        "valid_data_buyNhold.set_index(['Date'], inplace=True)"
      ],
      "metadata": {
        "id": "tx0gxQiEVoN2"
      },
      "execution_count": null,
      "outputs": []
    },
    {
      "cell_type": "markdown",
      "source": [
        "We visualize the performance of buy and hold strategy on validation data."
      ],
      "metadata": {
        "id": "jipUmSDYsMv6"
      }
    },
    {
      "cell_type": "code",
      "source": [
        "capital = initial_capital\n",
        "portfolio_values = []\n",
        "portfolio_returns = []\n",
        "BuyNhold_valid_cum_returns = []\n",
        "\n",
        "for i in range(1, len(valid_data_buyNhold)):\n",
        "    # Calculate portfolio returns based on the weighted sum of security returns\n",
        "    portfolio_return = valid_data_buyNhold['daily_return'].iloc[i]\n",
        "    capital *= (1 + portfolio_return)\n",
        "    portfolio_values.append(capital)\n",
        "    portfolio_returns.append(portfolio_return)\n",
        "    BuyNhold_valid_cum_returns.append(capital)\n",
        "\n",
        "# Plot the portfolio value over time\n",
        "plt.figure(figsize=(21, 9))\n",
        "plt.plot(valid_data_dyna.index[1:], portfolio_values, label=\"Buy and Hold Portfolio on Validation Data\", color=\"red\")\n",
        "plt.title(\"Portfolio Performance based on Buy and Hold - Validation Data\")\n",
        "plt.xlabel(\"Time\")\n",
        "plt.ylabel(\"Portfolio Value\")\n",
        "plt.legend()\n",
        "plt.show()\n",
        "\n",
        "\n",
        "# Calculate performance metrics\n",
        "final_value_valid_buyNhold = capital\n",
        "total_return_valid_buyNhold = final_value_valid_buyNhold - initial_capital\n",
        "sharpe_ratio_valid_buyNhold = np.mean(portfolio_returns) / np.std(portfolio_returns)*np.sqrt(252)\n",
        "annualized_return_valid_buyNhold = (final_value_valid_buyNhold / initial_capital) ** (1 / (len(valid_data_buyNhold) / 252)) - 1  # Assuming daily returns (252 trading days)\n",
        "maxdraw_valid_buyNhold = getMaxDrawdown(pd.DataFrame(portfolio_values), 252)[1].min().values[0]*100\n",
        "\n",
        "print(f\"Final Portfolio Value: {final_value_valid_buyNhold:.2f}\")\n",
        "print(f\"Total Return: {total_return_valid_buyNhold:.2f}\")\n",
        "print(f\"Annualized Return: {annualized_return_valid_buyNhold * 100:.2f}%\")\n",
        "print(f\"Sharpe Ratio: {sharpe_ratio_valid_buyNhold:.4f}\")\n",
        "print(f\"Maximum draw down(%): {maxdraw_valid_buyNhold:.4f}\")"
      ],
      "metadata": {
        "id": "RW-PsDMZsNPr"
      },
      "execution_count": null,
      "outputs": []
    },
    {
      "cell_type": "markdown",
      "source": [
        "### Comparison of buy and hold versus DynaCAAST Framework"
      ],
      "metadata": {
        "id": "WbRPGXu7muDJ"
      }
    },
    {
      "cell_type": "markdown",
      "source": [
        "We finally compare the buy and hold and DynaCAAST on validation dataset."
      ],
      "metadata": {
        "id": "hI_ponxdgDzo"
      }
    },
    {
      "cell_type": "code",
      "source": [
        "dyna_valid_cum_returnsDF = pd.DataFrame({\"DynaCAAST Framework\": dyna_valid_cum_returns}, index = valid_data_dyna[1:].index)\n",
        "BuyNhold_valid_cum_returnsDF = pd.DataFrame({\"Buy and Hold Strategy\" : BuyNhold_valid_cum_returns}, index = valid_data_dyna[1:].index)"
      ],
      "metadata": {
        "id": "wSh2cPxBm220"
      },
      "execution_count": null,
      "outputs": []
    },
    {
      "cell_type": "code",
      "source": [
        "%matplotlib inline\n",
        "# Plot the culmulative returns of the portfolios\n",
        "fig, ax = plt.subplots(figsize=(21,9))\n",
        "BuyNhold_valid_cum_returnsDF.plot(ax=ax, color='red', alpha=.4)\n",
        "dyna_valid_cum_returnsDF.plot(ax=ax, color='green', alpha=0.4)\n",
        "\n",
        "plt.legend(loc=\"best\");\n",
        "plt.grid(True);\n",
        "ax.set_ylabel(\"Cumulative return\");\n",
        "ax.set_title(\"DynaCAAST Framework versus Buy and Hold Strategy - Validation Data\", fontsize=14);"
      ],
      "metadata": {
        "id": "7Bsy5BmJnE7Y"
      },
      "execution_count": null,
      "outputs": []
    },
    {
      "cell_type": "markdown",
      "metadata": {
        "id": "3S_TitiFKehB"
      },
      "source": [
        "# **End of Capstone Project (MScFE690)**"
      ]
    },
    {
      "cell_type": "markdown",
      "metadata": {
        "id": "0e3gRHLxKxxx"
      },
      "source": [
        "<hr style='border:2px solid black'>"
      ]
    }
  ],
  "metadata": {
    "colab": {
      "provenance": []
    },
    "kernelspec": {
      "display_name": "Python 3",
      "name": "python3"
    },
    "language_info": {
      "codemirror_mode": {
        "name": "ipython",
        "version": 3
      },
      "file_extension": ".py",
      "mimetype": "text/x-python",
      "name": "python",
      "nbconvert_exporter": "python",
      "pygments_lexer": "ipython3",
      "version": "3.12.3"
    },
    "toc": {
      "base_numbering": 1,
      "nav_menu": {},
      "number_sections": true,
      "sideBar": true,
      "skip_h1_title": true,
      "title_cell": "Table of Contents",
      "title_sidebar": "Contents",
      "toc_cell": false,
      "toc_position": {
        "height": "calc(100% - 180px)",
        "left": "10px",
        "top": "150px",
        "width": "230.906px"
      },
      "toc_section_display": true,
      "toc_window_display": true
    }
  },
  "nbformat": 4,
  "nbformat_minor": 0
}